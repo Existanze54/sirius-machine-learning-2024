{
  "cells": [
    {
      "cell_type": "markdown",
      "metadata": {
        "id": "view-in-github",
        "colab_type": "text"
      },
      "source": [
        "<a href=\"https://colab.research.google.com/github/Existanze54/sirius-machine-learning-2024/blob/main/Homeworks/HW3_regression.ipynb\" target=\"_parent\"><img src=\"https://colab.research.google.com/assets/colab-badge.svg\" alt=\"Open In Colab\"/></a>"
      ]
    },
    {
      "cell_type": "markdown",
      "metadata": {
        "id": "Xdj9KTpCgFQt"
      },
      "source": [
        "<div class=\"alert alert-success\">\n",
        "    \n",
        "## Основные алгоритмы машинного обучения\n",
        "\n",
        "## Домашнее задание 3\n",
        "\n",
        "###  Линейная регрессия. Логистическая регрессия. Регуляризация"
      ]
    },
    {
      "cell_type": "markdown",
      "source": [
        "### Задание 1. Линейная регрессия."
      ],
      "metadata": {
        "id": "voLQQnENE27M"
      }
    },
    {
      "cell_type": "markdown",
      "metadata": {
        "id": "6a806234-1a46-49dd-be29-b74fe1ae92f1"
      },
      "source": [
        "Дана матрица объект-признак\n",
        "```\n",
        "X = [[ 1.22401313,  2.30868478,  3.03636353,  2.69287214],\n",
        "     [-0.18757272,  1.30337355,  5.12093014,  3.46363202],\n",
        "     [-0.81094525,  1.82463398,  5.79686488,  1.86159445],\n",
        "     [ 0.75129018,  2.67392052,  3.65529809,  1.66746094],\n",
        "     [ 0.00972362,  1.97367255,  2.50594319,  1.69755173],\n",
        "     [-0.62972637,  0.77750764,  2.84124027,  4.54410559],\n",
        "     [ 2.29536229,  1.81206697,  1.95026215,  1.51874636],\n",
        "     [ 0.0920418 ,  2.26971361,  7.47708735,  2.61081203],\n",
        "     [ 2.39252799,  3.17563985,  3.61420599,  5.10773362],\n",
        "     [ 0.54983815,  2.87988651,  1.65752765,  1.59635987]]\n",
        "```\n",
        "и значения целевой переменной\n",
        "```\n",
        "y = [ 9.26193358,  9.700363  ,  8.67214805,  8.74796974,  6.18689108,\n",
        "      7.53312713,  7.57643777, 12.44965478, 14.29010746,  6.68361218]\n",
        "```\n",
        "\n",
        "Подберите два признака (из четырёх) так, чтобы уровень линейной зависимости целевой переменной от значений этих признаков был максимальным. Другими словами, модель линейной регрессии на этих признаках должна давать наилучший результат. Наилучший результат определяйте по значению коэффициента детерминации (R-квадрат)."
      ]
    },
    {
      "cell_type": "code",
      "source": [
        "# your code here"
      ],
      "metadata": {
        "id": "rh7f80WN2aol"
      },
      "execution_count": null,
      "outputs": []
    },
    {
      "cell_type": "markdown",
      "source": [
        "### Задание 2. Логистическая регрессия. Регуляризация."
      ],
      "metadata": {
        "id": "73wec5ZU2l0k"
      }
    },
    {
      "cell_type": "markdown",
      "source": [
        "*Здесь представлена 3 задача с семинара по моделям регрессии. Необходимо заполнить все пустые ячейки, запустить код и сделать выводы на основании полученных результатов.*"
      ],
      "metadata": {
        "id": "H4fLu-zv6_D0"
      }
    },
    {
      "cell_type": "code",
      "source": [
        "!wget --no-check-certificate 'https://data.bioml.ru/htdocs/courses/bioml/classic_ml/supervised/knn/data/bace.csv' -O bace.csv"
      ],
      "metadata": {
        "colab": {
          "base_uri": "https://localhost:8080/"
        },
        "id": "drP_zVMoVii4",
        "outputId": "9f0c8b04-3c93-4885-d4d8-7e9416ad22a3"
      },
      "execution_count": null,
      "outputs": [
        {
          "output_type": "stream",
          "name": "stdout",
          "text": [
            "--2024-11-13 14:19:01--  https://data.bioml.ru/htdocs/courses/bioml/classic_ml/supervised/knn/data/bace.csv\n",
            "Resolving data.bioml.ru (data.bioml.ru)... 188.120.231.217\n",
            "Connecting to data.bioml.ru (data.bioml.ru)|188.120.231.217|:443... connected.\n",
            "HTTP request sent, awaiting response... 200 OK\n",
            "Length: 3897767 (3.7M) [text/csv]\n",
            "Saving to: ‘bace.csv’\n",
            "\n",
            "bace.csv            100%[===================>]   3.72M  2.86MB/s    in 1.3s    \n",
            "\n",
            "2024-11-13 14:19:04 (2.86 MB/s) - ‘bace.csv’ saved [3897767/3897767]\n",
            "\n"
          ]
        }
      ]
    },
    {
      "cell_type": "markdown",
      "metadata": {
        "id": "cUWZzbLQ_Gka"
      },
      "source": [
        "Датасет [BACE](http://moleculenet.ai/datasets-1) загружен за вас, определены `X`, `y` и `smiles`."
      ]
    },
    {
      "cell_type": "code",
      "metadata": {
        "id": "MJRZZiTw_Gka",
        "colab": {
          "base_uri": "https://localhost:8080/",
          "height": 242
        },
        "outputId": "83a3ebf1-38a8-47a9-fe37-2ea0ba71f83b"
      },
      "source": [
        "bace = pd.read_csv(\"./bace.csv\", header=0)\n",
        "bace.head(3)"
      ],
      "execution_count": null,
      "outputs": [
        {
          "output_type": "execute_result",
          "data": {
            "text/plain": [
              "                                                 mol     CID  Class  Model  \\\n",
              "0  O1CC[C@@H](NC(=O)[C@@H](Cc2cc3cc(ccc3nc2N)-c2c...  BACE_1      1  Train   \n",
              "1  Fc1cc(cc(F)c1)C[C@H](NC(=O)[C@@H](N1CC[C@](NC(...  BACE_2      1  Train   \n",
              "2  S1(=O)(=O)N(c2cc(cc3c2n(cc3CC)CC1)C(=O)N[C@H](...  BACE_3      1  Train   \n",
              "\n",
              "      pIC50         MW   AlogP  HBA  HBD  RB  ...  PEOE6 (PEOE6)  \\\n",
              "0  9.154901  431.56979  4.4014    3    2   5  ...      53.205711   \n",
              "1  8.853872  657.81073  2.6412    5    4  16  ...      73.817162   \n",
              "2  8.698970  591.74091  2.5499    4    3  11  ...      70.365707   \n",
              "\n",
              "   PEOE7 (PEOE7)  PEOE8 (PEOE8)  PEOE9 (PEOE9)  PEOE10 (PEOE10)  \\\n",
              "0      78.640335      226.85541      107.43491        37.133846   \n",
              "1      47.171600      365.67694      174.07675        34.923889   \n",
              "2      47.941147      192.40652      255.75255        23.654478   \n",
              "\n",
              "   PEOE11 (PEOE11)  PEOE12 (PEOE12)  PEOE13 (PEOE13)  PEOE14 (PEOE14)  \\\n",
              "0         0.000000         7.980170              0.0         0.000000   \n",
              "1         7.980170        24.148668              0.0        24.663788   \n",
              "2         0.230159        15.879790              0.0        24.663788   \n",
              "\n",
              "   canvasUID  \n",
              "0          1  \n",
              "1          2  \n",
              "2          3  \n",
              "\n",
              "[3 rows x 595 columns]"
            ],
            "text/html": [
              "\n",
              "  <div id=\"df-a61aa243-d1a7-4d9b-af82-0b101e4257ee\" class=\"colab-df-container\">\n",
              "    <div>\n",
              "<style scoped>\n",
              "    .dataframe tbody tr th:only-of-type {\n",
              "        vertical-align: middle;\n",
              "    }\n",
              "\n",
              "    .dataframe tbody tr th {\n",
              "        vertical-align: top;\n",
              "    }\n",
              "\n",
              "    .dataframe thead th {\n",
              "        text-align: right;\n",
              "    }\n",
              "</style>\n",
              "<table border=\"1\" class=\"dataframe\">\n",
              "  <thead>\n",
              "    <tr style=\"text-align: right;\">\n",
              "      <th></th>\n",
              "      <th>mol</th>\n",
              "      <th>CID</th>\n",
              "      <th>Class</th>\n",
              "      <th>Model</th>\n",
              "      <th>pIC50</th>\n",
              "      <th>MW</th>\n",
              "      <th>AlogP</th>\n",
              "      <th>HBA</th>\n",
              "      <th>HBD</th>\n",
              "      <th>RB</th>\n",
              "      <th>...</th>\n",
              "      <th>PEOE6 (PEOE6)</th>\n",
              "      <th>PEOE7 (PEOE7)</th>\n",
              "      <th>PEOE8 (PEOE8)</th>\n",
              "      <th>PEOE9 (PEOE9)</th>\n",
              "      <th>PEOE10 (PEOE10)</th>\n",
              "      <th>PEOE11 (PEOE11)</th>\n",
              "      <th>PEOE12 (PEOE12)</th>\n",
              "      <th>PEOE13 (PEOE13)</th>\n",
              "      <th>PEOE14 (PEOE14)</th>\n",
              "      <th>canvasUID</th>\n",
              "    </tr>\n",
              "  </thead>\n",
              "  <tbody>\n",
              "    <tr>\n",
              "      <th>0</th>\n",
              "      <td>O1CC[C@@H](NC(=O)[C@@H](Cc2cc3cc(ccc3nc2N)-c2c...</td>\n",
              "      <td>BACE_1</td>\n",
              "      <td>1</td>\n",
              "      <td>Train</td>\n",
              "      <td>9.154901</td>\n",
              "      <td>431.56979</td>\n",
              "      <td>4.4014</td>\n",
              "      <td>3</td>\n",
              "      <td>2</td>\n",
              "      <td>5</td>\n",
              "      <td>...</td>\n",
              "      <td>53.205711</td>\n",
              "      <td>78.640335</td>\n",
              "      <td>226.85541</td>\n",
              "      <td>107.43491</td>\n",
              "      <td>37.133846</td>\n",
              "      <td>0.000000</td>\n",
              "      <td>7.980170</td>\n",
              "      <td>0.0</td>\n",
              "      <td>0.000000</td>\n",
              "      <td>1</td>\n",
              "    </tr>\n",
              "    <tr>\n",
              "      <th>1</th>\n",
              "      <td>Fc1cc(cc(F)c1)C[C@H](NC(=O)[C@@H](N1CC[C@](NC(...</td>\n",
              "      <td>BACE_2</td>\n",
              "      <td>1</td>\n",
              "      <td>Train</td>\n",
              "      <td>8.853872</td>\n",
              "      <td>657.81073</td>\n",
              "      <td>2.6412</td>\n",
              "      <td>5</td>\n",
              "      <td>4</td>\n",
              "      <td>16</td>\n",
              "      <td>...</td>\n",
              "      <td>73.817162</td>\n",
              "      <td>47.171600</td>\n",
              "      <td>365.67694</td>\n",
              "      <td>174.07675</td>\n",
              "      <td>34.923889</td>\n",
              "      <td>7.980170</td>\n",
              "      <td>24.148668</td>\n",
              "      <td>0.0</td>\n",
              "      <td>24.663788</td>\n",
              "      <td>2</td>\n",
              "    </tr>\n",
              "    <tr>\n",
              "      <th>2</th>\n",
              "      <td>S1(=O)(=O)N(c2cc(cc3c2n(cc3CC)CC1)C(=O)N[C@H](...</td>\n",
              "      <td>BACE_3</td>\n",
              "      <td>1</td>\n",
              "      <td>Train</td>\n",
              "      <td>8.698970</td>\n",
              "      <td>591.74091</td>\n",
              "      <td>2.5499</td>\n",
              "      <td>4</td>\n",
              "      <td>3</td>\n",
              "      <td>11</td>\n",
              "      <td>...</td>\n",
              "      <td>70.365707</td>\n",
              "      <td>47.941147</td>\n",
              "      <td>192.40652</td>\n",
              "      <td>255.75255</td>\n",
              "      <td>23.654478</td>\n",
              "      <td>0.230159</td>\n",
              "      <td>15.879790</td>\n",
              "      <td>0.0</td>\n",
              "      <td>24.663788</td>\n",
              "      <td>3</td>\n",
              "    </tr>\n",
              "  </tbody>\n",
              "</table>\n",
              "<p>3 rows × 595 columns</p>\n",
              "</div>\n",
              "    <div class=\"colab-df-buttons\">\n",
              "\n",
              "  <div class=\"colab-df-container\">\n",
              "    <button class=\"colab-df-convert\" onclick=\"convertToInteractive('df-a61aa243-d1a7-4d9b-af82-0b101e4257ee')\"\n",
              "            title=\"Convert this dataframe to an interactive table.\"\n",
              "            style=\"display:none;\">\n",
              "\n",
              "  <svg xmlns=\"http://www.w3.org/2000/svg\" height=\"24px\" viewBox=\"0 -960 960 960\">\n",
              "    <path d=\"M120-120v-720h720v720H120Zm60-500h600v-160H180v160Zm220 220h160v-160H400v160Zm0 220h160v-160H400v160ZM180-400h160v-160H180v160Zm440 0h160v-160H620v160ZM180-180h160v-160H180v160Zm440 0h160v-160H620v160Z\"/>\n",
              "  </svg>\n",
              "    </button>\n",
              "\n",
              "  <style>\n",
              "    .colab-df-container {\n",
              "      display:flex;\n",
              "      gap: 12px;\n",
              "    }\n",
              "\n",
              "    .colab-df-convert {\n",
              "      background-color: #E8F0FE;\n",
              "      border: none;\n",
              "      border-radius: 50%;\n",
              "      cursor: pointer;\n",
              "      display: none;\n",
              "      fill: #1967D2;\n",
              "      height: 32px;\n",
              "      padding: 0 0 0 0;\n",
              "      width: 32px;\n",
              "    }\n",
              "\n",
              "    .colab-df-convert:hover {\n",
              "      background-color: #E2EBFA;\n",
              "      box-shadow: 0px 1px 2px rgba(60, 64, 67, 0.3), 0px 1px 3px 1px rgba(60, 64, 67, 0.15);\n",
              "      fill: #174EA6;\n",
              "    }\n",
              "\n",
              "    .colab-df-buttons div {\n",
              "      margin-bottom: 4px;\n",
              "    }\n",
              "\n",
              "    [theme=dark] .colab-df-convert {\n",
              "      background-color: #3B4455;\n",
              "      fill: #D2E3FC;\n",
              "    }\n",
              "\n",
              "    [theme=dark] .colab-df-convert:hover {\n",
              "      background-color: #434B5C;\n",
              "      box-shadow: 0px 1px 3px 1px rgba(0, 0, 0, 0.15);\n",
              "      filter: drop-shadow(0px 1px 2px rgba(0, 0, 0, 0.3));\n",
              "      fill: #FFFFFF;\n",
              "    }\n",
              "  </style>\n",
              "\n",
              "    <script>\n",
              "      const buttonEl =\n",
              "        document.querySelector('#df-a61aa243-d1a7-4d9b-af82-0b101e4257ee button.colab-df-convert');\n",
              "      buttonEl.style.display =\n",
              "        google.colab.kernel.accessAllowed ? 'block' : 'none';\n",
              "\n",
              "      async function convertToInteractive(key) {\n",
              "        const element = document.querySelector('#df-a61aa243-d1a7-4d9b-af82-0b101e4257ee');\n",
              "        const dataTable =\n",
              "          await google.colab.kernel.invokeFunction('convertToInteractive',\n",
              "                                                    [key], {});\n",
              "        if (!dataTable) return;\n",
              "\n",
              "        const docLinkHtml = 'Like what you see? Visit the ' +\n",
              "          '<a target=\"_blank\" href=https://colab.research.google.com/notebooks/data_table.ipynb>data table notebook</a>'\n",
              "          + ' to learn more about interactive tables.';\n",
              "        element.innerHTML = '';\n",
              "        dataTable['output_type'] = 'display_data';\n",
              "        await google.colab.output.renderOutput(dataTable, element);\n",
              "        const docLink = document.createElement('div');\n",
              "        docLink.innerHTML = docLinkHtml;\n",
              "        element.appendChild(docLink);\n",
              "      }\n",
              "    </script>\n",
              "  </div>\n",
              "\n",
              "\n",
              "<div id=\"df-c39e8d31-deb9-4ecc-b5c1-309030a058a7\">\n",
              "  <button class=\"colab-df-quickchart\" onclick=\"quickchart('df-c39e8d31-deb9-4ecc-b5c1-309030a058a7')\"\n",
              "            title=\"Suggest charts\"\n",
              "            style=\"display:none;\">\n",
              "\n",
              "<svg xmlns=\"http://www.w3.org/2000/svg\" height=\"24px\"viewBox=\"0 0 24 24\"\n",
              "     width=\"24px\">\n",
              "    <g>\n",
              "        <path d=\"M19 3H5c-1.1 0-2 .9-2 2v14c0 1.1.9 2 2 2h14c1.1 0 2-.9 2-2V5c0-1.1-.9-2-2-2zM9 17H7v-7h2v7zm4 0h-2V7h2v10zm4 0h-2v-4h2v4z\"/>\n",
              "    </g>\n",
              "</svg>\n",
              "  </button>\n",
              "\n",
              "<style>\n",
              "  .colab-df-quickchart {\n",
              "      --bg-color: #E8F0FE;\n",
              "      --fill-color: #1967D2;\n",
              "      --hover-bg-color: #E2EBFA;\n",
              "      --hover-fill-color: #174EA6;\n",
              "      --disabled-fill-color: #AAA;\n",
              "      --disabled-bg-color: #DDD;\n",
              "  }\n",
              "\n",
              "  [theme=dark] .colab-df-quickchart {\n",
              "      --bg-color: #3B4455;\n",
              "      --fill-color: #D2E3FC;\n",
              "      --hover-bg-color: #434B5C;\n",
              "      --hover-fill-color: #FFFFFF;\n",
              "      --disabled-bg-color: #3B4455;\n",
              "      --disabled-fill-color: #666;\n",
              "  }\n",
              "\n",
              "  .colab-df-quickchart {\n",
              "    background-color: var(--bg-color);\n",
              "    border: none;\n",
              "    border-radius: 50%;\n",
              "    cursor: pointer;\n",
              "    display: none;\n",
              "    fill: var(--fill-color);\n",
              "    height: 32px;\n",
              "    padding: 0;\n",
              "    width: 32px;\n",
              "  }\n",
              "\n",
              "  .colab-df-quickchart:hover {\n",
              "    background-color: var(--hover-bg-color);\n",
              "    box-shadow: 0 1px 2px rgba(60, 64, 67, 0.3), 0 1px 3px 1px rgba(60, 64, 67, 0.15);\n",
              "    fill: var(--button-hover-fill-color);\n",
              "  }\n",
              "\n",
              "  .colab-df-quickchart-complete:disabled,\n",
              "  .colab-df-quickchart-complete:disabled:hover {\n",
              "    background-color: var(--disabled-bg-color);\n",
              "    fill: var(--disabled-fill-color);\n",
              "    box-shadow: none;\n",
              "  }\n",
              "\n",
              "  .colab-df-spinner {\n",
              "    border: 2px solid var(--fill-color);\n",
              "    border-color: transparent;\n",
              "    border-bottom-color: var(--fill-color);\n",
              "    animation:\n",
              "      spin 1s steps(1) infinite;\n",
              "  }\n",
              "\n",
              "  @keyframes spin {\n",
              "    0% {\n",
              "      border-color: transparent;\n",
              "      border-bottom-color: var(--fill-color);\n",
              "      border-left-color: var(--fill-color);\n",
              "    }\n",
              "    20% {\n",
              "      border-color: transparent;\n",
              "      border-left-color: var(--fill-color);\n",
              "      border-top-color: var(--fill-color);\n",
              "    }\n",
              "    30% {\n",
              "      border-color: transparent;\n",
              "      border-left-color: var(--fill-color);\n",
              "      border-top-color: var(--fill-color);\n",
              "      border-right-color: var(--fill-color);\n",
              "    }\n",
              "    40% {\n",
              "      border-color: transparent;\n",
              "      border-right-color: var(--fill-color);\n",
              "      border-top-color: var(--fill-color);\n",
              "    }\n",
              "    60% {\n",
              "      border-color: transparent;\n",
              "      border-right-color: var(--fill-color);\n",
              "    }\n",
              "    80% {\n",
              "      border-color: transparent;\n",
              "      border-right-color: var(--fill-color);\n",
              "      border-bottom-color: var(--fill-color);\n",
              "    }\n",
              "    90% {\n",
              "      border-color: transparent;\n",
              "      border-bottom-color: var(--fill-color);\n",
              "    }\n",
              "  }\n",
              "</style>\n",
              "\n",
              "  <script>\n",
              "    async function quickchart(key) {\n",
              "      const quickchartButtonEl =\n",
              "        document.querySelector('#' + key + ' button');\n",
              "      quickchartButtonEl.disabled = true;  // To prevent multiple clicks.\n",
              "      quickchartButtonEl.classList.add('colab-df-spinner');\n",
              "      try {\n",
              "        const charts = await google.colab.kernel.invokeFunction(\n",
              "            'suggestCharts', [key], {});\n",
              "      } catch (error) {\n",
              "        console.error('Error during call to suggestCharts:', error);\n",
              "      }\n",
              "      quickchartButtonEl.classList.remove('colab-df-spinner');\n",
              "      quickchartButtonEl.classList.add('colab-df-quickchart-complete');\n",
              "    }\n",
              "    (() => {\n",
              "      let quickchartButtonEl =\n",
              "        document.querySelector('#df-c39e8d31-deb9-4ecc-b5c1-309030a058a7 button');\n",
              "      quickchartButtonEl.style.display =\n",
              "        google.colab.kernel.accessAllowed ? 'block' : 'none';\n",
              "    })();\n",
              "  </script>\n",
              "</div>\n",
              "    </div>\n",
              "  </div>\n"
            ],
            "application/vnd.google.colaboratory.intrinsic+json": {
              "type": "dataframe",
              "variable_name": "bace"
            }
          },
          "metadata": {},
          "execution_count": 3
        }
      ]
    },
    {
      "cell_type": "code",
      "metadata": {
        "id": "JYbJmpl6_Gkb"
      },
      "source": [
        "X = bace.iloc[:, 4:].values # выделение числовых фичей\n",
        "y = bace[\"Class\"].values\n",
        "smiles = bace[\"mol\"].values"
      ],
      "execution_count": null,
      "outputs": []
    },
    {
      "cell_type": "markdown",
      "metadata": {
        "id": "jQo6wivW_Gkb"
      },
      "source": [
        "**Разбейте X и y на тренировочную и тестовую выборки**. Соотношение train/test поставьте равным 3:1.\\\n",
        "*Подсказка*: воспользуйтесь функцией `train_test_split`."
      ]
    },
    {
      "cell_type": "code",
      "metadata": {
        "id": "sR1PYDK0_Gkb"
      },
      "source": [
        "# your code here"
      ],
      "execution_count": null,
      "outputs": []
    },
    {
      "cell_type": "markdown",
      "metadata": {
        "id": "gFFivhJm_Gkb"
      },
      "source": [
        "**Осуществите стандартизацию признаков в выборке**."
      ]
    },
    {
      "cell_type": "code",
      "metadata": {
        "id": "0ya8saDf_Gkb"
      },
      "source": [
        "# your code here"
      ],
      "execution_count": null,
      "outputs": []
    },
    {
      "cell_type": "markdown",
      "metadata": {
        "id": "xrOIvODg_Gkb"
      },
      "source": [
        "**Импортируйте модель логистической регрессии и обучите ее на соответствующей части выборки (`model.fit`)**.\n",
        "\n",
        "\n",
        "Для модели `LogisticRegression` укажите параметры `max_iter=200, penalty=None`."
      ]
    },
    {
      "cell_type": "code",
      "metadata": {
        "id": "TUXYpGK2_Gkc"
      },
      "source": [
        "# your code here"
      ],
      "execution_count": null,
      "outputs": []
    },
    {
      "cell_type": "markdown",
      "metadata": {
        "id": "BSZ44QZb_Gkc"
      },
      "source": [
        "**Получите предсказание на оставшейся выборке**. Оцените его качество метриками из отчета о классификации (`classification_report`)."
      ]
    },
    {
      "cell_type": "code",
      "metadata": {
        "id": "JRJ6yQh2_Gkc"
      },
      "source": [
        "# your code here"
      ],
      "execution_count": null,
      "outputs": []
    },
    {
      "cell_type": "markdown",
      "source": [
        "**Регуляризация ElasticNet** вносит в функцию потерь линейную комбинацию регуляризаций L1 и L2. Подберите оптимальное соотношение для этих данных. Для определения требуемого параметра (соотношение L1 и L2) воспользуйтесь документацией конструктора модели `LogisticRegression`. На вход функции необходимо будет подать значение для аргумента, соответствующего относительному значению для L1."
      ],
      "metadata": {
        "id": "nd3O7bWR93nA"
      }
    },
    {
      "cell_type": "code",
      "metadata": {
        "id": "w03_Vi4MQLX_"
      },
      "source": [
        "from tqdm import tqdm\n",
        "from sklearn.metrics import f1_score\n",
        "from sklearn.linear_model import LogisticRegression\n",
        "\n",
        "init = 0\n",
        "limit = 1\n",
        "step = 0.05\n",
        "\n",
        "param_range = np.arange(init, limit + step, step)\n",
        "train_quals = np.zeros(len(param_range))\n",
        "test_quals = np.zeros(len(param_range))\n",
        "\n",
        "# baseline = f1_score(y_true=y_test, y_pred=np.full_like(y_test, y_train.mean()))\n",
        "\n",
        "for ind, value in tqdm(enumerate(param_range), total=len(param_range)):\n",
        "    # ДОБАВЬТЕ АРГУМЕНТ В МОДЕЛЬ ЛОГИСТИЧЕСКОЙ РЕГРЕССИИ В СЛЕДУЮЩЕЙ СТРОКЕ\n",
        "    model = LogisticRegression(max_iter=10000, solver=\"saga\",\n",
        "                               penalty=\"elasticnet\")\n",
        "\n",
        "    # FIT\n",
        "    model.fit(X_train_scaled, y_train)\n",
        "\n",
        "    # PREDICT\n",
        "    y_train_pred = model.predict(X_train_scaled)\n",
        "    y_test_pred = model.predict(X_test_scaled)\n",
        "\n",
        "    # EVALUATE QUALITY\n",
        "    train_quals[ind] = f1_score(y_true=y_train, y_pred=y_train_pred)\n",
        "    test_quals[ind] = f1_score(y_true=y_test, y_pred=y_test_pred)"
      ],
      "execution_count": null,
      "outputs": []
    },
    {
      "cell_type": "markdown",
      "source": [
        "**Оцените, при каком отношениии качество модели наилучшее**. Следующий блок кода выполняет визуализацию зависимости значений метрики F1 от относительного значения для L1 и L2 регуляризации в рамках логистическиой регрессии.   "
      ],
      "metadata": {
        "id": "Y04TwEur5ykK"
      }
    },
    {
      "cell_type": "code",
      "metadata": {
        "id": "0YuGLXMr-Ml4"
      },
      "source": [
        "# TRACING CHART\n",
        "plt.figure(figsize=(10, 7))\n",
        "plt.plot(param_range, train_quals, label=\"Train\")\n",
        "plt.plot(param_range, test_quals, label=\"Test\")\n",
        "# plt.axhline(baseline, color=\"k\", ls=\"--\", lw=1.5, label=\"Baseline\")\n",
        "plt.legend()\n",
        "plt.show()"
      ],
      "execution_count": null,
      "outputs": []
    },
    {
      "cell_type": "markdown",
      "source": [
        " Какая регуляризация представлена больше? Попробуйте объяснить, почему?\n",
        " *Подсказка: воспользуйтесь выводами в лекции*"
      ],
      "metadata": {
        "id": "a-zUWdhp6f8p"
      }
    },
    {
      "cell_type": "code",
      "source": [
        "# your answer here"
      ],
      "metadata": {
        "id": "-w3rxab96t4B"
      },
      "execution_count": null,
      "outputs": []
    },
    {
      "cell_type": "markdown",
      "source": [
        "**Оцените предсказания модели ROC AUC метрикой качества**."
      ],
      "metadata": {
        "id": "56Iaka675Rhx"
      }
    },
    {
      "cell_type": "code",
      "metadata": {
        "id": "bac99465-3e69-4eb6-a05e-2abfffe97fe1"
      },
      "source": [
        "# your code here"
      ],
      "execution_count": null,
      "outputs": []
    },
    {
      "cell_type": "markdown",
      "metadata": {
        "id": "T4wy-9oh_Gkd"
      },
      "source": [
        "**Сделайте выводы**."
      ]
    },
    {
      "cell_type": "code",
      "metadata": {
        "id": "tTCKDS7E_Gkd"
      },
      "source": [
        "# your answer here"
      ],
      "execution_count": null,
      "outputs": []
    }
  ],
  "metadata": {
    "kernelspec": {
      "display_name": "Python 3",
      "language": "python",
      "name": "python3"
    },
    "language_info": {
      "codemirror_mode": {
        "name": "ipython",
        "version": 3
      },
      "file_extension": ".py",
      "mimetype": "text/x-python",
      "name": "python",
      "nbconvert_exporter": "python",
      "pygments_lexer": "ipython3",
      "version": "3.8.5"
    },
    "colab": {
      "provenance": [],
      "include_colab_link": true
    }
  },
  "nbformat": 4,
  "nbformat_minor": 0
}