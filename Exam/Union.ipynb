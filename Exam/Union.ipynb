{
  "nbformat": 4,
  "nbformat_minor": 0,
  "metadata": {
    "colab": {
      "provenance": [],
      "include_colab_link": true
    },
    "kernelspec": {
      "name": "python3",
      "display_name": "Python 3"
    },
    "language_info": {
      "name": "python"
    }
  },
  "cells": [
    {
      "cell_type": "markdown",
      "metadata": {
        "id": "view-in-github",
        "colab_type": "text"
      },
      "source": [
        "<a href=\"https://colab.research.google.com/github/Existanze54/sirius-machine-learning-2024/blob/main/Exam/Union.ipynb\" target=\"_parent\"><img src=\"https://colab.research.google.com/assets/colab-badge.svg\" alt=\"Open In Colab\"/></a>"
      ]
    },
    {
      "cell_type": "markdown",
      "source": [
        "# Основные алгоритмы ML\n",
        "\n",
        "## Задачи на зачет"
      ],
      "metadata": {
        "id": "YDwzyRmw3H9A"
      }
    },
    {
      "cell_type": "markdown",
      "metadata": {
        "id": "3e2a0256-dac3-400c-beaf-8448f66fa068"
      },
      "source": [
        "### Задача 1. Прогнозирование метеорологических наблюдений"
      ]
    },
    {
      "cell_type": "markdown",
      "metadata": {
        "id": "da379d65-7870-43e2-915b-c1580fe99d64"
      },
      "source": [
        "Имеется датасет `weatherAUS.csv`, содержащий данные ежедневных метеорологических наблюдений из Австралии.\n",
        "\n",
        "Колонка `RainTomorrow` содержит значения целевой переменной для прогнозирования. Значение `Yes` в этой колонке означает, что на следующий день шел дождь."
      ]
    },
    {
      "cell_type": "code",
      "execution_count": null,
      "metadata": {
        "id": "13bdfc96-de7d-4a61-aad2-6c68bd75efdb",
        "outputId": "e4e36d44-4b0c-4dc4-c55e-11836fe3342d"
      },
      "outputs": [
        {
          "data": {
            "text/html": [
              "<div>\n",
              "<style scoped>\n",
              "    .dataframe tbody tr th:only-of-type {\n",
              "        vertical-align: middle;\n",
              "    }\n",
              "\n",
              "    .dataframe tbody tr th {\n",
              "        vertical-align: top;\n",
              "    }\n",
              "\n",
              "    .dataframe thead th {\n",
              "        text-align: right;\n",
              "    }\n",
              "</style>\n",
              "<table border=\"1\" class=\"dataframe\">\n",
              "  <thead>\n",
              "    <tr style=\"text-align: right;\">\n",
              "      <th></th>\n",
              "      <th>Date</th>\n",
              "      <th>Location</th>\n",
              "      <th>MinTemp</th>\n",
              "      <th>MaxTemp</th>\n",
              "      <th>Rainfall</th>\n",
              "      <th>Evaporation</th>\n",
              "      <th>Sunshine</th>\n",
              "      <th>WindGustDir</th>\n",
              "      <th>WindGustSpeed</th>\n",
              "      <th>WindDir9am</th>\n",
              "      <th>...</th>\n",
              "      <th>Humidity9am</th>\n",
              "      <th>Humidity3pm</th>\n",
              "      <th>Pressure9am</th>\n",
              "      <th>Pressure3pm</th>\n",
              "      <th>Cloud9am</th>\n",
              "      <th>Cloud3pm</th>\n",
              "      <th>Temp9am</th>\n",
              "      <th>Temp3pm</th>\n",
              "      <th>RainToday</th>\n",
              "      <th>RainTomorrow</th>\n",
              "    </tr>\n",
              "  </thead>\n",
              "  <tbody>\n",
              "    <tr>\n",
              "      <th>0</th>\n",
              "      <td>2008-12-01</td>\n",
              "      <td>Albury</td>\n",
              "      <td>13.4</td>\n",
              "      <td>22.9</td>\n",
              "      <td>0.6</td>\n",
              "      <td>NaN</td>\n",
              "      <td>NaN</td>\n",
              "      <td>W</td>\n",
              "      <td>44.0</td>\n",
              "      <td>W</td>\n",
              "      <td>...</td>\n",
              "      <td>71.0</td>\n",
              "      <td>22.0</td>\n",
              "      <td>1007.7</td>\n",
              "      <td>1007.1</td>\n",
              "      <td>8.0</td>\n",
              "      <td>NaN</td>\n",
              "      <td>16.9</td>\n",
              "      <td>21.8</td>\n",
              "      <td>No</td>\n",
              "      <td>No</td>\n",
              "    </tr>\n",
              "    <tr>\n",
              "      <th>1</th>\n",
              "      <td>2008-12-02</td>\n",
              "      <td>Albury</td>\n",
              "      <td>7.4</td>\n",
              "      <td>25.1</td>\n",
              "      <td>0.0</td>\n",
              "      <td>NaN</td>\n",
              "      <td>NaN</td>\n",
              "      <td>WNW</td>\n",
              "      <td>44.0</td>\n",
              "      <td>NNW</td>\n",
              "      <td>...</td>\n",
              "      <td>44.0</td>\n",
              "      <td>25.0</td>\n",
              "      <td>1010.6</td>\n",
              "      <td>1007.8</td>\n",
              "      <td>NaN</td>\n",
              "      <td>NaN</td>\n",
              "      <td>17.2</td>\n",
              "      <td>24.3</td>\n",
              "      <td>No</td>\n",
              "      <td>No</td>\n",
              "    </tr>\n",
              "    <tr>\n",
              "      <th>2</th>\n",
              "      <td>2008-12-03</td>\n",
              "      <td>Albury</td>\n",
              "      <td>12.9</td>\n",
              "      <td>25.7</td>\n",
              "      <td>0.0</td>\n",
              "      <td>NaN</td>\n",
              "      <td>NaN</td>\n",
              "      <td>WSW</td>\n",
              "      <td>46.0</td>\n",
              "      <td>W</td>\n",
              "      <td>...</td>\n",
              "      <td>38.0</td>\n",
              "      <td>30.0</td>\n",
              "      <td>1007.6</td>\n",
              "      <td>1008.7</td>\n",
              "      <td>NaN</td>\n",
              "      <td>2.0</td>\n",
              "      <td>21.0</td>\n",
              "      <td>23.2</td>\n",
              "      <td>No</td>\n",
              "      <td>No</td>\n",
              "    </tr>\n",
              "    <tr>\n",
              "      <th>3</th>\n",
              "      <td>2008-12-04</td>\n",
              "      <td>Albury</td>\n",
              "      <td>9.2</td>\n",
              "      <td>28.0</td>\n",
              "      <td>0.0</td>\n",
              "      <td>NaN</td>\n",
              "      <td>NaN</td>\n",
              "      <td>NE</td>\n",
              "      <td>24.0</td>\n",
              "      <td>SE</td>\n",
              "      <td>...</td>\n",
              "      <td>45.0</td>\n",
              "      <td>16.0</td>\n",
              "      <td>1017.6</td>\n",
              "      <td>1012.8</td>\n",
              "      <td>NaN</td>\n",
              "      <td>NaN</td>\n",
              "      <td>18.1</td>\n",
              "      <td>26.5</td>\n",
              "      <td>No</td>\n",
              "      <td>No</td>\n",
              "    </tr>\n",
              "    <tr>\n",
              "      <th>4</th>\n",
              "      <td>2008-12-05</td>\n",
              "      <td>Albury</td>\n",
              "      <td>17.5</td>\n",
              "      <td>32.3</td>\n",
              "      <td>1.0</td>\n",
              "      <td>NaN</td>\n",
              "      <td>NaN</td>\n",
              "      <td>W</td>\n",
              "      <td>41.0</td>\n",
              "      <td>ENE</td>\n",
              "      <td>...</td>\n",
              "      <td>82.0</td>\n",
              "      <td>33.0</td>\n",
              "      <td>1010.8</td>\n",
              "      <td>1006.0</td>\n",
              "      <td>7.0</td>\n",
              "      <td>8.0</td>\n",
              "      <td>17.8</td>\n",
              "      <td>29.7</td>\n",
              "      <td>No</td>\n",
              "      <td>No</td>\n",
              "    </tr>\n",
              "  </tbody>\n",
              "</table>\n",
              "<p>5 rows × 23 columns</p>\n",
              "</div>"
            ],
            "text/plain": [
              "         Date Location  MinTemp  MaxTemp  Rainfall  Evaporation  Sunshine  \\\n",
              "0  2008-12-01   Albury     13.4     22.9       0.6          NaN       NaN   \n",
              "1  2008-12-02   Albury      7.4     25.1       0.0          NaN       NaN   \n",
              "2  2008-12-03   Albury     12.9     25.7       0.0          NaN       NaN   \n",
              "3  2008-12-04   Albury      9.2     28.0       0.0          NaN       NaN   \n",
              "4  2008-12-05   Albury     17.5     32.3       1.0          NaN       NaN   \n",
              "\n",
              "  WindGustDir  WindGustSpeed WindDir9am  ... Humidity9am  Humidity3pm  \\\n",
              "0           W           44.0          W  ...        71.0         22.0   \n",
              "1         WNW           44.0        NNW  ...        44.0         25.0   \n",
              "2         WSW           46.0          W  ...        38.0         30.0   \n",
              "3          NE           24.0         SE  ...        45.0         16.0   \n",
              "4           W           41.0        ENE  ...        82.0         33.0   \n",
              "\n",
              "   Pressure9am  Pressure3pm  Cloud9am  Cloud3pm  Temp9am  Temp3pm  RainToday  \\\n",
              "0       1007.7       1007.1       8.0       NaN     16.9     21.8         No   \n",
              "1       1010.6       1007.8       NaN       NaN     17.2     24.3         No   \n",
              "2       1007.6       1008.7       NaN       2.0     21.0     23.2         No   \n",
              "3       1017.6       1012.8       NaN       NaN     18.1     26.5         No   \n",
              "4       1010.8       1006.0       7.0       8.0     17.8     29.7         No   \n",
              "\n",
              "   RainTomorrow  \n",
              "0            No  \n",
              "1            No  \n",
              "2            No  \n",
              "3            No  \n",
              "4            No  \n",
              "\n",
              "[5 rows x 23 columns]"
            ]
          },
          "execution_count": 2,
          "metadata": {},
          "output_type": "execute_result"
        }
      ],
      "source": [
        "df = pd.read_csv('weatherAUS.csv')\n",
        "df.head()"
      ]
    },
    {
      "cell_type": "markdown",
      "metadata": {
        "id": "4e9d041f-e049-43c4-a0e1-2083d8e102ba"
      },
      "source": [
        "Но перед построением модели сперва **необходимо подготовить датасет**:\n",
        "1. Удалите из датасета те строки, для которых не определено значение `RainTomorrow`.\n",
        "2. Замените значения в колонках `RainToday` и `RainTomorrow` с текстовых \"Yes\"/\"No\" на числовые 1/0.\n",
        "3. Оставьте в датасете только количественные признаки (пригодится метод датафреймов `DataFrame.select_dtypes`)\n",
        "4. Заполните недостающие значения признаков, например, их медианным значением (`DataFrame.select_dtypes`)\n",
        "5. В качестве множества меток `Y` возьмите колонку `RainTomorrow`, а в качестве множества признаковых описаний объектов `X` - остальные колонки преобразованного датасета."
      ]
    },
    {
      "cell_type": "code",
      "execution_count": null,
      "metadata": {
        "id": "809ad2f2-9cc3-48bd-a0c9-a8e6104936b2"
      },
      "outputs": [],
      "source": [
        "# your code with dataset preprocessing here"
      ]
    },
    {
      "cell_type": "markdown",
      "metadata": {
        "id": "3af59110-80b0-47c8-b7e4-915a4b41e2d1"
      },
      "source": [
        "После подготовки должно получиться что-то вроде:"
      ]
    },
    {
      "cell_type": "code",
      "execution_count": null,
      "metadata": {
        "id": "2e2122c4-4bc5-479b-8d3d-63a2ac7fdf9e",
        "outputId": "3c252967-f917-4358-e6eb-dae234a985f3"
      },
      "outputs": [
        {
          "data": {
            "text/html": [
              "<div>\n",
              "<style scoped>\n",
              "    .dataframe tbody tr th:only-of-type {\n",
              "        vertical-align: middle;\n",
              "    }\n",
              "\n",
              "    .dataframe tbody tr th {\n",
              "        vertical-align: top;\n",
              "    }\n",
              "\n",
              "    .dataframe thead th {\n",
              "        text-align: right;\n",
              "    }\n",
              "</style>\n",
              "<table border=\"1\" class=\"dataframe\">\n",
              "  <thead>\n",
              "    <tr style=\"text-align: right;\">\n",
              "      <th></th>\n",
              "      <th>MinTemp</th>\n",
              "      <th>MaxTemp</th>\n",
              "      <th>Rainfall</th>\n",
              "      <th>Evaporation</th>\n",
              "      <th>Sunshine</th>\n",
              "      <th>WindGustSpeed</th>\n",
              "      <th>WindSpeed9am</th>\n",
              "      <th>WindSpeed3pm</th>\n",
              "      <th>Humidity9am</th>\n",
              "      <th>Humidity3pm</th>\n",
              "      <th>Pressure9am</th>\n",
              "      <th>Pressure3pm</th>\n",
              "      <th>Cloud9am</th>\n",
              "      <th>Cloud3pm</th>\n",
              "      <th>Temp9am</th>\n",
              "      <th>Temp3pm</th>\n",
              "      <th>RainToday</th>\n",
              "    </tr>\n",
              "  </thead>\n",
              "  <tbody>\n",
              "    <tr>\n",
              "      <th>0</th>\n",
              "      <td>13.4</td>\n",
              "      <td>22.9</td>\n",
              "      <td>0.6</td>\n",
              "      <td>4.8</td>\n",
              "      <td>8.5</td>\n",
              "      <td>44.0</td>\n",
              "      <td>20.0</td>\n",
              "      <td>24.0</td>\n",
              "      <td>71.0</td>\n",
              "      <td>22.0</td>\n",
              "      <td>1007.7</td>\n",
              "      <td>1007.1</td>\n",
              "      <td>8.0</td>\n",
              "      <td>5.0</td>\n",
              "      <td>16.9</td>\n",
              "      <td>21.8</td>\n",
              "      <td>0.0</td>\n",
              "    </tr>\n",
              "    <tr>\n",
              "      <th>1</th>\n",
              "      <td>7.4</td>\n",
              "      <td>25.1</td>\n",
              "      <td>0.0</td>\n",
              "      <td>4.8</td>\n",
              "      <td>8.5</td>\n",
              "      <td>44.0</td>\n",
              "      <td>4.0</td>\n",
              "      <td>22.0</td>\n",
              "      <td>44.0</td>\n",
              "      <td>25.0</td>\n",
              "      <td>1010.6</td>\n",
              "      <td>1007.8</td>\n",
              "      <td>5.0</td>\n",
              "      <td>5.0</td>\n",
              "      <td>17.2</td>\n",
              "      <td>24.3</td>\n",
              "      <td>0.0</td>\n",
              "    </tr>\n",
              "    <tr>\n",
              "      <th>2</th>\n",
              "      <td>12.9</td>\n",
              "      <td>25.7</td>\n",
              "      <td>0.0</td>\n",
              "      <td>4.8</td>\n",
              "      <td>8.5</td>\n",
              "      <td>46.0</td>\n",
              "      <td>19.0</td>\n",
              "      <td>26.0</td>\n",
              "      <td>38.0</td>\n",
              "      <td>30.0</td>\n",
              "      <td>1007.6</td>\n",
              "      <td>1008.7</td>\n",
              "      <td>5.0</td>\n",
              "      <td>2.0</td>\n",
              "      <td>21.0</td>\n",
              "      <td>23.2</td>\n",
              "      <td>0.0</td>\n",
              "    </tr>\n",
              "    <tr>\n",
              "      <th>3</th>\n",
              "      <td>9.2</td>\n",
              "      <td>28.0</td>\n",
              "      <td>0.0</td>\n",
              "      <td>4.8</td>\n",
              "      <td>8.5</td>\n",
              "      <td>24.0</td>\n",
              "      <td>11.0</td>\n",
              "      <td>9.0</td>\n",
              "      <td>45.0</td>\n",
              "      <td>16.0</td>\n",
              "      <td>1017.6</td>\n",
              "      <td>1012.8</td>\n",
              "      <td>5.0</td>\n",
              "      <td>5.0</td>\n",
              "      <td>18.1</td>\n",
              "      <td>26.5</td>\n",
              "      <td>0.0</td>\n",
              "    </tr>\n",
              "    <tr>\n",
              "      <th>4</th>\n",
              "      <td>17.5</td>\n",
              "      <td>32.3</td>\n",
              "      <td>1.0</td>\n",
              "      <td>4.8</td>\n",
              "      <td>8.5</td>\n",
              "      <td>41.0</td>\n",
              "      <td>7.0</td>\n",
              "      <td>20.0</td>\n",
              "      <td>82.0</td>\n",
              "      <td>33.0</td>\n",
              "      <td>1010.8</td>\n",
              "      <td>1006.0</td>\n",
              "      <td>7.0</td>\n",
              "      <td>8.0</td>\n",
              "      <td>17.8</td>\n",
              "      <td>29.7</td>\n",
              "      <td>0.0</td>\n",
              "    </tr>\n",
              "  </tbody>\n",
              "</table>\n",
              "</div>"
            ],
            "text/plain": [
              "   MinTemp  MaxTemp  Rainfall  Evaporation  Sunshine  WindGustSpeed  \\\n",
              "0     13.4     22.9       0.6          4.8       8.5           44.0   \n",
              "1      7.4     25.1       0.0          4.8       8.5           44.0   \n",
              "2     12.9     25.7       0.0          4.8       8.5           46.0   \n",
              "3      9.2     28.0       0.0          4.8       8.5           24.0   \n",
              "4     17.5     32.3       1.0          4.8       8.5           41.0   \n",
              "\n",
              "   WindSpeed9am  WindSpeed3pm  Humidity9am  Humidity3pm  Pressure9am  \\\n",
              "0          20.0          24.0         71.0         22.0       1007.7   \n",
              "1           4.0          22.0         44.0         25.0       1010.6   \n",
              "2          19.0          26.0         38.0         30.0       1007.6   \n",
              "3          11.0           9.0         45.0         16.0       1017.6   \n",
              "4           7.0          20.0         82.0         33.0       1010.8   \n",
              "\n",
              "   Pressure3pm  Cloud9am  Cloud3pm  Temp9am  Temp3pm  RainToday  \n",
              "0       1007.1       8.0       5.0     16.9     21.8        0.0  \n",
              "1       1007.8       5.0       5.0     17.2     24.3        0.0  \n",
              "2       1008.7       5.0       2.0     21.0     23.2        0.0  \n",
              "3       1012.8       5.0       5.0     18.1     26.5        0.0  \n",
              "4       1006.0       7.0       8.0     17.8     29.7        0.0  "
            ]
          },
          "execution_count": 15,
          "metadata": {},
          "output_type": "execute_result"
        }
      ],
      "source": [
        "X.head()"
      ]
    },
    {
      "cell_type": "code",
      "execution_count": null,
      "metadata": {
        "id": "cc50f239-0379-4139-8d42-9332be88fa0d",
        "outputId": "087a5255-d233-4d22-fb73-f9496758445d"
      },
      "outputs": [
        {
          "data": {
            "text/plain": [
              "0    0.0\n",
              "1    0.0\n",
              "2    0.0\n",
              "3    0.0\n",
              "4    0.0\n",
              "Name: RainTomorrow, dtype: float64"
            ]
          },
          "execution_count": 16,
          "metadata": {},
          "output_type": "execute_result"
        }
      ],
      "source": [
        "Y.head()"
      ]
    },
    {
      "cell_type": "markdown",
      "source": [
        "**Разбейте X и y на тренировочную и тестовую выборки**."
      ],
      "metadata": {
        "id": "Qn5wZ1zN5tc7"
      }
    },
    {
      "cell_type": "code",
      "source": [
        "# your code here"
      ],
      "metadata": {
        "id": "UlrWzPRV45XY"
      },
      "execution_count": null,
      "outputs": []
    },
    {
      "cell_type": "markdown",
      "source": [
        "В рамках задачи нужно **построить модели** `логистической регрессии`, отдельного `решающего дерева` и `случайного леса` которые будут по `количественным признакам` (имеют численное значение) предсказывать, пойдет ли на следующий день дождь."
      ],
      "metadata": {
        "id": "qETnyeZx2Y7_"
      }
    },
    {
      "cell_type": "code",
      "source": [
        "# your code here"
      ],
      "metadata": {
        "id": "t1y-SeDU2Tj_"
      },
      "execution_count": null,
      "outputs": []
    },
    {
      "cell_type": "markdown",
      "source": [
        "В качестве оценок построенных моделей **рассчитайте стандартные метрики качества** бинарной классификации: `accuracy`, `precision`, `recall` и `f1-score`.\n",
        "\n",
        "Для получения более стабильной оценки качества проведите кросс-валидацию на полной обучающей выборке. Количество разбиений выберите на ваш вкус. Усредните значение метрик по всем прогонам кросс-валидации."
      ],
      "metadata": {
        "id": "d5fL_FvE56fm"
      }
    },
    {
      "cell_type": "code",
      "source": [
        "# your code here"
      ],
      "metadata": {
        "id": "Ky_O1xHa7H6-"
      },
      "execution_count": null,
      "outputs": []
    },
    {
      "cell_type": "markdown",
      "source": [
        "В качестве оценок построенных моделей **рассчитайте стандартные метрики качества** бинарной классификации: `accuracy`, `precision` и `recall`.\n",
        "\n",
        "**Сравните метрики** качества для разных моделей. Также не забудьте сравните их с **бейзлайном** (бейзлайн оцените самостоятельно по имеющимся данным)."
      ],
      "metadata": {
        "id": "EzoERBrj2c8L"
      }
    },
    {
      "cell_type": "code",
      "source": [
        "# your code here"
      ],
      "metadata": {
        "id": "wIlSnUIF2g8K"
      },
      "execution_count": null,
      "outputs": []
    },
    {
      "cell_type": "markdown",
      "source": [
        "Попробуйте использовать **разные значения гиперпараметров**, добейтесь улучшения результата."
      ],
      "metadata": {
        "id": "GaKmFLLX2lb3"
      }
    },
    {
      "cell_type": "code",
      "source": [
        "# your code here"
      ],
      "metadata": {
        "id": "T-iqlu_N2nlv"
      },
      "execution_count": null,
      "outputs": []
    },
    {
      "cell_type": "markdown",
      "metadata": {
        "id": "666ba9cb-aa82-4aa7-a305-f2b66ed9fcb6"
      },
      "source": [
        "### Задача 2. Классификация на основе данных сниженной размерности"
      ]
    },
    {
      "cell_type": "markdown",
      "metadata": {
        "id": "4a1868b7-8eda-4b9d-8714-658813562ad3"
      },
      "source": [
        "В этой задаче предлагается сравнить качество двуклассовой классификации на всех признаках и на главных компонентах.\n",
        "\n",
        "В качестве данных используйте датасет с семинара с транскриптомными данными после корректировки батч-эффекта."
      ]
    },
    {
      "cell_type": "markdown",
      "source": [
        "**Загрузите датасет** (`gse53625_expression_corrected.csv`) и метаданные к нему (`gse53625_metadata.csv`)."
      ],
      "metadata": {
        "id": "ZLaonlV060wP"
      }
    },
    {
      "cell_type": "code",
      "source": [
        "!wget https://data.bioml.ru/htdocs/courses/bioml/classic_ml/unsupervised/dim_reduction/data/gse53625_expression_corrected.csv -O ./data/gse53625_expression_corrected.csv\n",
        "\n",
        "!wget https://data.bioml.ru/htdocs/courses/bioml/classic_ml/unsupervised/dim_reduction/data/gse53625.tar.gz -O gse53625.tar.gz\n",
        "!tar xvzf gse53625.tar.gz"
      ],
      "metadata": {
        "id": "Vnst-lR96PTW"
      },
      "execution_count": null,
      "outputs": []
    },
    {
      "cell_type": "markdown",
      "metadata": {
        "id": "b82862fa-1ac5-4418-ba1f-8db8173ebd8b"
      },
      "source": [
        "**Разбейте X и y на тренировочную и тестовую выборки**. Соотношение train/test поставьте равным 1:1."
      ]
    },
    {
      "cell_type": "code",
      "metadata": {
        "id": "3be4f823-3b68-4988-a597-bae25c8ddd73"
      },
      "source": [
        "# your code here"
      ],
      "execution_count": null,
      "outputs": []
    },
    {
      "cell_type": "markdown",
      "metadata": {
        "id": "e8413973-d3b5-49f4-8234-c115fd15ad23"
      },
      "source": [
        "**Составьте пайплайн из стандартизации и классификатора SVC**."
      ]
    },
    {
      "cell_type": "code",
      "metadata": {
        "id": "95cf3f96-eb91-4d8f-8060-df553b4c7086"
      },
      "source": [
        "# your code here"
      ],
      "execution_count": null,
      "outputs": []
    },
    {
      "cell_type": "markdown",
      "metadata": {
        "id": "cb98c00e-4611-495b-a203-f114592679f7"
      },
      "source": [
        "**Оцените качество модели**."
      ]
    },
    {
      "cell_type": "code",
      "metadata": {
        "id": "04dafc1c-50d9-4d7c-af65-fb62b3488ebb"
      },
      "source": [
        "# your code here"
      ],
      "execution_count": null,
      "outputs": []
    },
    {
      "cell_type": "markdown",
      "metadata": {
        "id": "834cb5ee-6bbb-45ca-9c79-202d0eee7d5f"
      },
      "source": [
        "Подберите **оптимальное количество компонент для PCA** на `X_train`."
      ]
    },
    {
      "cell_type": "code",
      "metadata": {
        "id": "b16ccf17-2019-483f-92cb-1e1af856d45a"
      },
      "source": [
        "# your code here"
      ],
      "execution_count": null,
      "outputs": []
    },
    {
      "cell_type": "markdown",
      "metadata": {
        "id": "e9083945-ad0d-47ed-8de3-b6261316db9c"
      },
      "source": [
        "Повторите обучение и оценку качества **с добавлением в пайплайн метода снижения размерности**."
      ]
    },
    {
      "cell_type": "code",
      "metadata": {
        "id": "8e29db1b-bba8-4b88-bc0d-9f0f818fb16f"
      },
      "source": [
        "# your code here"
      ],
      "execution_count": null,
      "outputs": []
    },
    {
      "cell_type": "markdown",
      "metadata": {
        "id": "b72b0eb9-0a51-4073-89ff-3a5eb3287a27"
      },
      "source": [
        "**Оцените качество модели**."
      ]
    },
    {
      "cell_type": "code",
      "metadata": {
        "id": "9877ed55-2a52-4275-8aea-16bb8c8f9287"
      },
      "source": [
        "# your code here"
      ],
      "execution_count": null,
      "outputs": []
    },
    {
      "cell_type": "markdown",
      "metadata": {
        "id": "d1051f3a-d90a-4cfb-887c-97aad6b31158"
      },
      "source": [
        "**Сделайте выводы**."
      ]
    },
    {
      "cell_type": "code",
      "metadata": {
        "id": "e26b8e9c-1824-406c-a423-d006bfdbc9e8"
      },
      "source": [
        "# your conclusions here"
      ],
      "execution_count": null,
      "outputs": []
    },
    {
      "cell_type": "markdown",
      "metadata": {
        "id": "5Be1IGUWSea8"
      },
      "source": [
        "### Задача 3. Случайный лес и кодирование биологических последовательностей"
      ]
    },
    {
      "cell_type": "markdown",
      "source": [
        "Сплайсинг $-$ происходящее в ходе процессинга РНК вырезание определённых нуклеотидных последовательностей (интронов) из молекул РНК и соединения оставшихся последовательностей, сохраняющихся в «зрелой» молекуле (экзонов).\n",
        "Участвующие в процессе сплайсинга белки распознают границы интронов благодаря наличию в последовательности донорных (5') и акцепторных (3') сайтов.\n",
        "\n",
        "Датасет представляет собой последовательности РНК длиной 60 нуклеотидов, размеченные на 3 класса: содержит донорный сайт, содержит акцепторный сайт, и не содержит таких сайтов."
      ],
      "metadata": {
        "id": "5ILoM3nboDqo"
      }
    },
    {
      "cell_type": "code",
      "metadata": {
        "colab": {
          "base_uri": "https://localhost:8080/"
        },
        "id": "RiW42NOvSeir",
        "outputId": "a2ceca1a-eb69-4d4e-c0aa-035f919a8e43"
      },
      "source": [
        "!if [ ! -f ./rna_seq.csv ]; then wget https://kodomo.fbb.msu.ru/FBB/year_20/ml/dtrees/rna_seq.csv; fi"
      ],
      "execution_count": null,
      "outputs": [
        {
          "output_type": "stream",
          "name": "stdout",
          "text": [
            "--2021-10-17 18:00:15--  https://kodomo.fbb.msu.ru/FBB/year_20/ml/dtrees/rna_seq.csv\n",
            "Resolving kodomo.fbb.msu.ru (kodomo.fbb.msu.ru)... 93.180.63.127\n",
            "Connecting to kodomo.fbb.msu.ru (kodomo.fbb.msu.ru)|93.180.63.127|:443... connected.\n",
            "HTTP request sent, awaiting response... 200 OK\n",
            "Length: 388928 (380K) [text/csv]\n",
            "Saving to: ‘rna_seq.csv’\n",
            "\n",
            "rna_seq.csv         100%[===================>] 379.81K   440KB/s    in 0.9s    \n",
            "\n",
            "2021-10-17 18:01:06 (440 KB/s) - ‘rna_seq.csv’ saved [388928/388928]\n",
            "\n"
          ]
        }
      ]
    },
    {
      "cell_type": "markdown",
      "metadata": {
        "id": "-eRcKzIEmjRo"
      },
      "source": [
        "Стоблец **class** содержит метки классов:\n",
        "* 1: Донорный сайт\n",
        "* 2: Акцепторный сайт\n",
        "* 3: Не содержит сайтов сплайсинга\n",
        "\n",
        "Столбцы **B0-B59** содержат последоватедовательности РНК, соотвествующие этим классам."
      ]
    },
    {
      "cell_type": "code",
      "metadata": {
        "id": "3aDFc3xgYplL"
      },
      "source": [
        " import numpy as np\n",
        " import pandas as pd\n",
        " pd.set_option('display.max_columns', 999)\n",
        "\n",
        " from sklearn.preprocessing import OneHotEncoder\n",
        " from sklearn.model_selection import train_test_split\n",
        " from sklearn.ensemble import RandomForestClassifier"
      ],
      "execution_count": null,
      "outputs": []
    },
    {
      "cell_type": "code",
      "metadata": {
        "colab": {
          "base_uri": "https://localhost:8080/",
          "height": 241
        },
        "id": "pZTDosRmk0xr",
        "outputId": "1a3fe8da-9cb8-4de1-971d-0ee1ecbd611a"
      },
      "source": [
        "data = pd.read_csv(\"rna_seq.csv\")\n",
        "print(data.shape)\n",
        "data.head()"
      ],
      "execution_count": null,
      "outputs": [
        {
          "output_type": "stream",
          "name": "stdout",
          "text": [
            "(3186, 61)\n"
          ]
        },
        {
          "output_type": "execute_result",
          "data": {
            "text/html": [
              "<div>\n",
              "<style scoped>\n",
              "    .dataframe tbody tr th:only-of-type {\n",
              "        vertical-align: middle;\n",
              "    }\n",
              "\n",
              "    .dataframe tbody tr th {\n",
              "        vertical-align: top;\n",
              "    }\n",
              "\n",
              "    .dataframe thead th {\n",
              "        text-align: right;\n",
              "    }\n",
              "</style>\n",
              "<table border=\"1\" class=\"dataframe\">\n",
              "  <thead>\n",
              "    <tr style=\"text-align: right;\">\n",
              "      <th></th>\n",
              "      <th>class</th>\n",
              "      <th>B0</th>\n",
              "      <th>B1</th>\n",
              "      <th>B2</th>\n",
              "      <th>B3</th>\n",
              "      <th>B4</th>\n",
              "      <th>B5</th>\n",
              "      <th>B6</th>\n",
              "      <th>B7</th>\n",
              "      <th>B8</th>\n",
              "      <th>B9</th>\n",
              "      <th>B10</th>\n",
              "      <th>B11</th>\n",
              "      <th>B12</th>\n",
              "      <th>B13</th>\n",
              "      <th>B14</th>\n",
              "      <th>B15</th>\n",
              "      <th>B16</th>\n",
              "      <th>B17</th>\n",
              "      <th>B18</th>\n",
              "      <th>B19</th>\n",
              "      <th>B20</th>\n",
              "      <th>B21</th>\n",
              "      <th>B22</th>\n",
              "      <th>B23</th>\n",
              "      <th>B24</th>\n",
              "      <th>B25</th>\n",
              "      <th>B26</th>\n",
              "      <th>B27</th>\n",
              "      <th>B28</th>\n",
              "      <th>B29</th>\n",
              "      <th>B30</th>\n",
              "      <th>B31</th>\n",
              "      <th>B32</th>\n",
              "      <th>B33</th>\n",
              "      <th>B34</th>\n",
              "      <th>B35</th>\n",
              "      <th>B36</th>\n",
              "      <th>B37</th>\n",
              "      <th>B38</th>\n",
              "      <th>B39</th>\n",
              "      <th>B40</th>\n",
              "      <th>B41</th>\n",
              "      <th>B42</th>\n",
              "      <th>B43</th>\n",
              "      <th>B44</th>\n",
              "      <th>B45</th>\n",
              "      <th>B46</th>\n",
              "      <th>B47</th>\n",
              "      <th>B48</th>\n",
              "      <th>B49</th>\n",
              "      <th>B50</th>\n",
              "      <th>B51</th>\n",
              "      <th>B52</th>\n",
              "      <th>B53</th>\n",
              "      <th>B54</th>\n",
              "      <th>B55</th>\n",
              "      <th>B56</th>\n",
              "      <th>B57</th>\n",
              "      <th>B58</th>\n",
              "      <th>B59</th>\n",
              "    </tr>\n",
              "  </thead>\n",
              "  <tbody>\n",
              "    <tr>\n",
              "      <th>0</th>\n",
              "      <td>3</td>\n",
              "      <td>C</td>\n",
              "      <td>U</td>\n",
              "      <td>A</td>\n",
              "      <td>G</td>\n",
              "      <td>G</td>\n",
              "      <td>C</td>\n",
              "      <td>U</td>\n",
              "      <td>C</td>\n",
              "      <td>C</td>\n",
              "      <td>A</td>\n",
              "      <td>G</td>\n",
              "      <td>A</td>\n",
              "      <td>U</td>\n",
              "      <td>A</td>\n",
              "      <td>G</td>\n",
              "      <td>C</td>\n",
              "      <td>C</td>\n",
              "      <td>A</td>\n",
              "      <td>U</td>\n",
              "      <td>A</td>\n",
              "      <td>G</td>\n",
              "      <td>A</td>\n",
              "      <td>A</td>\n",
              "      <td>G</td>\n",
              "      <td>A</td>\n",
              "      <td>A</td>\n",
              "      <td>C</td>\n",
              "      <td>C</td>\n",
              "      <td>A</td>\n",
              "      <td>A</td>\n",
              "      <td>A</td>\n",
              "      <td>C</td>\n",
              "      <td>A</td>\n",
              "      <td>C</td>\n",
              "      <td>U</td>\n",
              "      <td>U</td>\n",
              "      <td>U</td>\n",
              "      <td>C</td>\n",
              "      <td>U</td>\n",
              "      <td>G</td>\n",
              "      <td>C</td>\n",
              "      <td>G</td>\n",
              "      <td>U</td>\n",
              "      <td>G</td>\n",
              "      <td>U</td>\n",
              "      <td>G</td>\n",
              "      <td>U</td>\n",
              "      <td>G</td>\n",
              "      <td>A</td>\n",
              "      <td>G</td>\n",
              "      <td>A</td>\n",
              "      <td>A</td>\n",
              "      <td>U</td>\n",
              "      <td>A</td>\n",
              "      <td>A</td>\n",
              "      <td>U</td>\n",
              "      <td>C</td>\n",
              "      <td>A</td>\n",
              "      <td>G</td>\n",
              "      <td>A</td>\n",
              "    </tr>\n",
              "    <tr>\n",
              "      <th>1</th>\n",
              "      <td>3</td>\n",
              "      <td>G</td>\n",
              "      <td>G</td>\n",
              "      <td>U</td>\n",
              "      <td>G</td>\n",
              "      <td>U</td>\n",
              "      <td>U</td>\n",
              "      <td>G</td>\n",
              "      <td>C</td>\n",
              "      <td>U</td>\n",
              "      <td>C</td>\n",
              "      <td>U</td>\n",
              "      <td>U</td>\n",
              "      <td>A</td>\n",
              "      <td>G</td>\n",
              "      <td>G</td>\n",
              "      <td>A</td>\n",
              "      <td>U</td>\n",
              "      <td>G</td>\n",
              "      <td>U</td>\n",
              "      <td>A</td>\n",
              "      <td>U</td>\n",
              "      <td>C</td>\n",
              "      <td>C</td>\n",
              "      <td>C</td>\n",
              "      <td>C</td>\n",
              "      <td>U</td>\n",
              "      <td>C</td>\n",
              "      <td>A</td>\n",
              "      <td>A</td>\n",
              "      <td>A</td>\n",
              "      <td>C</td>\n",
              "      <td>C</td>\n",
              "      <td>U</td>\n",
              "      <td>A</td>\n",
              "      <td>C</td>\n",
              "      <td>C</td>\n",
              "      <td>U</td>\n",
              "      <td>G</td>\n",
              "      <td>G</td>\n",
              "      <td>U</td>\n",
              "      <td>G</td>\n",
              "      <td>G</td>\n",
              "      <td>U</td>\n",
              "      <td>U</td>\n",
              "      <td>C</td>\n",
              "      <td>U</td>\n",
              "      <td>G</td>\n",
              "      <td>U</td>\n",
              "      <td>G</td>\n",
              "      <td>C</td>\n",
              "      <td>C</td>\n",
              "      <td>U</td>\n",
              "      <td>U</td>\n",
              "      <td>C</td>\n",
              "      <td>C</td>\n",
              "      <td>C</td>\n",
              "      <td>C</td>\n",
              "      <td>U</td>\n",
              "      <td>A</td>\n",
              "      <td>C</td>\n",
              "    </tr>\n",
              "    <tr>\n",
              "      <th>2</th>\n",
              "      <td>3</td>\n",
              "      <td>G</td>\n",
              "      <td>G</td>\n",
              "      <td>C</td>\n",
              "      <td>U</td>\n",
              "      <td>G</td>\n",
              "      <td>G</td>\n",
              "      <td>A</td>\n",
              "      <td>C</td>\n",
              "      <td>C</td>\n",
              "      <td>G</td>\n",
              "      <td>A</td>\n",
              "      <td>C</td>\n",
              "      <td>C</td>\n",
              "      <td>A</td>\n",
              "      <td>C</td>\n",
              "      <td>A</td>\n",
              "      <td>G</td>\n",
              "      <td>C</td>\n",
              "      <td>G</td>\n",
              "      <td>C</td>\n",
              "      <td>G</td>\n",
              "      <td>U</td>\n",
              "      <td>G</td>\n",
              "      <td>C</td>\n",
              "      <td>A</td>\n",
              "      <td>G</td>\n",
              "      <td>U</td>\n",
              "      <td>A</td>\n",
              "      <td>A</td>\n",
              "      <td>G</td>\n",
              "      <td>U</td>\n",
              "      <td>C</td>\n",
              "      <td>G</td>\n",
              "      <td>G</td>\n",
              "      <td>C</td>\n",
              "      <td>C</td>\n",
              "      <td>C</td>\n",
              "      <td>C</td>\n",
              "      <td>C</td>\n",
              "      <td>U</td>\n",
              "      <td>G</td>\n",
              "      <td>C</td>\n",
              "      <td>C</td>\n",
              "      <td>C</td>\n",
              "      <td>C</td>\n",
              "      <td>G</td>\n",
              "      <td>U</td>\n",
              "      <td>C</td>\n",
              "      <td>C</td>\n",
              "      <td>U</td>\n",
              "      <td>G</td>\n",
              "      <td>C</td>\n",
              "      <td>C</td>\n",
              "      <td>C</td>\n",
              "      <td>U</td>\n",
              "      <td>G</td>\n",
              "      <td>C</td>\n",
              "      <td>C</td>\n",
              "      <td>G</td>\n",
              "      <td>G</td>\n",
              "    </tr>\n",
              "    <tr>\n",
              "      <th>3</th>\n",
              "      <td>1</td>\n",
              "      <td>U</td>\n",
              "      <td>U</td>\n",
              "      <td>C</td>\n",
              "      <td>U</td>\n",
              "      <td>A</td>\n",
              "      <td>U</td>\n",
              "      <td>G</td>\n",
              "      <td>A</td>\n",
              "      <td>G</td>\n",
              "      <td>A</td>\n",
              "      <td>A</td>\n",
              "      <td>A</td>\n",
              "      <td>C</td>\n",
              "      <td>G</td>\n",
              "      <td>U</td>\n",
              "      <td>G</td>\n",
              "      <td>G</td>\n",
              "      <td>C</td>\n",
              "      <td>A</td>\n",
              "      <td>U</td>\n",
              "      <td>U</td>\n",
              "      <td>G</td>\n",
              "      <td>U</td>\n",
              "      <td>G</td>\n",
              "      <td>C</td>\n",
              "      <td>G</td>\n",
              "      <td>C</td>\n",
              "      <td>A</td>\n",
              "      <td>A</td>\n",
              "      <td>G</td>\n",
              "      <td>G</td>\n",
              "      <td>U</td>\n",
              "      <td>G</td>\n",
              "      <td>G</td>\n",
              "      <td>G</td>\n",
              "      <td>C</td>\n",
              "      <td>C</td>\n",
              "      <td>C</td>\n",
              "      <td>C</td>\n",
              "      <td>G</td>\n",
              "      <td>C</td>\n",
              "      <td>G</td>\n",
              "      <td>G</td>\n",
              "      <td>G</td>\n",
              "      <td>A</td>\n",
              "      <td>C</td>\n",
              "      <td>G</td>\n",
              "      <td>G</td>\n",
              "      <td>G</td>\n",
              "      <td>G</td>\n",
              "      <td>C</td>\n",
              "      <td>A</td>\n",
              "      <td>G</td>\n",
              "      <td>C</td>\n",
              "      <td>U</td>\n",
              "      <td>C</td>\n",
              "      <td>C</td>\n",
              "      <td>G</td>\n",
              "      <td>G</td>\n",
              "      <td>G</td>\n",
              "    </tr>\n",
              "    <tr>\n",
              "      <th>4</th>\n",
              "      <td>2</td>\n",
              "      <td>C</td>\n",
              "      <td>U</td>\n",
              "      <td>C</td>\n",
              "      <td>C</td>\n",
              "      <td>C</td>\n",
              "      <td>C</td>\n",
              "      <td>A</td>\n",
              "      <td>C</td>\n",
              "      <td>C</td>\n",
              "      <td>C</td>\n",
              "      <td>A</td>\n",
              "      <td>C</td>\n",
              "      <td>C</td>\n",
              "      <td>U</td>\n",
              "      <td>G</td>\n",
              "      <td>U</td>\n",
              "      <td>C</td>\n",
              "      <td>C</td>\n",
              "      <td>A</td>\n",
              "      <td>C</td>\n",
              "      <td>C</td>\n",
              "      <td>C</td>\n",
              "      <td>G</td>\n",
              "      <td>C</td>\n",
              "      <td>C</td>\n",
              "      <td>C</td>\n",
              "      <td>G</td>\n",
              "      <td>C</td>\n",
              "      <td>A</td>\n",
              "      <td>G</td>\n",
              "      <td>A</td>\n",
              "      <td>U</td>\n",
              "      <td>C</td>\n",
              "      <td>G</td>\n",
              "      <td>C</td>\n",
              "      <td>U</td>\n",
              "      <td>U</td>\n",
              "      <td>C</td>\n",
              "      <td>C</td>\n",
              "      <td>U</td>\n",
              "      <td>G</td>\n",
              "      <td>G</td>\n",
              "      <td>A</td>\n",
              "      <td>G</td>\n",
              "      <td>C</td>\n",
              "      <td>C</td>\n",
              "      <td>A</td>\n",
              "      <td>G</td>\n",
              "      <td>G</td>\n",
              "      <td>C</td>\n",
              "      <td>A</td>\n",
              "      <td>A</td>\n",
              "      <td>G</td>\n",
              "      <td>A</td>\n",
              "      <td>A</td>\n",
              "      <td>C</td>\n",
              "      <td>U</td>\n",
              "      <td>C</td>\n",
              "      <td>C</td>\n",
              "      <td>A</td>\n",
              "    </tr>\n",
              "  </tbody>\n",
              "</table>\n",
              "</div>"
            ],
            "text/plain": [
              "   class B0 B1 B2 B3 B4 B5 B6 B7 B8 B9 B10 B11 B12 B13 B14 B15 B16 B17 B18  \\\n",
              "0      3  C  U  A  G  G  C  U  C  C  A   G   A   U   A   G   C   C   A   U   \n",
              "1      3  G  G  U  G  U  U  G  C  U  C   U   U   A   G   G   A   U   G   U   \n",
              "2      3  G  G  C  U  G  G  A  C  C  G   A   C   C   A   C   A   G   C   G   \n",
              "3      1  U  U  C  U  A  U  G  A  G  A   A   A   C   G   U   G   G   C   A   \n",
              "4      2  C  U  C  C  C  C  A  C  C  C   A   C   C   U   G   U   C   C   A   \n",
              "\n",
              "  B19 B20 B21 B22 B23 B24 B25 B26 B27 B28 B29 B30 B31 B32 B33 B34 B35 B36 B37  \\\n",
              "0   A   G   A   A   G   A   A   C   C   A   A   A   C   A   C   U   U   U   C   \n",
              "1   A   U   C   C   C   C   U   C   A   A   A   C   C   U   A   C   C   U   G   \n",
              "2   C   G   U   G   C   A   G   U   A   A   G   U   C   G   G   C   C   C   C   \n",
              "3   U   U   G   U   G   C   G   C   A   A   G   G   U   G   G   G   C   C   C   \n",
              "4   C   C   C   G   C   C   C   G   C   A   G   A   U   C   G   C   U   U   C   \n",
              "\n",
              "  B38 B39 B40 B41 B42 B43 B44 B45 B46 B47 B48 B49 B50 B51 B52 B53 B54 B55 B56  \\\n",
              "0   U   G   C   G   U   G   U   G   U   G   A   G   A   A   U   A   A   U   C   \n",
              "1   G   U   G   G   U   U   C   U   G   U   G   C   C   U   U   C   C   C   C   \n",
              "2   C   U   G   C   C   C   C   G   U   C   C   U   G   C   C   C   U   G   C   \n",
              "3   C   G   C   G   G   G   A   C   G   G   G   G   C   A   G   C   U   C   C   \n",
              "4   C   U   G   G   A   G   C   C   A   G   G   C   A   A   G   A   A   C   U   \n",
              "\n",
              "  B57 B58 B59  \n",
              "0   A   G   A  \n",
              "1   U   A   C  \n",
              "2   C   G   G  \n",
              "3   G   G   G  \n",
              "4   C   C   A  "
            ]
          },
          "metadata": {},
          "execution_count": 50
        }
      ]
    },
    {
      "cell_type": "code",
      "metadata": {
        "colab": {
          "base_uri": "https://localhost:8080/"
        },
        "id": "YrFtLHNQm013",
        "outputId": "8e1e36f5-8d4f-436e-a867-f24185300880"
      },
      "source": [
        "data[\"class\"].value_counts()"
      ],
      "execution_count": null,
      "outputs": [
        {
          "output_type": "execute_result",
          "data": {
            "text/plain": [
              "3    1654\n",
              "1     767\n",
              "2     765\n",
              "Name: class, dtype: int64"
            ]
          },
          "metadata": {},
          "execution_count": 51
        }
      ]
    },
    {
      "cell_type": "markdown",
      "metadata": {
        "id": "ijlg5uE5lXn0"
      },
      "source": [
        "Закодируйте последовательности по следующей схеме:\n",
        "\n",
        "* A $\\rightarrow$ 1 0 0\n",
        "* C $\\rightarrow$ 0 1 0\n",
        "* G $\\rightarrow$ 0 0 1\n",
        "* U $\\rightarrow$ 0 0 0\n",
        "\n"
      ]
    },
    {
      "cell_type": "code",
      "metadata": {
        "id": "Yo5rhNh3Hjap"
      },
      "source": [
        "y = data[\"class\"]\n",
        "\n",
        "enc = OneHotEncoder(handle_unknown='error', drop = 60*[\"U\"]) # не заводим для U отдельный признак\n",
        "\n",
        "X = pd.DataFrame(enc.fit_transform(data.drop(\"class\", axis=1)).toarray()).astype(int)"
      ],
      "execution_count": null,
      "outputs": []
    },
    {
      "cell_type": "markdown",
      "metadata": {
        "id": "EUWgiZwaZVDk"
      },
      "source": [
        "На 2-3 объектах проверьте, что кодирование прошло успешно.\n",
        "Дополните словарь и используйте его, чтобы закодировать признаки для этих объектов \"вручную\", затем сравните с полученным результатом."
      ]
    },
    {
      "cell_type": "code",
      "metadata": {
        "id": "Je1Cb06KZg1t"
      },
      "source": [
        "rna_dct = {\n",
        "    \"A\": (1, 0, 0),\n",
        "    # put your code here\n",
        "}"
      ],
      "execution_count": null,
      "outputs": []
    },
    {
      "cell_type": "code",
      "metadata": {
        "colab": {
          "base_uri": "https://localhost:8080/"
        },
        "id": "hL6xNLY-bUE-",
        "outputId": "94ef7b02-ebe4-4509-ce99-5d4b0b9c0832"
      },
      "source": [
        "small_batch = data.drop(\"class\", axis=1).head(3).values\n",
        "\n",
        "np.all( np.array([ list(map(lambda y: rna_dct[y], x)) for x in small_batch ]).reshape(3,180) == X.# put your code here )"
      ],
      "execution_count": null,
      "outputs": [
        {
          "output_type": "execute_result",
          "data": {
            "text/plain": [
              "True"
            ]
          },
          "metadata": {},
          "execution_count": 47
        }
      ]
    },
    {
      "cell_type": "markdown",
      "metadata": {
        "id": "q1MqIwmQo5_z"
      },
      "source": [
        "Создайте и обучите модель случайного леса на подготовленных данных.\n",
        "Подберите оптимальные параметры *max_features* и *max_depth*.\n",
        "Качество предсказания оцените при помощи *classification_report* и *matthews_corrcoef*.\n"
      ]
    },
    {
      "cell_type": "code",
      "metadata": {
        "id": "ypQKag8GVMfG"
      },
      "source": [
        "# Train-Test split\n",
        "\n",
        "X_train, X_test, y_train, y_test = train_test_split(X, y, test_size=0.3,\n",
        "                                                    random_state=0)"
      ],
      "execution_count": null,
      "outputs": []
    },
    {
      "cell_type": "code",
      "metadata": {
        "id": "SIeYBuClWieU"
      },
      "source": [
        "# put your code here"
      ],
      "execution_count": null,
      "outputs": []
    },
    {
      "cell_type": "code",
      "metadata": {
        "id": "DT4BPOWFWnxm"
      },
      "source": [
        "y_pred = ???\n"
      ],
      "execution_count": null,
      "outputs": []
    },
    {
      "cell_type": "code",
      "metadata": {
        "id": "VoqiUaj6Wtax"
      },
      "source": [
        "from sklearn.metrics import classification_report\n",
        "from sklearn.metrics import matthews_corrcoef"
      ],
      "execution_count": null,
      "outputs": []
    },
    {
      "cell_type": "code",
      "metadata": {
        "id": "5lCO-W45WzMY"
      },
      "source": [
        "print(f\"Matthews correlation coefficient: {matthews_corrcoef(y_test, y_pred):.4f}\\n\\n\")\n",
        "\n",
        "\n",
        "print(classification_report(y_test, y_pred))"
      ],
      "execution_count": null,
      "outputs": []
    },
    {
      "cell_type": "markdown",
      "metadata": {
        "id": "EBhDpTcZMhHC"
      },
      "source": [
        "### Задача 4. Предсказание растворимости веществ"
      ]
    },
    {
      "cell_type": "markdown",
      "source": [
        "\n",
        "Загрузим датасет [AqSolDB](https://www.nature.com/articles/s41597-019-0151-1), объединяющий информацию о растворимости химических веществ из разных источников."
      ],
      "metadata": {
        "id": "3nkiM-7VFy4o"
      }
    },
    {
      "cell_type": "code",
      "metadata": {
        "id": "I2jk6OelNEXK"
      },
      "source": [
        "!wget  https://kodomo.fbb.msu.ru/FBB/year_20/ml/curated-solubility-dataset.csv"
      ],
      "execution_count": null,
      "outputs": []
    },
    {
      "cell_type": "code",
      "metadata": {
        "id": "EmfoTr9sNjKn"
      },
      "source": [
        "import numpy as np\n",
        "import pandas as pd"
      ],
      "execution_count": null,
      "outputs": []
    },
    {
      "cell_type": "code",
      "metadata": {
        "id": "saPTfsTZNsZk"
      },
      "source": [
        "data = pd.read_csv(\"curated-solubility-dataset.csv\")"
      ],
      "execution_count": null,
      "outputs": []
    },
    {
      "cell_type": "code",
      "metadata": {
        "id": "h8vxNAocNt3i"
      },
      "source": [
        "data.head()"
      ],
      "execution_count": null,
      "outputs": []
    },
    {
      "cell_type": "markdown",
      "metadata": {
        "id": "07l_NjWuWbWB"
      },
      "source": [
        "В качестве Y используйте колонку **Solubility**"
      ]
    },
    {
      "cell_type": "code",
      "metadata": {
        "id": "vl7Zp8FBWfLm"
      },
      "source": [],
      "execution_count": null,
      "outputs": []
    },
    {
      "cell_type": "markdown",
      "metadata": {
        "id": "AFcd25SeWevu"
      },
      "source": [
        "В качестве X - все колонки после Solubility"
      ]
    },
    {
      "cell_type": "code",
      "metadata": {
        "id": "h8azcxnTWjzj"
      },
      "source": [],
      "execution_count": null,
      "outputs": []
    },
    {
      "cell_type": "markdown",
      "metadata": {
        "id": "ZA_2FOXEWO66"
      },
      "source": [
        "Разбейте ваши данные на обучение и тест в отношении 8:2"
      ]
    },
    {
      "cell_type": "code",
      "metadata": {
        "id": "YRtogoaNWkQU"
      },
      "source": [],
      "execution_count": null,
      "outputs": []
    },
    {
      "cell_type": "markdown",
      "metadata": {
        "id": "poMbLDnTOSwe"
      },
      "source": [
        "Попробуйте на данной задаче и на основе только посчитанных авторами признаков (начинаются с MolWt), предсказать растворимость веществ при помощи:\n",
        "\n",
        "1. Линейной регрессии\n",
        "\n",
        "2. KNN-регрессии\n",
        "\n",
        "3. SVM (понадобится SVR из пакета)"
      ]
    },
    {
      "cell_type": "code",
      "metadata": {
        "id": "HzVWXXo0_MRU"
      },
      "source": [
        "from sklearn.linear_model import LinearRegression\n",
        "from sklearn.neighbors import KNeighborsRegressor\n",
        "from sklearn.svm import SVR"
      ],
      "execution_count": null,
      "outputs": []
    },
    {
      "cell_type": "markdown",
      "metadata": {
        "id": "ajzP5a7w_Fw-"
      },
      "source": [
        "Так как у второго и третьего алгоритма есть гиперпараметры, то сначала на трейне используйте GridSearchCV"
      ]
    },
    {
      "cell_type": "code",
      "metadata": {
        "id": "qQxOwtbE-Lqu"
      },
      "source": [
        "from sklearn.model_selection import GridSearchCV, train_test_split"
      ],
      "execution_count": null,
      "outputs": []
    },
    {
      "cell_type": "code",
      "metadata": {
        "id": "2-BvrLIyFA12"
      },
      "source": [
        "# пример из мануала для SVC- адаптируйте к вашей задаче\n",
        "iris = datasets.load_iris()\n",
        "parameters = {'kernel':('linear', 'rbf'), 'C':[0.01, 0.1, 1, 10]}\n",
        "svc = svm.SVC()\n",
        "clf = GridSearchCV(svc, parameters)\n",
        "clf.fit(iris.data, iris.target)"
      ],
      "execution_count": null,
      "outputs": []
    },
    {
      "cell_type": "markdown",
      "metadata": {
        "id": "y5TpXzXGWmIF"
      },
      "source": [
        "Для SVR используйте те же параметры, что указаны в ячейке.\n",
        "Для KNN - число соседей"
      ]
    },
    {
      "cell_type": "code",
      "metadata": {
        "id": "WjKN57c6Wve5"
      },
      "source": [],
      "execution_count": null,
      "outputs": []
    },
    {
      "cell_type": "markdown",
      "metadata": {
        "id": "sefMe35EWv_o"
      },
      "source": [
        "Выберите лучший на кросс-валидации алгоритм"
      ]
    },
    {
      "cell_type": "code",
      "metadata": {
        "id": "GeYrIrwgW0RV"
      },
      "source": [],
      "execution_count": null,
      "outputs": []
    },
    {
      "cell_type": "markdown",
      "metadata": {
        "id": "R9hlmQNxW0-H"
      },
      "source": [
        "Проверьте финальную модель на тесте"
      ]
    },
    {
      "cell_type": "code",
      "metadata": {
        "id": "j_NEbC5GW3MV"
      },
      "source": [],
      "execution_count": null,
      "outputs": []
    },
    {
      "cell_type": "markdown",
      "metadata": {
        "id": "if0k2jh2v5T5"
      },
      "source": [
        "Какие проблемы вы видите в случайном разбиении, примененном нами"
      ]
    },
    {
      "cell_type": "code",
      "source": [],
      "metadata": {
        "id": "cSW4as3rFHdO"
      },
      "execution_count": null,
      "outputs": []
    }
  ]
}