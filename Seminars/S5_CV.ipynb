{
  "nbformat": 4,
  "nbformat_minor": 0,
  "metadata": {
    "kernelspec": {
      "display_name": "Python 3",
      "language": "python",
      "name": "python3"
    },
    "language_info": {
      "codemirror_mode": {
        "name": "ipython",
        "version": 3
      },
      "file_extension": ".py",
      "mimetype": "text/x-python",
      "name": "python",
      "nbconvert_exporter": "python",
      "pygments_lexer": "ipython3",
      "version": "3.8.3"
    },
    "colab": {
      "provenance": [],
      "include_colab_link": true
    }
  },
  "cells": [
    {
      "cell_type": "markdown",
      "metadata": {
        "id": "view-in-github",
        "colab_type": "text"
      },
      "source": [
        "<a href=\"https://colab.research.google.com/github/Existanze54/sirius-machine-learning-2024/blob/main/Seminars/S5_CV.ipynb\" target=\"_parent\"><img src=\"https://colab.research.google.com/assets/colab-badge.svg\" alt=\"Open In Colab\"/></a>"
      ]
    },
    {
      "cell_type": "markdown",
      "source": [
        "# Оновные алгоритмы ML\n",
        "\n",
        "### Семинар 5. Методы кросс-валидации (CV). StratifiedShuffleSplit"
      ],
      "metadata": {
        "id": "c0EGefNB57LM"
      }
    },
    {
      "cell_type": "code",
      "metadata": {
        "id": "iGYb6Zq3NBW1"
      },
      "source": [
        "import numpy as np\n",
        "import matplotlib.pyplot as plt\n",
        "from sklearn.datasets import load_breast_cancer\n",
        "from sklearn.neighbors import KNeighborsClassifier\n",
        "from sklearn.metrics import roc_auc_score\n",
        "from sklearn.model_selection import train_test_split\n",
        "from sklearn import datasets\n",
        "from sklearn.preprocessing import StandardScaler"
      ],
      "execution_count": null,
      "outputs": []
    },
    {
      "cell_type": "markdown",
      "source": [
        "# Использование встроенных средств sklearn"
      ],
      "metadata": {
        "id": "iTiE6vY96Xqp"
      }
    },
    {
      "cell_type": "markdown",
      "source": [
        "Для начала сгенерируем искусственный набор данных, как в прошлом семинаре, просто запустим следующую ячейку"
      ],
      "metadata": {
        "id": "0x3tt1li_xLz"
      }
    },
    {
      "cell_type": "code",
      "source": [
        "X, Y = datasets.make_classification(n_features=2,\n",
        "                                       n_redundant=0,\n",
        "                                       n_informative=1,\n",
        "                                       random_state=202,\n",
        "                                       n_clusters_per_class=1,\n",
        "                                       flip_y=0,\n",
        "                                       n_samples=200)"
      ],
      "metadata": {
        "id": "9KSrRByT_viV"
      },
      "execution_count": null,
      "outputs": []
    },
    {
      "cell_type": "markdown",
      "source": [
        "\n",
        "Скопируйте и поменяйте код из лекции для Monte-Carlo cross-validation так, чтобы он использовал <a href='https://scikit-learn.org/stable/modules/generated/sklearn.model_selection.StratifiedShuffleSplit.html'>StratifiedShuffleSplit</a>"
      ],
      "metadata": {
        "id": "GMm_uBbgKK9W"
      }
    },
    {
      "cell_type": "code",
      "source": [],
      "metadata": {
        "id": "bLknM7avKI-5"
      },
      "execution_count": null,
      "outputs": []
    },
    {
      "cell_type": "markdown",
      "source": [
        "Если функция написана правильно, должны получиться похожие (или такие же?) графики, как в лекции"
      ],
      "metadata": {
        "id": "2tIDI33DKbnj"
      }
    },
    {
      "cell_type": "code",
      "source": [
        "def plot_mccv_results(auroc, title):\n",
        "    with plt.style.context(('ggplot')):\n",
        "        plt.figure(figsize=(12, 6))\n",
        "        plt.title(title, size=22)\n",
        "        plt.bar(range(0, auroc.shape[0]), auroc, color='gray', alpha=0.7)\n",
        "        plt.axhline(auroc.max(), color='k', linewidth=1, linestyle='--')\n",
        "        plt.axhline(auroc.min(), color='k', linewidth=1, linestyle='--')\n",
        "        plt.axhspan(auroc.min(), auroc.max(), alpha=0.2, color='steelblue')\n",
        "        plt.ylim([0, auroc.max() + 0.1])\n",
        "        plt.xlabel('Repetition')\n",
        "        plt.ylabel('AUROC')\n",
        "        plt.ylim([0.5, 1.0])\n",
        "        plt.tight_layout()\n",
        "        plt.show()"
      ],
      "metadata": {
        "id": "gn9tqzO4KiSI"
      },
      "execution_count": null,
      "outputs": []
    },
    {
      "cell_type": "code",
      "source": [
        "X_train, X_test, y_train, y_test = train_test_split(X, Y,\n",
        "                                                    test_size=0.3,\n",
        "                                                    random_state=100,\n",
        "                                                    stratify=Y)\n",
        "\n",
        "clf = KNeighborsClassifier(n_neighbors=2, n_jobs=-1)\n",
        "\n",
        "auroc_mccv_50 = get_monte_carlo_cv_scores(X_train, y_train, clf, 100, .5)\n",
        "auroc_mccv_10 = get_monte_carlo_cv_scores(X_train, y_train, clf, 100, .1)\n",
        "auroc_mccv_random = get_monte_carlo_cv_scores(X_train, y_train, clf, 100)"
      ],
      "metadata": {
        "id": "AmfSI-ZCKoWR"
      },
      "execution_count": null,
      "outputs": []
    },
    {
      "cell_type": "code",
      "source": [
        "plot_mccv_results(auroc_mccv_50, 'Monte-Carlo CV, test size 50%')"
      ],
      "metadata": {
        "id": "AAq7eCbAKssB"
      },
      "execution_count": null,
      "outputs": []
    },
    {
      "cell_type": "code",
      "source": [
        "plot_mccv_results(auroc_mccv_10, 'Monte-Carlo CV, test size 10%')"
      ],
      "metadata": {
        "id": "71az9FiuKw-z"
      },
      "execution_count": null,
      "outputs": []
    },
    {
      "cell_type": "markdown",
      "metadata": {
        "id": "C_K0AL3OVTZR"
      },
      "source": [
        "# \"Парадокс\""
      ]
    },
    {
      "cell_type": "code",
      "metadata": {
        "id": "8wkBUPWwVTZR"
      },
      "source": [
        "import pandas as pd\n",
        "import numpy as np\n",
        "from sklearn.linear_model import LogisticRegression\n",
        "from sklearn.model_selection import train_test_split\n",
        "from sklearn.metrics import roc_auc_score, average_precision_score, accuracy_score"
      ],
      "execution_count": null,
      "outputs": []
    },
    {
      "cell_type": "markdown",
      "metadata": {
        "id": "U_LT-moSVTZR"
      },
      "source": [
        "Создадим таблицу 200 на 10000 со \"здоровыми\" и \"больными\" пациентами и данными об \"экспрессии\" их генов.\n"
      ]
    },
    {
      "cell_type": "code",
      "metadata": {
        "id": "2-EuqXwTVTZR"
      },
      "source": [
        "gene_count = 10000\n",
        "genes = [f\"Gene{ind}\" for ind in range(gene_count)]\n",
        "healthy = pd.DataFrame(np.random.normal(size=(100, gene_count),\n",
        "                                        loc=0,\n",
        "                                        scale=1),\n",
        "                       columns=genes)\n",
        "healthy['State'] = \"H\"\n",
        "diseased = pd.DataFrame(np.random.normal(size=(100, gene_count),\n",
        "                                         loc=0,\n",
        "                                         scale=1),\n",
        "                        columns=genes)\n",
        "diseased['State'] = \"D\"\n",
        "patients = pd.concat([healthy, diseased], axis=0)"
      ],
      "execution_count": null,
      "outputs": []
    },
    {
      "cell_type": "code",
      "metadata": {
        "id": "-I0bsLXpVTZR"
      },
      "source": [
        "patients"
      ],
      "execution_count": null,
      "outputs": []
    },
    {
      "cell_type": "code",
      "metadata": {
        "id": "YbeGHXdNVTZR"
      },
      "source": [
        "X = patients.drop(\"State\", axis=1)\n",
        "Y = patients['State']"
      ],
      "execution_count": null,
      "outputs": []
    },
    {
      "cell_type": "code",
      "metadata": {
        "id": "G02ZsBAiVTZR"
      },
      "source": [
        "top_k = 10\n",
        "\n",
        "diffs = X[Y == \"H\"].mean(axis=0) - X[Y == 'D'].mean(axis=0)\n",
        "top = np.abs(diffs).sort_values(ascending=False)[0:top_k]\n",
        "genes = top.index"
      ],
      "execution_count": null,
      "outputs": []
    },
    {
      "cell_type": "code",
      "metadata": {
        "id": "lNiXFCCJVTZR"
      },
      "source": [
        "X_selected = X[genes]"
      ],
      "execution_count": null,
      "outputs": []
    },
    {
      "cell_type": "code",
      "metadata": {
        "id": "UoATaE-dVTZR"
      },
      "source": [
        "X_train, X_test, y_train, y_test = train_test_split(X_selected, Y == \"D\", test_size=0.3)"
      ],
      "execution_count": null,
      "outputs": []
    },
    {
      "cell_type": "code",
      "metadata": {
        "id": "Lhwl2LRtVTZS"
      },
      "source": [
        "model = LogisticRegression()\n",
        "model.fit(X_train, y_train)\n"
      ],
      "execution_count": null,
      "outputs": []
    },
    {
      "cell_type": "code",
      "metadata": {
        "id": "azMGzb45VTZS"
      },
      "source": [
        "y_train_pred = model.predict_proba(X_train)[:, 1]\n",
        "train_rocauc = roc_auc_score(y_score=y_train_pred, y_true=y_train)\n",
        "train_prauc = average_precision_score(y_score=y_train_pred, y_true=y_train)\n",
        "train_accuracy = accuracy_score(y_pred=y_train_pred > 0.5, y_true=y_train)\n",
        "print(\"Train quality:\")\n",
        "print(f\"ROCAUC : {train_rocauc:.02f}\")\n",
        "print(f\"PRAUC : {train_prauc:.02f}\")\n",
        "print(f\"Accuracy: accuracy {train_accuracy:.02f}\")"
      ],
      "execution_count": null,
      "outputs": []
    },
    {
      "cell_type": "code",
      "metadata": {
        "id": "xncgiX_YVTZS"
      },
      "source": [
        "y_test_pred = model.predict_proba(X_test)[:, 1]\n",
        "train_rocauc = roc_auc_score(y_score=y_test_pred, y_true=y_test)\n",
        "train_prauc = average_precision_score(y_score=y_test_pred, y_true=y_test)\n",
        "train_accuracy = accuracy_score(y_pred=y_test_pred > 0.5, y_true=y_test)\n",
        "print(\"Test quality:\")\n",
        "print(f\"ROCAUC : {train_rocauc:.02f}\")\n",
        "print(f\"PRAUC : {train_prauc:.02f}\")\n",
        "print(f\"Accuracy: accuracy {train_accuracy:.02f}\")"
      ],
      "execution_count": null,
      "outputs": []
    },
    {
      "cell_type": "markdown",
      "metadata": {
        "id": "Y_KQ9egKVTZS"
      },
      "source": [
        "Очевидно, что мы не могли выучить никаких разумных признаков. Однако, мы их все же выучили... Объясните полученный парадокс"
      ]
    },
    {
      "cell_type": "code",
      "metadata": {
        "id": "UhL2t9krVTZS"
      },
      "source": [],
      "execution_count": null,
      "outputs": []
    },
    {
      "cell_type": "markdown",
      "metadata": {
        "id": "algOX766VTZS"
      },
      "source": [
        "Тем не менее, может мы просто что-то делаем не так. Попробуем встроенные в sklearn методы для выбора признаков"
      ]
    },
    {
      "cell_type": "code",
      "metadata": {
        "id": "dOtMM0aEVTZS"
      },
      "source": [
        "from sklearn.feature_selection import (SelectKBest, SelectFdr, SelectFwe,\n",
        "                                       SelectPercentile, f_classif)"
      ],
      "execution_count": null,
      "outputs": []
    },
    {
      "cell_type": "code",
      "metadata": {
        "id": "pgdhii9qVTZS"
      },
      "source": [
        "X_selected = SelectKBest(f_classif, k=10).fit_transform(X, Y)"
      ],
      "execution_count": null,
      "outputs": []
    },
    {
      "cell_type": "markdown",
      "metadata": {
        "id": "vBHWChyrVTZS"
      },
      "source": [
        "Повторите все на отобранных стандартным методом sklearn признаках. Результат объясните"
      ]
    },
    {
      "cell_type": "code",
      "metadata": {
        "id": "e9pju5OCVTZT"
      },
      "source": [],
      "execution_count": null,
      "outputs": []
    },
    {
      "cell_type": "markdown",
      "metadata": {
        "id": "ZleySo7gVTZT"
      },
      "source": [
        "Что делает метод выделения признаков SelectFdr? Что такое FDR? Опишите ниже"
      ]
    },
    {
      "cell_type": "code",
      "metadata": {
        "id": "9NMi3g8PVTZT"
      },
      "source": [],
      "execution_count": null,
      "outputs": []
    },
    {
      "cell_type": "markdown",
      "metadata": {
        "id": "s2ghiflkVTZT"
      },
      "source": [
        "Примените метод SelectFdr. Результат объясните"
      ]
    },
    {
      "cell_type": "code",
      "metadata": {
        "id": "Dwn-ZUrCVTZT"
      },
      "source": [],
      "execution_count": null,
      "outputs": []
    },
    {
      "cell_type": "markdown",
      "metadata": {
        "id": "52ZN3b9XVTZT"
      },
      "source": [
        "Почему вообще возникла проблема в начале? Объясните"
      ]
    },
    {
      "cell_type": "code",
      "metadata": {
        "id": "ROUjLWPWVTZT"
      },
      "source": [],
      "execution_count": null,
      "outputs": []
    },
    {
      "cell_type": "markdown",
      "metadata": {
        "id": "JC60oVsMVTZT"
      },
      "source": [
        "Как бы эту проблему можно было бы избежать?"
      ]
    },
    {
      "cell_type": "code",
      "metadata": {
        "id": "hNxbV2dZVTZT"
      },
      "source": [],
      "execution_count": null,
      "outputs": []
    }
  ]
}