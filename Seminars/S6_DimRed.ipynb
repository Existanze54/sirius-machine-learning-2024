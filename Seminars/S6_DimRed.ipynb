{
  "nbformat": 4,
  "nbformat_minor": 5,
  "metadata": {
    "kernelspec": {
      "display_name": "Python 3",
      "language": "python",
      "name": "python3"
    },
    "language_info": {
      "codemirror_mode": {
        "name": "ipython",
        "version": 3
      },
      "file_extension": ".py",
      "mimetype": "text/x-python",
      "name": "python",
      "nbconvert_exporter": "python",
      "pygments_lexer": "ipython3",
      "version": "3.7.10"
    },
    "colab": {
      "provenance": [],
      "collapsed_sections": [
        "89d5e03d-32f0-48ab-9974-1bc2327f6ede",
        "e8482c12-6d88-4916-a847-6b5353fe55c1",
        "666ba9cb-aa82-4aa7-a305-f2b66ed9fcb6",
        "d446e6f3-d4e7-4e9b-8cfd-28bd8005f6cf"
      ],
      "toc_visible": true,
      "include_colab_link": true
    }
  },
  "cells": [
    {
      "cell_type": "markdown",
      "metadata": {
        "id": "view-in-github",
        "colab_type": "text"
      },
      "source": [
        "<a href=\"https://colab.research.google.com/github/Existanze54/sirius-machine-learning-2024/blob/main/Seminars/S6_DimRed.ipynb\" target=\"_parent\"><img src=\"https://colab.research.google.com/assets/colab-badge.svg\" alt=\"Open In Colab\"/></a>"
      ]
    },
    {
      "cell_type": "markdown",
      "metadata": {
        "id": "bb9cd518-2ed8-495f-bea5-6c1c701708c6"
      },
      "source": [
        "# Основные методы ML\n",
        "\n",
        "### Семинар 6: Методы понижения размерности. PCA. Batch-эффект и коррекция.\n",
        "\n",
        "#### Визуализация транскриптомных данных. Анализ данных, выявление выбросов и батч-эффекта."
      ],
      "id": "bb9cd518-2ed8-495f-bea5-6c1c701708c6"
    },
    {
      "cell_type": "code",
      "metadata": {
        "id": "654ff1e0-8eac-452c-a57e-66501bb1a884"
      },
      "source": [
        "import numpy as np\n",
        "import pandas as pd\n",
        "\n",
        "import matplotlib.pyplot as plt\n",
        "import seaborn as sns\n",
        "\n",
        "sns.set()\n",
        "sns.set_style(\"whitegrid\")"
      ],
      "id": "654ff1e0-8eac-452c-a57e-66501bb1a884",
      "execution_count": null,
      "outputs": []
    },
    {
      "cell_type": "markdown",
      "metadata": {
        "id": "a87d79ba-c9b2-4fcd-bb61-e3a3561b7309"
      },
      "source": [
        "### Задача 1: Визуализация транскриптомных данных"
      ],
      "id": "a87d79ba-c9b2-4fcd-bb61-e3a3561b7309"
    },
    {
      "cell_type": "markdown",
      "metadata": {
        "id": "018a8ba8-9f12-4aab-9b98-560553982e3b"
      },
      "source": [
        "В этой задаче предлагается загрузить транскриптомные данные и произвести снижение размерности методом PCA."
      ],
      "id": "018a8ba8-9f12-4aab-9b98-560553982e3b"
    },
    {
      "cell_type": "markdown",
      "metadata": {
        "id": "a9c427c4-a23b-4452-92b4-26ed2624ab5f"
      },
      "source": [
        "**Загрузите датасет** (`gse53625_expression.csv`) и метаданные к нему (`gse53625_metadata.csv`)."
      ],
      "id": "a9c427c4-a23b-4452-92b4-26ed2624ab5f"
    },
    {
      "cell_type": "code",
      "metadata": {
        "id": "02fb2674-bda3-454d-a48c-73e12ffa486c"
      },
      "source": [
        "!wget https://data.bioml.ru/htdocs/courses/bioml/classic_ml/unsupervised/dim_reduction/data/gse53625.tar.gz -O gse53625.tar.gz\n",
        "!tar xvzf gse53625.tar.gz"
      ],
      "id": "02fb2674-bda3-454d-a48c-73e12ffa486c",
      "execution_count": null,
      "outputs": []
    },
    {
      "cell_type": "markdown",
      "metadata": {
        "id": "e6ef97f7-2a06-468b-8c7d-2de8da249657"
      },
      "source": [
        "**Обучите модель** PCA с двумя компонентами."
      ],
      "id": "e6ef97f7-2a06-468b-8c7d-2de8da249657"
    },
    {
      "cell_type": "code",
      "metadata": {
        "id": "3822b5b8-a8c0-425c-a2cf-bd5bd24c8d84"
      },
      "source": [],
      "id": "3822b5b8-a8c0-425c-a2cf-bd5bd24c8d84",
      "execution_count": null,
      "outputs": []
    },
    {
      "cell_type": "markdown",
      "metadata": {
        "id": "4831cc2e-6ec8-4e3f-a3f1-acdb9efa51b2"
      },
      "source": [
        "**Постройте диаграмму рассеяния** для первых двух компонент."
      ],
      "id": "4831cc2e-6ec8-4e3f-a3f1-acdb9efa51b2"
    },
    {
      "cell_type": "code",
      "metadata": {
        "id": "367cf63e-c9c2-4c3f-850a-38639120de6f"
      },
      "source": [],
      "id": "367cf63e-c9c2-4c3f-850a-38639120de6f",
      "execution_count": null,
      "outputs": []
    },
    {
      "cell_type": "markdown",
      "metadata": {
        "id": "76f00959-b020-4bbb-bed4-18b568459e02"
      },
      "source": [
        "**Какую долю дисперсии** объясняют найденные компоненты?"
      ],
      "id": "76f00959-b020-4bbb-bed4-18b568459e02"
    },
    {
      "cell_type": "code",
      "metadata": {
        "id": "b4bda94d-9857-4891-b93a-5097b493b923"
      },
      "source": [],
      "id": "b4bda94d-9857-4891-b93a-5097b493b923",
      "execution_count": null,
      "outputs": []
    },
    {
      "cell_type": "markdown",
      "metadata": {
        "id": "4bd54069-a086-416b-b779-d5e9406ae9be"
      },
      "source": [
        "**Осуществите стандартизацию признаков** в выборке."
      ],
      "id": "4bd54069-a086-416b-b779-d5e9406ae9be"
    },
    {
      "cell_type": "code",
      "metadata": {
        "id": "2984a0c1-b71c-4ceb-bdfe-896e0f1cdec5"
      },
      "source": [],
      "id": "2984a0c1-b71c-4ceb-bdfe-896e0f1cdec5",
      "execution_count": null,
      "outputs": []
    },
    {
      "cell_type": "markdown",
      "metadata": {
        "id": "93785ad2-ccdd-42e7-acfa-d63d7f00c8ed"
      },
      "source": [
        "Произведите **обучение модели** PCA и **визуализацию**. Оцените долю объясняемой дисперсии."
      ],
      "id": "93785ad2-ccdd-42e7-acfa-d63d7f00c8ed"
    },
    {
      "cell_type": "code",
      "metadata": {
        "id": "9239e96e-411d-4223-a9ba-1d715b26f03d"
      },
      "source": [],
      "id": "9239e96e-411d-4223-a9ba-1d715b26f03d",
      "execution_count": null,
      "outputs": []
    },
    {
      "cell_type": "markdown",
      "metadata": {
        "id": "a7ae5bde-0946-47e7-b8b8-46dc817c3923"
      },
      "source": [
        "**Какую долю дисперсии** объясняют найденные компоненты?"
      ],
      "id": "a7ae5bde-0946-47e7-b8b8-46dc817c3923"
    },
    {
      "cell_type": "markdown",
      "metadata": {
        "id": "f7fa6906-ecd9-4548-a798-10aaec59399c"
      },
      "source": [
        "**Сделайте выводы**. Всегда ли стоит осуществлять нормализацию/стандартизацию транскриптомных данных?"
      ],
      "id": "f7fa6906-ecd9-4548-a798-10aaec59399c"
    },
    {
      "cell_type": "code",
      "metadata": {
        "id": "a46c84b2-7396-4e8e-93f8-1095f30e9657"
      },
      "source": [],
      "id": "a46c84b2-7396-4e8e-93f8-1095f30e9657",
      "execution_count": null,
      "outputs": []
    },
    {
      "cell_type": "markdown",
      "source": [
        "#### Batch-эффект\n",
        "\n",
        "Для неотмасштабированных данных и первых двух фичей после PCA должна была получиться картинка с 4 кластерами вместо двух. Попробуйте **отметить** на ней не только данные по классам, а также разные **типы датасетов** (столбик `Dataset` в файле `gse53625_metadata.csv`)"
      ],
      "metadata": {
        "id": "hpvS4sFfQbdt"
      },
      "id": "hpvS4sFfQbdt"
    },
    {
      "cell_type": "code",
      "source": [],
      "metadata": {
        "id": "TWEPlhYASamP"
      },
      "id": "TWEPlhYASamP",
      "execution_count": null,
      "outputs": []
    },
    {
      "cell_type": "markdown",
      "source": [
        "**Какие выводы** можно сделать?"
      ],
      "metadata": {
        "id": "RH_wxBJ3SeUH"
      },
      "id": "RH_wxBJ3SeUH"
    },
    {
      "cell_type": "code",
      "source": [],
      "metadata": {
        "id": "4jjD8ne4SdzU"
      },
      "id": "4jjD8ne4SdzU",
      "execution_count": null,
      "outputs": []
    },
    {
      "cell_type": "markdown",
      "source": [
        "Сделайте **проверку изменений** для обычного **PCA по первым двум компонентам** на скорректированных данных. Пока используем коррекцию, проведенную за нас"
      ],
      "metadata": {
        "id": "tBdHnJIGThQ-"
      },
      "id": "tBdHnJIGThQ-"
    },
    {
      "cell_type": "code",
      "source": [
        "!wget https://data.bioml.ru/htdocs/courses/bioml/classic_ml/unsupervised/dim_reduction/data/gse53625_expression_corrected.csv -O ./data/gse53625_expression_corrected.csv"
      ],
      "metadata": {
        "id": "ecelGPJgi2Vd"
      },
      "id": "ecelGPJgi2Vd",
      "execution_count": null,
      "outputs": []
    },
    {
      "cell_type": "code",
      "source": [],
      "metadata": {
        "id": "_u8Qc3NOUAIr"
      },
      "id": "_u8Qc3NOUAIr",
      "execution_count": null,
      "outputs": []
    },
    {
      "cell_type": "markdown",
      "metadata": {
        "id": "89d5e03d-32f0-48ab-9974-1bc2327f6ede"
      },
      "source": [
        "### Задача 2: Загрузка транскриптомных данных. Исправление batch-эффекта."
      ],
      "id": "89d5e03d-32f0-48ab-9974-1bc2327f6ede"
    },
    {
      "cell_type": "markdown",
      "metadata": {
        "id": "82a27b22-3e1c-484a-bd21-c231de7bb52a"
      },
      "source": [
        "В этой задаче предлагается воспользоваться пакетом [pyComBat](https://github.com/epigenelabs/pyComBat) для коррекции batch-эффекта в транскриптомных данных."
      ],
      "id": "82a27b22-3e1c-484a-bd21-c231de7bb52a"
    },
    {
      "cell_type": "markdown",
      "metadata": {
        "id": "a81b5a30-1c29-43de-b8e1-9604c77da775"
      },
      "source": [
        "**Установите пакет pyComBat в окружение**. Для этого воспользуйтесь инструкцией на главной странице [репозитория pyComBat](https://github.com/epigenelabs/pyComBat) на GitHub."
      ],
      "id": "a81b5a30-1c29-43de-b8e1-9604c77da775"
    },
    {
      "cell_type": "code",
      "metadata": {
        "id": "eb40457f-b8b5-447d-8497-efe3b0671b71"
      },
      "source": [
        "!pip install combat"
      ],
      "id": "eb40457f-b8b5-447d-8497-efe3b0671b71",
      "execution_count": null,
      "outputs": []
    },
    {
      "cell_type": "markdown",
      "metadata": {
        "id": "29b75ec0-447f-4b6c-bb9f-31fa67acf73f"
      },
      "source": [
        "**Разберитесь, как осуществляется коррекция batch-эффекта** в pyComBat и осуществите коррекцию."
      ],
      "id": "29b75ec0-447f-4b6c-bb9f-31fa67acf73f"
    },
    {
      "cell_type": "code",
      "metadata": {
        "id": "6675b9c0-9245-4b55-8441-0468dc3821f7"
      },
      "source": [],
      "id": "6675b9c0-9245-4b55-8441-0468dc3821f7",
      "execution_count": null,
      "outputs": []
    },
    {
      "cell_type": "markdown",
      "metadata": {
        "id": "0c151708-47a0-4437-a0d9-596f9fe6d726"
      },
      "source": [
        "**Сохраните полученный результат в файл** `gse53625_expression_combat_corrected.csv`."
      ],
      "id": "0c151708-47a0-4437-a0d9-596f9fe6d726"
    },
    {
      "cell_type": "code",
      "metadata": {
        "id": "f56a89e5-4a31-4ccb-ba4f-c61a467b84a2"
      },
      "source": [],
      "id": "f56a89e5-4a31-4ccb-ba4f-c61a467b84a2",
      "execution_count": null,
      "outputs": []
    },
    {
      "cell_type": "markdown",
      "metadata": {
        "id": "e8482c12-6d88-4916-a847-6b5353fe55c1"
      },
      "source": [
        "### Задача 3: Снижение размерности после коррекции batch-эффекта"
      ],
      "id": "e8482c12-6d88-4916-a847-6b5353fe55c1"
    },
    {
      "cell_type": "markdown",
      "metadata": {
        "id": "c6e33fae-8f5c-4207-abe5-b27cf4d47436"
      },
      "source": [
        "В этой задаче предлагается сравнить результаты снижения размерности до и после коррекции batch-эффекта в транскриптомных данных."
      ],
      "id": "c6e33fae-8f5c-4207-abe5-b27cf4d47436"
    },
    {
      "cell_type": "markdown",
      "metadata": {
        "id": "78fd8db0-d5ef-4ae1-b703-8102146b643f"
      },
      "source": [
        "**Загрузите датасет**, откорректированный вами, либо, если этого сделать не получилось, загрузите `gse53625_expression_corrected.csv`."
      ],
      "id": "78fd8db0-d5ef-4ae1-b703-8102146b643f"
    },
    {
      "cell_type": "code",
      "metadata": {
        "id": "740bf5fb-56da-4d19-b7ca-a9c3c6302afb"
      },
      "source": [],
      "id": "740bf5fb-56da-4d19-b7ca-a9c3c6302afb",
      "execution_count": null,
      "outputs": []
    },
    {
      "cell_type": "markdown",
      "metadata": {
        "id": "d5656256-43b8-4eaa-9e74-bf15f00789f8"
      },
      "source": [
        "Произведите **обучение модели** PCA и **визуализацию**. Оцените долю объясняемой дисперсии."
      ],
      "id": "d5656256-43b8-4eaa-9e74-bf15f00789f8"
    },
    {
      "cell_type": "code",
      "metadata": {
        "id": "acbdf78c-cd17-4271-adff-b1c94999e068"
      },
      "source": [],
      "id": "acbdf78c-cd17-4271-adff-b1c94999e068",
      "execution_count": null,
      "outputs": []
    },
    {
      "cell_type": "markdown",
      "metadata": {
        "id": "6475489b-90c5-4ad3-b21b-65a10d9feabd"
      },
      "source": [
        "Произведите **стандартизацию данных** и повторите предыдущий пункт."
      ],
      "id": "6475489b-90c5-4ad3-b21b-65a10d9feabd"
    },
    {
      "cell_type": "code",
      "metadata": {
        "id": "3fe72ab0-85ea-43b2-a837-45873b636db6"
      },
      "source": [],
      "id": "3fe72ab0-85ea-43b2-a837-45873b636db6",
      "execution_count": null,
      "outputs": []
    },
    {
      "cell_type": "markdown",
      "metadata": {
        "id": "e994bf13-a37e-44ed-8ff1-53f7ed238702"
      },
      "source": [
        "**Сделайте выводы**."
      ],
      "id": "e994bf13-a37e-44ed-8ff1-53f7ed238702"
    },
    {
      "cell_type": "code",
      "metadata": {
        "id": "3a157eee-239d-4cf8-b2c4-8913ed263020"
      },
      "source": [],
      "id": "3a157eee-239d-4cf8-b2c4-8913ed263020",
      "execution_count": null,
      "outputs": []
    }
  ]
}