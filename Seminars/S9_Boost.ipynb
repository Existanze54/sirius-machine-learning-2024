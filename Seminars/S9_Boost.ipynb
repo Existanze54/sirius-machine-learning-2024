{
  "nbformat": 4,
  "nbformat_minor": 0,
  "metadata": {
    "colab": {
      "provenance": [],
      "include_colab_link": true
    },
    "kernelspec": {
      "name": "python3",
      "display_name": "Python 3"
    },
    "language_info": {
      "name": "python"
    }
  },
  "cells": [
    {
      "cell_type": "markdown",
      "metadata": {
        "id": "view-in-github",
        "colab_type": "text"
      },
      "source": [
        "<a href=\"https://colab.research.google.com/github/Existanze54/sirius-machine-learning-2024/blob/main/Seminars/S9_Boost.ipynb\" target=\"_parent\"><img src=\"https://colab.research.google.com/assets/colab-badge.svg\" alt=\"Open In Colab\"/></a>"
      ]
    },
    {
      "cell_type": "markdown",
      "source": [
        "# Основные методы ML\n",
        "\n",
        "### Семинар 9: Boosting модели. Градиентный бустинг, XGBoost, CatBoost. Explainability модели. SHAP\n",
        "\n",
        "#### Применение boosting моделей к реальным данным"
      ],
      "metadata": {
        "id": "LoBMCdkcpX5W"
      }
    },
    {
      "cell_type": "code",
      "source": [
        "!pip install shap"
      ],
      "metadata": {
        "id": "yt6RFSnp7dZi"
      },
      "execution_count": null,
      "outputs": []
    },
    {
      "cell_type": "markdown",
      "metadata": {
        "id": "hvliuOiXj-vn"
      },
      "source": [
        "### Задача 1: SHAP Explainability model"
      ]
    },
    {
      "cell_type": "markdown",
      "metadata": {
        "id": "r6IqUtFxkHic"
      },
      "source": [
        "В данном упраднении на датасете Breast cancer wisconsin следует продемонстрировать работу моделей градиентного бустинга, xgboost, lightgbm и catboost."
      ]
    },
    {
      "cell_type": "markdown",
      "metadata": {
        "id": "F8ZSZsP3k3hP"
      },
      "source": [
        "Импортируйте необходимые библиотеки указанные в лекции.\n"
      ]
    },
    {
      "cell_type": "code",
      "metadata": {
        "id": "Jk_0d7NRk-DV"
      },
      "source": [
        "import matplotlib.pyplot as plt\n",
        "import numpy as np\n",
        "import pandas as pd\n",
        "import os\n",
        "import shap\n",
        "from sklearn import datasets, ensemble\n",
        "from sklearn.inspection import permutation_importance\n",
        "from sklearn.metrics import mean_squared_error\n",
        "from sklearn.model_selection import train_test_split\n",
        "from sklearn.metrics import accuracy_score"
      ],
      "execution_count": null,
      "outputs": []
    },
    {
      "cell_type": "markdown",
      "metadata": {
        "id": "8iDhH1dmlEaf"
      },
      "source": [
        "Загрузите датасет"
      ]
    },
    {
      "cell_type": "code",
      "source": [
        "X, y = datasets.load_breast_cancer(return_X_y=True, as_frame=True)\n",
        "X.head()"
      ],
      "metadata": {
        "id": "bCYFChpA6XFq"
      },
      "execution_count": null,
      "outputs": []
    },
    {
      "cell_type": "markdown",
      "source": [
        "Разделите данные на обучающую и тестовую выборки в соотношении 4:1"
      ],
      "metadata": {
        "id": "JVh-BLJCi4VQ"
      }
    },
    {
      "cell_type": "code",
      "metadata": {
        "id": "eAj2-FjhlG8S"
      },
      "source": [],
      "execution_count": null,
      "outputs": []
    },
    {
      "cell_type": "markdown",
      "source": [
        "#### **Обучение моделей**\n",
        "\n",
        "Выберите две модели для обучения. Можно выбрать два метода бустинга, можно выбрать лес и бустинг"
      ],
      "metadata": {
        "id": "klDTQ9ai3R8M"
      }
    },
    {
      "cell_type": "code",
      "source": [],
      "metadata": {
        "id": "SUDd_KfV3YU1"
      },
      "execution_count": null,
      "outputs": []
    },
    {
      "cell_type": "code",
      "source": [],
      "metadata": {
        "id": "hJ09xq0wjClB"
      },
      "execution_count": null,
      "outputs": []
    },
    {
      "cell_type": "markdown",
      "source": [
        "#### **Создание объясняющих SHAP моделей**\n",
        "\n",
        "Создайте при помощи shap.TreeExplainer модели, объясняющие предсказания"
      ],
      "metadata": {
        "id": "l7rnuefC3rk0"
      }
    },
    {
      "cell_type": "code",
      "source": [],
      "metadata": {
        "id": "T7Zmu04ijimd"
      },
      "execution_count": null,
      "outputs": []
    },
    {
      "cell_type": "markdown",
      "source": [
        "#### **Локальное объяснение**\n",
        "\n",
        "Выберите пример из датасета и сравните объяснения предсказаний от выбранных моделей"
      ],
      "metadata": {
        "id": "Es5BlRTz4meV"
      }
    },
    {
      "cell_type": "code",
      "source": [],
      "metadata": {
        "id": "cBPDzBZt42NE"
      },
      "execution_count": null,
      "outputs": []
    },
    {
      "cell_type": "markdown",
      "source": [
        "**Пример на XGBoost**"
      ],
      "metadata": {
        "id": "2aN4yLAk8fz5"
      }
    },
    {
      "cell_type": "code",
      "source": [
        "explainerXGB = shap.TreeExplainer(XGBmodel)\n",
        "shap_values_XGB_test = explainerXGB.shap_values(X_test)"
      ],
      "metadata": {
        "id": "-KFtUB-28fdW"
      },
      "execution_count": null,
      "outputs": []
    },
    {
      "cell_type": "code",
      "source": [
        "j = np.random.randint(0, X_test.shape[0])"
      ],
      "metadata": {
        "id": "0cLe_3I4jeI2"
      },
      "execution_count": null,
      "outputs": []
    },
    {
      "cell_type": "code",
      "source": [
        "shap.initjs()  # Загрузка JS-кода для отображения интерактивной визуализации в ноутбуке\n",
        "shap.force_plot(explainerXGB.expected_value, shap_values_XGB_test[j], X_test.iloc[j])"
      ],
      "metadata": {
        "id": "Ajt6HnpO9OFg"
      },
      "execution_count": null,
      "outputs": []
    },
    {
      "cell_type": "markdown",
      "source": [
        "**Объяснение модели**\n",
        "\n",
        "Теперь постройте `summary plot` для модели, который поможет объяснить предсказания модели в целом на датасете."
      ],
      "metadata": {
        "id": "8LJlDBdkJG9e"
      }
    },
    {
      "cell_type": "code",
      "source": [
        "shap.summary_plot(shap_values_XGB_test, X_train, plot_type=\"bar\")"
      ],
      "metadata": {
        "id": "4uDTQPF_JScX"
      },
      "execution_count": null,
      "outputs": []
    }
  ]
}