{
  "nbformat": 4,
  "nbformat_minor": 5,
  "metadata": {
    "kernelspec": {
      "display_name": "Python 3",
      "language": "python",
      "name": "python3"
    },
    "language_info": {
      "codemirror_mode": {
        "name": "ipython",
        "version": 3
      },
      "file_extension": ".py",
      "mimetype": "text/x-python",
      "name": "python",
      "nbconvert_exporter": "python",
      "pygments_lexer": "ipython3",
      "version": "3.7.10"
    },
    "colab": {
      "provenance": [],
      "include_colab_link": true
    }
  },
  "cells": [
    {
      "cell_type": "markdown",
      "metadata": {
        "id": "view-in-github",
        "colab_type": "text"
      },
      "source": [
        "<a href=\"https://colab.research.google.com/github/Existanze54/sirius-machine-learning-2024/blob/main/Seminars/Solutions/S3s_Reg.ipynb\" target=\"_parent\"><img src=\"https://colab.research.google.com/assets/colab-badge.svg\" alt=\"Open In Colab\"/></a>"
      ]
    },
    {
      "cell_type": "markdown",
      "metadata": {
        "id": "bb9cd518-2ed8-495f-bea5-6c1c701708c6"
      },
      "source": [
        "# Основные алгоритмы ML\n",
        "\n",
        "### Семинар 3. Модели регрессии: kNN, линейная, логистическая. Митрики качества RMSE, MAE, коэффициент корреляции r-Пирсона"
      ],
      "id": "bb9cd518-2ed8-495f-bea5-6c1c701708c6"
    },
    {
      "cell_type": "code",
      "metadata": {
        "id": "654ff1e0-8eac-452c-a57e-66501bb1a884"
      },
      "source": [
        "import numpy as np\n",
        "import pandas as pd\n",
        "\n",
        "import matplotlib.pyplot as plt\n",
        "import seaborn as sns\n",
        "\n",
        "sns.set()\n",
        "sns.set_style(\"whitegrid\")"
      ],
      "id": "654ff1e0-8eac-452c-a57e-66501bb1a884",
      "execution_count": null,
      "outputs": []
    },
    {
      "cell_type": "markdown",
      "metadata": {
        "id": "89d5e03d-32f0-48ab-9974-1bc2327f6ede"
      },
      "source": [
        "### Задача 1: Предсказание растворимости белков"
      ],
      "id": "89d5e03d-32f0-48ab-9974-1bc2327f6ede"
    },
    {
      "cell_type": "markdown",
      "metadata": {
        "id": "82a27b22-3e1c-484a-bd21-c231de7bb52a"
      },
      "source": [
        "В этой задаче предлагается произвести предсказание растворимости различных белков, используя их физико-химические свойства и белковый состав."
      ],
      "id": "82a27b22-3e1c-484a-bd21-c231de7bb52a"
    },
    {
      "cell_type": "code",
      "metadata": {
        "id": "S22zU4DvNk6h",
        "colab": {
          "base_uri": "https://localhost:8080/"
        },
        "outputId": "2bfd9645-7591-4992-ccdd-a7162f92ba59"
      },
      "source": [
        "!wget https://data.bioml.ru/htdocs/courses/bioml/classic_ml/supervised/regression/data/solubility_data.csv"
      ],
      "id": "S22zU4DvNk6h",
      "execution_count": null,
      "outputs": [
        {
          "output_type": "stream",
          "name": "stdout",
          "text": [
            "--2024-11-16 12:39:22--  https://data.bioml.ru/htdocs/courses/bioml/classic_ml/supervised/regression/data/solubility_data.csv\n",
            "Resolving data.bioml.ru (data.bioml.ru)... 188.120.231.217\n",
            "Connecting to data.bioml.ru (data.bioml.ru)|188.120.231.217|:443... connected.\n",
            "HTTP request sent, awaiting response... 200 OK\n",
            "Length: 184108 (180K) [text/csv]\n",
            "Saving to: ‘solubility_data.csv’\n",
            "\n",
            "solubility_data.csv 100%[===================>] 179.79K   439KB/s    in 0.4s    \n",
            "\n",
            "2024-11-16 12:39:23 (439 KB/s) - ‘solubility_data.csv’ saved [184108/184108]\n",
            "\n"
          ]
        }
      ]
    },
    {
      "cell_type": "markdown",
      "metadata": {
        "id": "22d78c75-e3bf-435c-8b16-7cf21ff153f2"
      },
      "source": [
        "Датасет `solubility_data.csv` загружен за вас, определены `X` и `y`."
      ],
      "id": "22d78c75-e3bf-435c-8b16-7cf21ff153f2"
    },
    {
      "cell_type": "code",
      "metadata": {
        "id": "9da660ce-7081-41ca-a067-c60c625b7f4b",
        "colab": {
          "base_uri": "https://localhost:8080/",
          "height": 204
        },
        "outputId": "91124d9e-ef8b-4230-e531-8d86c816daca"
      },
      "source": [
        "sol = pd.read_csv(\"./solubility_data.csv\", header=0, index_col=0)\n",
        "sol.head(3)"
      ],
      "id": "9da660ce-7081-41ca-a067-c60c625b7f4b",
      "execution_count": null,
      "outputs": [
        {
          "output_type": "execute_result",
          "data": {
            "text/plain": [
              "            solubility  protein_sasa  length  molecular_weight  \\\n",
              "uniprot_id                                                       \n",
              "P32643              78  14538.357720     293        33936.5675   \n",
              "Q46829              70  19283.018950     470        54516.1438   \n",
              "P65556              19   8407.794332     157        17692.5095   \n",
              "\n",
              "            instability_index  isoelectric_point  helix_fraction  \\\n",
              "uniprot_id                                                         \n",
              "P32643              40.259795           5.866034        0.310580   \n",
              "Q46829              34.295149           5.655559        0.329787   \n",
              "P65556              54.505159           4.679577        0.286624   \n",
              "\n",
              "            turn_fraction  sheet_fraction  \\\n",
              "uniprot_id                                  \n",
              "P32643           0.208191        0.187713   \n",
              "Q46829           0.214894        0.225532   \n",
              "P65556           0.165605        0.312102   \n",
              "\n",
              "            reduced_molar_extinction_coefficient  ...   A2   B2    C2  A3  \\\n",
              "uniprot_id                                        ...                       \n",
              "P32643                                     59360  ...    0  0.0   0.0   0   \n",
              "Q46829                                    111160  ...  279  1.1  92.5   0   \n",
              "P65556                                     24980  ...    0  0.0   0.0   0   \n",
              "\n",
              "             B3   C3  A4   B4  C4  TM  \n",
              "uniprot_id                             \n",
              "P32643      0.0  0.0   0  0.0   0   0  \n",
              "Q46829      0.0  0.0   0  0.0   0   0  \n",
              "P65556      0.0  0.0   0  0.0   0   0  \n",
              "\n",
              "[3 rows x 46 columns]"
            ],
            "text/html": [
              "\n",
              "  <div id=\"df-3c67e2aa-1967-43dc-9620-51f303804e8e\" class=\"colab-df-container\">\n",
              "    <div>\n",
              "<style scoped>\n",
              "    .dataframe tbody tr th:only-of-type {\n",
              "        vertical-align: middle;\n",
              "    }\n",
              "\n",
              "    .dataframe tbody tr th {\n",
              "        vertical-align: top;\n",
              "    }\n",
              "\n",
              "    .dataframe thead th {\n",
              "        text-align: right;\n",
              "    }\n",
              "</style>\n",
              "<table border=\"1\" class=\"dataframe\">\n",
              "  <thead>\n",
              "    <tr style=\"text-align: right;\">\n",
              "      <th></th>\n",
              "      <th>solubility</th>\n",
              "      <th>protein_sasa</th>\n",
              "      <th>length</th>\n",
              "      <th>molecular_weight</th>\n",
              "      <th>instability_index</th>\n",
              "      <th>isoelectric_point</th>\n",
              "      <th>helix_fraction</th>\n",
              "      <th>turn_fraction</th>\n",
              "      <th>sheet_fraction</th>\n",
              "      <th>reduced_molar_extinction_coefficient</th>\n",
              "      <th>...</th>\n",
              "      <th>A2</th>\n",
              "      <th>B2</th>\n",
              "      <th>C2</th>\n",
              "      <th>A3</th>\n",
              "      <th>B3</th>\n",
              "      <th>C3</th>\n",
              "      <th>A4</th>\n",
              "      <th>B4</th>\n",
              "      <th>C4</th>\n",
              "      <th>TM</th>\n",
              "    </tr>\n",
              "    <tr>\n",
              "      <th>uniprot_id</th>\n",
              "      <th></th>\n",
              "      <th></th>\n",
              "      <th></th>\n",
              "      <th></th>\n",
              "      <th></th>\n",
              "      <th></th>\n",
              "      <th></th>\n",
              "      <th></th>\n",
              "      <th></th>\n",
              "      <th></th>\n",
              "      <th></th>\n",
              "      <th></th>\n",
              "      <th></th>\n",
              "      <th></th>\n",
              "      <th></th>\n",
              "      <th></th>\n",
              "      <th></th>\n",
              "      <th></th>\n",
              "      <th></th>\n",
              "      <th></th>\n",
              "      <th></th>\n",
              "    </tr>\n",
              "  </thead>\n",
              "  <tbody>\n",
              "    <tr>\n",
              "      <th>P32643</th>\n",
              "      <td>78</td>\n",
              "      <td>14538.357720</td>\n",
              "      <td>293</td>\n",
              "      <td>33936.5675</td>\n",
              "      <td>40.259795</td>\n",
              "      <td>5.866034</td>\n",
              "      <td>0.310580</td>\n",
              "      <td>0.208191</td>\n",
              "      <td>0.187713</td>\n",
              "      <td>59360</td>\n",
              "      <td>...</td>\n",
              "      <td>0</td>\n",
              "      <td>0.0</td>\n",
              "      <td>0.0</td>\n",
              "      <td>0</td>\n",
              "      <td>0.0</td>\n",
              "      <td>0.0</td>\n",
              "      <td>0</td>\n",
              "      <td>0.0</td>\n",
              "      <td>0</td>\n",
              "      <td>0</td>\n",
              "    </tr>\n",
              "    <tr>\n",
              "      <th>Q46829</th>\n",
              "      <td>70</td>\n",
              "      <td>19283.018950</td>\n",
              "      <td>470</td>\n",
              "      <td>54516.1438</td>\n",
              "      <td>34.295149</td>\n",
              "      <td>5.655559</td>\n",
              "      <td>0.329787</td>\n",
              "      <td>0.214894</td>\n",
              "      <td>0.225532</td>\n",
              "      <td>111160</td>\n",
              "      <td>...</td>\n",
              "      <td>279</td>\n",
              "      <td>1.1</td>\n",
              "      <td>92.5</td>\n",
              "      <td>0</td>\n",
              "      <td>0.0</td>\n",
              "      <td>0.0</td>\n",
              "      <td>0</td>\n",
              "      <td>0.0</td>\n",
              "      <td>0</td>\n",
              "      <td>0</td>\n",
              "    </tr>\n",
              "    <tr>\n",
              "      <th>P65556</th>\n",
              "      <td>19</td>\n",
              "      <td>8407.794332</td>\n",
              "      <td>157</td>\n",
              "      <td>17692.5095</td>\n",
              "      <td>54.505159</td>\n",
              "      <td>4.679577</td>\n",
              "      <td>0.286624</td>\n",
              "      <td>0.165605</td>\n",
              "      <td>0.312102</td>\n",
              "      <td>24980</td>\n",
              "      <td>...</td>\n",
              "      <td>0</td>\n",
              "      <td>0.0</td>\n",
              "      <td>0.0</td>\n",
              "      <td>0</td>\n",
              "      <td>0.0</td>\n",
              "      <td>0.0</td>\n",
              "      <td>0</td>\n",
              "      <td>0.0</td>\n",
              "      <td>0</td>\n",
              "      <td>0</td>\n",
              "    </tr>\n",
              "  </tbody>\n",
              "</table>\n",
              "<p>3 rows × 46 columns</p>\n",
              "</div>\n",
              "    <div class=\"colab-df-buttons\">\n",
              "\n",
              "  <div class=\"colab-df-container\">\n",
              "    <button class=\"colab-df-convert\" onclick=\"convertToInteractive('df-3c67e2aa-1967-43dc-9620-51f303804e8e')\"\n",
              "            title=\"Convert this dataframe to an interactive table.\"\n",
              "            style=\"display:none;\">\n",
              "\n",
              "  <svg xmlns=\"http://www.w3.org/2000/svg\" height=\"24px\" viewBox=\"0 -960 960 960\">\n",
              "    <path d=\"M120-120v-720h720v720H120Zm60-500h600v-160H180v160Zm220 220h160v-160H400v160Zm0 220h160v-160H400v160ZM180-400h160v-160H180v160Zm440 0h160v-160H620v160ZM180-180h160v-160H180v160Zm440 0h160v-160H620v160Z\"/>\n",
              "  </svg>\n",
              "    </button>\n",
              "\n",
              "  <style>\n",
              "    .colab-df-container {\n",
              "      display:flex;\n",
              "      gap: 12px;\n",
              "    }\n",
              "\n",
              "    .colab-df-convert {\n",
              "      background-color: #E8F0FE;\n",
              "      border: none;\n",
              "      border-radius: 50%;\n",
              "      cursor: pointer;\n",
              "      display: none;\n",
              "      fill: #1967D2;\n",
              "      height: 32px;\n",
              "      padding: 0 0 0 0;\n",
              "      width: 32px;\n",
              "    }\n",
              "\n",
              "    .colab-df-convert:hover {\n",
              "      background-color: #E2EBFA;\n",
              "      box-shadow: 0px 1px 2px rgba(60, 64, 67, 0.3), 0px 1px 3px 1px rgba(60, 64, 67, 0.15);\n",
              "      fill: #174EA6;\n",
              "    }\n",
              "\n",
              "    .colab-df-buttons div {\n",
              "      margin-bottom: 4px;\n",
              "    }\n",
              "\n",
              "    [theme=dark] .colab-df-convert {\n",
              "      background-color: #3B4455;\n",
              "      fill: #D2E3FC;\n",
              "    }\n",
              "\n",
              "    [theme=dark] .colab-df-convert:hover {\n",
              "      background-color: #434B5C;\n",
              "      box-shadow: 0px 1px 3px 1px rgba(0, 0, 0, 0.15);\n",
              "      filter: drop-shadow(0px 1px 2px rgba(0, 0, 0, 0.3));\n",
              "      fill: #FFFFFF;\n",
              "    }\n",
              "  </style>\n",
              "\n",
              "    <script>\n",
              "      const buttonEl =\n",
              "        document.querySelector('#df-3c67e2aa-1967-43dc-9620-51f303804e8e button.colab-df-convert');\n",
              "      buttonEl.style.display =\n",
              "        google.colab.kernel.accessAllowed ? 'block' : 'none';\n",
              "\n",
              "      async function convertToInteractive(key) {\n",
              "        const element = document.querySelector('#df-3c67e2aa-1967-43dc-9620-51f303804e8e');\n",
              "        const dataTable =\n",
              "          await google.colab.kernel.invokeFunction('convertToInteractive',\n",
              "                                                    [key], {});\n",
              "        if (!dataTable) return;\n",
              "\n",
              "        const docLinkHtml = 'Like what you see? Visit the ' +\n",
              "          '<a target=\"_blank\" href=https://colab.research.google.com/notebooks/data_table.ipynb>data table notebook</a>'\n",
              "          + ' to learn more about interactive tables.';\n",
              "        element.innerHTML = '';\n",
              "        dataTable['output_type'] = 'display_data';\n",
              "        await google.colab.output.renderOutput(dataTable, element);\n",
              "        const docLink = document.createElement('div');\n",
              "        docLink.innerHTML = docLinkHtml;\n",
              "        element.appendChild(docLink);\n",
              "      }\n",
              "    </script>\n",
              "  </div>\n",
              "\n",
              "\n",
              "<div id=\"df-2a9df50d-6d93-473c-9167-aa438ba1c8de\">\n",
              "  <button class=\"colab-df-quickchart\" onclick=\"quickchart('df-2a9df50d-6d93-473c-9167-aa438ba1c8de')\"\n",
              "            title=\"Suggest charts\"\n",
              "            style=\"display:none;\">\n",
              "\n",
              "<svg xmlns=\"http://www.w3.org/2000/svg\" height=\"24px\"viewBox=\"0 0 24 24\"\n",
              "     width=\"24px\">\n",
              "    <g>\n",
              "        <path d=\"M19 3H5c-1.1 0-2 .9-2 2v14c0 1.1.9 2 2 2h14c1.1 0 2-.9 2-2V5c0-1.1-.9-2-2-2zM9 17H7v-7h2v7zm4 0h-2V7h2v10zm4 0h-2v-4h2v4z\"/>\n",
              "    </g>\n",
              "</svg>\n",
              "  </button>\n",
              "\n",
              "<style>\n",
              "  .colab-df-quickchart {\n",
              "      --bg-color: #E8F0FE;\n",
              "      --fill-color: #1967D2;\n",
              "      --hover-bg-color: #E2EBFA;\n",
              "      --hover-fill-color: #174EA6;\n",
              "      --disabled-fill-color: #AAA;\n",
              "      --disabled-bg-color: #DDD;\n",
              "  }\n",
              "\n",
              "  [theme=dark] .colab-df-quickchart {\n",
              "      --bg-color: #3B4455;\n",
              "      --fill-color: #D2E3FC;\n",
              "      --hover-bg-color: #434B5C;\n",
              "      --hover-fill-color: #FFFFFF;\n",
              "      --disabled-bg-color: #3B4455;\n",
              "      --disabled-fill-color: #666;\n",
              "  }\n",
              "\n",
              "  .colab-df-quickchart {\n",
              "    background-color: var(--bg-color);\n",
              "    border: none;\n",
              "    border-radius: 50%;\n",
              "    cursor: pointer;\n",
              "    display: none;\n",
              "    fill: var(--fill-color);\n",
              "    height: 32px;\n",
              "    padding: 0;\n",
              "    width: 32px;\n",
              "  }\n",
              "\n",
              "  .colab-df-quickchart:hover {\n",
              "    background-color: var(--hover-bg-color);\n",
              "    box-shadow: 0 1px 2px rgba(60, 64, 67, 0.3), 0 1px 3px 1px rgba(60, 64, 67, 0.15);\n",
              "    fill: var(--button-hover-fill-color);\n",
              "  }\n",
              "\n",
              "  .colab-df-quickchart-complete:disabled,\n",
              "  .colab-df-quickchart-complete:disabled:hover {\n",
              "    background-color: var(--disabled-bg-color);\n",
              "    fill: var(--disabled-fill-color);\n",
              "    box-shadow: none;\n",
              "  }\n",
              "\n",
              "  .colab-df-spinner {\n",
              "    border: 2px solid var(--fill-color);\n",
              "    border-color: transparent;\n",
              "    border-bottom-color: var(--fill-color);\n",
              "    animation:\n",
              "      spin 1s steps(1) infinite;\n",
              "  }\n",
              "\n",
              "  @keyframes spin {\n",
              "    0% {\n",
              "      border-color: transparent;\n",
              "      border-bottom-color: var(--fill-color);\n",
              "      border-left-color: var(--fill-color);\n",
              "    }\n",
              "    20% {\n",
              "      border-color: transparent;\n",
              "      border-left-color: var(--fill-color);\n",
              "      border-top-color: var(--fill-color);\n",
              "    }\n",
              "    30% {\n",
              "      border-color: transparent;\n",
              "      border-left-color: var(--fill-color);\n",
              "      border-top-color: var(--fill-color);\n",
              "      border-right-color: var(--fill-color);\n",
              "    }\n",
              "    40% {\n",
              "      border-color: transparent;\n",
              "      border-right-color: var(--fill-color);\n",
              "      border-top-color: var(--fill-color);\n",
              "    }\n",
              "    60% {\n",
              "      border-color: transparent;\n",
              "      border-right-color: var(--fill-color);\n",
              "    }\n",
              "    80% {\n",
              "      border-color: transparent;\n",
              "      border-right-color: var(--fill-color);\n",
              "      border-bottom-color: var(--fill-color);\n",
              "    }\n",
              "    90% {\n",
              "      border-color: transparent;\n",
              "      border-bottom-color: var(--fill-color);\n",
              "    }\n",
              "  }\n",
              "</style>\n",
              "\n",
              "  <script>\n",
              "    async function quickchart(key) {\n",
              "      const quickchartButtonEl =\n",
              "        document.querySelector('#' + key + ' button');\n",
              "      quickchartButtonEl.disabled = true;  // To prevent multiple clicks.\n",
              "      quickchartButtonEl.classList.add('colab-df-spinner');\n",
              "      try {\n",
              "        const charts = await google.colab.kernel.invokeFunction(\n",
              "            'suggestCharts', [key], {});\n",
              "      } catch (error) {\n",
              "        console.error('Error during call to suggestCharts:', error);\n",
              "      }\n",
              "      quickchartButtonEl.classList.remove('colab-df-spinner');\n",
              "      quickchartButtonEl.classList.add('colab-df-quickchart-complete');\n",
              "    }\n",
              "    (() => {\n",
              "      let quickchartButtonEl =\n",
              "        document.querySelector('#df-2a9df50d-6d93-473c-9167-aa438ba1c8de button');\n",
              "      quickchartButtonEl.style.display =\n",
              "        google.colab.kernel.accessAllowed ? 'block' : 'none';\n",
              "    })();\n",
              "  </script>\n",
              "</div>\n",
              "\n",
              "    </div>\n",
              "  </div>\n"
            ],
            "application/vnd.google.colaboratory.intrinsic+json": {
              "type": "dataframe",
              "variable_name": "sol"
            }
          },
          "metadata": {},
          "execution_count": 3
        }
      ]
    },
    {
      "cell_type": "code",
      "metadata": {
        "id": "26dd218d-46fe-4e82-b7ac-eceb40f2042d"
      },
      "source": [
        "X = sol.iloc[:,1:]\n",
        "y = sol[\"solubility\"]"
      ],
      "id": "26dd218d-46fe-4e82-b7ac-eceb40f2042d",
      "execution_count": null,
      "outputs": []
    },
    {
      "cell_type": "markdown",
      "metadata": {
        "id": "a81b5a30-1c29-43de-b8e1-9604c77da775"
      },
      "source": [
        "**Разбейте X и y на тренировочную и тестовую выборки**, как в лекции. Соотношение train/test поставьте равным 4:1."
      ],
      "id": "a81b5a30-1c29-43de-b8e1-9604c77da775"
    },
    {
      "cell_type": "code",
      "metadata": {
        "id": "eb40457f-b8b5-447d-8497-efe3b0671b71"
      },
      "source": [
        "from sklearn.model_selection import train_test_split\n",
        "\n",
        "X_train, X_test, y_train, y_test = train_test_split(X, y, test_size=0.2,\n",
        "                                                    random_state=777)"
      ],
      "id": "eb40457f-b8b5-447d-8497-efe3b0671b71",
      "execution_count": null,
      "outputs": []
    },
    {
      "cell_type": "markdown",
      "metadata": {
        "id": "29b75ec0-447f-4b6c-bb9f-31fa67acf73f"
      },
      "source": [
        "**Осуществите стандартизацию признаков в выборке**."
      ],
      "id": "29b75ec0-447f-4b6c-bb9f-31fa67acf73f"
    },
    {
      "cell_type": "code",
      "metadata": {
        "id": "0462e61c-0fba-442b-be4d-ed4eeefc30db"
      },
      "source": [
        "from sklearn.preprocessing import StandardScaler\n",
        "\n",
        "scaler = StandardScaler()\n",
        "scaler.fit(X_train)\n",
        "X_train_scaled = scaler.transform(X_train)\n",
        "X_test_scaled = scaler.transform(X_test)"
      ],
      "id": "0462e61c-0fba-442b-be4d-ed4eeefc30db",
      "execution_count": null,
      "outputs": []
    },
    {
      "cell_type": "markdown",
      "metadata": {
        "id": "0c151708-47a0-4437-a0d9-596f9fe6d726"
      },
      "source": [
        "**Импортируйте модель регрессии k-NN и обучите ее (`model.fit`)**."
      ],
      "id": "0c151708-47a0-4437-a0d9-596f9fe6d726"
    },
    {
      "cell_type": "code",
      "metadata": {
        "id": "f56a89e5-4a31-4ccb-ba4f-c61a467b84a2",
        "colab": {
          "base_uri": "https://localhost:8080/",
          "height": 80
        },
        "outputId": "5aedbe22-0574-4e9e-c608-8da2c115bf86"
      },
      "source": [
        "from sklearn.neighbors import KNeighborsRegressor\n",
        "\n",
        "knn = KNeighborsRegressor(n_neighbors=5)\n",
        "knn.fit(X_train_scaled, y_train)"
      ],
      "id": "f56a89e5-4a31-4ccb-ba4f-c61a467b84a2",
      "execution_count": null,
      "outputs": [
        {
          "output_type": "execute_result",
          "data": {
            "text/plain": [
              "KNeighborsRegressor()"
            ],
            "text/html": [
              "<style>#sk-container-id-1 {\n",
              "  /* Definition of color scheme common for light and dark mode */\n",
              "  --sklearn-color-text: black;\n",
              "  --sklearn-color-line: gray;\n",
              "  /* Definition of color scheme for unfitted estimators */\n",
              "  --sklearn-color-unfitted-level-0: #fff5e6;\n",
              "  --sklearn-color-unfitted-level-1: #f6e4d2;\n",
              "  --sklearn-color-unfitted-level-2: #ffe0b3;\n",
              "  --sklearn-color-unfitted-level-3: chocolate;\n",
              "  /* Definition of color scheme for fitted estimators */\n",
              "  --sklearn-color-fitted-level-0: #f0f8ff;\n",
              "  --sklearn-color-fitted-level-1: #d4ebff;\n",
              "  --sklearn-color-fitted-level-2: #b3dbfd;\n",
              "  --sklearn-color-fitted-level-3: cornflowerblue;\n",
              "\n",
              "  /* Specific color for light theme */\n",
              "  --sklearn-color-text-on-default-background: var(--sg-text-color, var(--theme-code-foreground, var(--jp-content-font-color1, black)));\n",
              "  --sklearn-color-background: var(--sg-background-color, var(--theme-background, var(--jp-layout-color0, white)));\n",
              "  --sklearn-color-border-box: var(--sg-text-color, var(--theme-code-foreground, var(--jp-content-font-color1, black)));\n",
              "  --sklearn-color-icon: #696969;\n",
              "\n",
              "  @media (prefers-color-scheme: dark) {\n",
              "    /* Redefinition of color scheme for dark theme */\n",
              "    --sklearn-color-text-on-default-background: var(--sg-text-color, var(--theme-code-foreground, var(--jp-content-font-color1, white)));\n",
              "    --sklearn-color-background: var(--sg-background-color, var(--theme-background, var(--jp-layout-color0, #111)));\n",
              "    --sklearn-color-border-box: var(--sg-text-color, var(--theme-code-foreground, var(--jp-content-font-color1, white)));\n",
              "    --sklearn-color-icon: #878787;\n",
              "  }\n",
              "}\n",
              "\n",
              "#sk-container-id-1 {\n",
              "  color: var(--sklearn-color-text);\n",
              "}\n",
              "\n",
              "#sk-container-id-1 pre {\n",
              "  padding: 0;\n",
              "}\n",
              "\n",
              "#sk-container-id-1 input.sk-hidden--visually {\n",
              "  border: 0;\n",
              "  clip: rect(1px 1px 1px 1px);\n",
              "  clip: rect(1px, 1px, 1px, 1px);\n",
              "  height: 1px;\n",
              "  margin: -1px;\n",
              "  overflow: hidden;\n",
              "  padding: 0;\n",
              "  position: absolute;\n",
              "  width: 1px;\n",
              "}\n",
              "\n",
              "#sk-container-id-1 div.sk-dashed-wrapped {\n",
              "  border: 1px dashed var(--sklearn-color-line);\n",
              "  margin: 0 0.4em 0.5em 0.4em;\n",
              "  box-sizing: border-box;\n",
              "  padding-bottom: 0.4em;\n",
              "  background-color: var(--sklearn-color-background);\n",
              "}\n",
              "\n",
              "#sk-container-id-1 div.sk-container {\n",
              "  /* jupyter's `normalize.less` sets `[hidden] { display: none; }`\n",
              "     but bootstrap.min.css set `[hidden] { display: none !important; }`\n",
              "     so we also need the `!important` here to be able to override the\n",
              "     default hidden behavior on the sphinx rendered scikit-learn.org.\n",
              "     See: https://github.com/scikit-learn/scikit-learn/issues/21755 */\n",
              "  display: inline-block !important;\n",
              "  position: relative;\n",
              "}\n",
              "\n",
              "#sk-container-id-1 div.sk-text-repr-fallback {\n",
              "  display: none;\n",
              "}\n",
              "\n",
              "div.sk-parallel-item,\n",
              "div.sk-serial,\n",
              "div.sk-item {\n",
              "  /* draw centered vertical line to link estimators */\n",
              "  background-image: linear-gradient(var(--sklearn-color-text-on-default-background), var(--sklearn-color-text-on-default-background));\n",
              "  background-size: 2px 100%;\n",
              "  background-repeat: no-repeat;\n",
              "  background-position: center center;\n",
              "}\n",
              "\n",
              "/* Parallel-specific style estimator block */\n",
              "\n",
              "#sk-container-id-1 div.sk-parallel-item::after {\n",
              "  content: \"\";\n",
              "  width: 100%;\n",
              "  border-bottom: 2px solid var(--sklearn-color-text-on-default-background);\n",
              "  flex-grow: 1;\n",
              "}\n",
              "\n",
              "#sk-container-id-1 div.sk-parallel {\n",
              "  display: flex;\n",
              "  align-items: stretch;\n",
              "  justify-content: center;\n",
              "  background-color: var(--sklearn-color-background);\n",
              "  position: relative;\n",
              "}\n",
              "\n",
              "#sk-container-id-1 div.sk-parallel-item {\n",
              "  display: flex;\n",
              "  flex-direction: column;\n",
              "}\n",
              "\n",
              "#sk-container-id-1 div.sk-parallel-item:first-child::after {\n",
              "  align-self: flex-end;\n",
              "  width: 50%;\n",
              "}\n",
              "\n",
              "#sk-container-id-1 div.sk-parallel-item:last-child::after {\n",
              "  align-self: flex-start;\n",
              "  width: 50%;\n",
              "}\n",
              "\n",
              "#sk-container-id-1 div.sk-parallel-item:only-child::after {\n",
              "  width: 0;\n",
              "}\n",
              "\n",
              "/* Serial-specific style estimator block */\n",
              "\n",
              "#sk-container-id-1 div.sk-serial {\n",
              "  display: flex;\n",
              "  flex-direction: column;\n",
              "  align-items: center;\n",
              "  background-color: var(--sklearn-color-background);\n",
              "  padding-right: 1em;\n",
              "  padding-left: 1em;\n",
              "}\n",
              "\n",
              "\n",
              "/* Toggleable style: style used for estimator/Pipeline/ColumnTransformer box that is\n",
              "clickable and can be expanded/collapsed.\n",
              "- Pipeline and ColumnTransformer use this feature and define the default style\n",
              "- Estimators will overwrite some part of the style using the `sk-estimator` class\n",
              "*/\n",
              "\n",
              "/* Pipeline and ColumnTransformer style (default) */\n",
              "\n",
              "#sk-container-id-1 div.sk-toggleable {\n",
              "  /* Default theme specific background. It is overwritten whether we have a\n",
              "  specific estimator or a Pipeline/ColumnTransformer */\n",
              "  background-color: var(--sklearn-color-background);\n",
              "}\n",
              "\n",
              "/* Toggleable label */\n",
              "#sk-container-id-1 label.sk-toggleable__label {\n",
              "  cursor: pointer;\n",
              "  display: block;\n",
              "  width: 100%;\n",
              "  margin-bottom: 0;\n",
              "  padding: 0.5em;\n",
              "  box-sizing: border-box;\n",
              "  text-align: center;\n",
              "}\n",
              "\n",
              "#sk-container-id-1 label.sk-toggleable__label-arrow:before {\n",
              "  /* Arrow on the left of the label */\n",
              "  content: \"▸\";\n",
              "  float: left;\n",
              "  margin-right: 0.25em;\n",
              "  color: var(--sklearn-color-icon);\n",
              "}\n",
              "\n",
              "#sk-container-id-1 label.sk-toggleable__label-arrow:hover:before {\n",
              "  color: var(--sklearn-color-text);\n",
              "}\n",
              "\n",
              "/* Toggleable content - dropdown */\n",
              "\n",
              "#sk-container-id-1 div.sk-toggleable__content {\n",
              "  max-height: 0;\n",
              "  max-width: 0;\n",
              "  overflow: hidden;\n",
              "  text-align: left;\n",
              "  /* unfitted */\n",
              "  background-color: var(--sklearn-color-unfitted-level-0);\n",
              "}\n",
              "\n",
              "#sk-container-id-1 div.sk-toggleable__content.fitted {\n",
              "  /* fitted */\n",
              "  background-color: var(--sklearn-color-fitted-level-0);\n",
              "}\n",
              "\n",
              "#sk-container-id-1 div.sk-toggleable__content pre {\n",
              "  margin: 0.2em;\n",
              "  border-radius: 0.25em;\n",
              "  color: var(--sklearn-color-text);\n",
              "  /* unfitted */\n",
              "  background-color: var(--sklearn-color-unfitted-level-0);\n",
              "}\n",
              "\n",
              "#sk-container-id-1 div.sk-toggleable__content.fitted pre {\n",
              "  /* unfitted */\n",
              "  background-color: var(--sklearn-color-fitted-level-0);\n",
              "}\n",
              "\n",
              "#sk-container-id-1 input.sk-toggleable__control:checked~div.sk-toggleable__content {\n",
              "  /* Expand drop-down */\n",
              "  max-height: 200px;\n",
              "  max-width: 100%;\n",
              "  overflow: auto;\n",
              "}\n",
              "\n",
              "#sk-container-id-1 input.sk-toggleable__control:checked~label.sk-toggleable__label-arrow:before {\n",
              "  content: \"▾\";\n",
              "}\n",
              "\n",
              "/* Pipeline/ColumnTransformer-specific style */\n",
              "\n",
              "#sk-container-id-1 div.sk-label input.sk-toggleable__control:checked~label.sk-toggleable__label {\n",
              "  color: var(--sklearn-color-text);\n",
              "  background-color: var(--sklearn-color-unfitted-level-2);\n",
              "}\n",
              "\n",
              "#sk-container-id-1 div.sk-label.fitted input.sk-toggleable__control:checked~label.sk-toggleable__label {\n",
              "  background-color: var(--sklearn-color-fitted-level-2);\n",
              "}\n",
              "\n",
              "/* Estimator-specific style */\n",
              "\n",
              "/* Colorize estimator box */\n",
              "#sk-container-id-1 div.sk-estimator input.sk-toggleable__control:checked~label.sk-toggleable__label {\n",
              "  /* unfitted */\n",
              "  background-color: var(--sklearn-color-unfitted-level-2);\n",
              "}\n",
              "\n",
              "#sk-container-id-1 div.sk-estimator.fitted input.sk-toggleable__control:checked~label.sk-toggleable__label {\n",
              "  /* fitted */\n",
              "  background-color: var(--sklearn-color-fitted-level-2);\n",
              "}\n",
              "\n",
              "#sk-container-id-1 div.sk-label label.sk-toggleable__label,\n",
              "#sk-container-id-1 div.sk-label label {\n",
              "  /* The background is the default theme color */\n",
              "  color: var(--sklearn-color-text-on-default-background);\n",
              "}\n",
              "\n",
              "/* On hover, darken the color of the background */\n",
              "#sk-container-id-1 div.sk-label:hover label.sk-toggleable__label {\n",
              "  color: var(--sklearn-color-text);\n",
              "  background-color: var(--sklearn-color-unfitted-level-2);\n",
              "}\n",
              "\n",
              "/* Label box, darken color on hover, fitted */\n",
              "#sk-container-id-1 div.sk-label.fitted:hover label.sk-toggleable__label.fitted {\n",
              "  color: var(--sklearn-color-text);\n",
              "  background-color: var(--sklearn-color-fitted-level-2);\n",
              "}\n",
              "\n",
              "/* Estimator label */\n",
              "\n",
              "#sk-container-id-1 div.sk-label label {\n",
              "  font-family: monospace;\n",
              "  font-weight: bold;\n",
              "  display: inline-block;\n",
              "  line-height: 1.2em;\n",
              "}\n",
              "\n",
              "#sk-container-id-1 div.sk-label-container {\n",
              "  text-align: center;\n",
              "}\n",
              "\n",
              "/* Estimator-specific */\n",
              "#sk-container-id-1 div.sk-estimator {\n",
              "  font-family: monospace;\n",
              "  border: 1px dotted var(--sklearn-color-border-box);\n",
              "  border-radius: 0.25em;\n",
              "  box-sizing: border-box;\n",
              "  margin-bottom: 0.5em;\n",
              "  /* unfitted */\n",
              "  background-color: var(--sklearn-color-unfitted-level-0);\n",
              "}\n",
              "\n",
              "#sk-container-id-1 div.sk-estimator.fitted {\n",
              "  /* fitted */\n",
              "  background-color: var(--sklearn-color-fitted-level-0);\n",
              "}\n",
              "\n",
              "/* on hover */\n",
              "#sk-container-id-1 div.sk-estimator:hover {\n",
              "  /* unfitted */\n",
              "  background-color: var(--sklearn-color-unfitted-level-2);\n",
              "}\n",
              "\n",
              "#sk-container-id-1 div.sk-estimator.fitted:hover {\n",
              "  /* fitted */\n",
              "  background-color: var(--sklearn-color-fitted-level-2);\n",
              "}\n",
              "\n",
              "/* Specification for estimator info (e.g. \"i\" and \"?\") */\n",
              "\n",
              "/* Common style for \"i\" and \"?\" */\n",
              "\n",
              ".sk-estimator-doc-link,\n",
              "a:link.sk-estimator-doc-link,\n",
              "a:visited.sk-estimator-doc-link {\n",
              "  float: right;\n",
              "  font-size: smaller;\n",
              "  line-height: 1em;\n",
              "  font-family: monospace;\n",
              "  background-color: var(--sklearn-color-background);\n",
              "  border-radius: 1em;\n",
              "  height: 1em;\n",
              "  width: 1em;\n",
              "  text-decoration: none !important;\n",
              "  margin-left: 1ex;\n",
              "  /* unfitted */\n",
              "  border: var(--sklearn-color-unfitted-level-1) 1pt solid;\n",
              "  color: var(--sklearn-color-unfitted-level-1);\n",
              "}\n",
              "\n",
              ".sk-estimator-doc-link.fitted,\n",
              "a:link.sk-estimator-doc-link.fitted,\n",
              "a:visited.sk-estimator-doc-link.fitted {\n",
              "  /* fitted */\n",
              "  border: var(--sklearn-color-fitted-level-1) 1pt solid;\n",
              "  color: var(--sklearn-color-fitted-level-1);\n",
              "}\n",
              "\n",
              "/* On hover */\n",
              "div.sk-estimator:hover .sk-estimator-doc-link:hover,\n",
              ".sk-estimator-doc-link:hover,\n",
              "div.sk-label-container:hover .sk-estimator-doc-link:hover,\n",
              ".sk-estimator-doc-link:hover {\n",
              "  /* unfitted */\n",
              "  background-color: var(--sklearn-color-unfitted-level-3);\n",
              "  color: var(--sklearn-color-background);\n",
              "  text-decoration: none;\n",
              "}\n",
              "\n",
              "div.sk-estimator.fitted:hover .sk-estimator-doc-link.fitted:hover,\n",
              ".sk-estimator-doc-link.fitted:hover,\n",
              "div.sk-label-container:hover .sk-estimator-doc-link.fitted:hover,\n",
              ".sk-estimator-doc-link.fitted:hover {\n",
              "  /* fitted */\n",
              "  background-color: var(--sklearn-color-fitted-level-3);\n",
              "  color: var(--sklearn-color-background);\n",
              "  text-decoration: none;\n",
              "}\n",
              "\n",
              "/* Span, style for the box shown on hovering the info icon */\n",
              ".sk-estimator-doc-link span {\n",
              "  display: none;\n",
              "  z-index: 9999;\n",
              "  position: relative;\n",
              "  font-weight: normal;\n",
              "  right: .2ex;\n",
              "  padding: .5ex;\n",
              "  margin: .5ex;\n",
              "  width: min-content;\n",
              "  min-width: 20ex;\n",
              "  max-width: 50ex;\n",
              "  color: var(--sklearn-color-text);\n",
              "  box-shadow: 2pt 2pt 4pt #999;\n",
              "  /* unfitted */\n",
              "  background: var(--sklearn-color-unfitted-level-0);\n",
              "  border: .5pt solid var(--sklearn-color-unfitted-level-3);\n",
              "}\n",
              "\n",
              ".sk-estimator-doc-link.fitted span {\n",
              "  /* fitted */\n",
              "  background: var(--sklearn-color-fitted-level-0);\n",
              "  border: var(--sklearn-color-fitted-level-3);\n",
              "}\n",
              "\n",
              ".sk-estimator-doc-link:hover span {\n",
              "  display: block;\n",
              "}\n",
              "\n",
              "/* \"?\"-specific style due to the `<a>` HTML tag */\n",
              "\n",
              "#sk-container-id-1 a.estimator_doc_link {\n",
              "  float: right;\n",
              "  font-size: 1rem;\n",
              "  line-height: 1em;\n",
              "  font-family: monospace;\n",
              "  background-color: var(--sklearn-color-background);\n",
              "  border-radius: 1rem;\n",
              "  height: 1rem;\n",
              "  width: 1rem;\n",
              "  text-decoration: none;\n",
              "  /* unfitted */\n",
              "  color: var(--sklearn-color-unfitted-level-1);\n",
              "  border: var(--sklearn-color-unfitted-level-1) 1pt solid;\n",
              "}\n",
              "\n",
              "#sk-container-id-1 a.estimator_doc_link.fitted {\n",
              "  /* fitted */\n",
              "  border: var(--sklearn-color-fitted-level-1) 1pt solid;\n",
              "  color: var(--sklearn-color-fitted-level-1);\n",
              "}\n",
              "\n",
              "/* On hover */\n",
              "#sk-container-id-1 a.estimator_doc_link:hover {\n",
              "  /* unfitted */\n",
              "  background-color: var(--sklearn-color-unfitted-level-3);\n",
              "  color: var(--sklearn-color-background);\n",
              "  text-decoration: none;\n",
              "}\n",
              "\n",
              "#sk-container-id-1 a.estimator_doc_link.fitted:hover {\n",
              "  /* fitted */\n",
              "  background-color: var(--sklearn-color-fitted-level-3);\n",
              "}\n",
              "</style><div id=\"sk-container-id-1\" class=\"sk-top-container\"><div class=\"sk-text-repr-fallback\"><pre>KNeighborsRegressor()</pre><b>In a Jupyter environment, please rerun this cell to show the HTML representation or trust the notebook. <br />On GitHub, the HTML representation is unable to render, please try loading this page with nbviewer.org.</b></div><div class=\"sk-container\" hidden><div class=\"sk-item\"><div class=\"sk-estimator fitted sk-toggleable\"><input class=\"sk-toggleable__control sk-hidden--visually\" id=\"sk-estimator-id-1\" type=\"checkbox\" checked><label for=\"sk-estimator-id-1\" class=\"sk-toggleable__label fitted sk-toggleable__label-arrow fitted\">&nbsp;&nbsp;KNeighborsRegressor<a class=\"sk-estimator-doc-link fitted\" rel=\"noreferrer\" target=\"_blank\" href=\"https://scikit-learn.org/1.5/modules/generated/sklearn.neighbors.KNeighborsRegressor.html\">?<span>Documentation for KNeighborsRegressor</span></a><span class=\"sk-estimator-doc-link fitted\">i<span>Fitted</span></span></label><div class=\"sk-toggleable__content fitted\"><pre>KNeighborsRegressor()</pre></div> </div></div></div></div>"
            ]
          },
          "metadata": {},
          "execution_count": 8
        }
      ]
    },
    {
      "cell_type": "markdown",
      "metadata": {
        "id": "381dbe6d-1366-4ed4-b8f9-81379d7506a0"
      },
      "source": [
        "**Получите предсказание на оставшейся выборке**. Оцените его качество метриками RMSE, MAE."
      ],
      "id": "381dbe6d-1366-4ed4-b8f9-81379d7506a0"
    },
    {
      "cell_type": "code",
      "source": [
        "y_test_pred = knn.predict(X_test_scaled)\n",
        "y_train_pred = knn.predict(X_train_scaled)"
      ],
      "metadata": {
        "id": "syt1h1QPVFDf"
      },
      "id": "syt1h1QPVFDf",
      "execution_count": null,
      "outputs": []
    },
    {
      "cell_type": "code",
      "metadata": {
        "id": "4a6dd01e-44ec-470c-8c69-63201384dfd8",
        "colab": {
          "base_uri": "https://localhost:8080/"
        },
        "outputId": "38430cf5-caff-4eca-eac6-9149a0a7b779"
      },
      "source": [
        "from sklearn.metrics import mean_squared_error, mean_absolute_error\n",
        "\n",
        "mean_squared_error(y_true=y_train, y_pred=y_train_pred)"
      ],
      "id": "4a6dd01e-44ec-470c-8c69-63201384dfd8",
      "execution_count": null,
      "outputs": [
        {
          "output_type": "execute_result",
          "data": {
            "text/plain": [
              "592.8083870967743"
            ]
          },
          "metadata": {},
          "execution_count": 10
        }
      ]
    },
    {
      "cell_type": "code",
      "source": [
        "mean_squared_error(y_true=y_test, y_pred=y_test_pred)"
      ],
      "metadata": {
        "colab": {
          "base_uri": "https://localhost:8080/"
        },
        "id": "KnatqyjpVBTY",
        "outputId": "ea996379-4927-4e8a-e1fe-76bab4f86221"
      },
      "id": "KnatqyjpVBTY",
      "execution_count": null,
      "outputs": [
        {
          "output_type": "execute_result",
          "data": {
            "text/plain": [
              "792.9449462365591"
            ]
          },
          "metadata": {},
          "execution_count": 11
        }
      ]
    },
    {
      "cell_type": "code",
      "source": [
        "mean_squared_error(y_true=y_test, y_pred=y_test_pred) ** 0.5"
      ],
      "metadata": {
        "colab": {
          "base_uri": "https://localhost:8080/"
        },
        "id": "-GbJ5k-YWjA5",
        "outputId": "5d556bfc-0697-404d-e22c-4a08801e6a2d"
      },
      "id": "-GbJ5k-YWjA5",
      "execution_count": null,
      "outputs": [
        {
          "output_type": "execute_result",
          "data": {
            "text/plain": [
              "28.159278155459862"
            ]
          },
          "metadata": {},
          "execution_count": 12
        }
      ]
    },
    {
      "cell_type": "code",
      "source": [
        "from sklearn.metrics import root_mean_squared_error\n",
        "\n",
        "root_mean_squared_error(y_true=y_test, y_pred=y_test_pred)"
      ],
      "metadata": {
        "colab": {
          "base_uri": "https://localhost:8080/"
        },
        "id": "d4qK4zWHVtTu",
        "outputId": "d7ad72c4-a6be-4281-e73a-e025427717cb"
      },
      "id": "d4qK4zWHVtTu",
      "execution_count": null,
      "outputs": [
        {
          "output_type": "execute_result",
          "data": {
            "text/plain": [
              "28.159278155459862"
            ]
          },
          "metadata": {},
          "execution_count": 13
        }
      ]
    },
    {
      "cell_type": "code",
      "source": [
        "mean_absolute_error(y_true=y_test, y_pred=y_test_pred)"
      ],
      "metadata": {
        "colab": {
          "base_uri": "https://localhost:8080/"
        },
        "id": "a5FL2VABWvL-",
        "outputId": "bd9996b1-ad8f-4507-dc46-715528a61c1f"
      },
      "id": "a5FL2VABWvL-",
      "execution_count": null,
      "outputs": [
        {
          "output_type": "execute_result",
          "data": {
            "text/plain": [
              "24.182795698924732"
            ]
          },
          "metadata": {},
          "execution_count": 14
        }
      ]
    },
    {
      "cell_type": "markdown",
      "source": [
        "**Постройте диаграмму рассеяния** предсказываемого значения в зависимости от истинного."
      ],
      "metadata": {
        "id": "pOghauDtN80a"
      },
      "id": "pOghauDtN80a"
    },
    {
      "cell_type": "code",
      "source": [
        "plt.hist(y)"
      ],
      "metadata": {
        "id": "1QAzwvAzKe5x",
        "colab": {
          "base_uri": "https://localhost:8080/",
          "height": 503
        },
        "outputId": "0a3da681-b850-4dd3-c103-68852810c26d"
      },
      "id": "1QAzwvAzKe5x",
      "execution_count": null,
      "outputs": [
        {
          "output_type": "execute_result",
          "data": {
            "text/plain": [
              "(array([45., 62., 43., 44., 44., 72., 79., 53., 20.,  3.]),\n",
              " array([  1. ,  14.2,  27.4,  40.6,  53.8,  67. ,  80.2,  93.4, 106.6,\n",
              "        119.8, 133. ]),\n",
              " <BarContainer object of 10 artists>)"
            ]
          },
          "metadata": {},
          "execution_count": 15
        },
        {
          "output_type": "display_data",
          "data": {
            "text/plain": [
              "<Figure size 640x480 with 1 Axes>"
            ],
            "image/png": "[encoded data removed]"
          },
          "metadata": {}
        }
      ]
    },
    {
      "cell_type": "code",
      "source": [
        "plt.scatter(y_test, y_test_pred)\n",
        "# plt.plot(y_test, y_test_pred, 'k.')"
      ],
      "metadata": {
        "colab": {
          "base_uri": "https://localhost:8080/",
          "height": 455
        },
        "id": "7_S198rFXPd8",
        "outputId": "a2bb218b-ed54-4dc8-bd74-13567bcbae19"
      },
      "id": "7_S198rFXPd8",
      "execution_count": null,
      "outputs": [
        {
          "output_type": "execute_result",
          "data": {
            "text/plain": [
              "<matplotlib.collections.PathCollection at 0x7d0664f550c0>"
            ]
          },
          "metadata": {},
          "execution_count": 16
        },
        {
          "output_type": "display_data",
          "data": {
            "text/plain": [
              "<Figure size 640x480 with 1 Axes>"
            ],
            "image/png": "[encoded data removed]"
          },
          "metadata": {}
        }
      ]
    },
    {
      "cell_type": "markdown",
      "metadata": {
        "id": "3a8da971-b518-4052-8261-f970870b3743"
      },
      "source": [
        "Следующая функция строит график зависимости качества на тестовой и тренировочной выборках от параметра модели.\\\n",
        "Измените помеченную строку в функции так, чтобы ее можно было использовать **для построения графика зависимости качества от количества соседей для модели k-NN**."
      ],
      "id": "3a8da971-b518-4052-8261-f970870b3743"
    },
    {
      "cell_type": "code",
      "metadata": {
        "id": "c5f6c835-17e6-43cd-aa37-b1c4b6ad25dd"
      },
      "source": [
        "from sklearn.metrics import mean_squared_error\n",
        "\n",
        "def make_qual_chart(X_train, X_test, y_train, y_test, metric=mean_squared_error, init=1, limit=150, step=1):\n",
        "    train_quals = np.zeros(limit)\n",
        "    test_quals = np.zeros(limit)\n",
        "    param_range = np.arange(init, limit + 1, step)\n",
        "\n",
        "    for ind, value in enumerate(param_range):\n",
        "        ### CHANGE THE NEXT LINE!\n",
        "        model = KNeighborsRegressor(value)\n",
        "        # FIT\n",
        "        model.fit(X_train, y_train)\n",
        "        # PREDICT\n",
        "        y_train_pred = model.predict(X_train)\n",
        "        y_test_pred = model.predict(X_test)\n",
        "        # EVALUATE QUALITY\n",
        "        train_quals[ind] = metric(y_true=y_train, y_pred=y_train_pred)\n",
        "        test_quals[ind] = metric(y_true=y_test, y_pred=y_test_pred)\n",
        "\n",
        "    # baseline = metric(y_true=y_test, y_pred=np.full_like(y_test, y_train.mean()))\n",
        "\n",
        "    # TRACING CHART\n",
        "    plt.figure(figsize=(10, 7))\n",
        "    plt.plot(param_range, train_quals, label=\"Train\")\n",
        "    plt.plot(param_range, test_quals, label=\"Test\")\n",
        "    # plt.axhline(baseline, color=\"k\", ls=\"--\", lw=1.5, label=\"Baseline\")\n",
        "    plt.legend()\n",
        "    plt.show()\n",
        "    #return param_range, train_quals, test_quals"
      ],
      "id": "c5f6c835-17e6-43cd-aa37-b1c4b6ad25dd",
      "execution_count": null,
      "outputs": []
    },
    {
      "cell_type": "code",
      "metadata": {
        "id": "3589c57d-d338-41ab-98e8-8e9c12bcda50",
        "colab": {
          "base_uri": "https://localhost:8080/",
          "height": 608
        },
        "outputId": "5b45a100-1da6-43ca-aacd-96a938312f99"
      },
      "source": [
        "make_qual_chart(X_train_scaled, X_test_scaled, y_train, y_test)"
      ],
      "id": "3589c57d-d338-41ab-98e8-8e9c12bcda50",
      "execution_count": null,
      "outputs": [
        {
          "output_type": "display_data",
          "data": {
            "text/plain": [
              "<Figure size 1000x700 with 1 Axes>"
            ],
            "image/png": "[encoded data removed]"
          },
          "metadata": {}
        }
      ]
    },
    {
      "cell_type": "markdown",
      "metadata": {
        "id": "770d6ecb-37be-4a13-89d0-0c969e634543"
      },
      "source": [
        "Сделайте вывод о том, **какое число соседей является оптимальным для данной задачи**. Создайте отдельную модель с оптимальным параметром `n_neighbors` и постройте для нее график зависимости предсказываемого значения от истинного."
      ],
      "id": "770d6ecb-37be-4a13-89d0-0c969e634543"
    },
    {
      "cell_type": "code",
      "source": [
        "knn = KNeighborsRegressor(n_neighbors=80)\n",
        "knn.fit(X_train_scaled, y_train)\n",
        "y_test_pred = knn.predict(X_test_scaled)\n",
        "\n",
        "plt.scatter(y_test, y_test_pred)"
      ],
      "metadata": {
        "id": "KB1keHJZEDK4",
        "colab": {
          "base_uri": "https://localhost:8080/",
          "height": 455
        },
        "outputId": "c74bfad8-7e19-4b26-dcb7-0558aba07ba9"
      },
      "id": "KB1keHJZEDK4",
      "execution_count": null,
      "outputs": [
        {
          "output_type": "execute_result",
          "data": {
            "text/plain": [
              "<matplotlib.collections.PathCollection at 0x7d06b03f0f70>"
            ]
          },
          "metadata": {},
          "execution_count": 19
        },
        {
          "output_type": "display_data",
          "data": {
            "text/plain": [
              "<Figure size 640x480 with 1 Axes>"
            ],
            "image/png": "[encoded data removed]"
          },
          "metadata": {}
        }
      ]
    },
    {
      "cell_type": "markdown",
      "source": [
        "**Дополнительно**: сравните kNN-regressor с моделью линейной регрессии на тех же данных."
      ],
      "metadata": {
        "id": "Ut0bLMCwPVs-"
      },
      "id": "Ut0bLMCwPVs-"
    },
    {
      "cell_type": "code",
      "metadata": {
        "id": "-de9081Cal67"
      },
      "source": [
        "from sklearn.linear_model import LinearRegression\n",
        "\n",
        "model = LinearRegression()\n",
        "model.fit(X_train_scaled, y_train)\n",
        "y_test_pred = model.predict(X_test_scaled)"
      ],
      "execution_count": null,
      "outputs": [],
      "id": "-de9081Cal67"
    },
    {
      "cell_type": "code",
      "source": [
        "root_mean_squared_error(y_true=y_test, y_pred=y_test_pred)"
      ],
      "metadata": {
        "colab": {
          "base_uri": "https://localhost:8080/"
        },
        "id": "uiZbrdrlal67",
        "outputId": "72b2b2a3-1d72-4f0f-d878-6a4e4954811c"
      },
      "execution_count": null,
      "outputs": [
        {
          "output_type": "execute_result",
          "data": {
            "text/plain": [
              "40.955591593000676"
            ]
          },
          "metadata": {},
          "execution_count": 21
        }
      ],
      "id": "uiZbrdrlal67"
    },
    {
      "cell_type": "code",
      "source": [
        "plt.scatter(y_test, y_test_pred)"
      ],
      "metadata": {
        "colab": {
          "base_uri": "https://localhost:8080/",
          "height": 451
        },
        "id": "lu4C-rD1bTI9",
        "outputId": "871b483d-2489-4ad7-bebe-6521f5f39962"
      },
      "id": "lu4C-rD1bTI9",
      "execution_count": null,
      "outputs": [
        {
          "output_type": "execute_result",
          "data": {
            "text/plain": [
              "<matplotlib.collections.PathCollection at 0x7d066598d690>"
            ]
          },
          "metadata": {},
          "execution_count": 22
        },
        {
          "output_type": "display_data",
          "data": {
            "text/plain": [
              "<Figure size 640x480 with 1 Axes>"
            ],
            "image/png": "[encoded data removed]"
          },
          "metadata": {}
        }
      ]
    },
    {
      "cell_type": "markdown",
      "metadata": {
        "id": "a87d79ba-c9b2-4fcd-bb61-e3a3561b7309"
      },
      "source": [
        "### Задача 2: Обучение на геномных эмбеддингах"
      ],
      "id": "a87d79ba-c9b2-4fcd-bb61-e3a3561b7309"
    },
    {
      "cell_type": "markdown",
      "metadata": {
        "id": "018a8ba8-9f12-4aab-9b98-560553982e3b"
      },
      "source": [
        "В этой задаче предлагается произвести предсказание изменения экспрессии гена в зависимости от разных однонуклеотидных замен в регуляторном участке ДНК, основываясь на нейросетевых геномных эмбеддингах этого участка."
      ],
      "id": "018a8ba8-9f12-4aab-9b98-560553982e3b"
    },
    {
      "cell_type": "code",
      "metadata": {
        "id": "DRbz9nBPPHo3",
        "colab": {
          "base_uri": "https://localhost:8080/"
        },
        "outputId": "ea61103e-1d6f-41ee-9e4d-8420f57e9e37"
      },
      "source": [
        "!wget https://data.bioml.ru/htdocs/courses/bioml/classic_ml/supervised/knn/data/tfs_deepsea.csv"
      ],
      "id": "DRbz9nBPPHo3",
      "execution_count": null,
      "outputs": [
        {
          "output_type": "stream",
          "name": "stdout",
          "text": [
            "--2024-11-16 12:39:39--  https://data.bioml.ru/htdocs/courses/bioml/classic_ml/supervised/knn/data/tfs_deepsea.csv\n",
            "Resolving data.bioml.ru (data.bioml.ru)... 188.120.231.217\n",
            "Connecting to data.bioml.ru (data.bioml.ru)|188.120.231.217|:443... connected.\n",
            "HTTP request sent, awaiting response... 200 OK\n",
            "Length: 1098058 (1.0M) [text/csv]\n",
            "Saving to: ‘tfs_deepsea.csv’\n",
            "\n",
            "tfs_deepsea.csv     100%[===================>]   1.05M  1.54MB/s    in 0.7s    \n",
            "\n",
            "2024-11-16 12:39:40 (1.54 MB/s) - ‘tfs_deepsea.csv’ saved [1098058/1098058]\n",
            "\n"
          ]
        }
      ]
    },
    {
      "cell_type": "markdown",
      "metadata": {
        "id": "a9c427c4-a23b-4452-92b4-26ed2624ab5f"
      },
      "source": [
        "Загрузите датасет `tfs_deepsea.csv`, в качестве `y` теперь используйте колонку `Value`, в качестве `X` те же фичи - все колонки, начиная с девятой."
      ],
      "id": "a9c427c4-a23b-4452-92b4-26ed2624ab5f"
    },
    {
      "cell_type": "code",
      "source": [
        "tfs = pd.read_csv(\"tfs_deepsea.csv\", header=0)\n",
        "tfs.head(3)"
      ],
      "metadata": {
        "id": "qc_Ik-cUnpid",
        "colab": {
          "base_uri": "https://localhost:8080/",
          "height": 210
        },
        "outputId": "df34b6cc-632f-46e3-944b-de8b869266ed"
      },
      "id": "qc_Ik-cUnpid",
      "execution_count": null,
      "outputs": [
        {
          "output_type": "execute_result",
          "data": {
            "text/plain": [
              "   Chrom        Pos Ref Alt     Value  Confidence  Direction construction  \\\n",
              "0      9  104195582   G   C -0.009418    0.001075          0        ALDOB   \n",
              "1      9  104195582   G   T -0.212088    0.034187          0        ALDOB   \n",
              "2      9  104195700   T   A  0.709840    0.364072          1        ALDOB   \n",
              "\n",
              "   alt@BRCA1@ds_HepG2_normal  alt@CTCF@ds_HCM_normal  ...  \\\n",
              "0                   0.000056                0.000949  ...   \n",
              "1                   0.000051                0.000857  ...   \n",
              "2                   0.000089                0.001784  ...   \n",
              "\n",
              "   ref@GATA3@ds_MCF-7_normal  ref@JunD@ds_H1-hESC_None.1  \\\n",
              "0                    0.00934                    0.000637   \n",
              "1                    0.00934                    0.000637   \n",
              "2                    0.00292                    0.001019   \n",
              "\n",
              "   ref@MafK@ds_K562_normal  ref@NRSF@ds_A549_EtOH_0.02pct  \\\n",
              "0                 0.082889                       0.007880   \n",
              "1                 0.082889                       0.007880   \n",
              "2                 0.100890                       0.004289   \n",
              "\n",
              "   ref@Pol2-4H8@ds_GM12891_normal  ref@Pol2@ds_GM12878_None.2  \\\n",
              "0                        0.000568                    0.000095   \n",
              "1                        0.000568                    0.000095   \n",
              "2                        0.000554                    0.000142   \n",
              "\n",
              "   ref@Pol2@ds_GM12878_None.3  ref@Pol2@ds_GM12878_normal  \\\n",
              "0                    0.000287                    0.000147   \n",
              "1                    0.000287                    0.000147   \n",
              "2                    0.000209                    0.000282   \n",
              "\n",
              "   ref@c-Fos@ds_K562_normal  ref@c-Myc@ds_K562_normal  \n",
              "0                  0.000588                  0.001214  \n",
              "1                  0.000588                  0.001214  \n",
              "2                  0.001091                  0.000891  \n",
              "\n",
              "[3 rows x 108 columns]"
            ],
            "text/html": [
              "\n",
              "  <div id=\"df-49b6cd16-52dd-458a-8c75-9d4650c62cbe\" class=\"colab-df-container\">\n",
              "    <div>\n",
              "<style scoped>\n",
              "    .dataframe tbody tr th:only-of-type {\n",
              "        vertical-align: middle;\n",
              "    }\n",
              "\n",
              "    .dataframe tbody tr th {\n",
              "        vertical-align: top;\n",
              "    }\n",
              "\n",
              "    .dataframe thead th {\n",
              "        text-align: right;\n",
              "    }\n",
              "</style>\n",
              "<table border=\"1\" class=\"dataframe\">\n",
              "  <thead>\n",
              "    <tr style=\"text-align: right;\">\n",
              "      <th></th>\n",
              "      <th>Chrom</th>\n",
              "      <th>Pos</th>\n",
              "      <th>Ref</th>\n",
              "      <th>Alt</th>\n",
              "      <th>Value</th>\n",
              "      <th>Confidence</th>\n",
              "      <th>Direction</th>\n",
              "      <th>construction</th>\n",
              "      <th>alt@BRCA1@ds_HepG2_normal</th>\n",
              "      <th>alt@CTCF@ds_HCM_normal</th>\n",
              "      <th>...</th>\n",
              "      <th>ref@GATA3@ds_MCF-7_normal</th>\n",
              "      <th>ref@JunD@ds_H1-hESC_None.1</th>\n",
              "      <th>ref@MafK@ds_K562_normal</th>\n",
              "      <th>ref@NRSF@ds_A549_EtOH_0.02pct</th>\n",
              "      <th>ref@Pol2-4H8@ds_GM12891_normal</th>\n",
              "      <th>ref@Pol2@ds_GM12878_None.2</th>\n",
              "      <th>ref@Pol2@ds_GM12878_None.3</th>\n",
              "      <th>ref@Pol2@ds_GM12878_normal</th>\n",
              "      <th>ref@c-Fos@ds_K562_normal</th>\n",
              "      <th>ref@c-Myc@ds_K562_normal</th>\n",
              "    </tr>\n",
              "  </thead>\n",
              "  <tbody>\n",
              "    <tr>\n",
              "      <th>0</th>\n",
              "      <td>9</td>\n",
              "      <td>104195582</td>\n",
              "      <td>G</td>\n",
              "      <td>C</td>\n",
              "      <td>-0.009418</td>\n",
              "      <td>0.001075</td>\n",
              "      <td>0</td>\n",
              "      <td>ALDOB</td>\n",
              "      <td>0.000056</td>\n",
              "      <td>0.000949</td>\n",
              "      <td>...</td>\n",
              "      <td>0.00934</td>\n",
              "      <td>0.000637</td>\n",
              "      <td>0.082889</td>\n",
              "      <td>0.007880</td>\n",
              "      <td>0.000568</td>\n",
              "      <td>0.000095</td>\n",
              "      <td>0.000287</td>\n",
              "      <td>0.000147</td>\n",
              "      <td>0.000588</td>\n",
              "      <td>0.001214</td>\n",
              "    </tr>\n",
              "    <tr>\n",
              "      <th>1</th>\n",
              "      <td>9</td>\n",
              "      <td>104195582</td>\n",
              "      <td>G</td>\n",
              "      <td>T</td>\n",
              "      <td>-0.212088</td>\n",
              "      <td>0.034187</td>\n",
              "      <td>0</td>\n",
              "      <td>ALDOB</td>\n",
              "      <td>0.000051</td>\n",
              "      <td>0.000857</td>\n",
              "      <td>...</td>\n",
              "      <td>0.00934</td>\n",
              "      <td>0.000637</td>\n",
              "      <td>0.082889</td>\n",
              "      <td>0.007880</td>\n",
              "      <td>0.000568</td>\n",
              "      <td>0.000095</td>\n",
              "      <td>0.000287</td>\n",
              "      <td>0.000147</td>\n",
              "      <td>0.000588</td>\n",
              "      <td>0.001214</td>\n",
              "    </tr>\n",
              "    <tr>\n",
              "      <th>2</th>\n",
              "      <td>9</td>\n",
              "      <td>104195700</td>\n",
              "      <td>T</td>\n",
              "      <td>A</td>\n",
              "      <td>0.709840</td>\n",
              "      <td>0.364072</td>\n",
              "      <td>1</td>\n",
              "      <td>ALDOB</td>\n",
              "      <td>0.000089</td>\n",
              "      <td>0.001784</td>\n",
              "      <td>...</td>\n",
              "      <td>0.00292</td>\n",
              "      <td>0.001019</td>\n",
              "      <td>0.100890</td>\n",
              "      <td>0.004289</td>\n",
              "      <td>0.000554</td>\n",
              "      <td>0.000142</td>\n",
              "      <td>0.000209</td>\n",
              "      <td>0.000282</td>\n",
              "      <td>0.001091</td>\n",
              "      <td>0.000891</td>\n",
              "    </tr>\n",
              "  </tbody>\n",
              "</table>\n",
              "<p>3 rows × 108 columns</p>\n",
              "</div>\n",
              "    <div class=\"colab-df-buttons\">\n",
              "\n",
              "  <div class=\"colab-df-container\">\n",
              "    <button class=\"colab-df-convert\" onclick=\"convertToInteractive('df-49b6cd16-52dd-458a-8c75-9d4650c62cbe')\"\n",
              "            title=\"Convert this dataframe to an interactive table.\"\n",
              "            style=\"display:none;\">\n",
              "\n",
              "  <svg xmlns=\"http://www.w3.org/2000/svg\" height=\"24px\" viewBox=\"0 -960 960 960\">\n",
              "    <path d=\"M120-120v-720h720v720H120Zm60-500h600v-160H180v160Zm220 220h160v-160H400v160Zm0 220h160v-160H400v160ZM180-400h160v-160H180v160Zm440 0h160v-160H620v160ZM180-180h160v-160H180v160Zm440 0h160v-160H620v160Z\"/>\n",
              "  </svg>\n",
              "    </button>\n",
              "\n",
              "  <style>\n",
              "    .colab-df-container {\n",
              "      display:flex;\n",
              "      gap: 12px;\n",
              "    }\n",
              "\n",
              "    .colab-df-convert {\n",
              "      background-color: #E8F0FE;\n",
              "      border: none;\n",
              "      border-radius: 50%;\n",
              "      cursor: pointer;\n",
              "      display: none;\n",
              "      fill: #1967D2;\n",
              "      height: 32px;\n",
              "      padding: 0 0 0 0;\n",
              "      width: 32px;\n",
              "    }\n",
              "\n",
              "    .colab-df-convert:hover {\n",
              "      background-color: #E2EBFA;\n",
              "      box-shadow: 0px 1px 2px rgba(60, 64, 67, 0.3), 0px 1px 3px 1px rgba(60, 64, 67, 0.15);\n",
              "      fill: #174EA6;\n",
              "    }\n",
              "\n",
              "    .colab-df-buttons div {\n",
              "      margin-bottom: 4px;\n",
              "    }\n",
              "\n",
              "    [theme=dark] .colab-df-convert {\n",
              "      background-color: #3B4455;\n",
              "      fill: #D2E3FC;\n",
              "    }\n",
              "\n",
              "    [theme=dark] .colab-df-convert:hover {\n",
              "      background-color: #434B5C;\n",
              "      box-shadow: 0px 1px 3px 1px rgba(0, 0, 0, 0.15);\n",
              "      filter: drop-shadow(0px 1px 2px rgba(0, 0, 0, 0.3));\n",
              "      fill: #FFFFFF;\n",
              "    }\n",
              "  </style>\n",
              "\n",
              "    <script>\n",
              "      const buttonEl =\n",
              "        document.querySelector('#df-49b6cd16-52dd-458a-8c75-9d4650c62cbe button.colab-df-convert');\n",
              "      buttonEl.style.display =\n",
              "        google.colab.kernel.accessAllowed ? 'block' : 'none';\n",
              "\n",
              "      async function convertToInteractive(key) {\n",
              "        const element = document.querySelector('#df-49b6cd16-52dd-458a-8c75-9d4650c62cbe');\n",
              "        const dataTable =\n",
              "          await google.colab.kernel.invokeFunction('convertToInteractive',\n",
              "                                                    [key], {});\n",
              "        if (!dataTable) return;\n",
              "\n",
              "        const docLinkHtml = 'Like what you see? Visit the ' +\n",
              "          '<a target=\"_blank\" href=https://colab.research.google.com/notebooks/data_table.ipynb>data table notebook</a>'\n",
              "          + ' to learn more about interactive tables.';\n",
              "        element.innerHTML = '';\n",
              "        dataTable['output_type'] = 'display_data';\n",
              "        await google.colab.output.renderOutput(dataTable, element);\n",
              "        const docLink = document.createElement('div');\n",
              "        docLink.innerHTML = docLinkHtml;\n",
              "        element.appendChild(docLink);\n",
              "      }\n",
              "    </script>\n",
              "  </div>\n",
              "\n",
              "\n",
              "<div id=\"df-6f5eff5a-ae31-47c1-aa88-6b6cb29ebc93\">\n",
              "  <button class=\"colab-df-quickchart\" onclick=\"quickchart('df-6f5eff5a-ae31-47c1-aa88-6b6cb29ebc93')\"\n",
              "            title=\"Suggest charts\"\n",
              "            style=\"display:none;\">\n",
              "\n",
              "<svg xmlns=\"http://www.w3.org/2000/svg\" height=\"24px\"viewBox=\"0 0 24 24\"\n",
              "     width=\"24px\">\n",
              "    <g>\n",
              "        <path d=\"M19 3H5c-1.1 0-2 .9-2 2v14c0 1.1.9 2 2 2h14c1.1 0 2-.9 2-2V5c0-1.1-.9-2-2-2zM9 17H7v-7h2v7zm4 0h-2V7h2v10zm4 0h-2v-4h2v4z\"/>\n",
              "    </g>\n",
              "</svg>\n",
              "  </button>\n",
              "\n",
              "<style>\n",
              "  .colab-df-quickchart {\n",
              "      --bg-color: #E8F0FE;\n",
              "      --fill-color: #1967D2;\n",
              "      --hover-bg-color: #E2EBFA;\n",
              "      --hover-fill-color: #174EA6;\n",
              "      --disabled-fill-color: #AAA;\n",
              "      --disabled-bg-color: #DDD;\n",
              "  }\n",
              "\n",
              "  [theme=dark] .colab-df-quickchart {\n",
              "      --bg-color: #3B4455;\n",
              "      --fill-color: #D2E3FC;\n",
              "      --hover-bg-color: #434B5C;\n",
              "      --hover-fill-color: #FFFFFF;\n",
              "      --disabled-bg-color: #3B4455;\n",
              "      --disabled-fill-color: #666;\n",
              "  }\n",
              "\n",
              "  .colab-df-quickchart {\n",
              "    background-color: var(--bg-color);\n",
              "    border: none;\n",
              "    border-radius: 50%;\n",
              "    cursor: pointer;\n",
              "    display: none;\n",
              "    fill: var(--fill-color);\n",
              "    height: 32px;\n",
              "    padding: 0;\n",
              "    width: 32px;\n",
              "  }\n",
              "\n",
              "  .colab-df-quickchart:hover {\n",
              "    background-color: var(--hover-bg-color);\n",
              "    box-shadow: 0 1px 2px rgba(60, 64, 67, 0.3), 0 1px 3px 1px rgba(60, 64, 67, 0.15);\n",
              "    fill: var(--button-hover-fill-color);\n",
              "  }\n",
              "\n",
              "  .colab-df-quickchart-complete:disabled,\n",
              "  .colab-df-quickchart-complete:disabled:hover {\n",
              "    background-color: var(--disabled-bg-color);\n",
              "    fill: var(--disabled-fill-color);\n",
              "    box-shadow: none;\n",
              "  }\n",
              "\n",
              "  .colab-df-spinner {\n",
              "    border: 2px solid var(--fill-color);\n",
              "    border-color: transparent;\n",
              "    border-bottom-color: var(--fill-color);\n",
              "    animation:\n",
              "      spin 1s steps(1) infinite;\n",
              "  }\n",
              "\n",
              "  @keyframes spin {\n",
              "    0% {\n",
              "      border-color: transparent;\n",
              "      border-bottom-color: var(--fill-color);\n",
              "      border-left-color: var(--fill-color);\n",
              "    }\n",
              "    20% {\n",
              "      border-color: transparent;\n",
              "      border-left-color: var(--fill-color);\n",
              "      border-top-color: var(--fill-color);\n",
              "    }\n",
              "    30% {\n",
              "      border-color: transparent;\n",
              "      border-left-color: var(--fill-color);\n",
              "      border-top-color: var(--fill-color);\n",
              "      border-right-color: var(--fill-color);\n",
              "    }\n",
              "    40% {\n",
              "      border-color: transparent;\n",
              "      border-right-color: var(--fill-color);\n",
              "      border-top-color: var(--fill-color);\n",
              "    }\n",
              "    60% {\n",
              "      border-color: transparent;\n",
              "      border-right-color: var(--fill-color);\n",
              "    }\n",
              "    80% {\n",
              "      border-color: transparent;\n",
              "      border-right-color: var(--fill-color);\n",
              "      border-bottom-color: var(--fill-color);\n",
              "    }\n",
              "    90% {\n",
              "      border-color: transparent;\n",
              "      border-bottom-color: var(--fill-color);\n",
              "    }\n",
              "  }\n",
              "</style>\n",
              "\n",
              "  <script>\n",
              "    async function quickchart(key) {\n",
              "      const quickchartButtonEl =\n",
              "        document.querySelector('#' + key + ' button');\n",
              "      quickchartButtonEl.disabled = true;  // To prevent multiple clicks.\n",
              "      quickchartButtonEl.classList.add('colab-df-spinner');\n",
              "      try {\n",
              "        const charts = await google.colab.kernel.invokeFunction(\n",
              "            'suggestCharts', [key], {});\n",
              "      } catch (error) {\n",
              "        console.error('Error during call to suggestCharts:', error);\n",
              "      }\n",
              "      quickchartButtonEl.classList.remove('colab-df-spinner');\n",
              "      quickchartButtonEl.classList.add('colab-df-quickchart-complete');\n",
              "    }\n",
              "    (() => {\n",
              "      let quickchartButtonEl =\n",
              "        document.querySelector('#df-6f5eff5a-ae31-47c1-aa88-6b6cb29ebc93 button');\n",
              "      quickchartButtonEl.style.display =\n",
              "        google.colab.kernel.accessAllowed ? 'block' : 'none';\n",
              "    })();\n",
              "  </script>\n",
              "</div>\n",
              "\n",
              "    </div>\n",
              "  </div>\n"
            ],
            "application/vnd.google.colaboratory.intrinsic+json": {
              "type": "dataframe",
              "variable_name": "tfs"
            }
          },
          "metadata": {},
          "execution_count": 24
        }
      ]
    },
    {
      "cell_type": "code",
      "source": [
        "X = tfs.iloc[:, 8:]\n",
        "y = tfs[\"Value\"]"
      ],
      "metadata": {
        "id": "3uIgK0U0c5pk"
      },
      "id": "3uIgK0U0c5pk",
      "execution_count": null,
      "outputs": []
    },
    {
      "cell_type": "markdown",
      "metadata": {
        "id": "de761526-7be2-4f21-b92d-1df55ec1e59e"
      },
      "source": [
        "**Разбейте X и y на тренировочную и тестовую выборки**, как в лекции. Соотношение train/test поставьте равным 4:1.\\\n",
        "*Подсказка*: воспользуйтесь функцией `train_test_split`."
      ],
      "id": "de761526-7be2-4f21-b92d-1df55ec1e59e"
    },
    {
      "cell_type": "code",
      "metadata": {
        "id": "2685d7e6-1f7a-4c22-9e7d-c4312c39bb53"
      },
      "source": [
        "X_train, X_test, y_train, y_test = train_test_split(X, y, test_size=0.2,\n",
        "                                                    random_state=777)"
      ],
      "id": "2685d7e6-1f7a-4c22-9e7d-c4312c39bb53",
      "execution_count": null,
      "outputs": []
    },
    {
      "cell_type": "markdown",
      "metadata": {
        "id": "ec0a711a-5755-4bba-9bed-0a4718d1248d"
      },
      "source": [
        "**Осуществите стандартизацию признаков в выборке**."
      ],
      "id": "ec0a711a-5755-4bba-9bed-0a4718d1248d"
    },
    {
      "cell_type": "code",
      "metadata": {
        "id": "4ebe265e-aa17-47a7-9faa-727eb06ec19a"
      },
      "source": [
        "scaler = StandardScaler()\n",
        "scaler.fit(X_train)\n",
        "X_train_scaled = scaler.transform(X_train)\n",
        "X_test_scaled = scaler.transform(X_test)"
      ],
      "id": "4ebe265e-aa17-47a7-9faa-727eb06ec19a",
      "execution_count": null,
      "outputs": []
    },
    {
      "cell_type": "markdown",
      "metadata": {
        "id": "74eb7e2b-4dc8-4d36-83ab-9ef5cf252886"
      },
      "source": [
        "**Импортируйте модель линейной регрессии и обучите ее на соответствующей части выборки (`model.fit`)**."
      ],
      "id": "74eb7e2b-4dc8-4d36-83ab-9ef5cf252886"
    },
    {
      "cell_type": "code",
      "metadata": {
        "id": "4a24c5cf-6993-4c8a-8f87-6c061a9bfafa"
      },
      "source": [
        "from sklearn.linear_model import LinearRegression\n",
        "\n",
        "linear = LinearRegression()\n",
        "linear.fit(X_train_scaled, y_train)\n",
        "y_test_pred = linear.predict(X_test_scaled)"
      ],
      "id": "4a24c5cf-6993-4c8a-8f87-6c061a9bfafa",
      "execution_count": null,
      "outputs": []
    },
    {
      "cell_type": "markdown",
      "metadata": {
        "id": "04d4e9d0-8122-46e1-9341-e5000f3ee715"
      },
      "source": [
        "**Получите предсказание на оставшейся выборке**. Оцените его качество метриками MSE и RMSE. Насколько хороша модель?"
      ],
      "id": "04d4e9d0-8122-46e1-9341-e5000f3ee715"
    },
    {
      "cell_type": "code",
      "metadata": {
        "id": "c7062e89-3cff-4167-96ee-7b1b3df74f8e",
        "colab": {
          "base_uri": "https://localhost:8080/"
        },
        "outputId": "9c419bc2-b4a3-4cbb-edcb-f6581b610798"
      },
      "source": [
        "root_mean_squared_error(y_true=y_test, y_pred=y_test_pred)"
      ],
      "id": "c7062e89-3cff-4167-96ee-7b1b3df74f8e",
      "execution_count": null,
      "outputs": [
        {
          "output_type": "execute_result",
          "data": {
            "text/plain": [
              "0.3044481698074034"
            ]
          },
          "metadata": {},
          "execution_count": 29
        }
      ]
    },
    {
      "cell_type": "code",
      "source": [
        "mean_absolute_error(y_true=y_test, y_pred=y_test_pred)"
      ],
      "metadata": {
        "colab": {
          "base_uri": "https://localhost:8080/"
        },
        "id": "_8BFTu4QdilY",
        "outputId": "40eb7ef3-ce5b-4a7a-9003-bd6f44dcf9b6"
      },
      "id": "_8BFTu4QdilY",
      "execution_count": null,
      "outputs": [
        {
          "output_type": "execute_result",
          "data": {
            "text/plain": [
              "0.20309195555379922"
            ]
          },
          "metadata": {},
          "execution_count": 30
        }
      ]
    },
    {
      "cell_type": "markdown",
      "source": [
        "Оцените качество графически и с помощью коэффициента корреляции Пирсона."
      ],
      "metadata": {
        "id": "jt7YjY3yEZKx"
      },
      "id": "jt7YjY3yEZKx"
    },
    {
      "cell_type": "code",
      "source": [
        "plt.plot(y_test, y_test_pred, 'k.')"
      ],
      "metadata": {
        "id": "RfKCvCLrEg5N",
        "colab": {
          "base_uri": "https://localhost:8080/",
          "height": 451
        },
        "outputId": "6e1b9bb7-db15-485f-bcfa-ff052f755ee3"
      },
      "id": "RfKCvCLrEg5N",
      "execution_count": null,
      "outputs": [
        {
          "output_type": "execute_result",
          "data": {
            "text/plain": [
              "[<matplotlib.lines.Line2D at 0x7d066c6843a0>]"
            ]
          },
          "metadata": {},
          "execution_count": 31
        },
        {
          "output_type": "display_data",
          "data": {
            "text/plain": [
              "<Figure size 640x480 with 1 Axes>"
            ],
            "image/png": "[encoded data removed]"
          },
          "metadata": {}
        }
      ]
    },
    {
      "cell_type": "code",
      "source": [
        "from scipy.stats import pearsonr\n",
        "pearsonr(y_test, y_test_pred)"
      ],
      "metadata": {
        "colab": {
          "base_uri": "https://localhost:8080/"
        },
        "id": "LmRZ-HwHeP-C",
        "outputId": "5b72fe93-2e8f-435d-c48a-d593ecf2b57c"
      },
      "id": "LmRZ-HwHeP-C",
      "execution_count": null,
      "outputs": [
        {
          "output_type": "execute_result",
          "data": {
            "text/plain": [
              "PearsonRResult(statistic=0.6398985462423573, pvalue=1.9806784194610288e-24)"
            ]
          },
          "metadata": {},
          "execution_count": 32
        }
      ]
    },
    {
      "cell_type": "markdown",
      "source": [
        "**Воспользуйтесь моделью kNN-regressor**. Оцените ее качество."
      ],
      "metadata": {
        "id": "N-W07mxXc38e"
      },
      "id": "N-W07mxXc38e"
    },
    {
      "cell_type": "code",
      "source": [
        "from sklearn.neighbors import KNeighborsRegressor\n",
        "\n",
        "reg = KNeighborsRegressor()\n",
        "reg.fit(X_train_scaled, y_train)\n",
        "y_test_pred = reg.predict(X_test_scaled)"
      ],
      "metadata": {
        "id": "nvgM-ecwEN27"
      },
      "id": "nvgM-ecwEN27",
      "execution_count": null,
      "outputs": []
    },
    {
      "cell_type": "code",
      "source": [
        "plt.plot(y_test, y_test_pred, 'k.')"
      ],
      "metadata": {
        "colab": {
          "base_uri": "https://localhost:8080/",
          "height": 451
        },
        "id": "EmPM-iRXznlp",
        "outputId": "194b12a8-6173-4163-e45c-fb104e4e1fa5"
      },
      "id": "EmPM-iRXznlp",
      "execution_count": null,
      "outputs": [
        {
          "output_type": "execute_result",
          "data": {
            "text/plain": [
              "[<matplotlib.lines.Line2D at 0x7d066755f4f0>]"
            ]
          },
          "metadata": {},
          "execution_count": 34
        },
        {
          "output_type": "display_data",
          "data": {
            "text/plain": [
              "<Figure size 640x480 with 1 Axes>"
            ],
            "image/png": "[encoded data removed]"
          },
          "metadata": {}
        }
      ]
    },
    {
      "cell_type": "code",
      "source": [
        "pearsonr(y_test, y_test_pred)"
      ],
      "metadata": {
        "colab": {
          "base_uri": "https://localhost:8080/"
        },
        "id": "nEXcVsO5z-0h",
        "outputId": "1ea4a7d2-58d9-4f1b-bdd5-7950643dfeb2"
      },
      "id": "nEXcVsO5z-0h",
      "execution_count": null,
      "outputs": [
        {
          "output_type": "execute_result",
          "data": {
            "text/plain": [
              "PearsonRResult(statistic=0.7068545864865953, pvalue=1.3497825958481552e-31)"
            ]
          },
          "metadata": {},
          "execution_count": 35
        }
      ]
    },
    {
      "cell_type": "markdown",
      "metadata": {
        "id": "cd886df0-66f0-4e46-8754-ba221400048e"
      },
      "source": [
        "Разбейте X и y на тренировочную и тестовую выборки, **так, как указано в ячейке ниже**. Повторите все шаги, чтобы определить качество регрессии для линейной и kNN-регрессий."
      ],
      "id": "cd886df0-66f0-4e46-8754-ba221400048e"
    },
    {
      "cell_type": "markdown",
      "source": [
        "Биологический смысл указанного разбиения: использовать для обучения один промоторный регион при осуществлении предсказания на другом."
      ],
      "metadata": {
        "id": "_8OxPRsmhMFR"
      },
      "id": "_8OxPRsmhMFR"
    },
    {
      "cell_type": "code",
      "metadata": {
        "id": "64ed362f-42ad-4fa8-b833-80745c8c962e"
      },
      "source": [
        "X_train = X[tfs[\"construction\"] == \"ECR11\"].values\n",
        "X_test = X[tfs[\"construction\"] == \"ALDOB\"].values\n",
        "y_train = y[tfs[\"construction\"] == \"ECR11\"].values\n",
        "y_test = y[tfs[\"construction\"] == \"ALDOB\"].values"
      ],
      "id": "64ed362f-42ad-4fa8-b833-80745c8c962e",
      "execution_count": null,
      "outputs": []
    },
    {
      "cell_type": "code",
      "metadata": {
        "id": "ITpCInYs-8o5"
      },
      "source": [
        "scaler = StandardScaler()\n",
        "scaler.fit(X_train)\n",
        "X_train_scaled = scaler.transform(X_train)\n",
        "X_test_scaled = scaler.transform(X_test)"
      ],
      "execution_count": null,
      "outputs": [],
      "id": "ITpCInYs-8o5"
    },
    {
      "cell_type": "code",
      "metadata": {
        "id": "rrt-8yA2-8o6"
      },
      "source": [
        "linear = LinearRegression()\n",
        "linear.fit(X_train_scaled, y_train)\n",
        "y_test_pred = linear.predict(X_test_scaled)"
      ],
      "execution_count": null,
      "outputs": [],
      "id": "rrt-8yA2-8o6"
    },
    {
      "cell_type": "code",
      "metadata": {
        "colab": {
          "base_uri": "https://localhost:8080/"
        },
        "outputId": "cbe44209-05ab-446f-904c-eb9bccea0e3e",
        "id": "cqDieYky-8o6"
      },
      "source": [
        "root_mean_squared_error(y_true=y_test, y_pred=y_test_pred)"
      ],
      "execution_count": null,
      "outputs": [
        {
          "output_type": "execute_result",
          "data": {
            "text/plain": [
              "25.603565720559686"
            ]
          },
          "metadata": {},
          "execution_count": 45
        }
      ],
      "id": "cqDieYky-8o6"
    },
    {
      "cell_type": "code",
      "source": [
        "plt.plot(y_test, y_test_pred, 'k.')"
      ],
      "metadata": {
        "colab": {
          "base_uri": "https://localhost:8080/",
          "height": 451
        },
        "outputId": "62bd35bb-b8d1-4990-a6a4-2d5270af0a29",
        "id": "-Za0U9kq-8o6"
      },
      "execution_count": null,
      "outputs": [
        {
          "output_type": "execute_result",
          "data": {
            "text/plain": [
              "[<matplotlib.lines.Line2D at 0x7d06657d40a0>]"
            ]
          },
          "metadata": {},
          "execution_count": 46
        },
        {
          "output_type": "display_data",
          "data": {
            "text/plain": [
              "<Figure size 640x480 with 1 Axes>"
            ],
            "image/png": "[encoded data removed]"
          },
          "metadata": {}
        }
      ],
      "id": "-Za0U9kq-8o6"
    },
    {
      "cell_type": "code",
      "source": [
        "from scipy.stats import pearsonr\n",
        "pearsonr(y_test, y_test_pred)"
      ],
      "metadata": {
        "colab": {
          "base_uri": "https://localhost:8080/"
        },
        "outputId": "42609afd-076b-480d-abb8-60b6c2ed85ab",
        "id": "pmODLmHM-8o6"
      },
      "execution_count": null,
      "outputs": [
        {
          "output_type": "execute_result",
          "data": {
            "text/plain": [
              "PearsonRResult(statistic=-0.07324465941475196, pvalue=0.10186072194757045)"
            ]
          },
          "metadata": {},
          "execution_count": 47
        }
      ],
      "id": "pmODLmHM-8o6"
    },
    {
      "cell_type": "code",
      "source": [
        "reg = KNeighborsRegressor()\n",
        "reg.fit(X_train_scaled, y_train)\n",
        "y_test_pred = reg.predict(X_test_scaled)"
      ],
      "metadata": {
        "id": "VXLb7Pex_gXI"
      },
      "execution_count": null,
      "outputs": [],
      "id": "VXLb7Pex_gXI"
    },
    {
      "cell_type": "code",
      "source": [
        "plt.plot(y_test, y_test_pred, 'k.')"
      ],
      "metadata": {
        "colab": {
          "base_uri": "https://localhost:8080/",
          "height": 451
        },
        "outputId": "aaf7d290-6010-4829-c698-67a7d904c786",
        "id": "tnhec93K_gXI"
      },
      "execution_count": null,
      "outputs": [
        {
          "output_type": "execute_result",
          "data": {
            "text/plain": [
              "[<matplotlib.lines.Line2D at 0x7d0667e4efe0>]"
            ]
          },
          "metadata": {},
          "execution_count": 49
        },
        {
          "output_type": "display_data",
          "data": {
            "text/plain": [
              "<Figure size 640x480 with 1 Axes>"
            ],
            "image/png": "[encoded data removed]"
          },
          "metadata": {}
        }
      ],
      "id": "tnhec93K_gXI"
    },
    {
      "cell_type": "code",
      "source": [
        "pearsonr(y_test, y_test_pred)"
      ],
      "metadata": {
        "colab": {
          "base_uri": "https://localhost:8080/"
        },
        "outputId": "098e1915-1465-433a-82fd-d092dfbc0cf9",
        "id": "eXhaUfSf_gXI"
      },
      "execution_count": null,
      "outputs": [
        {
          "output_type": "execute_result",
          "data": {
            "text/plain": [
              "PearsonRResult(statistic=0.059934835515804294, pvalue=0.18088586808257862)"
            ]
          },
          "metadata": {},
          "execution_count": 50
        }
      ],
      "id": "eXhaUfSf_gXI"
    },
    {
      "cell_type": "markdown",
      "metadata": {
        "id": "16bcf556-47ef-460c-aaaf-97442ca77692"
      },
      "source": [
        "**Сделайте выводы о пригодности модели линейной регрессии для такого анализа**. Есть ли здесь биологический смысл?"
      ],
      "id": "16bcf556-47ef-460c-aaaf-97442ca77692"
    },
    {
      "cell_type": "code",
      "source": [
        "# линейная регрессия не справилась, kNN тоже"
      ],
      "metadata": {
        "id": "Nwp_EEiK_QF8"
      },
      "id": "Nwp_EEiK_QF8",
      "execution_count": null,
      "outputs": []
    }
  ]
}