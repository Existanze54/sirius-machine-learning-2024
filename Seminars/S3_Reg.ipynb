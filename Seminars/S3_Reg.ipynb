{
  "nbformat": 4,
  "nbformat_minor": 5,
  "metadata": {
    "kernelspec": {
      "display_name": "Python 3",
      "language": "python",
      "name": "python3"
    },
    "language_info": {
      "codemirror_mode": {
        "name": "ipython",
        "version": 3
      },
      "file_extension": ".py",
      "mimetype": "text/x-python",
      "name": "python",
      "nbconvert_exporter": "python",
      "pygments_lexer": "ipython3",
      "version": "3.7.10"
    },
    "colab": {
      "provenance": [],
      "include_colab_link": true
    }
  },
  "cells": [
    {
      "cell_type": "markdown",
      "metadata": {
        "id": "view-in-github",
        "colab_type": "text"
      },
      "source": [
        "<a href=\"https://colab.research.google.com/github/Existanze54/sirius-machine-learning-2024/blob/main/Seminars/S3_Reg.ipynb\" target=\"_parent\"><img src=\"https://colab.research.google.com/assets/colab-badge.svg\" alt=\"Open In Colab\"/></a>"
      ]
    },
    {
      "cell_type": "markdown",
      "metadata": {
        "id": "bb9cd518-2ed8-495f-bea5-6c1c701708c6"
      },
      "source": [
        "# Основные алгоритмы ML\n",
        "\n",
        "### Семинар 3. Модели регрессии: kNN, линейная, логистическая. Метрики качества RMSE, MAE, коэффициент корреляции r-Пирсона"
      ],
      "id": "bb9cd518-2ed8-495f-bea5-6c1c701708c6"
    },
    {
      "cell_type": "code",
      "metadata": {
        "id": "654ff1e0-8eac-452c-a57e-66501bb1a884"
      },
      "source": [
        "import numpy as np\n",
        "import pandas as pd\n",
        "\n",
        "import matplotlib.pyplot as plt\n",
        "import seaborn as sns\n",
        "\n",
        "sns.set()\n",
        "sns.set_style(\"whitegrid\")"
      ],
      "id": "654ff1e0-8eac-452c-a57e-66501bb1a884",
      "execution_count": null,
      "outputs": []
    },
    {
      "cell_type": "markdown",
      "metadata": {
        "id": "89d5e03d-32f0-48ab-9974-1bc2327f6ede"
      },
      "source": [
        "### Задача 1: Предсказание растворимости белков"
      ],
      "id": "89d5e03d-32f0-48ab-9974-1bc2327f6ede"
    },
    {
      "cell_type": "markdown",
      "metadata": {
        "id": "82a27b22-3e1c-484a-bd21-c231de7bb52a"
      },
      "source": [
        "В этой задаче предлагается произвести предсказание растворимости различных белков, используя их физико-химические свойства и белковый состав."
      ],
      "id": "82a27b22-3e1c-484a-bd21-c231de7bb52a"
    },
    {
      "cell_type": "code",
      "metadata": {
        "id": "S22zU4DvNk6h",
        "colab": {
          "base_uri": "https://localhost:8080/"
        },
        "outputId": "8e44b2f5-8dea-4076-bec6-cf5ec9e33af9"
      },
      "source": [
        "!wget https://data.bioml.ru/htdocs/courses/bioml/classic_ml/supervised/regression/data/solubility_data.csv"
      ],
      "id": "S22zU4DvNk6h",
      "execution_count": null,
      "outputs": [
        {
          "output_type": "stream",
          "name": "stdout",
          "text": [
            "--2024-11-13 04:47:07--  https://data.bioml.ru/htdocs/courses/bioml/classic_ml/supervised/regression/data/solubility_data.csv\n",
            "Resolving data.bioml.ru (data.bioml.ru)... 188.120.231.217\n",
            "Connecting to data.bioml.ru (data.bioml.ru)|188.120.231.217|:443... connected.\n",
            "HTTP request sent, awaiting response... 200 OK\n",
            "Length: 184108 (180K) [text/csv]\n",
            "Saving to: ‘solubility_data.csv’\n",
            "\n",
            "solubility_data.csv 100%[===================>] 179.79K   496KB/s    in 0.4s    \n",
            "\n",
            "2024-11-13 04:47:08 (496 KB/s) - ‘solubility_data.csv’ saved [184108/184108]\n",
            "\n"
          ]
        }
      ]
    },
    {
      "cell_type": "markdown",
      "metadata": {
        "id": "22d78c75-e3bf-435c-8b16-7cf21ff153f2"
      },
      "source": [
        "Датасет `solubility_data.csv` загружен за вас, определены `X` и `y`."
      ],
      "id": "22d78c75-e3bf-435c-8b16-7cf21ff153f2"
    },
    {
      "cell_type": "code",
      "metadata": {
        "id": "9da660ce-7081-41ca-a067-c60c625b7f4b",
        "colab": {
          "base_uri": "https://localhost:8080/",
          "height": 268
        },
        "outputId": "9775ee76-9cc1-4871-90c9-6a686c9a257e"
      },
      "source": [
        "sol = pd.read_csv(\"./solubility_data.csv\", header=0, index_col=0)\n",
        "sol.head(3)"
      ],
      "id": "9da660ce-7081-41ca-a067-c60c625b7f4b",
      "execution_count": null,
      "outputs": [
        {
          "output_type": "execute_result",
          "data": {
            "text/plain": [
              "            solubility  protein_sasa  length  molecular_weight  \\\n",
              "uniprot_id                                                       \n",
              "P32643              78  14538.357720     293        33936.5675   \n",
              "Q46829              70  19283.018950     470        54516.1438   \n",
              "P65556              19   8407.794332     157        17692.5095   \n",
              "\n",
              "            instability_index  isoelectric_point  helix_fraction  \\\n",
              "uniprot_id                                                         \n",
              "P32643              40.259795           5.866034        0.310580   \n",
              "Q46829              34.295149           5.655559        0.329787   \n",
              "P65556              54.505159           4.679577        0.286624   \n",
              "\n",
              "            turn_fraction  sheet_fraction  \\\n",
              "uniprot_id                                  \n",
              "P32643           0.208191        0.187713   \n",
              "Q46829           0.214894        0.225532   \n",
              "P65556           0.165605        0.312102   \n",
              "\n",
              "            reduced_molar_extinction_coefficient  ...   A2   B2    C2  A3  \\\n",
              "uniprot_id                                        ...                       \n",
              "P32643                                     59360  ...    0  0.0   0.0   0   \n",
              "Q46829                                    111160  ...  279  1.1  92.5   0   \n",
              "P65556                                     24980  ...    0  0.0   0.0   0   \n",
              "\n",
              "             B3   C3  A4   B4  C4  TM  \n",
              "uniprot_id                             \n",
              "P32643      0.0  0.0   0  0.0   0   0  \n",
              "Q46829      0.0  0.0   0  0.0   0   0  \n",
              "P65556      0.0  0.0   0  0.0   0   0  \n",
              "\n",
              "[3 rows x 46 columns]"
            ],
            "text/html": [
              "\n",
              "  <div id=\"df-11c4dbb4-0fed-4448-98a2-11a83d132f00\">\n",
              "    <div class=\"colab-df-container\">\n",
              "      <div>\n",
              "<style scoped>\n",
              "    .dataframe tbody tr th:only-of-type {\n",
              "        vertical-align: middle;\n",
              "    }\n",
              "\n",
              "    .dataframe tbody tr th {\n",
              "        vertical-align: top;\n",
              "    }\n",
              "\n",
              "    .dataframe thead th {\n",
              "        text-align: right;\n",
              "    }\n",
              "</style>\n",
              "<table border=\"1\" class=\"dataframe\">\n",
              "  <thead>\n",
              "    <tr style=\"text-align: right;\">\n",
              "      <th></th>\n",
              "      <th>solubility</th>\n",
              "      <th>protein_sasa</th>\n",
              "      <th>length</th>\n",
              "      <th>molecular_weight</th>\n",
              "      <th>instability_index</th>\n",
              "      <th>isoelectric_point</th>\n",
              "      <th>helix_fraction</th>\n",
              "      <th>turn_fraction</th>\n",
              "      <th>sheet_fraction</th>\n",
              "      <th>reduced_molar_extinction_coefficient</th>\n",
              "      <th>...</th>\n",
              "      <th>A2</th>\n",
              "      <th>B2</th>\n",
              "      <th>C2</th>\n",
              "      <th>A3</th>\n",
              "      <th>B3</th>\n",
              "      <th>C3</th>\n",
              "      <th>A4</th>\n",
              "      <th>B4</th>\n",
              "      <th>C4</th>\n",
              "      <th>TM</th>\n",
              "    </tr>\n",
              "    <tr>\n",
              "      <th>uniprot_id</th>\n",
              "      <th></th>\n",
              "      <th></th>\n",
              "      <th></th>\n",
              "      <th></th>\n",
              "      <th></th>\n",
              "      <th></th>\n",
              "      <th></th>\n",
              "      <th></th>\n",
              "      <th></th>\n",
              "      <th></th>\n",
              "      <th></th>\n",
              "      <th></th>\n",
              "      <th></th>\n",
              "      <th></th>\n",
              "      <th></th>\n",
              "      <th></th>\n",
              "      <th></th>\n",
              "      <th></th>\n",
              "      <th></th>\n",
              "      <th></th>\n",
              "      <th></th>\n",
              "    </tr>\n",
              "  </thead>\n",
              "  <tbody>\n",
              "    <tr>\n",
              "      <th>P32643</th>\n",
              "      <td>78</td>\n",
              "      <td>14538.357720</td>\n",
              "      <td>293</td>\n",
              "      <td>33936.5675</td>\n",
              "      <td>40.259795</td>\n",
              "      <td>5.866034</td>\n",
              "      <td>0.310580</td>\n",
              "      <td>0.208191</td>\n",
              "      <td>0.187713</td>\n",
              "      <td>59360</td>\n",
              "      <td>...</td>\n",
              "      <td>0</td>\n",
              "      <td>0.0</td>\n",
              "      <td>0.0</td>\n",
              "      <td>0</td>\n",
              "      <td>0.0</td>\n",
              "      <td>0.0</td>\n",
              "      <td>0</td>\n",
              "      <td>0.0</td>\n",
              "      <td>0</td>\n",
              "      <td>0</td>\n",
              "    </tr>\n",
              "    <tr>\n",
              "      <th>Q46829</th>\n",
              "      <td>70</td>\n",
              "      <td>19283.018950</td>\n",
              "      <td>470</td>\n",
              "      <td>54516.1438</td>\n",
              "      <td>34.295149</td>\n",
              "      <td>5.655559</td>\n",
              "      <td>0.329787</td>\n",
              "      <td>0.214894</td>\n",
              "      <td>0.225532</td>\n",
              "      <td>111160</td>\n",
              "      <td>...</td>\n",
              "      <td>279</td>\n",
              "      <td>1.1</td>\n",
              "      <td>92.5</td>\n",
              "      <td>0</td>\n",
              "      <td>0.0</td>\n",
              "      <td>0.0</td>\n",
              "      <td>0</td>\n",
              "      <td>0.0</td>\n",
              "      <td>0</td>\n",
              "      <td>0</td>\n",
              "    </tr>\n",
              "    <tr>\n",
              "      <th>P65556</th>\n",
              "      <td>19</td>\n",
              "      <td>8407.794332</td>\n",
              "      <td>157</td>\n",
              "      <td>17692.5095</td>\n",
              "      <td>54.505159</td>\n",
              "      <td>4.679577</td>\n",
              "      <td>0.286624</td>\n",
              "      <td>0.165605</td>\n",
              "      <td>0.312102</td>\n",
              "      <td>24980</td>\n",
              "      <td>...</td>\n",
              "      <td>0</td>\n",
              "      <td>0.0</td>\n",
              "      <td>0.0</td>\n",
              "      <td>0</td>\n",
              "      <td>0.0</td>\n",
              "      <td>0.0</td>\n",
              "      <td>0</td>\n",
              "      <td>0.0</td>\n",
              "      <td>0</td>\n",
              "      <td>0</td>\n",
              "    </tr>\n",
              "  </tbody>\n",
              "</table>\n",
              "<p>3 rows × 46 columns</p>\n",
              "</div>\n",
              "      <button class=\"colab-df-convert\" onclick=\"convertToInteractive('df-11c4dbb4-0fed-4448-98a2-11a83d132f00')\"\n",
              "              title=\"Convert this dataframe to an interactive table.\"\n",
              "              style=\"display:none;\">\n",
              "        \n",
              "  <svg xmlns=\"http://www.w3.org/2000/svg\" height=\"24px\"viewBox=\"0 0 24 24\"\n",
              "       width=\"24px\">\n",
              "    <path d=\"M0 0h24v24H0V0z\" fill=\"none\"/>\n",
              "    <path d=\"M18.56 5.44l.94 2.06.94-2.06 2.06-.94-2.06-.94-.94-2.06-.94 2.06-2.06.94zm-11 1L8.5 8.5l.94-2.06 2.06-.94-2.06-.94L8.5 2.5l-.94 2.06-2.06.94zm10 10l.94 2.06.94-2.06 2.06-.94-2.06-.94-.94-2.06-.94 2.06-2.06.94z\"/><path d=\"M17.41 7.96l-1.37-1.37c-.4-.4-.92-.59-1.43-.59-.52 0-1.04.2-1.43.59L10.3 9.45l-7.72 7.72c-.78.78-.78 2.05 0 2.83L4 21.41c.39.39.9.59 1.41.59.51 0 1.02-.2 1.41-.59l7.78-7.78 2.81-2.81c.8-.78.8-2.07 0-2.86zM5.41 20L4 18.59l7.72-7.72 1.47 1.35L5.41 20z\"/>\n",
              "  </svg>\n",
              "      </button>\n",
              "      \n",
              "  <style>\n",
              "    .colab-df-container {\n",
              "      display:flex;\n",
              "      flex-wrap:wrap;\n",
              "      gap: 12px;\n",
              "    }\n",
              "\n",
              "    .colab-df-convert {\n",
              "      background-color: #E8F0FE;\n",
              "      border: none;\n",
              "      border-radius: 50%;\n",
              "      cursor: pointer;\n",
              "      display: none;\n",
              "      fill: #1967D2;\n",
              "      height: 32px;\n",
              "      padding: 0 0 0 0;\n",
              "      width: 32px;\n",
              "    }\n",
              "\n",
              "    .colab-df-convert:hover {\n",
              "      background-color: #E2EBFA;\n",
              "      box-shadow: 0px 1px 2px rgba(60, 64, 67, 0.3), 0px 1px 3px 1px rgba(60, 64, 67, 0.15);\n",
              "      fill: #174EA6;\n",
              "    }\n",
              "\n",
              "    [theme=dark] .colab-df-convert {\n",
              "      background-color: #3B4455;\n",
              "      fill: #D2E3FC;\n",
              "    }\n",
              "\n",
              "    [theme=dark] .colab-df-convert:hover {\n",
              "      background-color: #434B5C;\n",
              "      box-shadow: 0px 1px 3px 1px rgba(0, 0, 0, 0.15);\n",
              "      filter: drop-shadow(0px 1px 2px rgba(0, 0, 0, 0.3));\n",
              "      fill: #FFFFFF;\n",
              "    }\n",
              "  </style>\n",
              "\n",
              "      <script>\n",
              "        const buttonEl =\n",
              "          document.querySelector('#df-11c4dbb4-0fed-4448-98a2-11a83d132f00 button.colab-df-convert');\n",
              "        buttonEl.style.display =\n",
              "          google.colab.kernel.accessAllowed ? 'block' : 'none';\n",
              "\n",
              "        async function convertToInteractive(key) {\n",
              "          const element = document.querySelector('#df-11c4dbb4-0fed-4448-98a2-11a83d132f00');\n",
              "          const dataTable =\n",
              "            await google.colab.kernel.invokeFunction('convertToInteractive',\n",
              "                                                     [key], {});\n",
              "          if (!dataTable) return;\n",
              "\n",
              "          const docLinkHtml = 'Like what you see? Visit the ' +\n",
              "            '<a target=\"_blank\" href=https://colab.research.google.com/notebooks/data_table.ipynb>data table notebook</a>'\n",
              "            + ' to learn more about interactive tables.';\n",
              "          element.innerHTML = '';\n",
              "          dataTable['output_type'] = 'display_data';\n",
              "          await google.colab.output.renderOutput(dataTable, element);\n",
              "          const docLink = document.createElement('div');\n",
              "          docLink.innerHTML = docLinkHtml;\n",
              "          element.appendChild(docLink);\n",
              "        }\n",
              "      </script>\n",
              "    </div>\n",
              "  </div>\n",
              "  "
            ]
          },
          "metadata": {},
          "execution_count": 4
        }
      ]
    },
    {
      "cell_type": "code",
      "metadata": {
        "id": "26dd218d-46fe-4e82-b7ac-eceb40f2042d"
      },
      "source": [
        "X = sol.iloc[:,1:]\n",
        "y = sol[\"solubility\"]"
      ],
      "id": "26dd218d-46fe-4e82-b7ac-eceb40f2042d",
      "execution_count": null,
      "outputs": []
    },
    {
      "cell_type": "markdown",
      "metadata": {
        "id": "a81b5a30-1c29-43de-b8e1-9604c77da775"
      },
      "source": [
        "**Разбейте X и y на тренировочную и тестовую выборки**, как в лекции. Соотношение train/test поставьте равным 4:1."
      ],
      "id": "a81b5a30-1c29-43de-b8e1-9604c77da775"
    },
    {
      "cell_type": "code",
      "metadata": {
        "id": "eb40457f-b8b5-447d-8497-efe3b0671b71"
      },
      "source": [],
      "id": "eb40457f-b8b5-447d-8497-efe3b0671b71",
      "execution_count": null,
      "outputs": []
    },
    {
      "cell_type": "markdown",
      "metadata": {
        "id": "29b75ec0-447f-4b6c-bb9f-31fa67acf73f"
      },
      "source": [
        "**Осуществите стандартизацию признаков в выборке**."
      ],
      "id": "29b75ec0-447f-4b6c-bb9f-31fa67acf73f"
    },
    {
      "cell_type": "code",
      "metadata": {
        "id": "0462e61c-0fba-442b-be4d-ed4eeefc30db"
      },
      "source": [],
      "id": "0462e61c-0fba-442b-be4d-ed4eeefc30db",
      "execution_count": null,
      "outputs": []
    },
    {
      "cell_type": "markdown",
      "metadata": {
        "id": "0c151708-47a0-4437-a0d9-596f9fe6d726"
      },
      "source": [
        "**Импортируйте модель регрессии k-NN и обучите ее (`model.fit`)**."
      ],
      "id": "0c151708-47a0-4437-a0d9-596f9fe6d726"
    },
    {
      "cell_type": "code",
      "metadata": {
        "id": "f56a89e5-4a31-4ccb-ba4f-c61a467b84a2"
      },
      "source": [],
      "id": "f56a89e5-4a31-4ccb-ba4f-c61a467b84a2",
      "execution_count": null,
      "outputs": []
    },
    {
      "cell_type": "markdown",
      "metadata": {
        "id": "381dbe6d-1366-4ed4-b8f9-81379d7506a0"
      },
      "source": [
        "**Получите предсказание на оставшейся выборке**. Оцените его качество метриками RMSE, MAE."
      ],
      "id": "381dbe6d-1366-4ed4-b8f9-81379d7506a0"
    },
    {
      "cell_type": "code",
      "metadata": {
        "id": "4a6dd01e-44ec-470c-8c69-63201384dfd8"
      },
      "source": [],
      "id": "4a6dd01e-44ec-470c-8c69-63201384dfd8",
      "execution_count": null,
      "outputs": []
    },
    {
      "cell_type": "markdown",
      "source": [
        "**Постройте диаграмму рассеяния** предсказываемого значения в зависимости от истинного."
      ],
      "metadata": {
        "id": "pOghauDtN80a"
      },
      "id": "pOghauDtN80a"
    },
    {
      "cell_type": "code",
      "source": [],
      "metadata": {
        "id": "1QAzwvAzKe5x"
      },
      "id": "1QAzwvAzKe5x",
      "execution_count": null,
      "outputs": []
    },
    {
      "cell_type": "markdown",
      "metadata": {
        "id": "3a8da971-b518-4052-8261-f970870b3743"
      },
      "source": [
        "Следующая функция строит график зависимости качества на тестовой и тренировочной выборках от параметра модели.\\\n",
        "Измените помеченную строку в функции так, чтобы ее можно было использовать **для построения графика зависимости качества от количества соседей для модели k-NN**."
      ],
      "id": "3a8da971-b518-4052-8261-f970870b3743"
    },
    {
      "cell_type": "code",
      "metadata": {
        "id": "c5f6c835-17e6-43cd-aa37-b1c4b6ad25dd"
      },
      "source": [
        "from sklearn.metrics import mean_squared_error\n",
        "\n",
        "def make_qual_chart(X_train, X_test, y_train, y_test, metric=mean_squared_error, init=1, limit=50, step=1):\n",
        "    train_quals = np.zeros(limit)\n",
        "    test_quals = np.zeros(limit)\n",
        "    param_range = np.arange(init, limit + 1, step)\n",
        "\n",
        "    for ind, value in enumerate(param_range):\n",
        "        ### CHANGE THE NEXT LINE!\n",
        "        model = None\n",
        "        # FIT\n",
        "        model.fit(X_train, y_train)\n",
        "        # PREDICT\n",
        "        y_train_pred = model.predict(X_train)\n",
        "        y_test_pred = model.predict(X_test)\n",
        "        # EVALUATE QUALITY\n",
        "        train_quals[ind] = metric(y_true=y_train, y_pred=y_train_pred)\n",
        "        test_quals[ind] = metric(y_true=y_test, y_pred=y_test_pred)\n",
        "\n",
        "    # baseline = metric(y_true=y_test, y_pred=np.full_like(y_test, y_train.mean()))\n",
        "\n",
        "    # TRACING CHART\n",
        "    plt.figure(figsize=(10, 7))\n",
        "    plt.plot(param_range, train_quals, label=\"Train\")\n",
        "    plt.plot(param_range, test_quals, label=\"Test\")\n",
        "    # plt.axhline(baseline, color=\"k\", ls=\"--\", lw=1.5, label=\"Baseline\")\n",
        "    plt.legend()\n",
        "    plt.show()\n",
        "    #return param_range, train_quals, test_quals"
      ],
      "id": "c5f6c835-17e6-43cd-aa37-b1c4b6ad25dd",
      "execution_count": null,
      "outputs": []
    },
    {
      "cell_type": "code",
      "metadata": {
        "id": "3589c57d-d338-41ab-98e8-8e9c12bcda50"
      },
      "source": [
        "make_qual_chart(...)"
      ],
      "id": "3589c57d-d338-41ab-98e8-8e9c12bcda50",
      "execution_count": null,
      "outputs": []
    },
    {
      "cell_type": "markdown",
      "metadata": {
        "id": "770d6ecb-37be-4a13-89d0-0c969e634543"
      },
      "source": [
        "Сделайте вывод о том, **какое число соседей является оптимальным для данной задачи**. Создайте отдельную модель с оптимальным параметром `n_neighbors` и постройте для нее график зависимости предсказываемого значения от истинного."
      ],
      "id": "770d6ecb-37be-4a13-89d0-0c969e634543"
    },
    {
      "cell_type": "code",
      "source": [],
      "metadata": {
        "id": "KB1keHJZEDK4"
      },
      "id": "KB1keHJZEDK4",
      "execution_count": null,
      "outputs": []
    },
    {
      "cell_type": "markdown",
      "source": [
        "**Дополнительно**: сравните kNN-regressor с моделью линейной регрессии на тех же данных."
      ],
      "metadata": {
        "id": "Ut0bLMCwPVs-"
      },
      "id": "Ut0bLMCwPVs-"
    },
    {
      "cell_type": "code",
      "source": [],
      "metadata": {
        "id": "0gO-PqdqPeJ2"
      },
      "id": "0gO-PqdqPeJ2",
      "execution_count": null,
      "outputs": []
    },
    {
      "cell_type": "markdown",
      "metadata": {
        "id": "a87d79ba-c9b2-4fcd-bb61-e3a3561b7309"
      },
      "source": [
        "### Задача 2: Обучение на геномных эмбеддингах"
      ],
      "id": "a87d79ba-c9b2-4fcd-bb61-e3a3561b7309"
    },
    {
      "cell_type": "markdown",
      "metadata": {
        "id": "018a8ba8-9f12-4aab-9b98-560553982e3b"
      },
      "source": [
        "В этой задаче предлагается произвести предсказание изменения экспрессии гена в зависимости от разных однонуклеотидных замен в регуляторном участке ДНК, основываясь на нейросетевых геномных эмбеддингах этого участка."
      ],
      "id": "018a8ba8-9f12-4aab-9b98-560553982e3b"
    },
    {
      "cell_type": "code",
      "metadata": {
        "id": "DRbz9nBPPHo3",
        "colab": {
          "base_uri": "https://localhost:8080/"
        },
        "outputId": "538112ac-9d3c-4dcc-e06e-070fa23c872a"
      },
      "source": [
        "!wget https://data.bioml.ru/htdocs/courses/bioml/classic_ml/supervised/knn/data/tfs_deepsea.csv"
      ],
      "id": "DRbz9nBPPHo3",
      "execution_count": null,
      "outputs": [
        {
          "output_type": "stream",
          "name": "stdout",
          "text": [
            "--2024-11-13 04:47:15--  https://data.bioml.ru/htdocs/courses/bioml/classic_ml/supervised/knn/data/tfs_deepsea.csv\n",
            "Resolving data.bioml.ru (data.bioml.ru)... 188.120.231.217\n",
            "Connecting to data.bioml.ru (data.bioml.ru)|188.120.231.217|:443... connected.\n",
            "HTTP request sent, awaiting response... 200 OK\n",
            "Length: 1098058 (1.0M) [text/csv]\n",
            "Saving to: ‘tfs_deepsea.csv’\n",
            "\n",
            "tfs_deepsea.csv     100%[===================>]   1.05M  1.75MB/s    in 0.6s    \n",
            "\n",
            "2024-11-13 04:47:16 (1.75 MB/s) - ‘tfs_deepsea.csv’ saved [1098058/1098058]\n",
            "\n"
          ]
        }
      ]
    },
    {
      "cell_type": "markdown",
      "metadata": {
        "id": "a9c427c4-a23b-4452-92b4-26ed2624ab5f"
      },
      "source": [
        "Загрузите датасет `tfs_deepsea.csv`, в качестве `y` используйте колонку `Direction`, в качестве `X` - все колонки, начиная с девятой."
      ],
      "id": "a9c427c4-a23b-4452-92b4-26ed2624ab5f"
    },
    {
      "cell_type": "code",
      "source": [],
      "metadata": {
        "id": "qc_Ik-cUnpid"
      },
      "id": "qc_Ik-cUnpid",
      "execution_count": null,
      "outputs": []
    },
    {
      "cell_type": "markdown",
      "metadata": {
        "id": "de761526-7be2-4f21-b92d-1df55ec1e59e"
      },
      "source": [
        "**Разбейте X и y на тренировочную и тестовую выборки**, как в лекции. Соотношение train/test поставьте равным 4:1.\\\n",
        "*Подсказка*: воспользуйтесь функцией `train_test_split`."
      ],
      "id": "de761526-7be2-4f21-b92d-1df55ec1e59e"
    },
    {
      "cell_type": "code",
      "metadata": {
        "id": "2685d7e6-1f7a-4c22-9e7d-c4312c39bb53"
      },
      "source": [],
      "id": "2685d7e6-1f7a-4c22-9e7d-c4312c39bb53",
      "execution_count": null,
      "outputs": []
    },
    {
      "cell_type": "markdown",
      "metadata": {
        "id": "ec0a711a-5755-4bba-9bed-0a4718d1248d"
      },
      "source": [
        "**Осуществите стандартизацию признаков в выборке**."
      ],
      "id": "ec0a711a-5755-4bba-9bed-0a4718d1248d"
    },
    {
      "cell_type": "code",
      "metadata": {
        "id": "4ebe265e-aa17-47a7-9faa-727eb06ec19a"
      },
      "source": [],
      "id": "4ebe265e-aa17-47a7-9faa-727eb06ec19a",
      "execution_count": null,
      "outputs": []
    },
    {
      "cell_type": "markdown",
      "metadata": {
        "id": "74eb7e2b-4dc8-4d36-83ab-9ef5cf252886"
      },
      "source": [
        "**Импортируйте модель линейной регрессии и обучите ее на соответствующей части выборки (`model.fit`)**."
      ],
      "id": "74eb7e2b-4dc8-4d36-83ab-9ef5cf252886"
    },
    {
      "cell_type": "code",
      "metadata": {
        "id": "4a24c5cf-6993-4c8a-8f87-6c061a9bfafa"
      },
      "source": [],
      "id": "4a24c5cf-6993-4c8a-8f87-6c061a9bfafa",
      "execution_count": null,
      "outputs": []
    },
    {
      "cell_type": "markdown",
      "metadata": {
        "id": "04d4e9d0-8122-46e1-9341-e5000f3ee715"
      },
      "source": [
        "**Получите предсказание на оставшейся выборке**. Оцените его качество метриками MSE и RMSE. Насколько хороша модель?"
      ],
      "id": "04d4e9d0-8122-46e1-9341-e5000f3ee715"
    },
    {
      "cell_type": "code",
      "metadata": {
        "id": "c7062e89-3cff-4167-96ee-7b1b3df74f8e"
      },
      "source": [],
      "id": "c7062e89-3cff-4167-96ee-7b1b3df74f8e",
      "execution_count": null,
      "outputs": []
    },
    {
      "cell_type": "markdown",
      "source": [
        "Оцените качество графически и с помощью коэффициента корреляции Пирсона."
      ],
      "metadata": {
        "id": "jt7YjY3yEZKx"
      },
      "id": "jt7YjY3yEZKx"
    },
    {
      "cell_type": "code",
      "source": [],
      "metadata": {
        "id": "RfKCvCLrEg5N"
      },
      "id": "RfKCvCLrEg5N",
      "execution_count": null,
      "outputs": []
    },
    {
      "cell_type": "markdown",
      "source": [
        "**Воспользуйтесь моделью kNN-regressor**. Оцените ее качество."
      ],
      "metadata": {
        "id": "N-W07mxXc38e"
      },
      "id": "N-W07mxXc38e"
    },
    {
      "cell_type": "code",
      "source": [],
      "metadata": {
        "id": "nvgM-ecwEN27"
      },
      "id": "nvgM-ecwEN27",
      "execution_count": null,
      "outputs": []
    },
    {
      "cell_type": "markdown",
      "metadata": {
        "id": "cd886df0-66f0-4e46-8754-ba221400048e"
      },
      "source": [
        "Разбейте X и y на тренировочную и тестовую выборки, **так, как указано в ячейке ниже**. Повторите все шаги, чтобы определить качество регрессии для линейной и kNN-регрессий."
      ],
      "id": "cd886df0-66f0-4e46-8754-ba221400048e"
    },
    {
      "cell_type": "markdown",
      "source": [
        "Биологический смысл указанного разбиения: использовать для обучения один промоторный регион при осуществлении предсказания на другом."
      ],
      "metadata": {
        "id": "_8OxPRsmhMFR"
      },
      "id": "_8OxPRsmhMFR"
    },
    {
      "cell_type": "code",
      "source": [
        "X_train = X[tfs[\"construction\"] == \"ECR11\"].values\n",
        "X_test = X[tfs[\"construction\"] == \"ALDOB\"].values\n",
        "y_train = y[tfs[\"construction\"] == \"ECR11\"].values\n",
        "y_test = y[tfs[\"construction\"] == \"ALDOB\"].values"
      ],
      "metadata": {
        "id": "TMthdUvf2RGJ"
      },
      "id": "TMthdUvf2RGJ",
      "execution_count": null,
      "outputs": []
    },
    {
      "cell_type": "code",
      "source": [],
      "metadata": {
        "id": "5TrpLgQyEUuO"
      },
      "id": "5TrpLgQyEUuO",
      "execution_count": null,
      "outputs": []
    },
    {
      "cell_type": "markdown",
      "metadata": {
        "id": "16bcf556-47ef-460c-aaaf-97442ca77692"
      },
      "source": [
        "**Сделайте выводы о пригодности модели линейной регрессии для такого анализа**. Есть ли здесь биологический смысл?"
      ],
      "id": "16bcf556-47ef-460c-aaaf-97442ca77692"
    },
    {
      "cell_type": "code",
      "source": [],
      "metadata": {
        "id": "_gxjKDUHgg3c"
      },
      "id": "_gxjKDUHgg3c",
      "execution_count": null,
      "outputs": []
    },
    {
      "cell_type": "markdown",
      "metadata": {
        "id": "Iveq6hgi_GkY"
      },
      "source": [
        "### Задача 3: Классификация химических веществ"
      ],
      "id": "Iveq6hgi_GkY"
    },
    {
      "cell_type": "code",
      "source": [
        "!wget --no-check-certificate 'https://data.bioml.ru/htdocs/courses/bioml/classic_ml/supervised/knn/data/bace.csv' -O bace.csv"
      ],
      "metadata": {
        "colab": {
          "base_uri": "https://localhost:8080/"
        },
        "id": "drP_zVMoVii4",
        "outputId": "5ad6178a-3bef-46f6-abdd-06ccf87a273e"
      },
      "execution_count": null,
      "outputs": [
        {
          "output_type": "stream",
          "name": "stdout",
          "text": [
            "--2022-09-19 20:00:35--  https://data.bioml.ru/htdocs/courses/bioml/classic_ml/supervised/knn/data/bace.csv\n",
            "Resolving data.bioml.ru (data.bioml.ru)... 178.62.218.34\n",
            "Connecting to data.bioml.ru (data.bioml.ru)|178.62.218.34|:443... connected.\n",
            "HTTP request sent, awaiting response... 200 OK\n",
            "Length: 3897767 (3.7M) [text/csv]\n",
            "Saving to: ‘bace.csv’\n",
            "\n",
            "bace.csv            100%[===================>]   3.72M  5.57MB/s    in 0.7s    \n",
            "\n",
            "2022-09-19 20:00:36 (5.57 MB/s) - ‘bace.csv’ saved [3897767/3897767]\n",
            "\n"
          ]
        }
      ],
      "id": "drP_zVMoVii4"
    },
    {
      "cell_type": "markdown",
      "metadata": {
        "id": "cUWZzbLQ_Gka"
      },
      "source": [
        "Датасет [BACE](http://moleculenet.ai/datasets-1) загружен за вас, определены `X`, `y` и `smiles`."
      ],
      "id": "cUWZzbLQ_Gka"
    },
    {
      "cell_type": "code",
      "metadata": {
        "id": "MJRZZiTw_Gka"
      },
      "source": [
        "bace = pd.read_csv(\"./bace.csv\", header=0)\n",
        "bace.head(3)"
      ],
      "execution_count": null,
      "outputs": [],
      "id": "MJRZZiTw_Gka"
    },
    {
      "cell_type": "code",
      "metadata": {
        "id": "JYbJmpl6_Gkb"
      },
      "source": [
        "X = bace.iloc[:,4:].values\n",
        "y = bace[\"Class\"].values\n",
        "smiles = bace[\"mol\"].values"
      ],
      "execution_count": null,
      "outputs": [],
      "id": "JYbJmpl6_Gkb"
    },
    {
      "cell_type": "markdown",
      "metadata": {
        "id": "jQo6wivW_Gkb"
      },
      "source": [
        "**Разбейте X и y на тренировочную и тестовую выборки**, как в лекции. Соотношение train/test поставьте равным 3:1.\\\n",
        "*Подсказка*: воспользуйтесь функцией `train_test_split`."
      ],
      "id": "jQo6wivW_Gkb"
    },
    {
      "cell_type": "code",
      "metadata": {
        "id": "sR1PYDK0_Gkb"
      },
      "source": [],
      "execution_count": null,
      "outputs": [],
      "id": "sR1PYDK0_Gkb"
    },
    {
      "cell_type": "markdown",
      "metadata": {
        "id": "gFFivhJm_Gkb"
      },
      "source": [
        "**Осуществите стандартизацию признаков в выборке**."
      ],
      "id": "gFFivhJm_Gkb"
    },
    {
      "cell_type": "code",
      "metadata": {
        "id": "0ya8saDf_Gkb"
      },
      "source": [],
      "execution_count": null,
      "outputs": [],
      "id": "0ya8saDf_Gkb"
    },
    {
      "cell_type": "markdown",
      "metadata": {
        "id": "xrOIvODg_Gkb"
      },
      "source": [
        "**Импортируйте модель логистической регрессии и обучите ее на соответствующей части выборки (`model.fit`)**.\n",
        "\n",
        "\n",
        "Для модели `LogisticRegression` укажите параметры `max_iter=200, penalty=None`."
      ],
      "id": "xrOIvODg_Gkb"
    },
    {
      "cell_type": "code",
      "metadata": {
        "id": "TUXYpGK2_Gkc"
      },
      "source": [],
      "execution_count": null,
      "outputs": [],
      "id": "TUXYpGK2_Gkc"
    },
    {
      "cell_type": "markdown",
      "metadata": {
        "id": "BSZ44QZb_Gkc"
      },
      "source": [
        "**Получите предсказание на оставшейся выборке**. Оцените его качество метриками из отчета о классификации (`classification_report`)."
      ],
      "id": "BSZ44QZb_Gkc"
    },
    {
      "cell_type": "code",
      "metadata": {
        "id": "JRJ6yQh2_Gkc"
      },
      "source": [],
      "execution_count": null,
      "outputs": [],
      "id": "JRJ6yQh2_Gkc"
    },
    {
      "cell_type": "markdown",
      "source": [
        "**Регуляризация ElasticNet** вносит в функцию потерь линейную комбинацию регуляризаций L1 и L2. Подберите оптимальное соотношение для этих данных. Для определения требуемого параметра (соотношение L1 и L2) воспользуйтесь документацией конструктора модели `LogisticRegression`"
      ],
      "metadata": {
        "id": "nd3O7bWR93nA"
      },
      "id": "nd3O7bWR93nA"
    },
    {
      "cell_type": "code",
      "metadata": {
        "id": "w03_Vi4MQLX_"
      },
      "source": [
        "from tqdm import tqdm\n",
        "from sklearn.metrics import f1_score\n",
        "from sklearn.linear_model import LogisticRegression\n",
        "\n",
        "init = 0\n",
        "limit = 1\n",
        "step = 0.05\n",
        "\n",
        "param_range = np.arange(init, limit + step, step)\n",
        "train_quals = np.zeros(len(param_range))\n",
        "test_quals = np.zeros(len(param_range))\n",
        "\n",
        "# baseline = f1_score(y_true=y_test, y_pred=np.full_like(y_test, y_train.mean()))\n",
        "\n",
        "for ind, value in tqdm(enumerate(param_range), total=len(param_range)):\n",
        "    # CREATING MODEL (CHANGE NEXT LINE!)\n",
        "    model = LogisticRegression(max_iter=10000, solver=\"saga\",\n",
        "                               penalty=\"elasticnet\")\n",
        "\n",
        "    # FIT\n",
        "    model.fit(X_train_scaled, y_train)\n",
        "\n",
        "    # PREDICT\n",
        "    y_train_pred = model.predict(X_train_scaled)\n",
        "    y_test_pred = model.predict(X_test_scaled)\n",
        "\n",
        "    # EVALUATE QUALITY\n",
        "    train_quals[ind] = f1_score(y_true=y_train, y_pred=y_train_pred)\n",
        "    test_quals[ind] = f1_score(y_true=y_test, y_pred=y_test_pred)"
      ],
      "execution_count": null,
      "outputs": [],
      "id": "w03_Vi4MQLX_"
    },
    {
      "cell_type": "code",
      "metadata": {
        "id": "0YuGLXMr-Ml4"
      },
      "source": [
        "# TRACING CHART\n",
        "plt.figure(figsize=(10, 7))\n",
        "plt.plot(param_range, train_quals, label=\"Train\")\n",
        "plt.plot(param_range, test_quals, label=\"Test\")\n",
        "# plt.axhline(baseline, color=\"k\", ls=\"--\", lw=1.5, label=\"Baseline\")\n",
        "plt.legend()\n",
        "plt.show()"
      ],
      "execution_count": null,
      "outputs": [],
      "id": "0YuGLXMr-Ml4"
    },
    {
      "cell_type": "code",
      "metadata": {
        "id": "bac99465-3e69-4eb6-a05e-2abfffe97fe1"
      },
      "source": [],
      "execution_count": null,
      "outputs": [],
      "id": "bac99465-3e69-4eb6-a05e-2abfffe97fe1"
    },
    {
      "cell_type": "markdown",
      "metadata": {
        "id": "T4wy-9oh_Gkd"
      },
      "source": [
        "**Сделайте выводы**."
      ],
      "id": "T4wy-9oh_Gkd"
    },
    {
      "cell_type": "code",
      "metadata": {
        "id": "tTCKDS7E_Gkd"
      },
      "source": [],
      "execution_count": null,
      "outputs": [],
      "id": "tTCKDS7E_Gkd"
    }
  ]
}