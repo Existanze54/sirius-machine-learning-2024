{
  "cells": [
    {
      "cell_type": "markdown",
      "metadata": {
        "id": "view-in-github",
        "colab_type": "text"
      },
      "source": [
        "<a href=\"https://colab.research.google.com/github/Existanze54/sirius-machine-learning-2024/blob/main/Seminars/S1_Numpy_Pandas_Mpl.ipynb\" target=\"_parent\"><img src=\"https://colab.research.google.com/assets/colab-badge.svg\" alt=\"Open In Colab\"/></a>"
      ]
    },
    {
      "cell_type": "markdown",
      "metadata": {
        "id": "yWIItnlWuepg"
      },
      "source": [
        "# Основные алгоритмы ML\n",
        "## Семинар 1. Основы работы в Python.\n",
        "### NumPy и почему это быстро. Базовый анализ данных. Pandas и работа с таблицами. Matplotlib визуализация"
      ]
    },
    {
      "cell_type": "markdown",
      "metadata": {
        "id": "QK54FajTuepl"
      },
      "source": [
        "## Библиотека NumPy"
      ]
    },
    {
      "cell_type": "code",
      "execution_count": null,
      "metadata": {
        "id": "YoL3nWjZuepn"
      },
      "outputs": [],
      "source": [
        "import numpy as np"
      ]
    },
    {
      "cell_type": "code",
      "execution_count": null,
      "metadata": {
        "colab": {
          "base_uri": "https://localhost:8080/",
          "height": 35
        },
        "id": "oZm78EkGuepp",
        "outputId": "0d14dada-977f-4140-b382-e6d78681c232"
      },
      "outputs": [
        {
          "output_type": "execute_result",
          "data": {
            "text/plain": [
              "'1.23.5'"
            ],
            "application/vnd.google.colaboratory.intrinsic+json": {
              "type": "string"
            }
          },
          "metadata": {},
          "execution_count": 2
        }
      ],
      "source": [
        "np.__version__"
      ]
    },
    {
      "cell_type": "markdown",
      "metadata": {
        "id": "-_QHSpBHuepr"
      },
      "source": [
        "Давайте подумаем, **зачем** нужен **целый модуль** для математики, массивов и матриц?\n",
        "\n",
        "_Мне будет достаточно списков!_ - they said."
      ]
    },
    {
      "cell_type": "markdown",
      "metadata": {
        "id": "EjXavcnXueps"
      },
      "source": [
        "### Что есть в `numpy`?"
      ]
    },
    {
      "cell_type": "markdown",
      "metadata": {
        "id": "KvvwAJzVuept"
      },
      "source": [
        "![numpy-operations.png](https://data.bioml.ru/htdocs/courses/python/datasci/numpy/img/numpy-operations.png)"
      ]
    },
    {
      "cell_type": "markdown",
      "metadata": {
        "id": "qtn_Q2jIuepu"
      },
      "source": [
        "### Зачем же нужен `numpy`?"
      ]
    },
    {
      "cell_type": "markdown",
      "metadata": {
        "id": "tgHuTQk_uepu"
      },
      "source": [
        "*Сколько программистов нужно, чтобы заменить лампочку?*\n",
        "\n",
        "*Ни одного - проблема тут по части железа.*"
      ]
    },
    {
      "cell_type": "markdown",
      "metadata": {
        "id": "lgUwFzcbuepw"
      },
      "source": [
        "Numpy нужен для **векторизованных вычислений**!"
      ]
    },
    {
      "cell_type": "markdown",
      "metadata": {
        "id": "LtodrGAeuepx"
      },
      "source": [
        "### Что такое векторизованные вычисления?"
      ]
    },
    {
      "cell_type": "markdown",
      "metadata": {
        "id": "qkvyXL2ruep3"
      },
      "source": [
        "**Если бы у вас был список чисел, и ко всем надо было прибавить 1, то как бы вы поступили?**"
      ]
    },
    {
      "cell_type": "code",
      "execution_count": null,
      "metadata": {
        "id": "kEd4Wx0zuep4"
      },
      "outputs": [],
      "source": [
        "a = [1, 6, 3, 4, 3, 7]"
      ]
    },
    {
      "cell_type": "code",
      "execution_count": null,
      "metadata": {
        "id": "cQsBvR80uep5",
        "outputId": "046201e4-c7d4-4bd7-8d90-f0f87a441482",
        "colab": {
          "base_uri": "https://localhost:8080/"
        }
      },
      "outputs": [
        {
          "output_type": "execute_result",
          "data": {
            "text/plain": [
              "[2, 7, 4, 5, 4, 8]"
            ]
          },
          "metadata": {},
          "execution_count": 4
        }
      ],
      "source": [
        "a = [i + 1 for i in a]\n",
        "a"
      ]
    },
    {
      "cell_type": "code",
      "execution_count": null,
      "metadata": {
        "id": "nDPRAPkruep6",
        "outputId": "80579fdd-1666-4313-fccf-bcdf733ed267",
        "colab": {
          "base_uri": "https://localhost:8080/"
        }
      },
      "outputs": [
        {
          "output_type": "execute_result",
          "data": {
            "text/plain": [
              "array([1, 6, 3, 4, 3, 7])"
            ]
          },
          "metadata": {},
          "execution_count": 5
        }
      ],
      "source": [
        "a = np.array([1, 6, 3, 4, 3, 7])\n",
        "a"
      ]
    },
    {
      "cell_type": "code",
      "execution_count": null,
      "metadata": {
        "id": "vHGmac9-uep6",
        "outputId": "7d9dfed3-00fe-4ccd-b7c3-16bf791843f5",
        "colab": {
          "base_uri": "https://localhost:8080/"
        }
      },
      "outputs": [
        {
          "output_type": "execute_result",
          "data": {
            "text/plain": [
              "array([2, 7, 4, 5, 4, 8])"
            ]
          },
          "metadata": {},
          "execution_count": 6
        }
      ],
      "source": [
        "a + 1"
      ]
    },
    {
      "cell_type": "markdown",
      "metadata": {
        "id": "GwBfE4wauep8"
      },
      "source": [
        "### Мораль 0\n",
        "Векторизация помогает избавиться от циклов и лишнего кода!"
      ]
    },
    {
      "cell_type": "markdown",
      "metadata": {
        "id": "9u1VZBdpuep9"
      },
      "source": [
        "**А чем еще помогает векторизация вычислений?**"
      ]
    },
    {
      "cell_type": "code",
      "execution_count": null,
      "metadata": {
        "id": "6E8QrYbIuep9"
      },
      "outputs": [],
      "source": [
        "mln = 10 ** 6"
      ]
    },
    {
      "cell_type": "code",
      "execution_count": null,
      "metadata": {
        "id": "vlw5V96tuep9"
      },
      "outputs": [],
      "source": [
        "a = list(range(mln))"
      ]
    },
    {
      "cell_type": "code",
      "execution_count": null,
      "metadata": {
        "id": "0dzNNT4puep-",
        "outputId": "8636954d-513d-43d2-ba9f-632d3c7af1aa",
        "colab": {
          "base_uri": "https://localhost:8080/"
        }
      },
      "outputs": [
        {
          "output_type": "stream",
          "name": "stdout",
          "text": [
            "73.8 ms ± 2.42 ms per loop (mean ± std. dev. of 7 runs, 10 loops each)\n"
          ]
        }
      ],
      "source": [
        "%%timeit\n",
        "\n",
        "[e * e for e in a]"
      ]
    },
    {
      "cell_type": "code",
      "execution_count": null,
      "metadata": {
        "id": "4au84thUuep-"
      },
      "outputs": [],
      "source": [
        "a = np.arange(mln)"
      ]
    },
    {
      "cell_type": "code",
      "execution_count": null,
      "metadata": {
        "id": "8zh1Pvbauep-",
        "outputId": "d0483b7a-2f1d-42de-dc32-09410ff3782e",
        "colab": {
          "base_uri": "https://localhost:8080/"
        }
      },
      "outputs": [
        {
          "output_type": "stream",
          "name": "stdout",
          "text": [
            "1.16 ms ± 162 µs per loop (mean ± std. dev. of 7 runs, 1000 loops each)\n"
          ]
        }
      ],
      "source": [
        "%%timeit\n",
        "\n",
        "a * a"
      ]
    },
    {
      "cell_type": "markdown",
      "metadata": {
        "id": "qk3nPlQ_uep_"
      },
      "source": [
        "Какой элемент синтаксиса занимает наибольшее количество времени?"
      ]
    },
    {
      "cell_type": "markdown",
      "metadata": {
        "id": "2iFV1nWeuep_"
      },
      "source": [
        "Конечно же, **цикл**!"
      ]
    },
    {
      "cell_type": "markdown",
      "metadata": {
        "id": "WmsMDw2Wuep_"
      },
      "source": [
        "Ещё дольше выполняются вложенные циклы:"
      ]
    },
    {
      "cell_type": "code",
      "execution_count": null,
      "metadata": {
        "id": "PXGavzjSueqA"
      },
      "outputs": [],
      "source": [
        "rows, cols = 1000, 1000\n",
        "\n",
        "a = [list(range(i, i + cols)) for i in range(0, rows)]\n",
        "b = [[0 for j in range(cols)] for i in range(rows)]"
      ]
    },
    {
      "cell_type": "code",
      "execution_count": null,
      "metadata": {
        "id": "sp4U7tvfueqA",
        "outputId": "b72f89cb-fc63-4b2a-c3ab-ee5121d1e683",
        "colab": {
          "base_uri": "https://localhost:8080/"
        }
      },
      "outputs": [
        {
          "output_type": "stream",
          "name": "stdout",
          "text": [
            "197 ms ± 60 ms per loop (mean ± std. dev. of 7 runs, 10 loops each)\n"
          ]
        }
      ],
      "source": [
        "%%timeit\n",
        "\n",
        "for i in range(rows):\n",
        "    for j in range(cols):\n",
        "        b[i][j] = 2 * a[i][j]"
      ]
    },
    {
      "cell_type": "markdown",
      "metadata": {
        "id": "lOmGGbBOueqA"
      },
      "source": [
        "Сравним с **векторизованными** циклами:"
      ]
    },
    {
      "cell_type": "code",
      "execution_count": null,
      "metadata": {
        "id": "b0oYiEuZueqA"
      },
      "outputs": [],
      "source": [
        "a = np.asarray([list(range(i, i + cols)) for i in range(0, rows)])"
      ]
    },
    {
      "cell_type": "code",
      "execution_count": null,
      "metadata": {
        "id": "Hpuc6CwfueqB",
        "outputId": "ea598fc3-6dab-4a91-883e-fadfbeaf0a5c",
        "colab": {
          "base_uri": "https://localhost:8080/"
        }
      },
      "outputs": [
        {
          "output_type": "stream",
          "name": "stdout",
          "text": [
            "966 µs ± 64.1 µs per loop (mean ± std. dev. of 7 runs, 1000 loops each)\n"
          ]
        }
      ],
      "source": [
        "%%timeit\n",
        "\n",
        "2 * a"
      ]
    },
    {
      "cell_type": "markdown",
      "metadata": {
        "id": "M1RB3AEOueqC"
      },
      "source": [
        "### Мораль 1\n",
        "Векторизация помогает ускорить время выполнения векторизуемых операций в десятки раз!"
      ]
    },
    {
      "cell_type": "markdown",
      "metadata": {
        "id": "xvJIcj87ueqC"
      },
      "source": [
        "## Массив `numpy.array`"
      ]
    },
    {
      "cell_type": "markdown",
      "metadata": {
        "id": "2CoYrp2xueqC"
      },
      "source": [
        "### В чем его отличие от списка?"
      ]
    },
    {
      "cell_type": "markdown",
      "metadata": {
        "id": "fKFccYFjueqC"
      },
      "source": [
        "![list-array.png](https://data.bioml.ru/htdocs/courses/python/datasci/numpy/img/list-array.png)"
      ]
    },
    {
      "cell_type": "markdown",
      "metadata": {
        "id": "tTT5lwARueqC"
      },
      "source": [
        "Почему в массиве важно иметь **один и тот же тип данных**?"
      ]
    },
    {
      "cell_type": "markdown",
      "metadata": {
        "id": "vAVrSxzYueqD"
      },
      "source": [
        "### Создание массива\n",
        "\n",
        "Самый простой способ создать массив `numpy.array` - из стандартного списка `list`."
      ]
    },
    {
      "cell_type": "markdown",
      "metadata": {
        "id": "8-YfgpcZueqD"
      },
      "source": [
        "![vis-numpy-2.jpg](https://data.bioml.ru/htdocs/courses/python/datasci/numpy/img/vis-numpy-2.jpg)"
      ]
    },
    {
      "cell_type": "code",
      "execution_count": null,
      "metadata": {
        "colab": {
          "base_uri": "https://localhost:8080/"
        },
        "id": "1Ds08AS_ueqD",
        "outputId": "23ede82a-b7f5-49cc-9696-3eab31cd0b54"
      },
      "outputs": [
        {
          "output_type": "execute_result",
          "data": {
            "text/plain": [
              "array([1, 2, 3])"
            ]
          },
          "metadata": {},
          "execution_count": 16
        }
      ],
      "source": [
        "mydata = np.array([1, 2, 3])\n",
        "mydata"
      ]
    },
    {
      "cell_type": "markdown",
      "metadata": {
        "id": "tuU3UsKJueqF"
      },
      "source": [
        "Массив может быть и многомерным!"
      ]
    },
    {
      "cell_type": "markdown",
      "metadata": {
        "id": "Iu4pypubueqG"
      },
      "source": [
        "![vis-numpy-10.jpg](https://data.bioml.ru/htdocs/courses/python/datasci/numpy/img/vis-numpy-10.jpg)"
      ]
    },
    {
      "cell_type": "code",
      "execution_count": null,
      "metadata": {
        "id": "KZtDkbqaueqG",
        "outputId": "cbceb772-cced-4abd-fe7a-ccc271e95901",
        "colab": {
          "base_uri": "https://localhost:8080/"
        }
      },
      "outputs": [
        {
          "output_type": "execute_result",
          "data": {
            "text/plain": [
              "array([[1, 2],\n",
              "       [3, 4]])"
            ]
          },
          "metadata": {},
          "execution_count": 17
        }
      ],
      "source": [
        "mydata_2d = np.array([[1, 2],\n",
        "                      [3, 4]])\n",
        "mydata_2d"
      ]
    },
    {
      "cell_type": "markdown",
      "metadata": {
        "id": "go9nTJjuueqH"
      },
      "source": [
        "### Важнейшая информация о массиве"
      ]
    },
    {
      "cell_type": "code",
      "execution_count": null,
      "metadata": {
        "colab": {
          "base_uri": "https://localhost:8080/"
        },
        "id": "bLnM2m8uueqI",
        "outputId": "0386aaf0-cba1-4634-ea60-74348fd407d7"
      },
      "outputs": [
        {
          "output_type": "execute_result",
          "data": {
            "text/plain": [
              "dtype('int64')"
            ]
          },
          "metadata": {},
          "execution_count": 18
        }
      ],
      "source": [
        "mydata.dtype"
      ]
    },
    {
      "cell_type": "code",
      "source": [
        "mydata.itemsize"
      ],
      "metadata": {
        "colab": {
          "base_uri": "https://localhost:8080/"
        },
        "id": "tEcFqFNZbY4I",
        "outputId": "e558b44f-2f8e-49a8-eb69-25a69f47e499"
      },
      "execution_count": null,
      "outputs": [
        {
          "output_type": "execute_result",
          "data": {
            "text/plain": [
              "8"
            ]
          },
          "metadata": {},
          "execution_count": 19
        }
      ]
    },
    {
      "cell_type": "markdown",
      "metadata": {
        "id": "ujxtMt0WueqI"
      },
      "source": [
        "#### Типы данных в `numpy`"
      ]
    },
    {
      "cell_type": "markdown",
      "metadata": {
        "id": "vYp41WILueqI"
      },
      "source": [
        "| Тип данных | Описание |\n",
        "|:---------- |:-------- |\n",
        "| bool       | Boolean (True or False) stored as a byte |\n",
        "| int        | Platform integer (normally either int32 or int64) |\n",
        "| int8       | Byte (-128 to 127) |\n",
        "| int16      | Integer (-32768 to 32767) |\n",
        "| int32      | Integer (-2147483648 to 2147483647) |\n",
        "| int64      | Integer (-9223372036854775808 to 9223372036854775807) |\n",
        "| uint8      | Unsigned integer (0 to 255) |\n",
        "| uint16     | Unsigned integer (0 to 65535) |\n",
        "| uint32     | Unsigned integer (0 to 4294967295) |\n",
        "| uint64     | Unsigned integer (0 to 18446744073709551615) |\n",
        "| float      | Shorthand for float64 |\n",
        "| float32    | Single precision float: sign bit, 8 bits exponent, 23 bits mantissa |\n",
        "| float64    | Double precision float: sign bit, 11 bits exponent, 52 bits mantissa |\n",
        "| complex    | Shorthand for complex128 |\n",
        "| complex64  | Complex number, represented by two 32-bit floats (real and imaginary components) |\n",
        "| complex128 | Complex number, represented by two 64-bit floats (real and imaginary components) |"
      ]
    },
    {
      "cell_type": "code",
      "execution_count": null,
      "metadata": {
        "colab": {
          "base_uri": "https://localhost:8080/"
        },
        "id": "SOaGD739ueqI",
        "outputId": "1fd21f97-6de7-4d29-d283-1bcfd664653b"
      },
      "outputs": [
        {
          "output_type": "execute_result",
          "data": {
            "text/plain": [
              "array([[1, 2, 3, 4, 5],\n",
              "       [6, 7, 8, 9, 0],\n",
              "       [7, 0, 8, 8, 1]], dtype=int8)"
            ]
          },
          "metadata": {},
          "execution_count": 20
        }
      ],
      "source": [
        "mydata = np.array([[1, 2, 3, 4, 5],\n",
        "                   [6, 7, 8, 9, 0],\n",
        "                   [7, 0, 8, 8, 1]], dtype=np.int8)\n",
        "mydata"
      ]
    },
    {
      "cell_type": "code",
      "source": [
        "mydata.dtype"
      ],
      "metadata": {
        "colab": {
          "base_uri": "https://localhost:8080/"
        },
        "id": "WVeiv1vebcH9",
        "outputId": "7399fb3d-7d6e-4f91-f58a-6486f64b3fd8"
      },
      "execution_count": null,
      "outputs": [
        {
          "output_type": "execute_result",
          "data": {
            "text/plain": [
              "dtype('int8')"
            ]
          },
          "metadata": {},
          "execution_count": 21
        }
      ]
    },
    {
      "cell_type": "code",
      "source": [
        "mydata.itemsize"
      ],
      "metadata": {
        "colab": {
          "base_uri": "https://localhost:8080/"
        },
        "id": "xQMCOBa5bbAJ",
        "outputId": "a465c19a-3057-4db3-f554-c7bbcb4fb42f"
      },
      "execution_count": null,
      "outputs": [
        {
          "output_type": "execute_result",
          "data": {
            "text/plain": [
              "1"
            ]
          },
          "metadata": {},
          "execution_count": 22
        }
      ]
    },
    {
      "cell_type": "code",
      "execution_count": null,
      "metadata": {
        "colab": {
          "base_uri": "https://localhost:8080/"
        },
        "id": "mURLHfKRueqJ",
        "outputId": "7e5f0d17-007f-45e7-8800-a89d693a0860"
      },
      "outputs": [
        {
          "output_type": "execute_result",
          "data": {
            "text/plain": [
              "3"
            ]
          },
          "metadata": {},
          "execution_count": 23
        }
      ],
      "source": [
        "len(mydata)"
      ]
    },
    {
      "cell_type": "code",
      "execution_count": null,
      "metadata": {
        "colab": {
          "base_uri": "https://localhost:8080/"
        },
        "id": "1oBG_rSIueqJ",
        "outputId": "c1f75926-ed8b-4ce5-de1d-8e30f08466cb"
      },
      "outputs": [
        {
          "output_type": "execute_result",
          "data": {
            "text/plain": [
              "2"
            ]
          },
          "metadata": {},
          "execution_count": 24
        }
      ],
      "source": [
        "mydata.ndim"
      ]
    },
    {
      "cell_type": "code",
      "execution_count": null,
      "metadata": {
        "colab": {
          "base_uri": "https://localhost:8080/"
        },
        "id": "Sa6mg8iuueqK",
        "outputId": "1de552d1-716b-4821-85c1-087339af52be"
      },
      "outputs": [
        {
          "output_type": "execute_result",
          "data": {
            "text/plain": [
              "(3, 5)"
            ]
          },
          "metadata": {},
          "execution_count": 25
        }
      ],
      "source": [
        "mydata.shape"
      ]
    },
    {
      "cell_type": "code",
      "source": [
        "mydata.size"
      ],
      "metadata": {
        "colab": {
          "base_uri": "https://localhost:8080/"
        },
        "id": "7cI6N0zdbUqF",
        "outputId": "20ccf170-cf32-4966-c5da-5d4479373da5"
      },
      "execution_count": null,
      "outputs": [
        {
          "output_type": "execute_result",
          "data": {
            "text/plain": [
              "15"
            ]
          },
          "metadata": {},
          "execution_count": 26
        }
      ]
    },
    {
      "cell_type": "markdown",
      "metadata": {
        "id": "IlC-FKtyueqL"
      },
      "source": [
        "### `numpy.array.shape`"
      ]
    },
    {
      "cell_type": "markdown",
      "metadata": {
        "id": "Jpv-8PhkueqL"
      },
      "source": [
        "![dimensions.png](https://data.bioml.ru/htdocs/courses/python/datasci/numpy/img/dimensions.png)"
      ]
    },
    {
      "cell_type": "markdown",
      "metadata": {
        "id": "FMrxGz2aueqN"
      },
      "source": [
        "### Другие способы инициализации `numpy.array`..."
      ]
    },
    {
      "cell_type": "markdown",
      "metadata": {
        "id": "ue5z8kUWueqO"
      },
      "source": [
        "В плохом коде набор величин может инициализироваться вот так:"
      ]
    },
    {
      "cell_type": "code",
      "execution_count": null,
      "metadata": {
        "id": "nMS0rkVHueqO"
      },
      "outputs": [],
      "source": [
        "a0 = 0\n",
        "a1 = 0\n",
        "a2 = 0\n",
        "a3 = 0\n",
        "a4 = 0\n",
        "a5 = 0\n",
        "a6 = 0\n",
        "a7 = 0\n",
        "a8 = 0\n",
        "a9 = 0"
      ]
    },
    {
      "cell_type": "markdown",
      "metadata": {
        "id": "ADwdH1ptueqO"
      },
      "source": [
        "Допустим, мы хотим сделать массив `numpy.array` размером 10$\\times$3 из нулей."
      ]
    },
    {
      "cell_type": "markdown",
      "metadata": {
        "id": "Vdj0KAncueqO"
      },
      "source": [
        "Сделаем способом, который помним!"
      ]
    },
    {
      "cell_type": "code",
      "execution_count": null,
      "metadata": {
        "id": "DKCr-0pdueqP",
        "outputId": "bac1dbf9-e17d-4f83-c6ce-eb44ec48a0d6",
        "colab": {
          "base_uri": "https://localhost:8080/"
        }
      },
      "outputs": [
        {
          "output_type": "execute_result",
          "data": {
            "text/plain": [
              "array([[0, 0, 0, 0, 0, 0, 0, 0, 0, 0],\n",
              "       [0, 0, 0, 0, 0, 0, 0, 0, 0, 0],\n",
              "       [0, 0, 0, 0, 0, 0, 0, 0, 0, 0]])"
            ]
          },
          "metadata": {},
          "execution_count": 28
        }
      ],
      "source": [
        "x = 10\n",
        "y = 3\n",
        "zeros = []\n",
        "for i in range(y):\n",
        "    sub_zero = []\n",
        "    for j in range(x):\n",
        "        sub_zero.append(0)\n",
        "    zeros.append(sub_zero)\n",
        "zeros = np.array(zeros)\n",
        "zeros"
      ]
    },
    {
      "cell_type": "markdown",
      "metadata": {
        "id": "6Z-e8HOUueqP"
      },
      "source": [
        "![meme_jack-sparrow.jpg](https://data.bioml.ru/htdocs/courses/python/datasci/numpy/img/meme_jack-sparrow.jpg)"
      ]
    },
    {
      "cell_type": "markdown",
      "metadata": {
        "id": "xR1ePbMfueqP"
      },
      "source": [
        "### Как сделать это нормально?"
      ]
    },
    {
      "cell_type": "markdown",
      "metadata": {
        "id": "NrA1sjvnueqQ"
      },
      "source": [
        "В стандартном Python:"
      ]
    },
    {
      "cell_type": "code",
      "execution_count": null,
      "metadata": {
        "colab": {
          "base_uri": "https://localhost:8080/"
        },
        "id": "adLuJxBJueqQ",
        "outputId": "dfa897fc-47c0-482a-c40c-5379639ddc16"
      },
      "outputs": [
        {
          "output_type": "execute_result",
          "data": {
            "text/plain": [
              "[[0, 0, 0, 0, 0, 0, 0, 0, 0, 0],\n",
              " [0, 0, 0, 0, 0, 0, 0, 0, 0, 0],\n",
              " [0, 0, 0, 0, 0, 0, 0, 0, 0, 0]]"
            ]
          },
          "metadata": {},
          "execution_count": 29
        }
      ],
      "source": [
        "x = 10\n",
        "y = 3\n",
        "zeros = [[0 for _ in range(x)] for _ in range(y)]\n",
        "zeros"
      ]
    },
    {
      "cell_type": "code",
      "source": [
        "zeros[0][5] = 2\n",
        "zeros"
      ],
      "metadata": {
        "colab": {
          "base_uri": "https://localhost:8080/"
        },
        "id": "sauTFQpncyzI",
        "outputId": "198668bb-c2e6-4092-f578-470117fd715f"
      },
      "execution_count": null,
      "outputs": [
        {
          "output_type": "execute_result",
          "data": {
            "text/plain": [
              "[[0, 0, 0, 0, 0, 2, 0, 0, 0, 0],\n",
              " [0, 0, 0, 0, 0, 0, 0, 0, 0, 0],\n",
              " [0, 0, 0, 0, 0, 0, 0, 0, 0, 0]]"
            ]
          },
          "metadata": {},
          "execution_count": 30
        }
      ]
    },
    {
      "cell_type": "code",
      "execution_count": null,
      "metadata": {
        "colab": {
          "base_uri": "https://localhost:8080/"
        },
        "id": "UPTMw5AYueqR",
        "outputId": "3e3ba57c-d09b-420f-d18f-a05f86db7cb2"
      },
      "outputs": [
        {
          "output_type": "execute_result",
          "data": {
            "text/plain": [
              "[[0, 0, 0, 0, 0, 0, 0, 0, 0, 0],\n",
              " [0, 0, 0, 0, 0, 0, 0, 0, 0, 0],\n",
              " [0, 0, 0, 0, 0, 0, 0, 0, 0, 0]]"
            ]
          },
          "metadata": {},
          "execution_count": 31
        }
      ],
      "source": [
        "zeros = [[0] * x] * y  # bad way!\n",
        "zeros"
      ]
    },
    {
      "cell_type": "code",
      "source": [
        "zeros[0][5] = 2  # why it's bad\n",
        "zeros"
      ],
      "metadata": {
        "colab": {
          "base_uri": "https://localhost:8080/"
        },
        "id": "WFw7u1wAcnsz",
        "outputId": "307d6f84-0b76-414a-f643-72b27c332651"
      },
      "execution_count": null,
      "outputs": [
        {
          "output_type": "execute_result",
          "data": {
            "text/plain": [
              "[[0, 0, 0, 0, 0, 2, 0, 0, 0, 0],\n",
              " [0, 0, 0, 0, 0, 2, 0, 0, 0, 0],\n",
              " [0, 0, 0, 0, 0, 2, 0, 0, 0, 0]]"
            ]
          },
          "metadata": {},
          "execution_count": 32
        }
      ]
    },
    {
      "cell_type": "markdown",
      "source": [
        "В NumPy:"
      ],
      "metadata": {
        "id": "IN9bsQRySCRT"
      }
    },
    {
      "cell_type": "code",
      "execution_count": null,
      "metadata": {
        "id": "yj79Gx-WueqR",
        "outputId": "8e021a6b-a37b-49bd-d2ad-a1923b3c3994",
        "colab": {
          "base_uri": "https://localhost:8080/"
        }
      },
      "outputs": [
        {
          "output_type": "execute_result",
          "data": {
            "text/plain": [
              "array([[0, 0, 0, 0, 0, 0, 0, 0, 0, 0],\n",
              "       [0, 0, 0, 0, 0, 0, 0, 0, 0, 0],\n",
              "       [0, 0, 0, 0, 0, 0, 0, 0, 0, 0]])"
            ]
          },
          "metadata": {},
          "execution_count": 33
        }
      ],
      "source": [
        "np.zeros(shape=(3, 10), dtype=int)"
      ]
    },
    {
      "cell_type": "markdown",
      "metadata": {
        "id": "jlNL_MedueqR"
      },
      "source": [
        "Чтобы создавать простые массивы `numpy.array`, можно воспользоваться специальными функциями:"
      ]
    },
    {
      "cell_type": "markdown",
      "metadata": {
        "id": "3CPUDU63ueqR"
      },
      "source": [
        "![vis-numpy-3.jpg](https://data.bioml.ru/htdocs/courses/python/datasci/numpy/img/vis-numpy-3.jpg)"
      ]
    },
    {
      "cell_type": "markdown",
      "metadata": {
        "id": "FooL0_kiueqS"
      },
      "source": [
        "Аналогично с многомерными массивами:"
      ]
    },
    {
      "cell_type": "markdown",
      "metadata": {
        "id": "8jy6z9ewueqS"
      },
      "source": [
        "![vis-numpy-11.jpg](https://data.bioml.ru/htdocs/courses/python/datasci/numpy/img/vis-numpy-11.jpg)"
      ]
    },
    {
      "cell_type": "markdown",
      "metadata": {
        "id": "c0KzJBjAueqS"
      },
      "source": [
        "Аналоги `range`, сразу возвращающие массив `numpy.array`:"
      ]
    },
    {
      "cell_type": "code",
      "execution_count": null,
      "metadata": {
        "id": "kZn8nVlTueqT",
        "outputId": "693ea7f4-d71a-4b6b-a531-22576893d6f7"
      },
      "outputs": [
        {
          "data": {
            "text/plain": [
              "array([1, 2, 3, 4, 5, 6, 7, 8, 9])"
            ]
          },
          "execution_count": 31,
          "metadata": {},
          "output_type": "execute_result"
        }
      ],
      "source": [
        "np.arange(1, 10)"
      ]
    },
    {
      "cell_type": "code",
      "execution_count": null,
      "metadata": {
        "id": "NnkMQf86ueqT",
        "outputId": "5768c7cd-bd22-4bc5-c92c-a63bd411a466"
      },
      "outputs": [
        {
          "data": {
            "text/plain": [
              "array([1, 3, 5, 7, 9])"
            ]
          },
          "execution_count": 32,
          "metadata": {},
          "output_type": "execute_result"
        }
      ],
      "source": [
        "np.arange(1, 10, 2)"
      ]
    },
    {
      "cell_type": "code",
      "execution_count": null,
      "metadata": {
        "id": "UBVu_JxiueqT",
        "outputId": "3ec7fd55-4ee2-421f-b3d0-23ed6e2e4efb",
        "colab": {
          "base_uri": "https://localhost:8080/"
        }
      },
      "outputs": [
        {
          "output_type": "execute_result",
          "data": {
            "text/plain": [
              "array([1. , 1.1, 1.2, 1.3, 1.4, 1.5, 1.6, 1.7, 1.8, 1.9, 2. , 2.1, 2.2,\n",
              "       2.3, 2.4, 2.5, 2.6, 2.7, 2.8, 2.9, 3. , 3.1, 3.2, 3.3, 3.4, 3.5,\n",
              "       3.6, 3.7, 3.8, 3.9, 4. , 4.1, 4.2, 4.3, 4.4, 4.5, 4.6, 4.7, 4.8,\n",
              "       4.9, 5. , 5.1, 5.2, 5.3, 5.4, 5.5, 5.6, 5.7, 5.8, 5.9, 6. , 6.1,\n",
              "       6.2, 6.3, 6.4, 6.5, 6.6, 6.7, 6.8, 6.9, 7. , 7.1, 7.2, 7.3, 7.4,\n",
              "       7.5, 7.6, 7.7, 7.8, 7.9, 8. , 8.1, 8.2, 8.3, 8.4, 8.5, 8.6, 8.7,\n",
              "       8.8, 8.9, 9. , 9.1, 9.2, 9.3, 9.4, 9.5, 9.6, 9.7, 9.8, 9.9])"
            ]
          },
          "metadata": {},
          "execution_count": 39
        }
      ],
      "source": [
        "np.arange(1, 10, 0.1)"
      ]
    },
    {
      "cell_type": "code",
      "execution_count": null,
      "metadata": {
        "id": "dpKB8PpZueqU",
        "outputId": "465668c9-3bb5-4445-e50a-7b95ba0f3c72"
      },
      "outputs": [
        {
          "data": {
            "text/plain": [
              "array([0.  , 0.25, 0.5 , 0.75, 1.  ])"
            ]
          },
          "execution_count": 34,
          "metadata": {},
          "output_type": "execute_result"
        }
      ],
      "source": [
        "np.linspace(0, 1, 5, endpoint=True)"
      ]
    },
    {
      "cell_type": "markdown",
      "metadata": {
        "id": "9DeuJ3kjueqU"
      },
      "source": [
        "**В чем разница?**"
      ]
    },
    {
      "cell_type": "markdown",
      "metadata": {
        "id": "1vSitl98ueqU"
      },
      "source": [
        "## Алгебраические операции"
      ]
    },
    {
      "cell_type": "markdown",
      "metadata": {
        "id": "3146BtBSueqU"
      },
      "source": [
        "_— Какие храбрые поступки вы совершали в своей жизни?_\n",
        "\n",
        "_— Однажды на алгебре я руку поднял._"
      ]
    },
    {
      "cell_type": "markdown",
      "metadata": {
        "id": "vFv4rPvkueqU"
      },
      "source": [
        "![meme_sci-calc.png](https://data.bioml.ru/htdocs/courses/python/datasci/numpy/img/meme_sci-calc.png)"
      ]
    },
    {
      "cell_type": "markdown",
      "metadata": {
        "id": "8rkKWjDwSN9X"
      },
      "source": [
        "![meme_sci-calc-2.png](https://data.bioml.ru/htdocs/courses/python/datasci/numpy/img/meme_sci-calc-2.png)"
      ]
    },
    {
      "cell_type": "markdown",
      "metadata": {
        "id": "PB3cZmJIueqV"
      },
      "source": [
        "### Базовая арифметика"
      ]
    },
    {
      "cell_type": "code",
      "execution_count": null,
      "metadata": {
        "id": "isGdV-7kueqV"
      },
      "outputs": [],
      "source": [
        "data = np.array([[1, 2],\n",
        "                 [3, 4],\n",
        "                 [5, 6]], dtype=np.int8)"
      ]
    },
    {
      "cell_type": "markdown",
      "metadata": {
        "id": "jPp7NfI_ueqV"
      },
      "source": [
        "**Проверим несколько примеров:**"
      ]
    },
    {
      "cell_type": "code",
      "source": [
        "data + 2"
      ],
      "metadata": {
        "colab": {
          "base_uri": "https://localhost:8080/"
        },
        "id": "ruG4hkbWVoRS",
        "outputId": "f1bb53fd-dc8a-473c-a35e-41408b533d63"
      },
      "execution_count": null,
      "outputs": [
        {
          "output_type": "execute_result",
          "data": {
            "text/plain": [
              "array([[3, 4],\n",
              "       [5, 6],\n",
              "       [7, 8]], dtype=int8)"
            ]
          },
          "metadata": {},
          "execution_count": 18
        }
      ]
    },
    {
      "cell_type": "code",
      "source": [
        "data - 3"
      ],
      "metadata": {
        "colab": {
          "base_uri": "https://localhost:8080/"
        },
        "id": "ycc44JCDVsTE",
        "outputId": "9537259d-800b-4c0b-a1ba-f9091fa947bd"
      },
      "execution_count": null,
      "outputs": [
        {
          "output_type": "execute_result",
          "data": {
            "text/plain": [
              "array([[-2, -1],\n",
              "       [ 0,  1],\n",
              "       [ 2,  3]], dtype=int8)"
            ]
          },
          "metadata": {},
          "execution_count": 19
        }
      ]
    },
    {
      "cell_type": "code",
      "source": [
        "data * 4"
      ],
      "metadata": {
        "colab": {
          "base_uri": "https://localhost:8080/"
        },
        "id": "rRvC4XpmVtlm",
        "outputId": "f9e3d88e-e85e-4b6f-846d-c58adce517a7"
      },
      "execution_count": null,
      "outputs": [
        {
          "output_type": "execute_result",
          "data": {
            "text/plain": [
              "array([[ 4,  8],\n",
              "       [12, 16],\n",
              "       [20, 24]], dtype=int8)"
            ]
          },
          "metadata": {},
          "execution_count": 20
        }
      ]
    },
    {
      "cell_type": "code",
      "source": [
        "data // 5"
      ],
      "metadata": {
        "colab": {
          "base_uri": "https://localhost:8080/"
        },
        "id": "IZE_kJ35VwgI",
        "outputId": "5f2de020-b4fa-4682-825d-458dc3ff6c81"
      },
      "execution_count": null,
      "outputs": [
        {
          "output_type": "execute_result",
          "data": {
            "text/plain": [
              "array([[0, 0],\n",
              "       [0, 0],\n",
              "       [1, 1]], dtype=int8)"
            ]
          },
          "metadata": {},
          "execution_count": 22
        }
      ]
    },
    {
      "cell_type": "code",
      "source": [
        "data / 5"
      ],
      "metadata": {
        "colab": {
          "base_uri": "https://localhost:8080/"
        },
        "id": "F-sEi015Vy_I",
        "outputId": "0fdf1156-a931-4750-f999-195f69cedbda"
      },
      "execution_count": null,
      "outputs": [
        {
          "output_type": "execute_result",
          "data": {
            "text/plain": [
              "array([[0.2, 0.4],\n",
              "       [0.6, 0.8],\n",
              "       [1. , 1.2]])"
            ]
          },
          "metadata": {},
          "execution_count": 23
        }
      ]
    },
    {
      "cell_type": "code",
      "source": [
        "data ** 2"
      ],
      "metadata": {
        "colab": {
          "base_uri": "https://localhost:8080/"
        },
        "id": "tjcPDsitV498",
        "outputId": "29aae267-ea09-4494-f190-f84e86051235"
      },
      "execution_count": null,
      "outputs": [
        {
          "output_type": "execute_result",
          "data": {
            "text/plain": [
              "array([[ 1,  4],\n",
              "       [ 9, 16],\n",
              "       [25, 36]], dtype=int8)"
            ]
          },
          "metadata": {},
          "execution_count": 24
        }
      ]
    },
    {
      "cell_type": "code",
      "source": [
        "2 ** data"
      ],
      "metadata": {
        "colab": {
          "base_uri": "https://localhost:8080/"
        },
        "id": "5hiYX0V3V6hU",
        "outputId": "9b87e044-a091-4e58-8061-c867ca73dd30"
      },
      "execution_count": null,
      "outputs": [
        {
          "output_type": "execute_result",
          "data": {
            "text/plain": [
              "array([[ 2,  4],\n",
              "       [ 8, 16],\n",
              "       [32, 64]], dtype=int8)"
            ]
          },
          "metadata": {},
          "execution_count": 25
        }
      ]
    },
    {
      "cell_type": "markdown",
      "source": [
        "### Поэлементные операции на массивах"
      ],
      "metadata": {
        "id": "G4E1aPVYZm38"
      }
    },
    {
      "cell_type": "markdown",
      "metadata": {
        "id": "WdtHgTORueqW"
      },
      "source": [
        "Как вы думаете, **что произойдет**, если попытаться **сложить 2 массива**?"
      ]
    },
    {
      "cell_type": "markdown",
      "metadata": {
        "id": "o63FoKGKueqW"
      },
      "source": [
        "![vis-numpy-5.jpg](https://data.bioml.ru/htdocs/courses/python/datasci/numpy/img/vis-numpy-5.jpg)"
      ]
    },
    {
      "cell_type": "markdown",
      "metadata": {
        "id": "kENnRkyhueqe"
      },
      "source": [
        "С другими операциями это тоже работает:"
      ]
    },
    {
      "cell_type": "markdown",
      "metadata": {
        "id": "_e57yQovueqe"
      },
      "source": [
        "![vis-numpy-6.jpg](https://data.bioml.ru/htdocs/courses/python/datasci/numpy/img/vis-numpy-6.jpg)"
      ]
    },
    {
      "cell_type": "markdown",
      "metadata": {
        "id": "Omw2uhzDueqe"
      },
      "source": [
        "А что получится **с многомерными массивами**?"
      ]
    },
    {
      "cell_type": "markdown",
      "metadata": {
        "id": "lPfvzyj0ueqf"
      },
      "source": [
        "Всё так же!"
      ]
    },
    {
      "cell_type": "markdown",
      "metadata": {
        "id": "lN3iBU0Hueqf"
      },
      "source": [
        "![vis-numpy-12.jpg](https://data.bioml.ru/htdocs/courses/python/datasci/numpy/img/vis-numpy-12.jpg)"
      ]
    },
    {
      "cell_type": "markdown",
      "source": [
        "### Элементарные функции"
      ],
      "metadata": {
        "id": "W1Axr-JiZxKK"
      }
    },
    {
      "cell_type": "markdown",
      "metadata": {
        "id": "rssR_D07ueqn"
      },
      "source": [
        "А теперь перейдем от базовой арифметики к чуть более cложным функциям.\n",
        "\n",
        "_Подождите, это все была **базовая** арифметика?_"
      ]
    },
    {
      "cell_type": "code",
      "execution_count": null,
      "metadata": {
        "id": "PS5mrEGiueqn"
      },
      "outputs": [],
      "source": [
        "data = np.array([[1, 2, 3],\n",
        "                 [4, 5, 8]])"
      ]
    },
    {
      "cell_type": "code",
      "execution_count": null,
      "metadata": {
        "id": "Gx_9nxjpueqo",
        "outputId": "27c0e688-2ffa-4671-ac9d-63adfe98e029"
      },
      "outputs": [
        {
          "data": {
            "text/plain": [
              "array([[1.        , 1.41421356, 1.73205081],\n",
              "       [2.        , 2.23606798, 2.82842712]])"
            ]
          },
          "execution_count": 46,
          "metadata": {},
          "output_type": "execute_result"
        }
      ],
      "source": [
        "np.sqrt(data)"
      ]
    },
    {
      "cell_type": "code",
      "execution_count": null,
      "metadata": {
        "id": "klxPij7iueqp",
        "outputId": "dd66a5b1-dfb1-4f43-f76f-a20fcf496118"
      },
      "outputs": [
        {
          "data": {
            "text/plain": [
              "array([[2.71828183e+00, 7.38905610e+00, 2.00855369e+01],\n",
              "       [5.45981500e+01, 1.48413159e+02, 2.98095799e+03]])"
            ]
          },
          "execution_count": 47,
          "metadata": {},
          "output_type": "execute_result"
        }
      ],
      "source": [
        "np.exp(data)"
      ]
    },
    {
      "cell_type": "code",
      "execution_count": null,
      "metadata": {
        "id": "yW_5GfsRueqp",
        "outputId": "8f815c76-f879-4d0d-9b96-47f69308bbe9"
      },
      "outputs": [
        {
          "data": {
            "text/plain": [
              "array([[0.        , 0.69314718, 1.09861229],\n",
              "       [1.38629436, 1.60943791, 2.07944154]])"
            ]
          },
          "execution_count": 48,
          "metadata": {},
          "output_type": "execute_result"
        }
      ],
      "source": [
        "np.log(data)"
      ]
    },
    {
      "cell_type": "code",
      "execution_count": null,
      "metadata": {
        "scrolled": true,
        "id": "exmPUWUsueqq",
        "outputId": "515188c9-9bba-4bad-a07c-10ca41a6b2f1"
      },
      "outputs": [
        {
          "data": {
            "text/plain": [
              "array([[0.        , 1.        , 1.5849625 ],\n",
              "       [2.        , 2.32192809, 3.        ]])"
            ]
          },
          "execution_count": 49,
          "metadata": {},
          "output_type": "execute_result"
        }
      ],
      "source": [
        "np.log2(data)"
      ]
    },
    {
      "cell_type": "markdown",
      "metadata": {
        "id": "XlsYa8JKueqq"
      },
      "source": [
        "### Агрегирующие операции"
      ]
    },
    {
      "cell_type": "code",
      "execution_count": null,
      "metadata": {
        "id": "C-o2UIbJueqq",
        "outputId": "2d66fb27-7ef4-4afb-ae6e-b655990c8989"
      },
      "outputs": [
        {
          "data": {
            "text/plain": [
              "array([ 3,  1,  5, 10,  1,  2,  0,  2])"
            ]
          },
          "execution_count": 50,
          "metadata": {},
          "output_type": "execute_result"
        }
      ],
      "source": [
        "np.random.seed(777)\n",
        "a = np.random.randint(0, 6, size=(8,))\n",
        "a[3] = 10\n",
        "a"
      ]
    },
    {
      "cell_type": "code",
      "execution_count": null,
      "metadata": {
        "id": "tKAsU0Pcueqq",
        "outputId": "03ef12ee-aaa1-4642-fcbc-834450f94929"
      },
      "outputs": [
        {
          "data": {
            "text/plain": [
              "(0, 10, 3, 24, 0, 3.0)"
            ]
          },
          "execution_count": 51,
          "metadata": {},
          "output_type": "execute_result"
        }
      ],
      "source": [
        "a.min(), a.max(), a.argmax(), a.sum(), a.prod(), a.mean()"
      ]
    },
    {
      "cell_type": "code",
      "execution_count": null,
      "metadata": {
        "id": "Vgvcl1ACueqr",
        "outputId": "82c8ed67-cfbb-41cb-e277-dbd6a33bf379"
      },
      "outputs": [
        {
          "data": {
            "text/plain": [
              "(0, 10, 3, 24, 0, 3.0)"
            ]
          },
          "execution_count": 52,
          "metadata": {},
          "output_type": "execute_result"
        }
      ],
      "source": [
        "np.min(a), np.max(a), np.argmax(a), np.sum(a), np.prod(a), np.mean(a)"
      ]
    },
    {
      "cell_type": "markdown",
      "metadata": {
        "id": "MHqtZ2C7ueqs"
      },
      "source": [
        "![vis-numpy-17.jpg](https://data.bioml.ru/htdocs/courses/python/datasci/numpy/img/vis-numpy-17.jpg)"
      ]
    },
    {
      "cell_type": "markdown",
      "metadata": {
        "id": "0Yb6v-Zgueqs"
      },
      "source": [
        "Старайтесь **не использовать** с массивами `numpy.array` нативные функции `min`, `max` и `sum`.\n",
        "\n",
        "Какая у этого причина?"
      ]
    },
    {
      "cell_type": "code",
      "execution_count": null,
      "metadata": {
        "id": "qOCo87FYueqs",
        "outputId": "24698b8a-940b-4ba7-8996-b46a0b0c917b"
      },
      "outputs": [
        {
          "data": {
            "text/plain": [
              "(5, array([-2, -1,  0,  2,  3,  5]))"
            ]
          },
          "execution_count": 53,
          "metadata": {},
          "output_type": "execute_result"
        }
      ],
      "source": [
        "a = np.random.randint(-2, 8, size=(6,))\n",
        "max(a), a"
      ]
    },
    {
      "cell_type": "code",
      "execution_count": null,
      "metadata": {
        "id": "ljuyxM8cueqs",
        "outputId": "5ceb94aa-8e59-4d5d-939f-f4a35f751f61"
      },
      "outputs": [
        {
          "ename": "ValueError",
          "evalue": "The truth value of an array with more than one element is ambiguous. Use a.any() or a.all()",
          "output_type": "error",
          "traceback": [
            "\u001b[1;31m---------------------------------------------------------------------------\u001b[0m",
            "\u001b[1;31mValueError\u001b[0m                                Traceback (most recent call last)",
            "\u001b[1;32m<ipython-input-54-5c91eed52270>\u001b[0m in \u001b[0;36m<module>\u001b[1;34m\u001b[0m\n\u001b[0;32m      1\u001b[0m \u001b[0ma\u001b[0m \u001b[1;33m=\u001b[0m \u001b[0mnp\u001b[0m\u001b[1;33m.\u001b[0m\u001b[0mrandom\u001b[0m\u001b[1;33m.\u001b[0m\u001b[0mrandint\u001b[0m\u001b[1;33m(\u001b[0m\u001b[1;33m-\u001b[0m\u001b[1;36m2\u001b[0m\u001b[1;33m,\u001b[0m \u001b[1;36m8\u001b[0m\u001b[1;33m,\u001b[0m \u001b[0msize\u001b[0m\u001b[1;33m=\u001b[0m\u001b[1;33m(\u001b[0m\u001b[1;36m4\u001b[0m\u001b[1;33m,\u001b[0m \u001b[1;36m3\u001b[0m\u001b[1;33m)\u001b[0m\u001b[1;33m)\u001b[0m\u001b[1;33m\u001b[0m\u001b[1;33m\u001b[0m\u001b[0m\n\u001b[1;32m----> 2\u001b[1;33m \u001b[0mmax\u001b[0m\u001b[1;33m(\u001b[0m\u001b[0ma\u001b[0m\u001b[1;33m)\u001b[0m\u001b[1;33m,\u001b[0m \u001b[0ma\u001b[0m\u001b[1;33m\u001b[0m\u001b[1;33m\u001b[0m\u001b[0m\n\u001b[0m",
            "\u001b[1;31mValueError\u001b[0m: The truth value of an array with more than one element is ambiguous. Use a.any() or a.all()"
          ]
        }
      ],
      "source": [
        "a = np.random.randint(-2, 8, size=(4, 3))\n",
        "max(a), a"
      ]
    },
    {
      "cell_type": "markdown",
      "metadata": {
        "id": "7l4mB1l4ueqt"
      },
      "source": [
        "Почему *агрегирующие* операции?"
      ]
    },
    {
      "cell_type": "markdown",
      "metadata": {
        "id": "z8_riiElueqt"
      },
      "source": [
        "Просто потому что они выполняют агрегацию (редукцию) по определенной оси!\n",
        "\n",
        "Разберем, что делает `numpy.array.???(axis=axis)` – агрегирующая операция вдоль оси `axis`:"
      ]
    },
    {
      "cell_type": "markdown",
      "metadata": {
        "id": "rjJ0gk0iueqt"
      },
      "source": [
        "* выполняет редукцию (агрегирующую операцию) по оси `axis`;\n",
        "* удаляет ось `axis` из исходного массива."
      ]
    },
    {
      "cell_type": "markdown",
      "metadata": {
        "id": "7PgUX32Bueqt"
      },
      "source": [
        "**Что все это значит? Как это применять?**\n",
        "\n",
        "Разберем пример:"
      ]
    },
    {
      "cell_type": "markdown",
      "metadata": {
        "id": "yFqrSg4lueqt"
      },
      "source": [
        "![vis-numpy-18.jpg](https://data.bioml.ru/htdocs/courses/python/datasci/numpy/img/vis-numpy-18.jpg)"
      ]
    },
    {
      "cell_type": "code",
      "execution_count": null,
      "metadata": {
        "id": "WGUYyHSFuequ"
      },
      "outputs": [],
      "source": [
        "data = np.array([[1, 2],\n",
        "                 [5, 3],\n",
        "                 [4, 6]], dtype=int)"
      ]
    },
    {
      "cell_type": "code",
      "execution_count": null,
      "metadata": {
        "id": "whgKM-EAuequ",
        "outputId": "9d7c8a1a-54a1-4cbe-e2f6-345264b07a3b"
      },
      "outputs": [
        {
          "data": {
            "text/plain": [
              "array([5, 6])"
            ]
          },
          "execution_count": 56,
          "metadata": {},
          "output_type": "execute_result"
        }
      ],
      "source": [
        "data.max(axis=0)"
      ]
    },
    {
      "cell_type": "code",
      "execution_count": null,
      "metadata": {
        "id": "eND7bMZSuequ",
        "outputId": "6f7e2b9c-8182-41c2-917e-fed03e81845c"
      },
      "outputs": [
        {
          "data": {
            "text/plain": [
              "array([2, 5, 6])"
            ]
          },
          "execution_count": 57,
          "metadata": {},
          "output_type": "execute_result"
        }
      ],
      "source": [
        "data.max(axis=1)"
      ]
    },
    {
      "cell_type": "code",
      "execution_count": null,
      "metadata": {
        "id": "Pl63drPmueqv",
        "outputId": "7911af53-0a23-4a72-c503-5e0355028523",
        "colab": {
          "base_uri": "https://localhost:8080/"
        }
      },
      "outputs": [
        {
          "output_type": "execute_result",
          "data": {
            "text/plain": [
              "array([[ 7,  6,  7,  1,  7,  4,  7],\n",
              "       [ 9,  8,  7, 15,  0,  1,  2],\n",
              "       [ 4,  5,  7,  1,  7,  2,  2]])"
            ]
          },
          "metadata": {},
          "execution_count": 3
        }
      ],
      "source": [
        "np.random.seed(777)\n",
        "\n",
        "data = np.random.randint(0, 10, size=(3, 7))\n",
        "data[1, 3] = 15\n",
        "\n",
        "data"
      ]
    },
    {
      "cell_type": "code",
      "source": [
        "np.random.seed(0)\n",
        "\n",
        "data = np.random.randint(0, 10, size=(100, 20))\n",
        "data_std = (data - data.mean(axis=1, keepdims=True)) / data.std(axis=1, keepdims=True)\n",
        "data_std.shape, data_std.mean(axis=1), data_std.std(axis=1)"
      ],
      "metadata": {
        "colab": {
          "base_uri": "https://localhost:8080/"
        },
        "id": "jt742Vcz3GyJ",
        "outputId": "e758ddf0-cb10-40ff-b18f-2a2dfa200540"
      },
      "execution_count": null,
      "outputs": [
        {
          "output_type": "execute_result",
          "data": {
            "text/plain": [
              "((100, 20),\n",
              " array([ 1.11022302e-17,  5.55111512e-18, -2.22044605e-17, -1.66533454e-17,\n",
              "        -5.55111512e-18,  6.10622664e-17,  1.22124533e-16,  2.22044605e-17,\n",
              "        -7.77156117e-17, -9.43689571e-17,  9.99200722e-17, -4.44089210e-17,\n",
              "        -6.66133815e-17,  1.33226763e-16, -8.88178420e-17, -1.44328993e-16,\n",
              "        -1.33226763e-16,  7.77156117e-17, -1.72084569e-16,  0.00000000e+00,\n",
              "        -2.77555756e-18, -7.21644966e-17, -7.77156117e-17, -2.08166817e-18,\n",
              "        -1.06858966e-16,  1.22124533e-16,  1.11022302e-16,  6.53990750e-17,\n",
              "        -1.38777878e-16,  2.22044605e-17, -2.22044605e-17,  1.22124533e-16,\n",
              "         8.88178420e-17, -1.11022302e-17,  7.21644966e-17,  1.33226763e-16,\n",
              "         6.38378239e-17,  2.22044605e-17,  7.77156117e-17,  1.33226763e-16,\n",
              "         9.99200722e-17,  8.32667268e-17, -4.44089210e-17, -1.44328993e-16,\n",
              "        -1.11022302e-17,  1.72084569e-16,  5.55111512e-17,  1.11022302e-17,\n",
              "        -7.77156117e-17, -8.32667268e-17, -1.66533454e-17,  1.22124533e-16,\n",
              "        -7.49400542e-17,  1.33226763e-16, -6.66133815e-17, -6.93889390e-18,\n",
              "        -3.33066907e-17, -7.77156117e-17, -7.77156117e-17,  8.88178420e-17,\n",
              "        -4.44089210e-17,  1.11022302e-17, -6.66133815e-17, -1.11022302e-17,\n",
              "        -5.55111512e-18, -6.66133815e-17,  1.33226763e-16, -2.22044605e-17,\n",
              "        -4.44089210e-17, -2.22044605e-17, -1.33226763e-16,  0.00000000e+00,\n",
              "         0.00000000e+00, -1.33226763e-16, -8.32667268e-18, -8.74300632e-17,\n",
              "        -2.22044605e-17, -5.55111512e-17,  0.00000000e+00, -1.11022302e-17,\n",
              "        -1.77635684e-16,  1.36002321e-16,  6.66133815e-17, -5.55111512e-18,\n",
              "         1.03389519e-16, -1.22124533e-16, -1.11022302e-17,  1.12410081e-16,\n",
              "         1.11022302e-16,  6.66133815e-17, -2.22044605e-17, -1.22124533e-16,\n",
              "         6.24500451e-17, -6.10622664e-17,  1.60982339e-16, -1.23512311e-16,\n",
              "         0.00000000e+00,  5.68989300e-17,  9.99200722e-17, -1.11022302e-16]),\n",
              " array([1., 1., 1., 1., 1., 1., 1., 1., 1., 1., 1., 1., 1., 1., 1., 1., 1.,\n",
              "        1., 1., 1., 1., 1., 1., 1., 1., 1., 1., 1., 1., 1., 1., 1., 1., 1.,\n",
              "        1., 1., 1., 1., 1., 1., 1., 1., 1., 1., 1., 1., 1., 1., 1., 1., 1.,\n",
              "        1., 1., 1., 1., 1., 1., 1., 1., 1., 1., 1., 1., 1., 1., 1., 1., 1.,\n",
              "        1., 1., 1., 1., 1., 1., 1., 1., 1., 1., 1., 1., 1., 1., 1., 1., 1.,\n",
              "        1., 1., 1., 1., 1., 1., 1., 1., 1., 1., 1., 1., 1., 1., 1.]))"
            ]
          },
          "metadata": {},
          "execution_count": 49
        }
      ]
    },
    {
      "cell_type": "code",
      "source": [
        "data.mean(axis=1, keepdims=True).shape"
      ],
      "metadata": {
        "colab": {
          "base_uri": "https://localhost:8080/"
        },
        "id": "SMrtU92o4fgT",
        "outputId": "d042b360-b653-43d4-911a-6eef98222a24"
      },
      "execution_count": null,
      "outputs": [
        {
          "output_type": "execute_result",
          "data": {
            "text/plain": [
              "(100, 1)"
            ]
          },
          "metadata": {},
          "execution_count": 48
        }
      ]
    },
    {
      "cell_type": "code",
      "execution_count": null,
      "metadata": {
        "id": "sU7UwK7oueqv",
        "outputId": "34c6f096-9f47-439b-a5b6-eff52153b523",
        "colab": {
          "base_uri": "https://localhost:8080/"
        }
      },
      "outputs": [
        {
          "output_type": "execute_result",
          "data": {
            "text/plain": [
              "5"
            ]
          },
          "metadata": {},
          "execution_count": 45
        }
      ],
      "source": [
        "data.argmax()"
      ]
    },
    {
      "cell_type": "code",
      "source": [
        "data.flat[10]"
      ],
      "metadata": {
        "colab": {
          "base_uri": "https://localhost:8080/"
        },
        "id": "l9xTxiI0Xmqu",
        "outputId": "399d4358-e6a0-47af-dc1a-83b2fcff1732"
      },
      "execution_count": null,
      "outputs": [
        {
          "output_type": "execute_result",
          "data": {
            "text/plain": [
              "15"
            ]
          },
          "metadata": {},
          "execution_count": 5
        }
      ]
    },
    {
      "cell_type": "markdown",
      "source": [
        "## Операции с размерами и размерностями массивов"
      ],
      "metadata": {
        "id": "SXdxnInMZ483"
      }
    },
    {
      "cell_type": "markdown",
      "metadata": {
        "id": "NobXCOy5ueqL"
      },
      "source": [
        "### Транспонирование"
      ]
    },
    {
      "cell_type": "markdown",
      "metadata": {
        "id": "lRVDvYZZueqM"
      },
      "source": [
        "**Что значит \"транспонировать матрицу\"?**"
      ]
    },
    {
      "cell_type": "markdown",
      "metadata": {
        "id": "2iQObqHfueqM"
      },
      "source": [
        "Как транспонировать в стандартном Python?"
      ]
    },
    {
      "cell_type": "code",
      "execution_count": null,
      "metadata": {
        "id": "APrnHEr6ueqM",
        "outputId": "22215fd8-df18-4069-9661-ea971dca5e62"
      },
      "outputs": [
        {
          "data": {
            "text/plain": [
              "[(1, 4, 7), (2, 5, 8), (3, 6, 9)]"
            ]
          },
          "execution_count": 23,
          "metadata": {},
          "output_type": "execute_result"
        }
      ],
      "source": [
        "list_data = [(1, 2, 3), (4, 5, 6), (7, 8, 9)]\n",
        "list_T = list(zip(*list_data))\n",
        "list_T"
      ]
    },
    {
      "cell_type": "code",
      "execution_count": null,
      "metadata": {
        "id": "XcZ1rli1ueqN",
        "outputId": "26a412b7-eafe-4160-8856-03c8e6f920bf"
      },
      "outputs": [
        {
          "data": {
            "text/plain": [
              "array([[1, 4, 7],\n",
              "       [2, 5, 8],\n",
              "       [3, 6, 9]])"
            ]
          },
          "execution_count": 24,
          "metadata": {},
          "output_type": "execute_result"
        }
      ],
      "source": [
        "data = np.array(list_data)\n",
        "data.T"
      ]
    },
    {
      "cell_type": "code",
      "execution_count": null,
      "metadata": {
        "id": "YAvOzOexueqN",
        "outputId": "71f4a604-df54-4e50-b60b-c30a1b68ded0"
      },
      "outputs": [
        {
          "data": {
            "text/plain": [
              "array([[1, 4, 7],\n",
              "       [2, 5, 8],\n",
              "       [3, 6, 9]])"
            ]
          },
          "execution_count": 25,
          "metadata": {},
          "output_type": "execute_result"
        }
      ],
      "source": [
        "data.transpose()"
      ]
    },
    {
      "cell_type": "markdown",
      "source": [
        "А что с трехмерными массивами?"
      ],
      "metadata": {
        "id": "B2KQFCF7hOXD"
      }
    },
    {
      "cell_type": "code",
      "source": [
        "data = np.arange(30).reshape(2, 3, 5)\n",
        "data"
      ],
      "metadata": {
        "colab": {
          "base_uri": "https://localhost:8080/"
        },
        "id": "3EBLN696hK50",
        "outputId": "70eee430-1fb9-4910-d15d-fdbc4827efee"
      },
      "execution_count": null,
      "outputs": [
        {
          "output_type": "execute_result",
          "data": {
            "text/plain": [
              "array([[[ 0,  1,  2,  3,  4],\n",
              "        [ 5,  6,  7,  8,  9],\n",
              "        [10, 11, 12, 13, 14]],\n",
              "\n",
              "       [[15, 16, 17, 18, 19],\n",
              "        [20, 21, 22, 23, 24],\n",
              "        [25, 26, 27, 28, 29]]])"
            ]
          },
          "metadata": {},
          "execution_count": 4
        }
      ]
    },
    {
      "cell_type": "code",
      "source": [
        "data.shape"
      ],
      "metadata": {
        "colab": {
          "base_uri": "https://localhost:8080/"
        },
        "id": "xkRrjDTihbs7",
        "outputId": "a916721b-6331-4224-d865-5826bbb786f9"
      },
      "execution_count": null,
      "outputs": [
        {
          "output_type": "execute_result",
          "data": {
            "text/plain": [
              "(2, 3, 5)"
            ]
          },
          "metadata": {},
          "execution_count": 5
        }
      ]
    },
    {
      "cell_type": "code",
      "source": [
        "z = data.T\n",
        "z"
      ],
      "metadata": {
        "colab": {
          "base_uri": "https://localhost:8080/"
        },
        "id": "cPVcyMLghYD0",
        "outputId": "216593d2-0fa1-41fe-a9bf-487f2f87f787"
      },
      "execution_count": null,
      "outputs": [
        {
          "output_type": "execute_result",
          "data": {
            "text/plain": [
              "array([[[ 0, 15],\n",
              "        [ 5, 20],\n",
              "        [10, 25]],\n",
              "\n",
              "       [[ 1, 16],\n",
              "        [ 6, 21],\n",
              "        [11, 26]],\n",
              "\n",
              "       [[ 2, 17],\n",
              "        [ 7, 22],\n",
              "        [12, 27]],\n",
              "\n",
              "       [[ 3, 18],\n",
              "        [ 8, 23],\n",
              "        [13, 28]],\n",
              "\n",
              "       [[ 4, 19],\n",
              "        [ 9, 24],\n",
              "        [14, 29]]])"
            ]
          },
          "metadata": {},
          "execution_count": 6
        }
      ]
    },
    {
      "cell_type": "code",
      "source": [
        "z.shape"
      ],
      "metadata": {
        "colab": {
          "base_uri": "https://localhost:8080/"
        },
        "id": "Oq3Mmf-xhdJA",
        "outputId": "9f61f85f-32ee-4c99-e668-1d33764e2883"
      },
      "execution_count": null,
      "outputs": [
        {
          "output_type": "execute_result",
          "data": {
            "text/plain": [
              "(5, 3, 2)"
            ]
          },
          "metadata": {},
          "execution_count": 7
        }
      ]
    },
    {
      "cell_type": "code",
      "source": [
        "data.transpose()"
      ],
      "metadata": {
        "colab": {
          "base_uri": "https://localhost:8080/"
        },
        "id": "hxEt4bxNhj_B",
        "outputId": "42234daf-a192-405e-a8a5-4f133c255ffe"
      },
      "execution_count": null,
      "outputs": [
        {
          "output_type": "execute_result",
          "data": {
            "text/plain": [
              "array([[[ 0, 15],\n",
              "        [ 5, 20],\n",
              "        [10, 25]],\n",
              "\n",
              "       [[ 1, 16],\n",
              "        [ 6, 21],\n",
              "        [11, 26]],\n",
              "\n",
              "       [[ 2, 17],\n",
              "        [ 7, 22],\n",
              "        [12, 27]],\n",
              "\n",
              "       [[ 3, 18],\n",
              "        [ 8, 23],\n",
              "        [13, 28]],\n",
              "\n",
              "       [[ 4, 19],\n",
              "        [ 9, 24],\n",
              "        [14, 29]]])"
            ]
          },
          "metadata": {},
          "execution_count": 8
        }
      ]
    },
    {
      "cell_type": "code",
      "source": [
        "data[1]"
      ],
      "metadata": {
        "colab": {
          "base_uri": "https://localhost:8080/"
        },
        "id": "Masx2DZkUO5X",
        "outputId": "88316e14-44cf-40ab-d51a-38321d28df49"
      },
      "execution_count": null,
      "outputs": [
        {
          "output_type": "execute_result",
          "data": {
            "text/plain": [
              "array([[15, 16, 17, 18, 19],\n",
              "       [20, 21, 22, 23, 24],\n",
              "       [25, 26, 27, 28, 29]])"
            ]
          },
          "metadata": {},
          "execution_count": 10
        }
      ]
    },
    {
      "cell_type": "code",
      "source": [
        "data.shape"
      ],
      "metadata": {
        "id": "1v9l-ay_T6dy"
      },
      "execution_count": null,
      "outputs": []
    },
    {
      "cell_type": "code",
      "source": [
        "z = data.transpose(0, 2, 1)\n",
        "z"
      ],
      "metadata": {
        "colab": {
          "base_uri": "https://localhost:8080/"
        },
        "id": "4HMpjxDfhmQb",
        "outputId": "0fb4d805-0562-4dc7-b726-4be70ab21ef5"
      },
      "execution_count": null,
      "outputs": [
        {
          "output_type": "execute_result",
          "data": {
            "text/plain": [
              "array([[[ 0,  5, 10],\n",
              "        [ 1,  6, 11],\n",
              "        [ 2,  7, 12],\n",
              "        [ 3,  8, 13],\n",
              "        [ 4,  9, 14]],\n",
              "\n",
              "       [[15, 20, 25],\n",
              "        [16, 21, 26],\n",
              "        [17, 22, 27],\n",
              "        [18, 23, 28],\n",
              "        [19, 24, 29]]])"
            ]
          },
          "metadata": {},
          "execution_count": 68
        }
      ]
    },
    {
      "cell_type": "code",
      "source": [
        "z.shape"
      ],
      "metadata": {
        "colab": {
          "base_uri": "https://localhost:8080/"
        },
        "id": "GPguen_5hrFy",
        "outputId": "cdbff95a-611b-44d7-93d5-6d101ae28e7e"
      },
      "execution_count": null,
      "outputs": [
        {
          "output_type": "execute_result",
          "data": {
            "text/plain": [
              "(2, 5, 3)"
            ]
          },
          "metadata": {},
          "execution_count": 54
        }
      ]
    },
    {
      "cell_type": "markdown",
      "source": [
        "### Изменение размеров массива"
      ],
      "metadata": {
        "id": "aWrtO-mZam0n"
      }
    },
    {
      "cell_type": "code",
      "source": [
        "a = np.array([[1, 2, 3], [4, 5, 6]])\n",
        "\n",
        "a"
      ],
      "metadata": {
        "colab": {
          "base_uri": "https://localhost:8080/"
        },
        "id": "NJImaNhDCk9t",
        "outputId": "96273896-e4c5-4bcf-c186-25a5551efeb4"
      },
      "execution_count": null,
      "outputs": [
        {
          "output_type": "execute_result",
          "data": {
            "text/plain": [
              "array([[1, 2, 3],\n",
              "       [4, 5, 6]])"
            ]
          },
          "metadata": {},
          "execution_count": 63
        }
      ]
    },
    {
      "cell_type": "code",
      "source": [
        "a.transpose((1, 0))"
      ],
      "metadata": {
        "colab": {
          "base_uri": "https://localhost:8080/"
        },
        "id": "q-8GQXrKCr2Y",
        "outputId": "1fddf038-140f-493a-bd99-2dd52cdd9141"
      },
      "execution_count": null,
      "outputs": [
        {
          "output_type": "execute_result",
          "data": {
            "text/plain": [
              "array([[1, 4],\n",
              "       [2, 5],\n",
              "       [3, 6]])"
            ]
          },
          "metadata": {},
          "execution_count": 66
        }
      ]
    },
    {
      "cell_type": "code",
      "source": [
        "data = np.array([4, 8, 15, 16, 23, 42, 58, 141, 220, 509, 666, 1000])\n",
        "data.shape"
      ],
      "metadata": {
        "colab": {
          "base_uri": "https://localhost:8080/"
        },
        "id": "B8LlT6Ocaqg1",
        "outputId": "a48b5d16-79d1-474c-b05c-41c6ed7dd4db"
      },
      "execution_count": null,
      "outputs": [
        {
          "output_type": "execute_result",
          "data": {
            "text/plain": [
              "(12,)"
            ]
          },
          "metadata": {},
          "execution_count": 6
        }
      ]
    },
    {
      "cell_type": "markdown",
      "source": [
        "Метод `.reshape` позволяет изменить размер массива на заданный. При этом не происходит добавление новых элементов."
      ],
      "metadata": {
        "id": "vm7_ck42bet2"
      }
    },
    {
      "cell_type": "code",
      "source": [
        "data.reshape(4, 3)"
      ],
      "metadata": {
        "colab": {
          "base_uri": "https://localhost:8080/"
        },
        "id": "5fjkagmka91x",
        "outputId": "52e343a3-51bc-4843-839b-4b818c880509"
      },
      "execution_count": null,
      "outputs": [
        {
          "output_type": "execute_result",
          "data": {
            "text/plain": [
              "array([[   4,    8,   15],\n",
              "       [  16,   23,   42],\n",
              "       [  58,  141,  220],\n",
              "       [ 509,  666, 1000]])"
            ]
          },
          "metadata": {},
          "execution_count": 7
        }
      ]
    },
    {
      "cell_type": "code",
      "source": [
        "data.reshape(3, 4)"
      ],
      "metadata": {
        "colab": {
          "base_uri": "https://localhost:8080/"
        },
        "id": "xGokdskXbC_R",
        "outputId": "c7d701ca-1f11-47cc-a554-dee07b7b4ea7"
      },
      "execution_count": null,
      "outputs": [
        {
          "output_type": "execute_result",
          "data": {
            "text/plain": [
              "array([[   4,    8,   15,   16],\n",
              "       [  23,   42,   58,  141],\n",
              "       [ 220,  509,  666, 1000]])"
            ]
          },
          "metadata": {},
          "execution_count": 10
        }
      ]
    },
    {
      "cell_type": "code",
      "source": [
        "x = data.reshape(4, 3).T\n",
        "x"
      ],
      "metadata": {
        "colab": {
          "base_uri": "https://localhost:8080/"
        },
        "id": "eqo34GEEadhF",
        "outputId": "fc313469-fcbf-423c-e2f3-00e1ebfa4a8b"
      },
      "execution_count": null,
      "outputs": [
        {
          "output_type": "execute_result",
          "data": {
            "text/plain": [
              "array([[   4,   16,   58,  509],\n",
              "       [   8,   23,  141,  666],\n",
              "       [  15,   42,  220, 1000]])"
            ]
          },
          "metadata": {},
          "execution_count": 9
        }
      ]
    },
    {
      "cell_type": "code",
      "source": [
        "data"
      ],
      "metadata": {
        "colab": {
          "base_uri": "https://localhost:8080/"
        },
        "id": "JrCdFA1hbG3z",
        "outputId": "89ac1f1c-33e1-40f4-cac3-cdebb9466db3"
      },
      "execution_count": null,
      "outputs": [
        {
          "output_type": "execute_result",
          "data": {
            "text/plain": [
              "array([   4,    8,   15,   16,   23,   42,   58,  141,  220,  509,  666,\n",
              "       1000])"
            ]
          },
          "metadata": {},
          "execution_count": 6
        }
      ]
    },
    {
      "cell_type": "code",
      "source": [
        "data = data.reshape(4, 3)\n",
        "data"
      ],
      "metadata": {
        "colab": {
          "base_uri": "https://localhost:8080/"
        },
        "id": "5XHySIa1bHXq",
        "outputId": "99cc5977-1821-4374-e224-c564118772bf"
      },
      "execution_count": null,
      "outputs": [
        {
          "output_type": "execute_result",
          "data": {
            "text/plain": [
              "array([[   4,    8,   15],\n",
              "       [  16,   23,   42],\n",
              "       [  58,  141,  220],\n",
              "       [ 509,  666, 1000]])"
            ]
          },
          "metadata": {},
          "execution_count": 7
        }
      ]
    },
    {
      "cell_type": "code",
      "source": [
        "data.reshape(2)"
      ],
      "metadata": {
        "colab": {
          "base_uri": "https://localhost:8080/",
          "height": 165
        },
        "id": "8oNxHyoyby2n",
        "outputId": "6f71493e-2cf1-4881-8afe-6e07359658bf"
      },
      "execution_count": null,
      "outputs": [
        {
          "output_type": "error",
          "ename": "ValueError",
          "evalue": "ignored",
          "traceback": [
            "\u001b[0;31m---------------------------------------------------------------------------\u001b[0m",
            "\u001b[0;31mValueError\u001b[0m                                Traceback (most recent call last)",
            "\u001b[0;32m<ipython-input-10-f942c06b393c>\u001b[0m in \u001b[0;36m<module>\u001b[0;34m\u001b[0m\n\u001b[0;32m----> 1\u001b[0;31m \u001b[0mdata\u001b[0m\u001b[0;34m.\u001b[0m\u001b[0mreshape\u001b[0m\u001b[0;34m(\u001b[0m\u001b[0;36m2\u001b[0m\u001b[0;34m)\u001b[0m\u001b[0;34m\u001b[0m\u001b[0;34m\u001b[0m\u001b[0m\n\u001b[0m",
            "\u001b[0;31mValueError\u001b[0m: cannot reshape array of size 12 into shape (2,)"
          ]
        }
      ]
    },
    {
      "cell_type": "code",
      "source": [
        "data.reshape(2, 6)"
      ],
      "metadata": {
        "colab": {
          "base_uri": "https://localhost:8080/"
        },
        "id": "PpaUHZ2obuDI",
        "outputId": "8b3af7d7-33ab-4421-9820-722c004cff5e"
      },
      "execution_count": null,
      "outputs": [
        {
          "output_type": "execute_result",
          "data": {
            "text/plain": [
              "array([[   4,    8,   15,   16,   23,   42],\n",
              "       [  58,  141,  220,  509,  666, 1000]])"
            ]
          },
          "metadata": {},
          "execution_count": 9
        }
      ]
    },
    {
      "cell_type": "markdown",
      "source": [
        "При этом нельзя осуществлять изменение размера, если число элементов не сохраняется:"
      ],
      "metadata": {
        "id": "0GpGknPncn2M"
      }
    },
    {
      "cell_type": "code",
      "source": [
        "data.reshape(5, 3)"
      ],
      "metadata": {
        "colab": {
          "base_uri": "https://localhost:8080/",
          "height": 165
        },
        "id": "pjiXrH0_cm3-",
        "outputId": "a5ee8460-0fb4-4efb-8531-8f97b4d0da21"
      },
      "execution_count": null,
      "outputs": [
        {
          "output_type": "error",
          "ename": "ValueError",
          "evalue": "ignored",
          "traceback": [
            "\u001b[0;31m---------------------------------------------------------------------------\u001b[0m",
            "\u001b[0;31mValueError\u001b[0m                                Traceback (most recent call last)",
            "\u001b[0;32m<ipython-input-21-214ac12516f5>\u001b[0m in \u001b[0;36m<module>\u001b[0;34m\u001b[0m\n\u001b[0;32m----> 1\u001b[0;31m \u001b[0mdata\u001b[0m\u001b[0;34m.\u001b[0m\u001b[0mreshape\u001b[0m\u001b[0;34m(\u001b[0m\u001b[0;36m5\u001b[0m\u001b[0;34m,\u001b[0m \u001b[0;36m3\u001b[0m\u001b[0;34m)\u001b[0m\u001b[0;34m\u001b[0m\u001b[0;34m\u001b[0m\u001b[0m\n\u001b[0m",
            "\u001b[0;31mValueError\u001b[0m: cannot reshape array of size 12 into shape (5,3)"
          ]
        }
      ]
    },
    {
      "cell_type": "code",
      "source": [
        "data.reshape(5, 2)"
      ],
      "metadata": {
        "colab": {
          "base_uri": "https://localhost:8080/",
          "height": 165
        },
        "id": "BrxMsyhYc0oH",
        "outputId": "d9ce48d1-432b-4e0f-876d-d67e1f2239d8"
      },
      "execution_count": null,
      "outputs": [
        {
          "output_type": "error",
          "ename": "ValueError",
          "evalue": "ignored",
          "traceback": [
            "\u001b[0;31m---------------------------------------------------------------------------\u001b[0m",
            "\u001b[0;31mValueError\u001b[0m                                Traceback (most recent call last)",
            "\u001b[0;32m<ipython-input-22-11f9572973c2>\u001b[0m in \u001b[0;36m<module>\u001b[0;34m\u001b[0m\n\u001b[0;32m----> 1\u001b[0;31m \u001b[0mdata\u001b[0m\u001b[0;34m.\u001b[0m\u001b[0mreshape\u001b[0m\u001b[0;34m(\u001b[0m\u001b[0;36m5\u001b[0m\u001b[0;34m,\u001b[0m \u001b[0;36m2\u001b[0m\u001b[0;34m)\u001b[0m\u001b[0;34m\u001b[0m\u001b[0;34m\u001b[0m\u001b[0m\n\u001b[0m",
            "\u001b[0;31mValueError\u001b[0m: cannot reshape array of size 12 into shape (5,2)"
          ]
        }
      ]
    },
    {
      "cell_type": "markdown",
      "source": [
        "Если длина массива по одному из измерений определяется однозначно, можно указать вместо нее `-1`."
      ],
      "metadata": {
        "id": "qhZqbDP9cW-1"
      }
    },
    {
      "cell_type": "code",
      "source": [
        "data.reshape(2, -1)"
      ],
      "metadata": {
        "colab": {
          "base_uri": "https://localhost:8080/"
        },
        "id": "VtU_HSF2b1lU",
        "outputId": "9d979edb-4cae-41ce-f3bd-70047b947835"
      },
      "execution_count": null,
      "outputs": [
        {
          "output_type": "execute_result",
          "data": {
            "text/plain": [
              "array([[   4,    8,   15,   16,   23,   42],\n",
              "       [  58,  141,  220,  509,  666, 1000]])"
            ]
          },
          "metadata": {},
          "execution_count": 11
        }
      ]
    },
    {
      "cell_type": "code",
      "source": [
        "data.reshape(2, -10)  # be careful with negative dimension sizes!"
      ],
      "metadata": {
        "colab": {
          "base_uri": "https://localhost:8080/"
        },
        "id": "yWNttCgMb781",
        "outputId": "c02c09f8-d598-4fd4-a0f2-87c22c6b62b0"
      },
      "execution_count": null,
      "outputs": [
        {
          "output_type": "execute_result",
          "data": {
            "text/plain": [
              "array([[   4,    8,   15,   16,   23,   42],\n",
              "       [  58,  141,  220,  509,  666, 1000]])"
            ]
          },
          "metadata": {},
          "execution_count": 19
        }
      ]
    },
    {
      "cell_type": "code",
      "source": [
        "data.reshape(-1, 2)"
      ],
      "metadata": {
        "colab": {
          "base_uri": "https://localhost:8080/"
        },
        "id": "hq4LMkLkbxlM",
        "outputId": "855bdab3-3b1a-4bf1-e637-b5c43c2d82ad"
      },
      "execution_count": null,
      "outputs": [
        {
          "output_type": "execute_result",
          "data": {
            "text/plain": [
              "array([[   4,    8],\n",
              "       [  15,   16],\n",
              "       [  23,   42],\n",
              "       [  58,  141],\n",
              "       [ 220,  509],\n",
              "       [ 666, 1000]])"
            ]
          },
          "metadata": {},
          "execution_count": 12
        }
      ]
    },
    {
      "cell_type": "code",
      "source": [
        "data.reshape(2, -1, 1)"
      ],
      "metadata": {
        "colab": {
          "base_uri": "https://localhost:8080/"
        },
        "id": "XDl4RW0bb4L_",
        "outputId": "3b119af8-6e4e-42e1-cf37-665a145f8018"
      },
      "execution_count": null,
      "outputs": [
        {
          "output_type": "execute_result",
          "data": {
            "text/plain": [
              "array([[[   4],\n",
              "        [   8],\n",
              "        [  15],\n",
              "        [  16],\n",
              "        [  23],\n",
              "        [  42]],\n",
              "\n",
              "       [[  58],\n",
              "        [ 141],\n",
              "        [ 220],\n",
              "        [ 509],\n",
              "        [ 666],\n",
              "        [1000]]])"
            ]
          },
          "metadata": {},
          "execution_count": 14
        }
      ]
    },
    {
      "cell_type": "markdown",
      "source": [
        "Иногда целой длины не существует:"
      ],
      "metadata": {
        "id": "7CIvkNZfc_xc"
      }
    },
    {
      "cell_type": "code",
      "source": [
        "data.reshape(5, -1)"
      ],
      "metadata": {
        "colab": {
          "base_uri": "https://localhost:8080/",
          "height": 165
        },
        "id": "Ouwr1XtYdF07",
        "outputId": "8c62bc34-dd01-44c2-e9d5-d261b46191b2"
      },
      "execution_count": null,
      "outputs": [
        {
          "output_type": "error",
          "ename": "ValueError",
          "evalue": "ignored",
          "traceback": [
            "\u001b[0;31m---------------------------------------------------------------------------\u001b[0m",
            "\u001b[0;31mValueError\u001b[0m                                Traceback (most recent call last)",
            "\u001b[0;32m<ipython-input-23-493b8dd12862>\u001b[0m in \u001b[0;36m<module>\u001b[0;34m\u001b[0m\n\u001b[0;32m----> 1\u001b[0;31m \u001b[0mdata\u001b[0m\u001b[0;34m.\u001b[0m\u001b[0mreshape\u001b[0m\u001b[0;34m(\u001b[0m\u001b[0;36m5\u001b[0m\u001b[0;34m,\u001b[0m \u001b[0;34m-\u001b[0m\u001b[0;36m1\u001b[0m\u001b[0;34m)\u001b[0m\u001b[0;34m\u001b[0m\u001b[0;34m\u001b[0m\u001b[0m\n\u001b[0m",
            "\u001b[0;31mValueError\u001b[0m: cannot reshape array of size 12 into shape (5,newaxis)"
          ]
        }
      ]
    },
    {
      "cell_type": "markdown",
      "source": [
        "...или решение может быть неоднозначным:"
      ],
      "metadata": {
        "id": "H5r-wgECdKFc"
      }
    },
    {
      "cell_type": "code",
      "source": [
        "data.reshape(4, -1, -1)"
      ],
      "metadata": {
        "colab": {
          "base_uri": "https://localhost:8080/",
          "height": 165
        },
        "id": "ltWtGZEYcQMT",
        "outputId": "8c4a993f-59e0-4d8c-de36-bd91b5f6f764"
      },
      "execution_count": null,
      "outputs": [
        {
          "output_type": "error",
          "ename": "ValueError",
          "evalue": "ignored",
          "traceback": [
            "\u001b[0;31m---------------------------------------------------------------------------\u001b[0m",
            "\u001b[0;31mValueError\u001b[0m                                Traceback (most recent call last)",
            "\u001b[0;32m<ipython-input-20-01967066869b>\u001b[0m in \u001b[0;36m<module>\u001b[0;34m\u001b[0m\n\u001b[0;32m----> 1\u001b[0;31m \u001b[0mdata\u001b[0m\u001b[0;34m.\u001b[0m\u001b[0mreshape\u001b[0m\u001b[0;34m(\u001b[0m\u001b[0;36m4\u001b[0m\u001b[0;34m,\u001b[0m \u001b[0;34m-\u001b[0m\u001b[0;36m1\u001b[0m\u001b[0;34m,\u001b[0m \u001b[0;34m-\u001b[0m\u001b[0;36m1\u001b[0m\u001b[0;34m)\u001b[0m\u001b[0;34m\u001b[0m\u001b[0;34m\u001b[0m\u001b[0m\n\u001b[0m",
            "\u001b[0;31mValueError\u001b[0m: can only specify one unknown dimension"
          ]
        }
      ]
    },
    {
      "cell_type": "markdown",
      "source": [
        "Но что если мы хотим, допустим, получить массив, в котором элементы будут упорядочены по колонкам?"
      ],
      "metadata": {
        "id": "I5gEu5zidXWO"
      }
    },
    {
      "cell_type": "code",
      "source": [
        "data = np.array([4, 8, 15, 16, 23, 42, 58, 141, 220, 509, 666, 1000])\n",
        "data"
      ],
      "metadata": {
        "colab": {
          "base_uri": "https://localhost:8080/"
        },
        "id": "XwUz34nGb7Qx",
        "outputId": "bfad5bb8-5f41-4bab-a698-2751fdd30a3f"
      },
      "execution_count": null,
      "outputs": [
        {
          "output_type": "execute_result",
          "data": {
            "text/plain": [
              "array([   4,    8,   15,   16,   23,   42,   58,  141,  220,  509,  666,\n",
              "       1000])"
            ]
          },
          "metadata": {},
          "execution_count": 35
        }
      ]
    },
    {
      "cell_type": "code",
      "source": [
        "data.reshape(-1, 4).transpose()"
      ],
      "metadata": {
        "colab": {
          "base_uri": "https://localhost:8080/"
        },
        "id": "G5GngR48eIxg",
        "outputId": "4bbbaa50-0940-40ff-dd31-12ef67560e06"
      },
      "execution_count": null,
      "outputs": [
        {
          "output_type": "execute_result",
          "data": {
            "text/plain": [
              "array([[   4,   23,  220],\n",
              "       [   8,   42,  509],\n",
              "       [  15,   58,  666],\n",
              "       [  16,  141, 1000]])"
            ]
          },
          "metadata": {},
          "execution_count": 38
        }
      ]
    },
    {
      "cell_type": "code",
      "source": [
        "data.reshape(4, -1, order=\"F\")"
      ],
      "metadata": {
        "colab": {
          "base_uri": "https://localhost:8080/"
        },
        "id": "W2QukGF1eCbA",
        "outputId": "09ded3e8-48a5-417f-a48e-27e8433be86e"
      },
      "execution_count": null,
      "outputs": [
        {
          "output_type": "execute_result",
          "data": {
            "text/plain": [
              "array([[   4,   23,  220],\n",
              "       [   8,   42,  509],\n",
              "       [  15,   58,  666],\n",
              "       [  16,  141, 1000]])"
            ]
          },
          "metadata": {},
          "execution_count": 37
        }
      ]
    },
    {
      "cell_type": "markdown",
      "source": [
        "### Перевод массива в одномерный вид"
      ],
      "metadata": {
        "id": "eOL5ZigVfwwQ"
      }
    },
    {
      "cell_type": "markdown",
      "source": [
        "Мы получили многомерный массив. Как можно вернуться назад, к одномерному виду?"
      ],
      "metadata": {
        "id": "ZIHNZHX5fRP6"
      }
    },
    {
      "cell_type": "code",
      "source": [
        "data = np.arange(1, 19).reshape(3, 2, -1)\n",
        "data"
      ],
      "metadata": {
        "colab": {
          "base_uri": "https://localhost:8080/"
        },
        "id": "m3RaLAENfXbW",
        "outputId": "7bd23e46-5ab7-4c9a-9d99-46d16df9da8e"
      },
      "execution_count": null,
      "outputs": [
        {
          "output_type": "execute_result",
          "data": {
            "text/plain": [
              "array([[[ 1,  2,  3],\n",
              "        [ 4,  5,  6]],\n",
              "\n",
              "       [[ 7,  8,  9],\n",
              "        [10, 11, 12]],\n",
              "\n",
              "       [[13, 14, 15],\n",
              "        [16, 17, 18]]])"
            ]
          },
          "metadata": {},
          "execution_count": 40
        }
      ]
    },
    {
      "cell_type": "markdown",
      "source": [
        "Существует метод `.ravel`, превращающий массив в одномерный вид"
      ],
      "metadata": {
        "id": "IUz-aqqXfvlK"
      }
    },
    {
      "cell_type": "code",
      "source": [
        "data.ravel()"
      ],
      "metadata": {
        "colab": {
          "base_uri": "https://localhost:8080/"
        },
        "id": "R8dIc8JkfqNu",
        "outputId": "d9cb06de-2b28-4449-d612-530edddb05be"
      },
      "execution_count": null,
      "outputs": [
        {
          "output_type": "execute_result",
          "data": {
            "text/plain": [
              "array([ 1,  2,  3,  4,  5,  6,  7,  8,  9, 10, 11, 12, 13, 14, 15, 16, 17,\n",
              "       18])"
            ]
          },
          "metadata": {},
          "execution_count": 41
        }
      ]
    },
    {
      "cell_type": "code",
      "source": [
        "data.ravel(order=\"F\")"
      ],
      "metadata": {
        "colab": {
          "base_uri": "https://localhost:8080/"
        },
        "id": "yqLlWLBjgtv5",
        "outputId": "88ea7686-7db8-4723-c5bb-54a688fc4ac8"
      },
      "execution_count": null,
      "outputs": [
        {
          "output_type": "execute_result",
          "data": {
            "text/plain": [
              "array([ 1,  7, 13,  4, 10, 16,  2,  8, 14,  5, 11, 17,  3,  9, 15,  6, 12,\n",
              "       18])"
            ]
          },
          "metadata": {},
          "execution_count": 42
        }
      ]
    },
    {
      "cell_type": "markdown",
      "metadata": {
        "id": "mtOYmumPueqW"
      },
      "source": [
        "### *Правило приведения размерности"
      ]
    },
    {
      "cell_type": "markdown",
      "metadata": {
        "id": "uKmBzy9Dueqf"
      },
      "source": [
        "Можно совершать операции над **разными по размерностям** массивами."
      ]
    },
    {
      "cell_type": "markdown",
      "metadata": {
        "id": "x-8QAOTOueqf"
      },
      "source": [
        "![vis-numpy-13.jpg](https://data.bioml.ru/htdocs/courses/python/datasci/numpy/img/vis-numpy-13.jpg)"
      ]
    },
    {
      "cell_type": "code",
      "execution_count": null,
      "metadata": {
        "id": "KjU_P8gcueqg",
        "outputId": "ce02a889-2c47-4f28-9804-874363183cbc",
        "colab": {
          "base_uri": "https://localhost:8080/"
        }
      },
      "outputs": [
        {
          "output_type": "execute_result",
          "data": {
            "text/plain": [
              "(3, 2)"
            ]
          },
          "metadata": {},
          "execution_count": 26
        }
      ],
      "source": [
        "data.shape"
      ]
    },
    {
      "cell_type": "code",
      "execution_count": null,
      "metadata": {
        "id": "ji-Smn3Zueqh",
        "outputId": "f98e0515-1784-493b-a4ff-f56888c4e482",
        "colab": {
          "base_uri": "https://localhost:8080/"
        }
      },
      "outputs": [
        {
          "output_type": "execute_result",
          "data": {
            "text/plain": [
              "array([[2., 3.],\n",
              "       [4., 5.],\n",
              "       [6., 7.]])"
            ]
          },
          "metadata": {},
          "execution_count": 27
        }
      ],
      "source": [
        "data + np.ones(2)"
      ]
    },
    {
      "cell_type": "code",
      "execution_count": null,
      "metadata": {
        "id": "uMkgdUzaueqi",
        "outputId": "2690cb30-6d5f-4d7f-802b-4f28500bf0c1",
        "colab": {
          "base_uri": "https://localhost:8080/",
          "height": 168
        }
      },
      "outputs": [
        {
          "output_type": "error",
          "ename": "ValueError",
          "evalue": "ignored",
          "traceback": [
            "\u001b[0;31m---------------------------------------------------------------------------\u001b[0m",
            "\u001b[0;31mValueError\u001b[0m                                Traceback (most recent call last)",
            "\u001b[0;32m<ipython-input-28-59adb053f41f>\u001b[0m in \u001b[0;36m<module>\u001b[0;34m()\u001b[0m\n\u001b[0;32m----> 1\u001b[0;31m \u001b[0mdata\u001b[0m \u001b[0;34m+\u001b[0m \u001b[0mnp\u001b[0m\u001b[0;34m.\u001b[0m\u001b[0mones\u001b[0m\u001b[0;34m(\u001b[0m\u001b[0;36m3\u001b[0m\u001b[0;34m)\u001b[0m\u001b[0;34m\u001b[0m\u001b[0;34m\u001b[0m\u001b[0m\n\u001b[0m",
            "\u001b[0;31mValueError\u001b[0m: operands could not be broadcast together with shapes (3,2) (3,) "
          ]
        }
      ],
      "source": [
        "data + np.ones(3)"
      ]
    },
    {
      "cell_type": "code",
      "execution_count": null,
      "metadata": {
        "id": "gmETlUn_ueqi",
        "outputId": "dfd0a841-a83e-46c3-b637-f5ab924ff998",
        "colab": {
          "base_uri": "https://localhost:8080/"
        }
      },
      "outputs": [
        {
          "output_type": "execute_result",
          "data": {
            "text/plain": [
              "array([[2., 3.],\n",
              "       [4., 5.],\n",
              "       [6., 7.]])"
            ]
          },
          "metadata": {},
          "execution_count": 29
        }
      ],
      "source": [
        "data + np.ones(shape=(3, 1))"
      ]
    },
    {
      "cell_type": "markdown",
      "metadata": {
        "id": "EeIkTXbmueqi"
      },
      "source": [
        "![meme_karina.jpg](https://data.bioml.ru/htdocs/courses/python/datasci/numpy/img/meme_karina.jpg)"
      ]
    },
    {
      "cell_type": "code",
      "source": [
        "0.2 + 0.1"
      ],
      "metadata": {
        "colab": {
          "base_uri": "https://localhost:8080/"
        },
        "id": "nJ8fc-VpAOR4",
        "outputId": "c0e60743-6b86-4c4e-fa47-68cdd8dad320"
      },
      "execution_count": null,
      "outputs": [
        {
          "output_type": "execute_result",
          "data": {
            "text/plain": [
              "0.30000000000000004"
            ]
          },
          "metadata": {},
          "execution_count": 51
        }
      ]
    },
    {
      "cell_type": "code",
      "source": [
        "import decimal\n",
        "from decimal import Decimal\n",
        "\n",
        "decimal.getcontext().prec = 28\n",
        "\n",
        "float(Decimal('0.1') + Decimal('0.2'))"
      ],
      "metadata": {
        "colab": {
          "base_uri": "https://localhost:8080/"
        },
        "id": "6vRPCVlpAwaX",
        "outputId": "0d70135d-8627-4573-f018-4b2e0276b2f5"
      },
      "execution_count": null,
      "outputs": [
        {
          "output_type": "execute_result",
          "data": {
            "text/plain": [
              "0.3"
            ]
          },
          "metadata": {},
          "execution_count": 58
        }
      ]
    },
    {
      "cell_type": "markdown",
      "metadata": {
        "id": "odZ7v46yueqj"
      },
      "source": [
        "Почему для 2D-массивов 1D-массив прибавляется по `axis=1`, но не прибавляется по `axis=0`?"
      ]
    },
    {
      "cell_type": "markdown",
      "metadata": {
        "id": "1F4ak9zYueqj"
      },
      "source": [
        "На самом деле существуют специальное **правило приведения размерностей**:"
      ]
    },
    {
      "cell_type": "markdown",
      "metadata": {
        "id": "z6wy0evEueqj"
      },
      "source": [
        "1. Предположим, что `a.shape = (a_1, a_2, ..., a_n)` и `b.shape = (b_1, b_2, ..., b_n)`. Над `a` и `b` можно произвести поэлементую бинарную операцию, если $\\forall \\; i \\in (1...n)$ выполнено хотя бы одно из условий:\n",
        "    * `a_i == b_i`;\n",
        "    * `a_i == 1`;\n",
        "    * `b_i == 1`.\n",
        "\n",
        "\n",
        "2. Если размерности не совпадают, то к массиву меньшей размерности добавляются **_ведущие_ фиктивные размерности**.\n",
        "\n",
        "Документация: https://docs.scipy.org/doc/numpy/user/basics.broadcasting.html"
      ]
    },
    {
      "cell_type": "markdown",
      "metadata": {
        "id": "VU7ch-qhueqj"
      },
      "source": [
        "А как будет происходить умножение?"
      ]
    },
    {
      "cell_type": "code",
      "execution_count": null,
      "metadata": {
        "id": "Ae6szwyGueqj"
      },
      "outputs": [],
      "source": [
        "data1 = np.array([[1, 2],\n",
        "                  [3, 4]])\n",
        "\n",
        "data2 = np.array([[0, 10],\n",
        "                  [20, -1]])"
      ]
    },
    {
      "cell_type": "code",
      "execution_count": null,
      "metadata": {
        "id": "oAceoAI2ueqk",
        "outputId": "1c82b3cc-3659-4ebb-9375-7bddf4ca4325"
      },
      "outputs": [
        {
          "data": {
            "text/plain": [
              "array([[ 0, 20],\n",
              "       [60, -4]])"
            ]
          },
          "execution_count": 41,
          "metadata": {},
          "output_type": "execute_result"
        }
      ],
      "source": [
        "data1 * data2"
      ]
    },
    {
      "cell_type": "markdown",
      "metadata": {
        "id": "cwHjU0mjueql"
      },
      "source": [
        "Но что делать, если нам нужно *матричное умножение*?"
      ]
    },
    {
      "cell_type": "code",
      "execution_count": null,
      "metadata": {
        "id": "lWsQeXcJueql"
      },
      "outputs": [],
      "source": [
        "data = np.array([1, 2, 3])"
      ]
    },
    {
      "cell_type": "code",
      "execution_count": null,
      "metadata": {
        "id": "42rJza-xueql",
        "outputId": "7aef5707-475f-4993-ca39-6c77a7e8982a"
      },
      "outputs": [
        {
          "data": {
            "text/plain": [
              "array([[     1,     10],\n",
              "       [   100,   1000],\n",
              "       [ 10000, 100000]], dtype=int32)"
            ]
          },
          "execution_count": 43,
          "metadata": {},
          "output_type": "execute_result"
        }
      ],
      "source": [
        "powers_of_ten = (10 ** np.arange(6)).reshape(3, 2)\n",
        "powers_of_ten"
      ]
    },
    {
      "cell_type": "code",
      "execution_count": null,
      "metadata": {
        "id": "CrxxuhNYueql",
        "outputId": "bd6eb995-9615-407e-8ff8-d0dcec020488"
      },
      "outputs": [
        {
          "data": {
            "text/plain": [
              "array([ 30201, 302010])"
            ]
          },
          "execution_count": 44,
          "metadata": {},
          "output_type": "execute_result"
        }
      ],
      "source": [
        "data @ powers_of_ten"
      ]
    },
    {
      "cell_type": "markdown",
      "metadata": {
        "id": "ikP6M_VYueqm"
      },
      "source": [
        "![vis-numpy-14.jpg](https://data.bioml.ru/htdocs/courses/python/datasci/numpy/img/vis-numpy-14.jpg)"
      ]
    },
    {
      "cell_type": "markdown",
      "metadata": {
        "id": "CPRgHNy7ueqm"
      },
      "source": [
        "Для тех, кто забыл, что такое матричное умножение:"
      ]
    },
    {
      "cell_type": "markdown",
      "metadata": {
        "id": "XrlfCNNvueqn"
      },
      "source": [
        "![vis-numpy-15.jpg](https://data.bioml.ru/htdocs/courses/python/datasci/numpy/img/vis-numpy-15.jpg)"
      ]
    },
    {
      "cell_type": "markdown",
      "metadata": {
        "id": "AnDWnoeZueqv"
      },
      "source": [
        "## Логические операции"
      ]
    },
    {
      "cell_type": "code",
      "execution_count": null,
      "metadata": {
        "id": "phY27h4bueqw",
        "outputId": "6d20edb2-97f5-474f-849f-869e990cfbaa"
      },
      "outputs": [
        {
          "data": {
            "text/plain": [
              "array([0, 1, 2, 3, 4, 5])"
            ]
          },
          "execution_count": 60,
          "metadata": {},
          "output_type": "execute_result"
        }
      ],
      "source": [
        "data = np.arange(6)\n",
        "data"
      ]
    },
    {
      "cell_type": "code",
      "execution_count": null,
      "metadata": {
        "id": "dFH2i9onueqw",
        "outputId": "ecdd01cb-446d-42c1-9017-1985ab8efd5b"
      },
      "outputs": [
        {
          "data": {
            "text/plain": [
              "array([False, False, False,  True,  True,  True])"
            ]
          },
          "execution_count": 61,
          "metadata": {},
          "output_type": "execute_result"
        }
      ],
      "source": [
        "data = data > 2\n",
        "data"
      ]
    },
    {
      "cell_type": "code",
      "execution_count": null,
      "metadata": {
        "id": "rITVrQWcueqw",
        "outputId": "484fe9e8-c620-44b7-80a9-3a5653f6a319"
      },
      "outputs": [
        {
          "data": {
            "text/plain": [
              "(True, True, True)"
            ]
          },
          "execution_count": 62,
          "metadata": {},
          "output_type": "execute_result"
        }
      ],
      "source": [
        "data.any(), np.any(data), any(data)"
      ]
    },
    {
      "cell_type": "code",
      "execution_count": null,
      "metadata": {
        "id": "6SSIBExUueqw",
        "outputId": "df1b3177-4b4a-40f5-eea5-518482c97e4d"
      },
      "outputs": [
        {
          "data": {
            "text/plain": [
              "(False, False, False)"
            ]
          },
          "execution_count": 63,
          "metadata": {},
          "output_type": "execute_result"
        }
      ],
      "source": [
        "data.all(), np.all(data), all(data)"
      ]
    },
    {
      "cell_type": "code",
      "execution_count": null,
      "metadata": {
        "id": "bwKf4iivueqx",
        "outputId": "acac546a-7eaf-4491-8201-d6cb9c9e2b4e"
      },
      "outputs": [
        {
          "data": {
            "text/plain": [
              "array([ True,  True,  True, False, False, False])"
            ]
          },
          "execution_count": 64,
          "metadata": {},
          "output_type": "execute_result"
        }
      ],
      "source": [
        "~data"
      ]
    },
    {
      "cell_type": "markdown",
      "metadata": {
        "id": "81QemfnOueqx"
      },
      "source": [
        "### Логические операции в многомерных массивах"
      ]
    },
    {
      "cell_type": "code",
      "execution_count": null,
      "metadata": {
        "id": "yTwNFBrRueqx",
        "outputId": "5181aa52-09ff-4da4-d842-65adee887769"
      },
      "outputs": [
        {
          "data": {
            "text/plain": [
              "array([[False, False, False,  True],\n",
              "       [ True,  True,  True,  True],\n",
              "       [ True,  True,  True,  True]])"
            ]
          },
          "execution_count": 65,
          "metadata": {},
          "output_type": "execute_result"
        }
      ],
      "source": [
        "data = np.arange(12).reshape(3, 4) >= 3\n",
        "data"
      ]
    },
    {
      "cell_type": "code",
      "execution_count": null,
      "metadata": {
        "id": "ar6_7wKjueqy",
        "outputId": "356c36ab-0789-400b-cf45-ebbc75f9d777"
      },
      "outputs": [
        {
          "data": {
            "text/plain": [
              "False"
            ]
          },
          "execution_count": 66,
          "metadata": {},
          "output_type": "execute_result"
        }
      ],
      "source": [
        "data.all()"
      ]
    },
    {
      "cell_type": "code",
      "execution_count": null,
      "metadata": {
        "id": "WhBt3ZcYueqy",
        "outputId": "1180e7c9-7e4f-4461-8b99-29eab14e3519"
      },
      "outputs": [
        {
          "data": {
            "text/plain": [
              "(array([False, False, False,  True]), array([False,  True,  True]))"
            ]
          },
          "execution_count": 67,
          "metadata": {},
          "output_type": "execute_result"
        }
      ],
      "source": [
        "data.all(axis=0), data.all(axis=1)"
      ]
    },
    {
      "cell_type": "code",
      "execution_count": null,
      "metadata": {
        "id": "MAsX9HjZueqz",
        "outputId": "21f48c6d-97be-41a7-d178-de3029871aa7"
      },
      "outputs": [
        {
          "ename": "ValueError",
          "evalue": "The truth value of an array with more than one element is ambiguous. Use a.any() or a.all()",
          "output_type": "error",
          "traceback": [
            "\u001b[1;31m---------------------------------------------------------------------------\u001b[0m",
            "\u001b[1;31mValueError\u001b[0m                                Traceback (most recent call last)",
            "\u001b[1;32m<ipython-input-68-4eb86e975eae>\u001b[0m in \u001b[0;36m<module>\u001b[1;34m\u001b[0m\n\u001b[1;32m----> 1\u001b[1;33m \u001b[0mall\u001b[0m\u001b[1;33m(\u001b[0m\u001b[0mdata\u001b[0m\u001b[1;33m)\u001b[0m\u001b[1;33m\u001b[0m\u001b[1;33m\u001b[0m\u001b[0m\n\u001b[0m",
            "\u001b[1;31mValueError\u001b[0m: The truth value of an array with more than one element is ambiguous. Use a.any() or a.all()"
          ]
        }
      ],
      "source": [
        "all(data)"
      ]
    },
    {
      "cell_type": "markdown",
      "metadata": {
        "id": "57FHmgKxueqz"
      },
      "source": [
        "### Бинарные логические операции"
      ]
    },
    {
      "cell_type": "code",
      "execution_count": null,
      "metadata": {
        "id": "oRi7mu3vueqz"
      },
      "outputs": [],
      "source": [
        "a = np.array([1, 1, 0, 0, 1], dtype=bool)\n",
        "b = np.array([1, 0, 0, 1, 0], dtype=bool)"
      ]
    },
    {
      "cell_type": "code",
      "execution_count": null,
      "metadata": {
        "id": "qD6yYwueueq0",
        "outputId": "6a66d322-0512-4b35-8766-68534981df74"
      },
      "outputs": [
        {
          "ename": "ValueError",
          "evalue": "The truth value of an array with more than one element is ambiguous. Use a.any() or a.all()",
          "output_type": "error",
          "traceback": [
            "\u001b[1;31m---------------------------------------------------------------------------\u001b[0m",
            "\u001b[1;31mValueError\u001b[0m                                Traceback (most recent call last)",
            "\u001b[1;32m<ipython-input-70-61df3bd186ad>\u001b[0m in \u001b[0;36m<module>\u001b[1;34m\u001b[0m\n\u001b[1;32m----> 1\u001b[1;33m \u001b[0ma\u001b[0m \u001b[1;32mand\u001b[0m \u001b[0mb\u001b[0m\u001b[1;33m\u001b[0m\u001b[1;33m\u001b[0m\u001b[0m\n\u001b[0m",
            "\u001b[1;31mValueError\u001b[0m: The truth value of an array with more than one element is ambiguous. Use a.any() or a.all()"
          ]
        }
      ],
      "source": [
        "a and b"
      ]
    },
    {
      "cell_type": "code",
      "source": [
        "[1] and \"GG\""
      ],
      "metadata": {
        "colab": {
          "base_uri": "https://localhost:8080/",
          "height": 35
        },
        "id": "BLLfdAy93hgU",
        "outputId": "4d89003d-52cc-4c05-af98-f1661388cfa6"
      },
      "execution_count": null,
      "outputs": [
        {
          "output_type": "execute_result",
          "data": {
            "text/plain": [
              "'GG'"
            ],
            "application/vnd.google.colaboratory.intrinsic+json": {
              "type": "string"
            }
          },
          "metadata": {},
          "execution_count": 48
        }
      ]
    },
    {
      "cell_type": "code",
      "execution_count": null,
      "metadata": {
        "id": "YSLAQI2Vueq0",
        "outputId": "1a487c68-fa71-4d92-e0ce-d56ad130b95b"
      },
      "outputs": [
        {
          "data": {
            "text/plain": [
              "array([ True, False, False, False, False])"
            ]
          },
          "execution_count": 73,
          "metadata": {},
          "output_type": "execute_result"
        }
      ],
      "source": [
        "a & b"
      ]
    },
    {
      "cell_type": "code",
      "execution_count": null,
      "metadata": {
        "id": "ehtkmGswueq0",
        "outputId": "c08ecaea-6ad3-4080-eaf0-c47cad6ed6ff"
      },
      "outputs": [
        {
          "data": {
            "text/plain": [
              "array([ True,  True, False,  True,  True])"
            ]
          },
          "execution_count": 74,
          "metadata": {},
          "output_type": "execute_result"
        }
      ],
      "source": [
        "a | b"
      ]
    },
    {
      "cell_type": "code",
      "execution_count": null,
      "metadata": {
        "id": "0A5pjOErueq1",
        "outputId": "1da0a2c6-43ee-433a-f73b-a69bfea1cc2d"
      },
      "outputs": [
        {
          "data": {
            "text/plain": [
              "array([False,  True, False,  True,  True])"
            ]
          },
          "execution_count": 75,
          "metadata": {},
          "output_type": "execute_result"
        }
      ],
      "source": [
        "a ^ b"
      ]
    },
    {
      "cell_type": "markdown",
      "metadata": {
        "id": "0TzvgM_3ueq1"
      },
      "source": [
        "## Другие операции с массивами `numpy.array`\n",
        "### Генерация случайных чисел"
      ]
    },
    {
      "cell_type": "code",
      "execution_count": null,
      "metadata": {
        "id": "QBhnPr7Sueq1"
      },
      "outputs": [],
      "source": [
        "np.random.seed(777)"
      ]
    },
    {
      "cell_type": "code",
      "execution_count": null,
      "metadata": {
        "id": "gXOxr4Tmueq1",
        "outputId": "b63035d5-db97-40aa-b4b2-7177a407551e",
        "colab": {
          "base_uri": "https://localhost:8080/"
        }
      },
      "outputs": [
        {
          "output_type": "execute_result",
          "data": {
            "text/plain": [
              "array([0.15266373, 0.30235661, 0.06203641, 0.45986034, 0.83525338,\n",
              "       0.92699705, 0.72698898, 0.76849622, 0.26920507, 0.64402929])"
            ]
          },
          "metadata": {},
          "execution_count": 50
        }
      ],
      "source": [
        "np.random.rand(10)"
      ]
    },
    {
      "cell_type": "code",
      "execution_count": null,
      "metadata": {
        "id": "C8FXRk-wueq1",
        "outputId": "cb542131-fc78-4684-cba7-71ca26957ac5",
        "colab": {
          "base_uri": "https://localhost:8080/"
        }
      },
      "outputs": [
        {
          "output_type": "execute_result",
          "data": {
            "text/plain": [
              "array([1, 2, 4, 5, 7, 1, 7, 2, 2, 7])"
            ]
          },
          "metadata": {},
          "execution_count": 51
        }
      ],
      "source": [
        "np.random.randint(0, 10, 10)"
      ]
    },
    {
      "cell_type": "code",
      "execution_count": null,
      "metadata": {
        "id": "1xAoNsHXueq2",
        "outputId": "a3b0eed6-60f9-4aea-a83b-798bbddd9695"
      },
      "outputs": [
        {
          "data": {
            "text/plain": [
              "array([1, 5, 0, 3, 9, 7, 2, 6, 8, 4])"
            ]
          },
          "execution_count": 79,
          "metadata": {},
          "output_type": "execute_result"
        }
      ],
      "source": [
        "np.random.permutation(10)"
      ]
    },
    {
      "cell_type": "code",
      "execution_count": null,
      "metadata": {
        "id": "89DiOZw2ueq2",
        "outputId": "0edcdac6-62b4-478e-99ed-ab827b90d5ae"
      },
      "outputs": [
        {
          "data": {
            "text/plain": [
              "array([8, 3, 2, 0, 3, 3, 4, 0, 6, 5])"
            ]
          },
          "execution_count": 80,
          "metadata": {},
          "output_type": "execute_result"
        }
      ],
      "source": [
        "np.random.choice(10, size=10)"
      ]
    },
    {
      "cell_type": "markdown",
      "metadata": {
        "id": "bsxg8rYqueq3"
      },
      "source": [
        "### Сортировка массивов"
      ]
    },
    {
      "cell_type": "code",
      "execution_count": null,
      "metadata": {
        "id": "BAlXJ3tDueq3",
        "outputId": "164ea08d-423c-4ddf-9083-c1086d89cba6"
      },
      "outputs": [
        {
          "data": {
            "text/plain": [
              "array([ 8, 16,  7, 18,  8,  8, 15,  8, 19, 14])"
            ]
          },
          "execution_count": 81,
          "metadata": {},
          "output_type": "execute_result"
        }
      ],
      "source": [
        "np.random.seed(777)\n",
        "\n",
        "data = np.random.randint(1, 20, 10)\n",
        "data"
      ]
    },
    {
      "cell_type": "code",
      "execution_count": null,
      "metadata": {
        "id": "DVzgp490ueq3",
        "outputId": "78daf5fa-74a6-45fc-ba96-87f08162dffe"
      },
      "outputs": [
        {
          "data": {
            "text/plain": [
              "(array([ 7,  8,  8,  8,  8, 14, 15, 16, 18, 19]),\n",
              " array([ 8, 16,  7, 18,  8,  8, 15,  8, 19, 14]))"
            ]
          },
          "execution_count": 82,
          "metadata": {},
          "output_type": "execute_result"
        }
      ],
      "source": [
        "np.sort(data), data"
      ]
    },
    {
      "cell_type": "code",
      "execution_count": null,
      "metadata": {
        "id": "k2q2-xkvueq3",
        "outputId": "24cb5b0d-7fde-4c5a-c86b-b13a3f64fa27"
      },
      "outputs": [
        {
          "data": {
            "text/plain": [
              "(None, array([ 7,  8,  8,  8,  8, 14, 15, 16, 18, 19]))"
            ]
          },
          "execution_count": 83,
          "metadata": {},
          "output_type": "execute_result"
        }
      ],
      "source": [
        "data.sort(), data"
      ]
    },
    {
      "cell_type": "markdown",
      "metadata": {
        "id": "-W05SZRIueq3"
      },
      "source": [
        "### Индексация и срезы"
      ]
    },
    {
      "cell_type": "code",
      "execution_count": null,
      "metadata": {
        "id": "LZwFJpW8ueq3",
        "outputId": "7dec90be-3dd5-42af-ebf5-6e81fefcf87a",
        "colab": {
          "base_uri": "https://localhost:8080/"
        }
      },
      "outputs": [
        {
          "output_type": "execute_result",
          "data": {
            "text/plain": [
              "array([[ 8, 16,  7, 18,  8,  8, 15,  8, 19, 14, 15,  1],\n",
              "       [ 2, 19,  6,  8,  2,  8, 11, 19, 19,  8, 14,  5],\n",
              "       [ 7,  3, 11,  8, 16,  1,  9,  3, 17,  4, 14,  5],\n",
              "       [12,  1,  7, 15,  6,  2, 11,  5, 11,  5, 17, 10],\n",
              "       [ 5, 17, 16,  1, 15, 18,  9, 10, 13, 17,  3,  4],\n",
              "       [12,  6, 13, 14, 15,  5, 10,  4,  8,  8,  1,  4],\n",
              "       [ 4,  8, 17,  5,  9,  8, 18,  9, 16,  5,  6,  4]])"
            ]
          },
          "metadata": {},
          "execution_count": 31
        }
      ],
      "source": [
        "np.random.seed(777)\n",
        "\n",
        "data = np.random.randint(1, 20, size=(7, 12))\n",
        "data"
      ]
    },
    {
      "cell_type": "code",
      "execution_count": null,
      "metadata": {
        "id": "ubiWndpxueq4",
        "outputId": "acb02bfd-e039-4167-a654-67b61f332bb4"
      },
      "outputs": [
        {
          "data": {
            "text/plain": [
              "array([ 2, 19,  6,  8,  2,  8, 11, 19, 19,  8, 14,  5])"
            ]
          },
          "execution_count": 102,
          "metadata": {},
          "output_type": "execute_result"
        }
      ],
      "source": [
        "data[1]"
      ]
    },
    {
      "cell_type": "code",
      "execution_count": null,
      "metadata": {
        "id": "2U9ZbSRhueq4",
        "outputId": "27fe1ad5-81df-4e93-df89-b5a886c20be4"
      },
      "outputs": [
        {
          "data": {
            "text/plain": [
              "array([[ 2, 19,  6,  8,  2,  8, 11, 19, 19,  8, 14,  5],\n",
              "       [ 7,  3, 11,  8, 16,  1,  9,  3, 17,  4, 14,  5],\n",
              "       [12,  1,  7, 15,  6,  2, 11,  5, 11,  5, 17, 10]])"
            ]
          },
          "execution_count": 103,
          "metadata": {},
          "output_type": "execute_result"
        }
      ],
      "source": [
        "data[1:4]"
      ]
    },
    {
      "cell_type": "code",
      "execution_count": null,
      "metadata": {
        "id": "g7xZcA1Dueq4",
        "outputId": "2a9441eb-7b64-42e4-ff8a-886f16547ef1"
      },
      "outputs": [
        {
          "data": {
            "text/plain": [
              "array([[ 6,  8,  2,  8, 11, 19],\n",
              "       [11,  8, 16,  1,  9,  3],\n",
              "       [ 7, 15,  6,  2, 11,  5],\n",
              "       [16,  1, 15, 18,  9, 10]])"
            ]
          },
          "execution_count": 104,
          "metadata": {},
          "output_type": "execute_result"
        }
      ],
      "source": [
        "data[1:5,2:8]"
      ]
    },
    {
      "cell_type": "markdown",
      "source": [
        "![vis-numpy-16.jpg](https://data.bioml.ru/htdocs/courses/python/datasci/numpy/img/vis-numpy-16.jpg)"
      ],
      "metadata": {
        "id": "3E5DPUMATPAk"
      }
    },
    {
      "cell_type": "markdown",
      "source": [
        "Также можно индексировать массив по списку индексов, это называется \"fancy indexing\"."
      ],
      "metadata": {
        "id": "M0OgxnqoTTB3"
      }
    },
    {
      "cell_type": "code",
      "execution_count": null,
      "metadata": {
        "id": "4Y9zdOGLueq4",
        "outputId": "55f25dee-764d-4419-e06f-442be385caad",
        "colab": {
          "base_uri": "https://localhost:8080/"
        }
      },
      "outputs": [
        {
          "output_type": "execute_result",
          "data": {
            "text/plain": [
              "array([[ 2, 19,  6,  8,  2,  8, 11, 19, 19,  8, 14,  5],\n",
              "       [12,  1,  7, 15,  6,  2, 11,  5, 11,  5, 17, 10],\n",
              "       [12,  6, 13, 14, 15,  5, 10,  4,  8,  8,  1,  4]])"
            ]
          },
          "metadata": {},
          "execution_count": 32
        }
      ],
      "source": [
        "x = [1, 3, 5]\n",
        "data[x]"
      ]
    },
    {
      "cell_type": "markdown",
      "metadata": {
        "id": "CaYd7OJKueq5"
      },
      "source": [
        "По срезам можно присваивать!"
      ]
    },
    {
      "cell_type": "code",
      "execution_count": null,
      "metadata": {
        "id": "54TXHseYueq5",
        "outputId": "c80d1a29-5904-409b-835f-baba99b1de7e"
      },
      "outputs": [
        {
          "data": {
            "text/plain": [
              "array([[0, 0, 0, 0, 0],\n",
              "       [0, 0, 0, 0, 0],\n",
              "       [0, 0, 0, 0, 0],\n",
              "       [0, 0, 0, 0, 0],\n",
              "       [0, 0, 0, 0, 0]])"
            ]
          },
          "execution_count": 106,
          "metadata": {},
          "output_type": "execute_result"
        }
      ],
      "source": [
        "data = np.zeros((5, 5), dtype=int)\n",
        "data"
      ]
    },
    {
      "cell_type": "code",
      "execution_count": null,
      "metadata": {
        "id": "nRZWMVHXueq5",
        "outputId": "14d17fae-c0da-4061-afdf-a588d5e00fbb"
      },
      "outputs": [
        {
          "data": {
            "text/plain": [
              "array([[0, 0, 0, 0, 0],\n",
              "       [0, 0, 0, 1, 0],\n",
              "       [0, 0, 0, 0, 0],\n",
              "       [0, 0, 0, 0, 0],\n",
              "       [0, 0, 0, 0, 0]])"
            ]
          },
          "execution_count": 107,
          "metadata": {},
          "output_type": "execute_result"
        }
      ],
      "source": [
        "data[1, 3] = 1\n",
        "data"
      ]
    },
    {
      "cell_type": "code",
      "execution_count": null,
      "metadata": {
        "id": "b_NGEe5Bueq6",
        "outputId": "403f6007-0293-4a21-aa25-900ad715a8c0"
      },
      "outputs": [
        {
          "data": {
            "text/plain": [
              "array([[0, 0, 0, 0, 0],\n",
              "       [0, 0, 0, 1, 0],\n",
              "       [0, 0, 0, 0, 0],\n",
              "       [2, 2, 2, 2, 2],\n",
              "       [0, 0, 0, 0, 0]])"
            ]
          },
          "execution_count": 108,
          "metadata": {},
          "output_type": "execute_result"
        }
      ],
      "source": [
        "data[3] = 2\n",
        "data"
      ]
    },
    {
      "cell_type": "code",
      "execution_count": null,
      "metadata": {
        "id": "JqWtuQUYueq6",
        "outputId": "3f03fb2d-a0be-4db3-a8b8-af29a9a6d291"
      },
      "outputs": [
        {
          "data": {
            "text/plain": [
              "array([[0, 0, 3, 0, 0],\n",
              "       [0, 0, 3, 1, 0],\n",
              "       [0, 0, 3, 0, 0],\n",
              "       [2, 2, 3, 2, 2],\n",
              "       [0, 0, 3, 0, 0]])"
            ]
          },
          "execution_count": 109,
          "metadata": {},
          "output_type": "execute_result"
        }
      ],
      "source": [
        "data[:,2] = 3\n",
        "data"
      ]
    },
    {
      "cell_type": "code",
      "execution_count": null,
      "metadata": {
        "id": "hZyO5Q1Nueq6",
        "outputId": "4ce72a4a-1e1f-4a56-bec1-f8d99e0d41d3"
      },
      "outputs": [
        {
          "data": {
            "text/plain": [
              "array([[0, 0, 3, 0, 0],\n",
              "       [0, 0, 4, 1, 0],\n",
              "       [0, 0, 3, 0, 0],\n",
              "       [2, 2, 3, 2, 4],\n",
              "       [0, 0, 3, 0, 0]])"
            ]
          },
          "execution_count": 110,
          "metadata": {},
          "output_type": "execute_result"
        }
      ],
      "source": [
        "data[[1, 3],[2, 4]] = 4\n",
        "data"
      ]
    },
    {
      "cell_type": "code",
      "execution_count": null,
      "metadata": {
        "id": "MzMp2IQGueq6",
        "outputId": "c63a5c3b-88da-429e-f519-0c4d0455e721"
      },
      "outputs": [
        {
          "data": {
            "text/plain": [
              "array([[0, 0, 5, 0, 5],\n",
              "       [5, 5, 5, 5, 5],\n",
              "       [0, 0, 5, 0, 5],\n",
              "       [5, 5, 5, 5, 5],\n",
              "       [0, 0, 5, 0, 5]])"
            ]
          },
          "execution_count": 111,
          "metadata": {},
          "output_type": "execute_result"
        }
      ],
      "source": [
        "data[[1, 3],:] = 5\n",
        "data[:,[2, 4]] = 5\n",
        "data"
      ]
    },
    {
      "cell_type": "code",
      "source": [
        "data = np.array([[1, 2, 3], [4, 5, 6]])\n",
        "data"
      ],
      "metadata": {
        "colab": {
          "base_uri": "https://localhost:8080/"
        },
        "id": "yz6pBjj3iaEx",
        "outputId": "8780ac18-ec0f-43a2-d20c-e92b0417f6f1"
      },
      "execution_count": null,
      "outputs": [
        {
          "output_type": "execute_result",
          "data": {
            "text/plain": [
              "array([[1, 2, 3],\n",
              "       [4, 5, 6]])"
            ]
          },
          "metadata": {},
          "execution_count": 12
        }
      ]
    },
    {
      "cell_type": "code",
      "source": [
        "data[:, None, :]"
      ],
      "metadata": {
        "colab": {
          "base_uri": "https://localhost:8080/"
        },
        "id": "75rGQFrJifKn",
        "outputId": "ab2fd2c8-8360-44cc-a43c-569aae637a86"
      },
      "execution_count": null,
      "outputs": [
        {
          "output_type": "execute_result",
          "data": {
            "text/plain": [
              "array([[[1, 2, 3]],\n",
              "\n",
              "       [[4, 5, 6]]])"
            ]
          },
          "metadata": {},
          "execution_count": 18
        }
      ]
    },
    {
      "cell_type": "code",
      "source": [
        "data[:, :, None]"
      ],
      "metadata": {
        "colab": {
          "base_uri": "https://localhost:8080/"
        },
        "id": "GUTTlmsmisbK",
        "outputId": "aa2ce336-7397-46d9-e4e0-7f7dd23385a3"
      },
      "execution_count": null,
      "outputs": [
        {
          "output_type": "execute_result",
          "data": {
            "text/plain": [
              "array([[[1],\n",
              "        [2],\n",
              "        [3]],\n",
              "\n",
              "       [[4],\n",
              "        [5],\n",
              "        [6]]])"
            ]
          },
          "metadata": {},
          "execution_count": 19
        }
      ]
    },
    {
      "cell_type": "markdown",
      "metadata": {
        "id": "uoYjgF2W0DO8"
      },
      "source": [
        "## Библиотека Pandas"
      ]
    },
    {
      "cell_type": "markdown",
      "metadata": {
        "id": "lZxxwC_o0DO8"
      },
      "source": [
        "**Pandas** - это высокоуровневая библиотека для анализа данных."
      ]
    },
    {
      "cell_type": "markdown",
      "source": [
        "![pandas.jpeg](https://data.bioml.ru/htdocs/courses/python/datasci/pandas/img/pandas.jpeg)"
      ],
      "metadata": {
        "id": "6mYVpzT2AupB"
      }
    },
    {
      "cell_type": "markdown",
      "metadata": {
        "id": "AE5TiWMV0DO8"
      },
      "source": [
        "Построена она поверх более низкоуровневой NumPy (а с версии 2.0 - PyArrow), и это значительно увеличивает ее производительность. В экосистеме Python, **pandas** является наиболее продвинутой и быстроразвивающейся библиотекой для обработки и анализа данных."
      ]
    },
    {
      "cell_type": "code",
      "execution_count": null,
      "metadata": {
        "id": "Bv_XnEpU0DO8"
      },
      "outputs": [],
      "source": [
        "import numpy as np\n",
        "import pandas as pd"
      ]
    },
    {
      "cell_type": "markdown",
      "source": [
        "![pandas.webp](https://data.bioml.ru/htdocs/courses/python/datasci/pandas/img/tucker_carlson_exposes_pandas.webp)"
      ],
      "metadata": {
        "id": "c_6FhnoM7D_3"
      }
    },
    {
      "cell_type": "markdown",
      "metadata": {
        "id": "ptXyyroM0DO8"
      },
      "source": [
        "### Что дает нам Pandas?"
      ]
    },
    {
      "cell_type": "markdown",
      "metadata": {
        "id": "985nygs_0DO9"
      },
      "source": [
        "Основная сила библиотеки - в очень широком наборе методов для главного класса объектов: `DataFrame`."
      ]
    },
    {
      "cell_type": "markdown",
      "metadata": {
        "id": "vxlNZ-TX0DO9"
      },
      "source": [
        "### `pandas.DataFrame`"
      ]
    },
    {
      "cell_type": "markdown",
      "metadata": {
        "id": "7jakgD4Z0DO9"
      },
      "source": [
        "Объект `DataFrame` лучше всего представлять себе в виде обычной таблицы. Идея `DataFrame` - табличная организация структуры данных.\n",
        "\n",
        "В любой таблице всегда присутствуют строки и столбцы. Объекты `Series` являются столбцами в `DataFrame`, а строки в последних составлены непосредственно из элементов `Series`."
      ]
    },
    {
      "cell_type": "markdown",
      "metadata": {
        "id": "BLrXgevf0DO9"
      },
      "source": [
        "**Почему `Series` - это столбцы, а не строки?**"
      ]
    },
    {
      "cell_type": "markdown",
      "metadata": {
        "id": "kvGkOCRO0DO9"
      },
      "source": [
        "![dataframe_series.png](https://data.bioml.ru/htdocs/courses/python/datasci/pandas/img/dataframe_series.png)"
      ]
    },
    {
      "cell_type": "markdown",
      "metadata": {
        "id": "18F8FSnR0DO9"
      },
      "source": [
        "#### Создаем `pandas.DataFrame`"
      ]
    },
    {
      "cell_type": "markdown",
      "metadata": {
        "id": "jl80uRJ90DO9"
      },
      "source": [
        "В Pandas предусмотрено огромное множество способов задать датафрейм."
      ]
    },
    {
      "cell_type": "markdown",
      "metadata": {
        "id": "7BEBxPiY0DO9"
      },
      "source": [
        "Создать `pd.DataFrame` можно, к примеру, из **словаря списков**:"
      ]
    },
    {
      "cell_type": "code",
      "execution_count": null,
      "metadata": {
        "colab": {
          "base_uri": "https://localhost:8080/",
          "height": 175
        },
        "id": "MDcYxM0C0DO9",
        "outputId": "6cffcf4c-3713-48bd-ffe5-d3a1ab807aaa"
      },
      "outputs": [
        {
          "output_type": "execute_result",
          "data": {
            "text/plain": [
              "      country  population      area\n",
              "0  Kazakhstan       17.04   2724902\n",
              "1      Russia      143.50  17125191\n",
              "2     Belarus        9.50    207600\n",
              "3     Ukraine       45.50    603628"
            ],
            "text/html": [
              "\n",
              "  <div id=\"df-98293ef3-929a-4f57-baef-7bc74df4893c\">\n",
              "    <div class=\"colab-df-container\">\n",
              "      <div>\n",
              "<style scoped>\n",
              "    .dataframe tbody tr th:only-of-type {\n",
              "        vertical-align: middle;\n",
              "    }\n",
              "\n",
              "    .dataframe tbody tr th {\n",
              "        vertical-align: top;\n",
              "    }\n",
              "\n",
              "    .dataframe thead th {\n",
              "        text-align: right;\n",
              "    }\n",
              "</style>\n",
              "<table border=\"1\" class=\"dataframe\">\n",
              "  <thead>\n",
              "    <tr style=\"text-align: right;\">\n",
              "      <th></th>\n",
              "      <th>country</th>\n",
              "      <th>population</th>\n",
              "      <th>area</th>\n",
              "    </tr>\n",
              "  </thead>\n",
              "  <tbody>\n",
              "    <tr>\n",
              "      <th>0</th>\n",
              "      <td>Kazakhstan</td>\n",
              "      <td>17.04</td>\n",
              "      <td>2724902</td>\n",
              "    </tr>\n",
              "    <tr>\n",
              "      <th>1</th>\n",
              "      <td>Russia</td>\n",
              "      <td>143.50</td>\n",
              "      <td>17125191</td>\n",
              "    </tr>\n",
              "    <tr>\n",
              "      <th>2</th>\n",
              "      <td>Belarus</td>\n",
              "      <td>9.50</td>\n",
              "      <td>207600</td>\n",
              "    </tr>\n",
              "    <tr>\n",
              "      <th>3</th>\n",
              "      <td>Ukraine</td>\n",
              "      <td>45.50</td>\n",
              "      <td>603628</td>\n",
              "    </tr>\n",
              "  </tbody>\n",
              "</table>\n",
              "</div>\n",
              "      <button class=\"colab-df-convert\" onclick=\"convertToInteractive('df-98293ef3-929a-4f57-baef-7bc74df4893c')\"\n",
              "              title=\"Convert this dataframe to an interactive table.\"\n",
              "              style=\"display:none;\">\n",
              "        \n",
              "  <svg xmlns=\"http://www.w3.org/2000/svg\" height=\"24px\"viewBox=\"0 0 24 24\"\n",
              "       width=\"24px\">\n",
              "    <path d=\"M0 0h24v24H0V0z\" fill=\"none\"/>\n",
              "    <path d=\"M18.56 5.44l.94 2.06.94-2.06 2.06-.94-2.06-.94-.94-2.06-.94 2.06-2.06.94zm-11 1L8.5 8.5l.94-2.06 2.06-.94-2.06-.94L8.5 2.5l-.94 2.06-2.06.94zm10 10l.94 2.06.94-2.06 2.06-.94-2.06-.94-.94-2.06-.94 2.06-2.06.94z\"/><path d=\"M17.41 7.96l-1.37-1.37c-.4-.4-.92-.59-1.43-.59-.52 0-1.04.2-1.43.59L10.3 9.45l-7.72 7.72c-.78.78-.78 2.05 0 2.83L4 21.41c.39.39.9.59 1.41.59.51 0 1.02-.2 1.41-.59l7.78-7.78 2.81-2.81c.8-.78.8-2.07 0-2.86zM5.41 20L4 18.59l7.72-7.72 1.47 1.35L5.41 20z\"/>\n",
              "  </svg>\n",
              "      </button>\n",
              "      \n",
              "  <style>\n",
              "    .colab-df-container {\n",
              "      display:flex;\n",
              "      flex-wrap:wrap;\n",
              "      gap: 12px;\n",
              "    }\n",
              "\n",
              "    .colab-df-convert {\n",
              "      background-color: #E8F0FE;\n",
              "      border: none;\n",
              "      border-radius: 50%;\n",
              "      cursor: pointer;\n",
              "      display: none;\n",
              "      fill: #1967D2;\n",
              "      height: 32px;\n",
              "      padding: 0 0 0 0;\n",
              "      width: 32px;\n",
              "    }\n",
              "\n",
              "    .colab-df-convert:hover {\n",
              "      background-color: #E2EBFA;\n",
              "      box-shadow: 0px 1px 2px rgba(60, 64, 67, 0.3), 0px 1px 3px 1px rgba(60, 64, 67, 0.15);\n",
              "      fill: #174EA6;\n",
              "    }\n",
              "\n",
              "    [theme=dark] .colab-df-convert {\n",
              "      background-color: #3B4455;\n",
              "      fill: #D2E3FC;\n",
              "    }\n",
              "\n",
              "    [theme=dark] .colab-df-convert:hover {\n",
              "      background-color: #434B5C;\n",
              "      box-shadow: 0px 1px 3px 1px rgba(0, 0, 0, 0.15);\n",
              "      filter: drop-shadow(0px 1px 2px rgba(0, 0, 0, 0.3));\n",
              "      fill: #FFFFFF;\n",
              "    }\n",
              "  </style>\n",
              "\n",
              "      <script>\n",
              "        const buttonEl =\n",
              "          document.querySelector('#df-98293ef3-929a-4f57-baef-7bc74df4893c button.colab-df-convert');\n",
              "        buttonEl.style.display =\n",
              "          google.colab.kernel.accessAllowed ? 'block' : 'none';\n",
              "\n",
              "        async function convertToInteractive(key) {\n",
              "          const element = document.querySelector('#df-98293ef3-929a-4f57-baef-7bc74df4893c');\n",
              "          const dataTable =\n",
              "            await google.colab.kernel.invokeFunction('convertToInteractive',\n",
              "                                                     [key], {});\n",
              "          if (!dataTable) return;\n",
              "\n",
              "          const docLinkHtml = 'Like what you see? Visit the ' +\n",
              "            '<a target=\"_blank\" href=https://colab.research.google.com/notebooks/data_table.ipynb>data table notebook</a>'\n",
              "            + ' to learn more about interactive tables.';\n",
              "          element.innerHTML = '';\n",
              "          dataTable['output_type'] = 'display_data';\n",
              "          await google.colab.output.renderOutput(dataTable, element);\n",
              "          const docLink = document.createElement('div');\n",
              "          docLink.innerHTML = docLinkHtml;\n",
              "          element.appendChild(docLink);\n",
              "        }\n",
              "      </script>\n",
              "    </div>\n",
              "  </div>\n",
              "  "
            ]
          },
          "metadata": {},
          "execution_count": 2
        }
      ],
      "source": [
        "df = pd.DataFrame({\n",
        "    'country': ['Kazakhstan', 'Russia', 'Belarus', 'Ukraine'],\n",
        "    'population': [17.04, 143.5, 9.5, 45.5],\n",
        "    'area': [2724902, 17125191, 207600, 603628]\n",
        "})\n",
        "df"
      ]
    },
    {
      "cell_type": "markdown",
      "metadata": {
        "id": "9xLM_jY70DO-"
      },
      "source": [
        "#### Импорт `pandas.DataFrame`"
      ]
    },
    {
      "cell_type": "markdown",
      "metadata": {
        "id": "cT_3W--b0DO-"
      },
      "source": [
        "Но чаще всего, конечно, вы получаете `DataFrame` из файловых источников. Pandas поддерживает множество разных форматов данных."
      ]
    },
    {
      "cell_type": "markdown",
      "metadata": {
        "id": "B5GDArp70DO-"
      },
      "source": [
        "![file_operations.png](https://data.bioml.ru/htdocs/courses/python/datasci/pandas/img/file_operations.png)"
      ]
    },
    {
      "cell_type": "markdown",
      "metadata": {
        "id": "VlsmYHRN0DO-"
      },
      "source": [
        "    pd.read_csv(filename)\n",
        "    pd.read_excel(filename)\n",
        "    pd.read_sql(query, connection_object)\n",
        "    pd.read_table(filename)\n",
        "    pd.read_json(json_string)\n",
        "    pd.read_html(url)\n",
        "    pd.read_clipboard()\n",
        "    pd.DataFrame(dict)"
      ]
    },
    {
      "cell_type": "markdown",
      "metadata": {
        "id": "CFGuQDfp0DO-"
      },
      "source": [
        "Загрузим датасет \"[Heart UCI](https://www.kaggle.com/ronitf/heart-disease-uci)\" с данными по пациентам с болезнью сердца."
      ]
    },
    {
      "cell_type": "code",
      "execution_count": null,
      "metadata": {
        "id": "1DBW0Cyk0DO-",
        "colab": {
          "base_uri": "https://localhost:8080/"
        },
        "outputId": "d2ae6b95-5aba-4f54-a2b8-ac98f06750b4"
      },
      "outputs": [
        {
          "output_type": "stream",
          "name": "stdout",
          "text": [
            "--2023-04-04 10:12:31--  https://data.bioml.ru/htdocs/courses/python/datasci/pandas/data/Heart_UCI_modified.csv\n",
            "Resolving data.bioml.ru (data.bioml.ru)... 178.62.218.34\n",
            "Connecting to data.bioml.ru (data.bioml.ru)|178.62.218.34|:443... connected.\n",
            "HTTP request sent, awaiting response... 200 OK\n",
            "Length: 28752 (28K) [text/csv]\n",
            "Saving to: ‘Heart_UCI_modified.csv.1’\n",
            "\n",
            "Heart_UCI_modified. 100%[===================>]  28.08K  --.-KB/s    in 0s      \n",
            "\n",
            "2023-04-04 10:12:31 (230 MB/s) - ‘Heart_UCI_modified.csv.1’ saved [28752/28752]\n",
            "\n",
            "--2023-04-04 10:12:31--  https://data.bioml.ru/htdocs/courses/python/datasci/pandas/data/Heart_UCI_modified.xls\n",
            "Resolving data.bioml.ru (data.bioml.ru)... 178.62.218.34\n",
            "Connecting to data.bioml.ru (data.bioml.ru)|178.62.218.34|:443... connected.\n",
            "HTTP request sent, awaiting response... 200 OK\n",
            "Length: 87552 (86K) [application/vnd.ms-excel]\n",
            "Saving to: ‘Heart_UCI_modified.xls.1’\n",
            "\n",
            "Heart_UCI_modified. 100%[===================>]  85.50K  --.-KB/s    in 0.1s    \n",
            "\n",
            "2023-04-04 10:12:32 (854 KB/s) - ‘Heart_UCI_modified.xls.1’ saved [87552/87552]\n",
            "\n",
            "--2023-04-04 10:12:32--  https://data.bioml.ru/htdocs/courses/python/datasci/pandas/data/Heart_UCI_modified.xlsx\n",
            "Resolving data.bioml.ru (data.bioml.ru)... 178.62.218.34\n",
            "Connecting to data.bioml.ru (data.bioml.ru)|178.62.218.34|:443... connected.\n",
            "HTTP request sent, awaiting response... 200 OK\n",
            "Length: 28167 (28K) [application/vnd.openxmlformats-officedocument.spreadsheetml.sheet]\n",
            "Saving to: ‘Heart_UCI_modified.xlsx.1’\n",
            "\n",
            "Heart_UCI_modified. 100%[===================>]  27.51K  --.-KB/s    in 0s      \n",
            "\n",
            "2023-04-04 10:12:32 (212 MB/s) - ‘Heart_UCI_modified.xlsx.1’ saved [28167/28167]\n",
            "\n"
          ]
        },
        {
          "output_type": "execute_result",
          "data": {
            "text/plain": []
          },
          "metadata": {},
          "execution_count": 38
        }
      ],
      "source": [
        "%%shell\n",
        "wget https://data.bioml.ru/htdocs/courses/python/datasci/pandas/data/Heart_UCI_modified.csv\n",
        "wget https://data.bioml.ru/htdocs/courses/python/datasci/pandas/data/Heart_UCI_modified.xls\n",
        "wget https://data.bioml.ru/htdocs/courses/python/datasci/pandas/data/Heart_UCI_modified.xlsx"
      ]
    },
    {
      "cell_type": "code",
      "execution_count": null,
      "metadata": {
        "colab": {
          "base_uri": "https://localhost:8080/",
          "height": 609
        },
        "id": "agpRSs7N0DO-",
        "outputId": "dbb4017c-7d27-4a9e-9504-1963a945c0fa"
      },
      "outputs": [
        {
          "output_type": "execute_result",
          "data": {
            "text/plain": [
              "     Age     Sex   Chest_pain_type  Resting_blood_pressure  Serum_cholesterol  \\\n",
              "0     63    male  non-anginal pain                     145                233   \n",
              "1     37    male   atypical angina                     130                250   \n",
              "2     41  female    typical angina                     130                204   \n",
              "3     56    male    typical angina                     120                236   \n",
              "4     57  female      asymptomatic                     120                354   \n",
              "..   ...     ...               ...                     ...                ...   \n",
              "298   57  female      asymptomatic                     140                241   \n",
              "299   45    male  non-anginal pain                     110                264   \n",
              "300   68    male      asymptomatic                     144                193   \n",
              "301   57    male      asymptomatic                     130                131   \n",
              "302   57  female    typical angina                     130                236   \n",
              "\n",
              "    Fasting_blood_sugar               Rest_ECG  Max_heart_rate  \\\n",
              "0           > 120 mg/dl                 normal             150   \n",
              "1           < 120 mg/dl  ST-T wave abnormality             187   \n",
              "2           < 120 mg/dl                 normal             172   \n",
              "3           < 120 mg/dl  ST-T wave abnormality             178   \n",
              "4           < 120 mg/dl  ST-T wave abnormality             163   \n",
              "..                  ...                    ...             ...   \n",
              "298         < 120 mg/dl  ST-T wave abnormality             123   \n",
              "299         < 120 mg/dl  ST-T wave abnormality             132   \n",
              "300         > 120 mg/dl  ST-T wave abnormality             141   \n",
              "301         < 120 mg/dl  ST-T wave abnormality             115   \n",
              "302         < 120 mg/dl                 normal             174   \n",
              "\n",
              "    Exercise_angina  Exercise_ST_depression ST_peak_slope  Vessels_colored  \\\n",
              "0         no angina                     2.3     upsloping                0   \n",
              "1         no angina                     3.5     upsloping                0   \n",
              "2         no angina                     1.4   downsloping                0   \n",
              "3         no angina                     0.8   downsloping                0   \n",
              "4            angina                     0.6   downsloping                0   \n",
              "..              ...                     ...           ...              ...   \n",
              "298          angina                     0.2          flat                0   \n",
              "299       no angina                     1.2          flat                0   \n",
              "300       no angina                     3.4          flat                2   \n",
              "301          angina                     1.2          flat                1   \n",
              "302       no angina                     0.0          flat                1   \n",
              "\n",
              "    Heart_disease  \n",
              "0        diseased  \n",
              "1        diseased  \n",
              "2        diseased  \n",
              "3        diseased  \n",
              "4        diseased  \n",
              "..            ...  \n",
              "298       healthy  \n",
              "299       healthy  \n",
              "300       healthy  \n",
              "301       healthy  \n",
              "302       healthy  \n",
              "\n",
              "[303 rows x 13 columns]"
            ],
            "text/html": [
              "\n",
              "  <div id=\"df-967a1a43-4a86-46ed-8e03-75ccee7b54f6\">\n",
              "    <div class=\"colab-df-container\">\n",
              "      <div>\n",
              "<style scoped>\n",
              "    .dataframe tbody tr th:only-of-type {\n",
              "        vertical-align: middle;\n",
              "    }\n",
              "\n",
              "    .dataframe tbody tr th {\n",
              "        vertical-align: top;\n",
              "    }\n",
              "\n",
              "    .dataframe thead th {\n",
              "        text-align: right;\n",
              "    }\n",
              "</style>\n",
              "<table border=\"1\" class=\"dataframe\">\n",
              "  <thead>\n",
              "    <tr style=\"text-align: right;\">\n",
              "      <th></th>\n",
              "      <th>Age</th>\n",
              "      <th>Sex</th>\n",
              "      <th>Chest_pain_type</th>\n",
              "      <th>Resting_blood_pressure</th>\n",
              "      <th>Serum_cholesterol</th>\n",
              "      <th>Fasting_blood_sugar</th>\n",
              "      <th>Rest_ECG</th>\n",
              "      <th>Max_heart_rate</th>\n",
              "      <th>Exercise_angina</th>\n",
              "      <th>Exercise_ST_depression</th>\n",
              "      <th>ST_peak_slope</th>\n",
              "      <th>Vessels_colored</th>\n",
              "      <th>Heart_disease</th>\n",
              "    </tr>\n",
              "  </thead>\n",
              "  <tbody>\n",
              "    <tr>\n",
              "      <th>0</th>\n",
              "      <td>63</td>\n",
              "      <td>male</td>\n",
              "      <td>non-anginal pain</td>\n",
              "      <td>145</td>\n",
              "      <td>233</td>\n",
              "      <td>&gt; 120 mg/dl</td>\n",
              "      <td>normal</td>\n",
              "      <td>150</td>\n",
              "      <td>no angina</td>\n",
              "      <td>2.3</td>\n",
              "      <td>upsloping</td>\n",
              "      <td>0</td>\n",
              "      <td>diseased</td>\n",
              "    </tr>\n",
              "    <tr>\n",
              "      <th>1</th>\n",
              "      <td>37</td>\n",
              "      <td>male</td>\n",
              "      <td>atypical angina</td>\n",
              "      <td>130</td>\n",
              "      <td>250</td>\n",
              "      <td>&lt; 120 mg/dl</td>\n",
              "      <td>ST-T wave abnormality</td>\n",
              "      <td>187</td>\n",
              "      <td>no angina</td>\n",
              "      <td>3.5</td>\n",
              "      <td>upsloping</td>\n",
              "      <td>0</td>\n",
              "      <td>diseased</td>\n",
              "    </tr>\n",
              "    <tr>\n",
              "      <th>2</th>\n",
              "      <td>41</td>\n",
              "      <td>female</td>\n",
              "      <td>typical angina</td>\n",
              "      <td>130</td>\n",
              "      <td>204</td>\n",
              "      <td>&lt; 120 mg/dl</td>\n",
              "      <td>normal</td>\n",
              "      <td>172</td>\n",
              "      <td>no angina</td>\n",
              "      <td>1.4</td>\n",
              "      <td>downsloping</td>\n",
              "      <td>0</td>\n",
              "      <td>diseased</td>\n",
              "    </tr>\n",
              "    <tr>\n",
              "      <th>3</th>\n",
              "      <td>56</td>\n",
              "      <td>male</td>\n",
              "      <td>typical angina</td>\n",
              "      <td>120</td>\n",
              "      <td>236</td>\n",
              "      <td>&lt; 120 mg/dl</td>\n",
              "      <td>ST-T wave abnormality</td>\n",
              "      <td>178</td>\n",
              "      <td>no angina</td>\n",
              "      <td>0.8</td>\n",
              "      <td>downsloping</td>\n",
              "      <td>0</td>\n",
              "      <td>diseased</td>\n",
              "    </tr>\n",
              "    <tr>\n",
              "      <th>4</th>\n",
              "      <td>57</td>\n",
              "      <td>female</td>\n",
              "      <td>asymptomatic</td>\n",
              "      <td>120</td>\n",
              "      <td>354</td>\n",
              "      <td>&lt; 120 mg/dl</td>\n",
              "      <td>ST-T wave abnormality</td>\n",
              "      <td>163</td>\n",
              "      <td>angina</td>\n",
              "      <td>0.6</td>\n",
              "      <td>downsloping</td>\n",
              "      <td>0</td>\n",
              "      <td>diseased</td>\n",
              "    </tr>\n",
              "    <tr>\n",
              "      <th>...</th>\n",
              "      <td>...</td>\n",
              "      <td>...</td>\n",
              "      <td>...</td>\n",
              "      <td>...</td>\n",
              "      <td>...</td>\n",
              "      <td>...</td>\n",
              "      <td>...</td>\n",
              "      <td>...</td>\n",
              "      <td>...</td>\n",
              "      <td>...</td>\n",
              "      <td>...</td>\n",
              "      <td>...</td>\n",
              "      <td>...</td>\n",
              "    </tr>\n",
              "    <tr>\n",
              "      <th>298</th>\n",
              "      <td>57</td>\n",
              "      <td>female</td>\n",
              "      <td>asymptomatic</td>\n",
              "      <td>140</td>\n",
              "      <td>241</td>\n",
              "      <td>&lt; 120 mg/dl</td>\n",
              "      <td>ST-T wave abnormality</td>\n",
              "      <td>123</td>\n",
              "      <td>angina</td>\n",
              "      <td>0.2</td>\n",
              "      <td>flat</td>\n",
              "      <td>0</td>\n",
              "      <td>healthy</td>\n",
              "    </tr>\n",
              "    <tr>\n",
              "      <th>299</th>\n",
              "      <td>45</td>\n",
              "      <td>male</td>\n",
              "      <td>non-anginal pain</td>\n",
              "      <td>110</td>\n",
              "      <td>264</td>\n",
              "      <td>&lt; 120 mg/dl</td>\n",
              "      <td>ST-T wave abnormality</td>\n",
              "      <td>132</td>\n",
              "      <td>no angina</td>\n",
              "      <td>1.2</td>\n",
              "      <td>flat</td>\n",
              "      <td>0</td>\n",
              "      <td>healthy</td>\n",
              "    </tr>\n",
              "    <tr>\n",
              "      <th>300</th>\n",
              "      <td>68</td>\n",
              "      <td>male</td>\n",
              "      <td>asymptomatic</td>\n",
              "      <td>144</td>\n",
              "      <td>193</td>\n",
              "      <td>&gt; 120 mg/dl</td>\n",
              "      <td>ST-T wave abnormality</td>\n",
              "      <td>141</td>\n",
              "      <td>no angina</td>\n",
              "      <td>3.4</td>\n",
              "      <td>flat</td>\n",
              "      <td>2</td>\n",
              "      <td>healthy</td>\n",
              "    </tr>\n",
              "    <tr>\n",
              "      <th>301</th>\n",
              "      <td>57</td>\n",
              "      <td>male</td>\n",
              "      <td>asymptomatic</td>\n",
              "      <td>130</td>\n",
              "      <td>131</td>\n",
              "      <td>&lt; 120 mg/dl</td>\n",
              "      <td>ST-T wave abnormality</td>\n",
              "      <td>115</td>\n",
              "      <td>angina</td>\n",
              "      <td>1.2</td>\n",
              "      <td>flat</td>\n",
              "      <td>1</td>\n",
              "      <td>healthy</td>\n",
              "    </tr>\n",
              "    <tr>\n",
              "      <th>302</th>\n",
              "      <td>57</td>\n",
              "      <td>female</td>\n",
              "      <td>typical angina</td>\n",
              "      <td>130</td>\n",
              "      <td>236</td>\n",
              "      <td>&lt; 120 mg/dl</td>\n",
              "      <td>normal</td>\n",
              "      <td>174</td>\n",
              "      <td>no angina</td>\n",
              "      <td>0.0</td>\n",
              "      <td>flat</td>\n",
              "      <td>1</td>\n",
              "      <td>healthy</td>\n",
              "    </tr>\n",
              "  </tbody>\n",
              "</table>\n",
              "<p>303 rows × 13 columns</p>\n",
              "</div>\n",
              "      <button class=\"colab-df-convert\" onclick=\"convertToInteractive('df-967a1a43-4a86-46ed-8e03-75ccee7b54f6')\"\n",
              "              title=\"Convert this dataframe to an interactive table.\"\n",
              "              style=\"display:none;\">\n",
              "        \n",
              "  <svg xmlns=\"http://www.w3.org/2000/svg\" height=\"24px\"viewBox=\"0 0 24 24\"\n",
              "       width=\"24px\">\n",
              "    <path d=\"M0 0h24v24H0V0z\" fill=\"none\"/>\n",
              "    <path d=\"M18.56 5.44l.94 2.06.94-2.06 2.06-.94-2.06-.94-.94-2.06-.94 2.06-2.06.94zm-11 1L8.5 8.5l.94-2.06 2.06-.94-2.06-.94L8.5 2.5l-.94 2.06-2.06.94zm10 10l.94 2.06.94-2.06 2.06-.94-2.06-.94-.94-2.06-.94 2.06-2.06.94z\"/><path d=\"M17.41 7.96l-1.37-1.37c-.4-.4-.92-.59-1.43-.59-.52 0-1.04.2-1.43.59L10.3 9.45l-7.72 7.72c-.78.78-.78 2.05 0 2.83L4 21.41c.39.39.9.59 1.41.59.51 0 1.02-.2 1.41-.59l7.78-7.78 2.81-2.81c.8-.78.8-2.07 0-2.86zM5.41 20L4 18.59l7.72-7.72 1.47 1.35L5.41 20z\"/>\n",
              "  </svg>\n",
              "      </button>\n",
              "      \n",
              "  <style>\n",
              "    .colab-df-container {\n",
              "      display:flex;\n",
              "      flex-wrap:wrap;\n",
              "      gap: 12px;\n",
              "    }\n",
              "\n",
              "    .colab-df-convert {\n",
              "      background-color: #E8F0FE;\n",
              "      border: none;\n",
              "      border-radius: 50%;\n",
              "      cursor: pointer;\n",
              "      display: none;\n",
              "      fill: #1967D2;\n",
              "      height: 32px;\n",
              "      padding: 0 0 0 0;\n",
              "      width: 32px;\n",
              "    }\n",
              "\n",
              "    .colab-df-convert:hover {\n",
              "      background-color: #E2EBFA;\n",
              "      box-shadow: 0px 1px 2px rgba(60, 64, 67, 0.3), 0px 1px 3px 1px rgba(60, 64, 67, 0.15);\n",
              "      fill: #174EA6;\n",
              "    }\n",
              "\n",
              "    [theme=dark] .colab-df-convert {\n",
              "      background-color: #3B4455;\n",
              "      fill: #D2E3FC;\n",
              "    }\n",
              "\n",
              "    [theme=dark] .colab-df-convert:hover {\n",
              "      background-color: #434B5C;\n",
              "      box-shadow: 0px 1px 3px 1px rgba(0, 0, 0, 0.15);\n",
              "      filter: drop-shadow(0px 1px 2px rgba(0, 0, 0, 0.3));\n",
              "      fill: #FFFFFF;\n",
              "    }\n",
              "  </style>\n",
              "\n",
              "      <script>\n",
              "        const buttonEl =\n",
              "          document.querySelector('#df-967a1a43-4a86-46ed-8e03-75ccee7b54f6 button.colab-df-convert');\n",
              "        buttonEl.style.display =\n",
              "          google.colab.kernel.accessAllowed ? 'block' : 'none';\n",
              "\n",
              "        async function convertToInteractive(key) {\n",
              "          const element = document.querySelector('#df-967a1a43-4a86-46ed-8e03-75ccee7b54f6');\n",
              "          const dataTable =\n",
              "            await google.colab.kernel.invokeFunction('convertToInteractive',\n",
              "                                                     [key], {});\n",
              "          if (!dataTable) return;\n",
              "\n",
              "          const docLinkHtml = 'Like what you see? Visit the ' +\n",
              "            '<a target=\"_blank\" href=https://colab.research.google.com/notebooks/data_table.ipynb>data table notebook</a>'\n",
              "            + ' to learn more about interactive tables.';\n",
              "          element.innerHTML = '';\n",
              "          dataTable['output_type'] = 'display_data';\n",
              "          await google.colab.output.renderOutput(dataTable, element);\n",
              "          const docLink = document.createElement('div');\n",
              "          docLink.innerHTML = docLinkHtml;\n",
              "          element.appendChild(docLink);\n",
              "        }\n",
              "      </script>\n",
              "    </div>\n",
              "  </div>\n",
              "  "
            ]
          },
          "metadata": {},
          "execution_count": 6
        }
      ],
      "source": [
        "heart_uci = pd.read_csv(\"./Heart_UCI_modified.csv\")\n",
        "heart_uci"
      ]
    },
    {
      "cell_type": "code",
      "execution_count": null,
      "metadata": {
        "colab": {
          "base_uri": "https://localhost:8080/",
          "height": 193
        },
        "id": "E_Ih2iASRJ92",
        "outputId": "85ff4767-f172-4027-e295-2a5238d27650"
      },
      "outputs": [
        {
          "output_type": "execute_result",
          "data": {
            "text/plain": [
              "   Age   Sex   Chest_pain_type  Resting_blood_pressure  Serum_cholesterol  \\\n",
              "0   63  male  non-anginal pain                     145                233   \n",
              "1   37  male   atypical angina                     130                250   \n",
              "\n",
              "  Fasting_blood_sugar               Rest_ECG  Max_heart_rate Exercise_angina  \\\n",
              "0         > 120 mg/dl                 normal             150       no angina   \n",
              "1         < 120 mg/dl  ST-T wave abnormality             187       no angina   \n",
              "\n",
              "   Exercise_ST_depression ST_peak_slope  Vessels_colored Heart_disease  \n",
              "0                     2.3     upsloping                0      diseased  \n",
              "1                     3.5     upsloping                0      diseased  "
            ],
            "text/html": [
              "\n",
              "  <div id=\"df-44b634c5-5bdc-49a6-9010-daddc8f5ded0\">\n",
              "    <div class=\"colab-df-container\">\n",
              "      <div>\n",
              "<style scoped>\n",
              "    .dataframe tbody tr th:only-of-type {\n",
              "        vertical-align: middle;\n",
              "    }\n",
              "\n",
              "    .dataframe tbody tr th {\n",
              "        vertical-align: top;\n",
              "    }\n",
              "\n",
              "    .dataframe thead th {\n",
              "        text-align: right;\n",
              "    }\n",
              "</style>\n",
              "<table border=\"1\" class=\"dataframe\">\n",
              "  <thead>\n",
              "    <tr style=\"text-align: right;\">\n",
              "      <th></th>\n",
              "      <th>Age</th>\n",
              "      <th>Sex</th>\n",
              "      <th>Chest_pain_type</th>\n",
              "      <th>Resting_blood_pressure</th>\n",
              "      <th>Serum_cholesterol</th>\n",
              "      <th>Fasting_blood_sugar</th>\n",
              "      <th>Rest_ECG</th>\n",
              "      <th>Max_heart_rate</th>\n",
              "      <th>Exercise_angina</th>\n",
              "      <th>Exercise_ST_depression</th>\n",
              "      <th>ST_peak_slope</th>\n",
              "      <th>Vessels_colored</th>\n",
              "      <th>Heart_disease</th>\n",
              "    </tr>\n",
              "  </thead>\n",
              "  <tbody>\n",
              "    <tr>\n",
              "      <th>0</th>\n",
              "      <td>63</td>\n",
              "      <td>male</td>\n",
              "      <td>non-anginal pain</td>\n",
              "      <td>145</td>\n",
              "      <td>233</td>\n",
              "      <td>&gt; 120 mg/dl</td>\n",
              "      <td>normal</td>\n",
              "      <td>150</td>\n",
              "      <td>no angina</td>\n",
              "      <td>2.3</td>\n",
              "      <td>upsloping</td>\n",
              "      <td>0</td>\n",
              "      <td>diseased</td>\n",
              "    </tr>\n",
              "    <tr>\n",
              "      <th>1</th>\n",
              "      <td>37</td>\n",
              "      <td>male</td>\n",
              "      <td>atypical angina</td>\n",
              "      <td>130</td>\n",
              "      <td>250</td>\n",
              "      <td>&lt; 120 mg/dl</td>\n",
              "      <td>ST-T wave abnormality</td>\n",
              "      <td>187</td>\n",
              "      <td>no angina</td>\n",
              "      <td>3.5</td>\n",
              "      <td>upsloping</td>\n",
              "      <td>0</td>\n",
              "      <td>diseased</td>\n",
              "    </tr>\n",
              "  </tbody>\n",
              "</table>\n",
              "</div>\n",
              "      <button class=\"colab-df-convert\" onclick=\"convertToInteractive('df-44b634c5-5bdc-49a6-9010-daddc8f5ded0')\"\n",
              "              title=\"Convert this dataframe to an interactive table.\"\n",
              "              style=\"display:none;\">\n",
              "        \n",
              "  <svg xmlns=\"http://www.w3.org/2000/svg\" height=\"24px\"viewBox=\"0 0 24 24\"\n",
              "       width=\"24px\">\n",
              "    <path d=\"M0 0h24v24H0V0z\" fill=\"none\"/>\n",
              "    <path d=\"M18.56 5.44l.94 2.06.94-2.06 2.06-.94-2.06-.94-.94-2.06-.94 2.06-2.06.94zm-11 1L8.5 8.5l.94-2.06 2.06-.94-2.06-.94L8.5 2.5l-.94 2.06-2.06.94zm10 10l.94 2.06.94-2.06 2.06-.94-2.06-.94-.94-2.06-.94 2.06-2.06.94z\"/><path d=\"M17.41 7.96l-1.37-1.37c-.4-.4-.92-.59-1.43-.59-.52 0-1.04.2-1.43.59L10.3 9.45l-7.72 7.72c-.78.78-.78 2.05 0 2.83L4 21.41c.39.39.9.59 1.41.59.51 0 1.02-.2 1.41-.59l7.78-7.78 2.81-2.81c.8-.78.8-2.07 0-2.86zM5.41 20L4 18.59l7.72-7.72 1.47 1.35L5.41 20z\"/>\n",
              "  </svg>\n",
              "      </button>\n",
              "      \n",
              "  <style>\n",
              "    .colab-df-container {\n",
              "      display:flex;\n",
              "      flex-wrap:wrap;\n",
              "      gap: 12px;\n",
              "    }\n",
              "\n",
              "    .colab-df-convert {\n",
              "      background-color: #E8F0FE;\n",
              "      border: none;\n",
              "      border-radius: 50%;\n",
              "      cursor: pointer;\n",
              "      display: none;\n",
              "      fill: #1967D2;\n",
              "      height: 32px;\n",
              "      padding: 0 0 0 0;\n",
              "      width: 32px;\n",
              "    }\n",
              "\n",
              "    .colab-df-convert:hover {\n",
              "      background-color: #E2EBFA;\n",
              "      box-shadow: 0px 1px 2px rgba(60, 64, 67, 0.3), 0px 1px 3px 1px rgba(60, 64, 67, 0.15);\n",
              "      fill: #174EA6;\n",
              "    }\n",
              "\n",
              "    [theme=dark] .colab-df-convert {\n",
              "      background-color: #3B4455;\n",
              "      fill: #D2E3FC;\n",
              "    }\n",
              "\n",
              "    [theme=dark] .colab-df-convert:hover {\n",
              "      background-color: #434B5C;\n",
              "      box-shadow: 0px 1px 3px 1px rgba(0, 0, 0, 0.15);\n",
              "      filter: drop-shadow(0px 1px 2px rgba(0, 0, 0, 0.3));\n",
              "      fill: #FFFFFF;\n",
              "    }\n",
              "  </style>\n",
              "\n",
              "      <script>\n",
              "        const buttonEl =\n",
              "          document.querySelector('#df-44b634c5-5bdc-49a6-9010-daddc8f5ded0 button.colab-df-convert');\n",
              "        buttonEl.style.display =\n",
              "          google.colab.kernel.accessAllowed ? 'block' : 'none';\n",
              "\n",
              "        async function convertToInteractive(key) {\n",
              "          const element = document.querySelector('#df-44b634c5-5bdc-49a6-9010-daddc8f5ded0');\n",
              "          const dataTable =\n",
              "            await google.colab.kernel.invokeFunction('convertToInteractive',\n",
              "                                                     [key], {});\n",
              "          if (!dataTable) return;\n",
              "\n",
              "          const docLinkHtml = 'Like what you see? Visit the ' +\n",
              "            '<a target=\"_blank\" href=https://colab.research.google.com/notebooks/data_table.ipynb>data table notebook</a>'\n",
              "            + ' to learn more about interactive tables.';\n",
              "          element.innerHTML = '';\n",
              "          dataTable['output_type'] = 'display_data';\n",
              "          await google.colab.output.renderOutput(dataTable, element);\n",
              "          const docLink = document.createElement('div');\n",
              "          docLink.innerHTML = docLinkHtml;\n",
              "          element.appendChild(docLink);\n",
              "        }\n",
              "      </script>\n",
              "    </div>\n",
              "  </div>\n",
              "  "
            ]
          },
          "metadata": {},
          "execution_count": 6
        }
      ],
      "source": [
        "heart_uci.head(2)"
      ]
    },
    {
      "cell_type": "markdown",
      "metadata": {
        "id": "ePBrJHhi0DO-"
      },
      "source": [
        "Можно также загружать **таблицы Excel**"
      ]
    },
    {
      "cell_type": "code",
      "execution_count": null,
      "metadata": {
        "colab": {
          "base_uri": "https://localhost:8080/",
          "height": 609
        },
        "id": "IIzvqXi00DO_",
        "outputId": "cda1af38-ef8a-472d-cec9-3e014674eb53"
      },
      "outputs": [
        {
          "output_type": "execute_result",
          "data": {
            "text/plain": [
              "     Age     Sex   Chest_pain_type  Resting_blood_pressure  Serum_cholesterol  \\\n",
              "0     63    male  non-anginal pain                     145                233   \n",
              "1     37    male   atypical angina                     130                250   \n",
              "2     41  female    typical angina                     130                204   \n",
              "3     56    male    typical angina                     120                236   \n",
              "4     57  female      asymptomatic                     120                354   \n",
              "..   ...     ...               ...                     ...                ...   \n",
              "298   57  female      asymptomatic                     140                241   \n",
              "299   45    male  non-anginal pain                     110                264   \n",
              "300   68    male      asymptomatic                     144                193   \n",
              "301   57    male      asymptomatic                     130                131   \n",
              "302   57  female    typical angina                     130                236   \n",
              "\n",
              "    Fasting_blood_sugar               Rest_ECG  Max_heart_rate  \\\n",
              "0           > 120 mg/dl                 normal             150   \n",
              "1           < 120 mg/dl  ST-T wave abnormality             187   \n",
              "2           < 120 mg/dl                 normal             172   \n",
              "3           < 120 mg/dl  ST-T wave abnormality             178   \n",
              "4           < 120 mg/dl  ST-T wave abnormality             163   \n",
              "..                  ...                    ...             ...   \n",
              "298         < 120 mg/dl  ST-T wave abnormality             123   \n",
              "299         < 120 mg/dl  ST-T wave abnormality             132   \n",
              "300         > 120 mg/dl  ST-T wave abnormality             141   \n",
              "301         < 120 mg/dl  ST-T wave abnormality             115   \n",
              "302         < 120 mg/dl                 normal             174   \n",
              "\n",
              "    Exercise_angina  Exercise_ST_depression ST_peak_slope  Vessels_colored  \\\n",
              "0         no angina                     2.3     upsloping                0   \n",
              "1         no angina                     3.5     upsloping                0   \n",
              "2         no angina                     1.4   downsloping                0   \n",
              "3         no angina                     0.8   downsloping                0   \n",
              "4            angina                     0.6   downsloping                0   \n",
              "..              ...                     ...           ...              ...   \n",
              "298          angina                     0.2          flat                0   \n",
              "299       no angina                     1.2          flat                0   \n",
              "300       no angina                     3.4          flat                2   \n",
              "301          angina                     1.2          flat                1   \n",
              "302       no angina                     0.0          flat                1   \n",
              "\n",
              "    Heart_disease  \n",
              "0        diseased  \n",
              "1        diseased  \n",
              "2        diseased  \n",
              "3        diseased  \n",
              "4        diseased  \n",
              "..            ...  \n",
              "298       healthy  \n",
              "299       healthy  \n",
              "300       healthy  \n",
              "301       healthy  \n",
              "302       healthy  \n",
              "\n",
              "[303 rows x 13 columns]"
            ],
            "text/html": [
              "\n",
              "  <div id=\"df-bb171a32-d773-4e25-83d8-cf2a439fad05\">\n",
              "    <div class=\"colab-df-container\">\n",
              "      <div>\n",
              "<style scoped>\n",
              "    .dataframe tbody tr th:only-of-type {\n",
              "        vertical-align: middle;\n",
              "    }\n",
              "\n",
              "    .dataframe tbody tr th {\n",
              "        vertical-align: top;\n",
              "    }\n",
              "\n",
              "    .dataframe thead th {\n",
              "        text-align: right;\n",
              "    }\n",
              "</style>\n",
              "<table border=\"1\" class=\"dataframe\">\n",
              "  <thead>\n",
              "    <tr style=\"text-align: right;\">\n",
              "      <th></th>\n",
              "      <th>Age</th>\n",
              "      <th>Sex</th>\n",
              "      <th>Chest_pain_type</th>\n",
              "      <th>Resting_blood_pressure</th>\n",
              "      <th>Serum_cholesterol</th>\n",
              "      <th>Fasting_blood_sugar</th>\n",
              "      <th>Rest_ECG</th>\n",
              "      <th>Max_heart_rate</th>\n",
              "      <th>Exercise_angina</th>\n",
              "      <th>Exercise_ST_depression</th>\n",
              "      <th>ST_peak_slope</th>\n",
              "      <th>Vessels_colored</th>\n",
              "      <th>Heart_disease</th>\n",
              "    </tr>\n",
              "  </thead>\n",
              "  <tbody>\n",
              "    <tr>\n",
              "      <th>0</th>\n",
              "      <td>63</td>\n",
              "      <td>male</td>\n",
              "      <td>non-anginal pain</td>\n",
              "      <td>145</td>\n",
              "      <td>233</td>\n",
              "      <td>&gt; 120 mg/dl</td>\n",
              "      <td>normal</td>\n",
              "      <td>150</td>\n",
              "      <td>no angina</td>\n",
              "      <td>2.3</td>\n",
              "      <td>upsloping</td>\n",
              "      <td>0</td>\n",
              "      <td>diseased</td>\n",
              "    </tr>\n",
              "    <tr>\n",
              "      <th>1</th>\n",
              "      <td>37</td>\n",
              "      <td>male</td>\n",
              "      <td>atypical angina</td>\n",
              "      <td>130</td>\n",
              "      <td>250</td>\n",
              "      <td>&lt; 120 mg/dl</td>\n",
              "      <td>ST-T wave abnormality</td>\n",
              "      <td>187</td>\n",
              "      <td>no angina</td>\n",
              "      <td>3.5</td>\n",
              "      <td>upsloping</td>\n",
              "      <td>0</td>\n",
              "      <td>diseased</td>\n",
              "    </tr>\n",
              "    <tr>\n",
              "      <th>2</th>\n",
              "      <td>41</td>\n",
              "      <td>female</td>\n",
              "      <td>typical angina</td>\n",
              "      <td>130</td>\n",
              "      <td>204</td>\n",
              "      <td>&lt; 120 mg/dl</td>\n",
              "      <td>normal</td>\n",
              "      <td>172</td>\n",
              "      <td>no angina</td>\n",
              "      <td>1.4</td>\n",
              "      <td>downsloping</td>\n",
              "      <td>0</td>\n",
              "      <td>diseased</td>\n",
              "    </tr>\n",
              "    <tr>\n",
              "      <th>3</th>\n",
              "      <td>56</td>\n",
              "      <td>male</td>\n",
              "      <td>typical angina</td>\n",
              "      <td>120</td>\n",
              "      <td>236</td>\n",
              "      <td>&lt; 120 mg/dl</td>\n",
              "      <td>ST-T wave abnormality</td>\n",
              "      <td>178</td>\n",
              "      <td>no angina</td>\n",
              "      <td>0.8</td>\n",
              "      <td>downsloping</td>\n",
              "      <td>0</td>\n",
              "      <td>diseased</td>\n",
              "    </tr>\n",
              "    <tr>\n",
              "      <th>4</th>\n",
              "      <td>57</td>\n",
              "      <td>female</td>\n",
              "      <td>asymptomatic</td>\n",
              "      <td>120</td>\n",
              "      <td>354</td>\n",
              "      <td>&lt; 120 mg/dl</td>\n",
              "      <td>ST-T wave abnormality</td>\n",
              "      <td>163</td>\n",
              "      <td>angina</td>\n",
              "      <td>0.6</td>\n",
              "      <td>downsloping</td>\n",
              "      <td>0</td>\n",
              "      <td>diseased</td>\n",
              "    </tr>\n",
              "    <tr>\n",
              "      <th>...</th>\n",
              "      <td>...</td>\n",
              "      <td>...</td>\n",
              "      <td>...</td>\n",
              "      <td>...</td>\n",
              "      <td>...</td>\n",
              "      <td>...</td>\n",
              "      <td>...</td>\n",
              "      <td>...</td>\n",
              "      <td>...</td>\n",
              "      <td>...</td>\n",
              "      <td>...</td>\n",
              "      <td>...</td>\n",
              "      <td>...</td>\n",
              "    </tr>\n",
              "    <tr>\n",
              "      <th>298</th>\n",
              "      <td>57</td>\n",
              "      <td>female</td>\n",
              "      <td>asymptomatic</td>\n",
              "      <td>140</td>\n",
              "      <td>241</td>\n",
              "      <td>&lt; 120 mg/dl</td>\n",
              "      <td>ST-T wave abnormality</td>\n",
              "      <td>123</td>\n",
              "      <td>angina</td>\n",
              "      <td>0.2</td>\n",
              "      <td>flat</td>\n",
              "      <td>0</td>\n",
              "      <td>healthy</td>\n",
              "    </tr>\n",
              "    <tr>\n",
              "      <th>299</th>\n",
              "      <td>45</td>\n",
              "      <td>male</td>\n",
              "      <td>non-anginal pain</td>\n",
              "      <td>110</td>\n",
              "      <td>264</td>\n",
              "      <td>&lt; 120 mg/dl</td>\n",
              "      <td>ST-T wave abnormality</td>\n",
              "      <td>132</td>\n",
              "      <td>no angina</td>\n",
              "      <td>1.2</td>\n",
              "      <td>flat</td>\n",
              "      <td>0</td>\n",
              "      <td>healthy</td>\n",
              "    </tr>\n",
              "    <tr>\n",
              "      <th>300</th>\n",
              "      <td>68</td>\n",
              "      <td>male</td>\n",
              "      <td>asymptomatic</td>\n",
              "      <td>144</td>\n",
              "      <td>193</td>\n",
              "      <td>&gt; 120 mg/dl</td>\n",
              "      <td>ST-T wave abnormality</td>\n",
              "      <td>141</td>\n",
              "      <td>no angina</td>\n",
              "      <td>3.4</td>\n",
              "      <td>flat</td>\n",
              "      <td>2</td>\n",
              "      <td>healthy</td>\n",
              "    </tr>\n",
              "    <tr>\n",
              "      <th>301</th>\n",
              "      <td>57</td>\n",
              "      <td>male</td>\n",
              "      <td>asymptomatic</td>\n",
              "      <td>130</td>\n",
              "      <td>131</td>\n",
              "      <td>&lt; 120 mg/dl</td>\n",
              "      <td>ST-T wave abnormality</td>\n",
              "      <td>115</td>\n",
              "      <td>angina</td>\n",
              "      <td>1.2</td>\n",
              "      <td>flat</td>\n",
              "      <td>1</td>\n",
              "      <td>healthy</td>\n",
              "    </tr>\n",
              "    <tr>\n",
              "      <th>302</th>\n",
              "      <td>57</td>\n",
              "      <td>female</td>\n",
              "      <td>typical angina</td>\n",
              "      <td>130</td>\n",
              "      <td>236</td>\n",
              "      <td>&lt; 120 mg/dl</td>\n",
              "      <td>normal</td>\n",
              "      <td>174</td>\n",
              "      <td>no angina</td>\n",
              "      <td>0.0</td>\n",
              "      <td>flat</td>\n",
              "      <td>1</td>\n",
              "      <td>healthy</td>\n",
              "    </tr>\n",
              "  </tbody>\n",
              "</table>\n",
              "<p>303 rows × 13 columns</p>\n",
              "</div>\n",
              "      <button class=\"colab-df-convert\" onclick=\"convertToInteractive('df-bb171a32-d773-4e25-83d8-cf2a439fad05')\"\n",
              "              title=\"Convert this dataframe to an interactive table.\"\n",
              "              style=\"display:none;\">\n",
              "        \n",
              "  <svg xmlns=\"http://www.w3.org/2000/svg\" height=\"24px\"viewBox=\"0 0 24 24\"\n",
              "       width=\"24px\">\n",
              "    <path d=\"M0 0h24v24H0V0z\" fill=\"none\"/>\n",
              "    <path d=\"M18.56 5.44l.94 2.06.94-2.06 2.06-.94-2.06-.94-.94-2.06-.94 2.06-2.06.94zm-11 1L8.5 8.5l.94-2.06 2.06-.94-2.06-.94L8.5 2.5l-.94 2.06-2.06.94zm10 10l.94 2.06.94-2.06 2.06-.94-2.06-.94-.94-2.06-.94 2.06-2.06.94z\"/><path d=\"M17.41 7.96l-1.37-1.37c-.4-.4-.92-.59-1.43-.59-.52 0-1.04.2-1.43.59L10.3 9.45l-7.72 7.72c-.78.78-.78 2.05 0 2.83L4 21.41c.39.39.9.59 1.41.59.51 0 1.02-.2 1.41-.59l7.78-7.78 2.81-2.81c.8-.78.8-2.07 0-2.86zM5.41 20L4 18.59l7.72-7.72 1.47 1.35L5.41 20z\"/>\n",
              "  </svg>\n",
              "      </button>\n",
              "      \n",
              "  <style>\n",
              "    .colab-df-container {\n",
              "      display:flex;\n",
              "      flex-wrap:wrap;\n",
              "      gap: 12px;\n",
              "    }\n",
              "\n",
              "    .colab-df-convert {\n",
              "      background-color: #E8F0FE;\n",
              "      border: none;\n",
              "      border-radius: 50%;\n",
              "      cursor: pointer;\n",
              "      display: none;\n",
              "      fill: #1967D2;\n",
              "      height: 32px;\n",
              "      padding: 0 0 0 0;\n",
              "      width: 32px;\n",
              "    }\n",
              "\n",
              "    .colab-df-convert:hover {\n",
              "      background-color: #E2EBFA;\n",
              "      box-shadow: 0px 1px 2px rgba(60, 64, 67, 0.3), 0px 1px 3px 1px rgba(60, 64, 67, 0.15);\n",
              "      fill: #174EA6;\n",
              "    }\n",
              "\n",
              "    [theme=dark] .colab-df-convert {\n",
              "      background-color: #3B4455;\n",
              "      fill: #D2E3FC;\n",
              "    }\n",
              "\n",
              "    [theme=dark] .colab-df-convert:hover {\n",
              "      background-color: #434B5C;\n",
              "      box-shadow: 0px 1px 3px 1px rgba(0, 0, 0, 0.15);\n",
              "      filter: drop-shadow(0px 1px 2px rgba(0, 0, 0, 0.3));\n",
              "      fill: #FFFFFF;\n",
              "    }\n",
              "  </style>\n",
              "\n",
              "      <script>\n",
              "        const buttonEl =\n",
              "          document.querySelector('#df-bb171a32-d773-4e25-83d8-cf2a439fad05 button.colab-df-convert');\n",
              "        buttonEl.style.display =\n",
              "          google.colab.kernel.accessAllowed ? 'block' : 'none';\n",
              "\n",
              "        async function convertToInteractive(key) {\n",
              "          const element = document.querySelector('#df-bb171a32-d773-4e25-83d8-cf2a439fad05');\n",
              "          const dataTable =\n",
              "            await google.colab.kernel.invokeFunction('convertToInteractive',\n",
              "                                                     [key], {});\n",
              "          if (!dataTable) return;\n",
              "\n",
              "          const docLinkHtml = 'Like what you see? Visit the ' +\n",
              "            '<a target=\"_blank\" href=https://colab.research.google.com/notebooks/data_table.ipynb>data table notebook</a>'\n",
              "            + ' to learn more about interactive tables.';\n",
              "          element.innerHTML = '';\n",
              "          dataTable['output_type'] = 'display_data';\n",
              "          await google.colab.output.renderOutput(dataTable, element);\n",
              "          const docLink = document.createElement('div');\n",
              "          docLink.innerHTML = docLinkHtml;\n",
              "          element.appendChild(docLink);\n",
              "        }\n",
              "      </script>\n",
              "    </div>\n",
              "  </div>\n",
              "  "
            ]
          },
          "metadata": {},
          "execution_count": 3
        }
      ],
      "source": [
        "pd.read_excel(\"Heart_UCI_modified.xls\", sheet_name=\"heart\", engine=\"xlrd\")\n",
        "# XLRD - для старых файлов .xls"
      ]
    },
    {
      "cell_type": "code",
      "execution_count": null,
      "metadata": {
        "colab": {
          "base_uri": "https://localhost:8080/",
          "height": 609
        },
        "id": "bjTaoglD0DO_",
        "outputId": "cfda8929-4f3b-4de2-8749-c6aadf86736e"
      },
      "outputs": [
        {
          "output_type": "execute_result",
          "data": {
            "text/plain": [
              "     Age     Sex   Chest_pain_type  Resting_blood_pressure  Serum_cholesterol  \\\n",
              "0     63    male  non-anginal pain                     145                233   \n",
              "1     37    male   atypical angina                     130                250   \n",
              "2     41  female    typical angina                     130                204   \n",
              "3     56    male    typical angina                     120                236   \n",
              "4     57  female      asymptomatic                     120                354   \n",
              "..   ...     ...               ...                     ...                ...   \n",
              "298   57  female      asymptomatic                     140                241   \n",
              "299   45    male  non-anginal pain                     110                264   \n",
              "300   68    male      asymptomatic                     144                193   \n",
              "301   57    male      asymptomatic                     130                131   \n",
              "302   57  female    typical angina                     130                236   \n",
              "\n",
              "    Fasting_blood_sugar               Rest_ECG  Max_heart_rate  \\\n",
              "0           > 120 mg/dl                 normal             150   \n",
              "1           < 120 mg/dl  ST-T wave abnormality             187   \n",
              "2           < 120 mg/dl                 normal             172   \n",
              "3           < 120 mg/dl  ST-T wave abnormality             178   \n",
              "4           < 120 mg/dl  ST-T wave abnormality             163   \n",
              "..                  ...                    ...             ...   \n",
              "298         < 120 mg/dl  ST-T wave abnormality             123   \n",
              "299         < 120 mg/dl  ST-T wave abnormality             132   \n",
              "300         > 120 mg/dl  ST-T wave abnormality             141   \n",
              "301         < 120 mg/dl  ST-T wave abnormality             115   \n",
              "302         < 120 mg/dl                 normal             174   \n",
              "\n",
              "    Exercise_angina  Exercise_ST_depression ST_peak_slope  Vessels_colored  \\\n",
              "0         no angina                     2.3     upsloping                0   \n",
              "1         no angina                     3.5     upsloping                0   \n",
              "2         no angina                     1.4   downsloping                0   \n",
              "3         no angina                     0.8   downsloping                0   \n",
              "4            angina                     0.6   downsloping                0   \n",
              "..              ...                     ...           ...              ...   \n",
              "298          angina                     0.2          flat                0   \n",
              "299       no angina                     1.2          flat                0   \n",
              "300       no angina                     3.4          flat                2   \n",
              "301          angina                     1.2          flat                1   \n",
              "302       no angina                     0.0          flat                1   \n",
              "\n",
              "    Heart_disease  \n",
              "0        diseased  \n",
              "1        diseased  \n",
              "2        diseased  \n",
              "3        diseased  \n",
              "4        diseased  \n",
              "..            ...  \n",
              "298       healthy  \n",
              "299       healthy  \n",
              "300       healthy  \n",
              "301       healthy  \n",
              "302       healthy  \n",
              "\n",
              "[303 rows x 13 columns]"
            ],
            "text/html": [
              "\n",
              "  <div id=\"df-1c349c86-7354-4326-ac0e-639be01ee689\">\n",
              "    <div class=\"colab-df-container\">\n",
              "      <div>\n",
              "<style scoped>\n",
              "    .dataframe tbody tr th:only-of-type {\n",
              "        vertical-align: middle;\n",
              "    }\n",
              "\n",
              "    .dataframe tbody tr th {\n",
              "        vertical-align: top;\n",
              "    }\n",
              "\n",
              "    .dataframe thead th {\n",
              "        text-align: right;\n",
              "    }\n",
              "</style>\n",
              "<table border=\"1\" class=\"dataframe\">\n",
              "  <thead>\n",
              "    <tr style=\"text-align: right;\">\n",
              "      <th></th>\n",
              "      <th>Age</th>\n",
              "      <th>Sex</th>\n",
              "      <th>Chest_pain_type</th>\n",
              "      <th>Resting_blood_pressure</th>\n",
              "      <th>Serum_cholesterol</th>\n",
              "      <th>Fasting_blood_sugar</th>\n",
              "      <th>Rest_ECG</th>\n",
              "      <th>Max_heart_rate</th>\n",
              "      <th>Exercise_angina</th>\n",
              "      <th>Exercise_ST_depression</th>\n",
              "      <th>ST_peak_slope</th>\n",
              "      <th>Vessels_colored</th>\n",
              "      <th>Heart_disease</th>\n",
              "    </tr>\n",
              "  </thead>\n",
              "  <tbody>\n",
              "    <tr>\n",
              "      <th>0</th>\n",
              "      <td>63</td>\n",
              "      <td>male</td>\n",
              "      <td>non-anginal pain</td>\n",
              "      <td>145</td>\n",
              "      <td>233</td>\n",
              "      <td>&gt; 120 mg/dl</td>\n",
              "      <td>normal</td>\n",
              "      <td>150</td>\n",
              "      <td>no angina</td>\n",
              "      <td>2.3</td>\n",
              "      <td>upsloping</td>\n",
              "      <td>0</td>\n",
              "      <td>diseased</td>\n",
              "    </tr>\n",
              "    <tr>\n",
              "      <th>1</th>\n",
              "      <td>37</td>\n",
              "      <td>male</td>\n",
              "      <td>atypical angina</td>\n",
              "      <td>130</td>\n",
              "      <td>250</td>\n",
              "      <td>&lt; 120 mg/dl</td>\n",
              "      <td>ST-T wave abnormality</td>\n",
              "      <td>187</td>\n",
              "      <td>no angina</td>\n",
              "      <td>3.5</td>\n",
              "      <td>upsloping</td>\n",
              "      <td>0</td>\n",
              "      <td>diseased</td>\n",
              "    </tr>\n",
              "    <tr>\n",
              "      <th>2</th>\n",
              "      <td>41</td>\n",
              "      <td>female</td>\n",
              "      <td>typical angina</td>\n",
              "      <td>130</td>\n",
              "      <td>204</td>\n",
              "      <td>&lt; 120 mg/dl</td>\n",
              "      <td>normal</td>\n",
              "      <td>172</td>\n",
              "      <td>no angina</td>\n",
              "      <td>1.4</td>\n",
              "      <td>downsloping</td>\n",
              "      <td>0</td>\n",
              "      <td>diseased</td>\n",
              "    </tr>\n",
              "    <tr>\n",
              "      <th>3</th>\n",
              "      <td>56</td>\n",
              "      <td>male</td>\n",
              "      <td>typical angina</td>\n",
              "      <td>120</td>\n",
              "      <td>236</td>\n",
              "      <td>&lt; 120 mg/dl</td>\n",
              "      <td>ST-T wave abnormality</td>\n",
              "      <td>178</td>\n",
              "      <td>no angina</td>\n",
              "      <td>0.8</td>\n",
              "      <td>downsloping</td>\n",
              "      <td>0</td>\n",
              "      <td>diseased</td>\n",
              "    </tr>\n",
              "    <tr>\n",
              "      <th>4</th>\n",
              "      <td>57</td>\n",
              "      <td>female</td>\n",
              "      <td>asymptomatic</td>\n",
              "      <td>120</td>\n",
              "      <td>354</td>\n",
              "      <td>&lt; 120 mg/dl</td>\n",
              "      <td>ST-T wave abnormality</td>\n",
              "      <td>163</td>\n",
              "      <td>angina</td>\n",
              "      <td>0.6</td>\n",
              "      <td>downsloping</td>\n",
              "      <td>0</td>\n",
              "      <td>diseased</td>\n",
              "    </tr>\n",
              "    <tr>\n",
              "      <th>...</th>\n",
              "      <td>...</td>\n",
              "      <td>...</td>\n",
              "      <td>...</td>\n",
              "      <td>...</td>\n",
              "      <td>...</td>\n",
              "      <td>...</td>\n",
              "      <td>...</td>\n",
              "      <td>...</td>\n",
              "      <td>...</td>\n",
              "      <td>...</td>\n",
              "      <td>...</td>\n",
              "      <td>...</td>\n",
              "      <td>...</td>\n",
              "    </tr>\n",
              "    <tr>\n",
              "      <th>298</th>\n",
              "      <td>57</td>\n",
              "      <td>female</td>\n",
              "      <td>asymptomatic</td>\n",
              "      <td>140</td>\n",
              "      <td>241</td>\n",
              "      <td>&lt; 120 mg/dl</td>\n",
              "      <td>ST-T wave abnormality</td>\n",
              "      <td>123</td>\n",
              "      <td>angina</td>\n",
              "      <td>0.2</td>\n",
              "      <td>flat</td>\n",
              "      <td>0</td>\n",
              "      <td>healthy</td>\n",
              "    </tr>\n",
              "    <tr>\n",
              "      <th>299</th>\n",
              "      <td>45</td>\n",
              "      <td>male</td>\n",
              "      <td>non-anginal pain</td>\n",
              "      <td>110</td>\n",
              "      <td>264</td>\n",
              "      <td>&lt; 120 mg/dl</td>\n",
              "      <td>ST-T wave abnormality</td>\n",
              "      <td>132</td>\n",
              "      <td>no angina</td>\n",
              "      <td>1.2</td>\n",
              "      <td>flat</td>\n",
              "      <td>0</td>\n",
              "      <td>healthy</td>\n",
              "    </tr>\n",
              "    <tr>\n",
              "      <th>300</th>\n",
              "      <td>68</td>\n",
              "      <td>male</td>\n",
              "      <td>asymptomatic</td>\n",
              "      <td>144</td>\n",
              "      <td>193</td>\n",
              "      <td>&gt; 120 mg/dl</td>\n",
              "      <td>ST-T wave abnormality</td>\n",
              "      <td>141</td>\n",
              "      <td>no angina</td>\n",
              "      <td>3.4</td>\n",
              "      <td>flat</td>\n",
              "      <td>2</td>\n",
              "      <td>healthy</td>\n",
              "    </tr>\n",
              "    <tr>\n",
              "      <th>301</th>\n",
              "      <td>57</td>\n",
              "      <td>male</td>\n",
              "      <td>asymptomatic</td>\n",
              "      <td>130</td>\n",
              "      <td>131</td>\n",
              "      <td>&lt; 120 mg/dl</td>\n",
              "      <td>ST-T wave abnormality</td>\n",
              "      <td>115</td>\n",
              "      <td>angina</td>\n",
              "      <td>1.2</td>\n",
              "      <td>flat</td>\n",
              "      <td>1</td>\n",
              "      <td>healthy</td>\n",
              "    </tr>\n",
              "    <tr>\n",
              "      <th>302</th>\n",
              "      <td>57</td>\n",
              "      <td>female</td>\n",
              "      <td>typical angina</td>\n",
              "      <td>130</td>\n",
              "      <td>236</td>\n",
              "      <td>&lt; 120 mg/dl</td>\n",
              "      <td>normal</td>\n",
              "      <td>174</td>\n",
              "      <td>no angina</td>\n",
              "      <td>0.0</td>\n",
              "      <td>flat</td>\n",
              "      <td>1</td>\n",
              "      <td>healthy</td>\n",
              "    </tr>\n",
              "  </tbody>\n",
              "</table>\n",
              "<p>303 rows × 13 columns</p>\n",
              "</div>\n",
              "      <button class=\"colab-df-convert\" onclick=\"convertToInteractive('df-1c349c86-7354-4326-ac0e-639be01ee689')\"\n",
              "              title=\"Convert this dataframe to an interactive table.\"\n",
              "              style=\"display:none;\">\n",
              "        \n",
              "  <svg xmlns=\"http://www.w3.org/2000/svg\" height=\"24px\"viewBox=\"0 0 24 24\"\n",
              "       width=\"24px\">\n",
              "    <path d=\"M0 0h24v24H0V0z\" fill=\"none\"/>\n",
              "    <path d=\"M18.56 5.44l.94 2.06.94-2.06 2.06-.94-2.06-.94-.94-2.06-.94 2.06-2.06.94zm-11 1L8.5 8.5l.94-2.06 2.06-.94-2.06-.94L8.5 2.5l-.94 2.06-2.06.94zm10 10l.94 2.06.94-2.06 2.06-.94-2.06-.94-.94-2.06-.94 2.06-2.06.94z\"/><path d=\"M17.41 7.96l-1.37-1.37c-.4-.4-.92-.59-1.43-.59-.52 0-1.04.2-1.43.59L10.3 9.45l-7.72 7.72c-.78.78-.78 2.05 0 2.83L4 21.41c.39.39.9.59 1.41.59.51 0 1.02-.2 1.41-.59l7.78-7.78 2.81-2.81c.8-.78.8-2.07 0-2.86zM5.41 20L4 18.59l7.72-7.72 1.47 1.35L5.41 20z\"/>\n",
              "  </svg>\n",
              "      </button>\n",
              "      \n",
              "  <style>\n",
              "    .colab-df-container {\n",
              "      display:flex;\n",
              "      flex-wrap:wrap;\n",
              "      gap: 12px;\n",
              "    }\n",
              "\n",
              "    .colab-df-convert {\n",
              "      background-color: #E8F0FE;\n",
              "      border: none;\n",
              "      border-radius: 50%;\n",
              "      cursor: pointer;\n",
              "      display: none;\n",
              "      fill: #1967D2;\n",
              "      height: 32px;\n",
              "      padding: 0 0 0 0;\n",
              "      width: 32px;\n",
              "    }\n",
              "\n",
              "    .colab-df-convert:hover {\n",
              "      background-color: #E2EBFA;\n",
              "      box-shadow: 0px 1px 2px rgba(60, 64, 67, 0.3), 0px 1px 3px 1px rgba(60, 64, 67, 0.15);\n",
              "      fill: #174EA6;\n",
              "    }\n",
              "\n",
              "    [theme=dark] .colab-df-convert {\n",
              "      background-color: #3B4455;\n",
              "      fill: #D2E3FC;\n",
              "    }\n",
              "\n",
              "    [theme=dark] .colab-df-convert:hover {\n",
              "      background-color: #434B5C;\n",
              "      box-shadow: 0px 1px 3px 1px rgba(0, 0, 0, 0.15);\n",
              "      filter: drop-shadow(0px 1px 2px rgba(0, 0, 0, 0.3));\n",
              "      fill: #FFFFFF;\n",
              "    }\n",
              "  </style>\n",
              "\n",
              "      <script>\n",
              "        const buttonEl =\n",
              "          document.querySelector('#df-1c349c86-7354-4326-ac0e-639be01ee689 button.colab-df-convert');\n",
              "        buttonEl.style.display =\n",
              "          google.colab.kernel.accessAllowed ? 'block' : 'none';\n",
              "\n",
              "        async function convertToInteractive(key) {\n",
              "          const element = document.querySelector('#df-1c349c86-7354-4326-ac0e-639be01ee689');\n",
              "          const dataTable =\n",
              "            await google.colab.kernel.invokeFunction('convertToInteractive',\n",
              "                                                     [key], {});\n",
              "          if (!dataTable) return;\n",
              "\n",
              "          const docLinkHtml = 'Like what you see? Visit the ' +\n",
              "            '<a target=\"_blank\" href=https://colab.research.google.com/notebooks/data_table.ipynb>data table notebook</a>'\n",
              "            + ' to learn more about interactive tables.';\n",
              "          element.innerHTML = '';\n",
              "          dataTable['output_type'] = 'display_data';\n",
              "          await google.colab.output.renderOutput(dataTable, element);\n",
              "          const docLink = document.createElement('div');\n",
              "          docLink.innerHTML = docLinkHtml;\n",
              "          element.appendChild(docLink);\n",
              "        }\n",
              "      </script>\n",
              "    </div>\n",
              "  </div>\n",
              "  "
            ]
          },
          "metadata": {},
          "execution_count": 4
        }
      ],
      "source": [
        "pd.read_excel(\"./Heart_UCI_modified.xlsx\", sheet_name=\"heart\", engine=\"openpyxl\")\n",
        "# OpenPyXl - для новых файлов .xlsx"
      ]
    },
    {
      "cell_type": "markdown",
      "metadata": {
        "id": "Q8bIMWQU0DO_"
      },
      "source": [
        "Jupyter и Colab умеют очень красиво отображать датафреймы. Такой вид отображения похож на электронные таблицы:"
      ]
    },
    {
      "cell_type": "markdown",
      "metadata": {
        "id": "v-1q7rhb0DO_"
      },
      "source": [
        "![heart_uci_excel.png](https://data.bioml.ru/htdocs/courses/python/datasci/pandas/img/heart_uci_excel.png)"
      ]
    },
    {
      "cell_type": "markdown",
      "metadata": {
        "id": "7MGUCPgB0DO_"
      },
      "source": [
        "### `pandas.Series`"
      ]
    },
    {
      "cell_type": "markdown",
      "metadata": {
        "id": "BxDQCNAQ0DO_"
      },
      "source": [
        "Запросим отдельную колонку из полученного `pd.DataFrame`. Делается это таким же образом, как в словаре!"
      ]
    },
    {
      "cell_type": "code",
      "execution_count": null,
      "metadata": {
        "colab": {
          "base_uri": "https://localhost:8080/"
        },
        "id": "M8o29zh90DO_",
        "outputId": "041e4f66-59fd-42f5-8305-9fce10681c28"
      },
      "outputs": [
        {
          "data": {
            "text/plain": [
              "0      63\n",
              "1      37\n",
              "2      41\n",
              "3      56\n",
              "4      57\n",
              "       ..\n",
              "298    57\n",
              "299    45\n",
              "300    68\n",
              "301    57\n",
              "302    57\n",
              "Name: Age, Length: 303, dtype: int64"
            ]
          },
          "execution_count": 30,
          "metadata": {},
          "output_type": "execute_result"
        }
      ],
      "source": [
        "heart_uci[\"Age\"]"
      ]
    },
    {
      "cell_type": "code",
      "execution_count": null,
      "metadata": {
        "colab": {
          "base_uri": "https://localhost:8080/"
        },
        "id": "wiouajGHSlJF",
        "outputId": "dbb36370-f157-4c3a-f308-d9e0ccb4e7ef"
      },
      "outputs": [
        {
          "data": {
            "text/plain": [
              "pandas.core.series.Series"
            ]
          },
          "execution_count": 31,
          "metadata": {},
          "output_type": "execute_result"
        }
      ],
      "source": [
        "type(heart_uci[\"Age\"])"
      ]
    },
    {
      "cell_type": "markdown",
      "metadata": {
        "id": "dzSYC6hX0DO_"
      },
      "source": [
        "Отдельная колонка `pd.DataFrame` имеет класс `pd.Series`. Он ведет себя как список, словарь и NumPy-массив одновременно. Например:"
      ]
    },
    {
      "cell_type": "code",
      "execution_count": null,
      "metadata": {
        "id": "e4GEi2oY0DPA",
        "outputId": "8071e8b8-897d-48a7-9f9b-62bf67e9ace8"
      },
      "outputs": [
        {
          "data": {
            "text/plain": [
              "0     1\n",
              "1     2\n",
              "2     3\n",
              "3     8\n",
              "4    10\n",
              "5    12\n",
              "dtype: int64"
            ]
          },
          "execution_count": 32,
          "metadata": {},
          "output_type": "execute_result"
        }
      ],
      "source": [
        "my_series = pd.Series([1, 2, 3, 8, 10, 12])\n",
        "my_series"
      ]
    },
    {
      "cell_type": "code",
      "execution_count": null,
      "metadata": {
        "id": "Jg5UGWyE0DPA",
        "outputId": "dc51bc47-2992-48f7-b07e-8ab5ca12cfa2"
      },
      "outputs": [
        {
          "data": {
            "text/plain": [
              "3"
            ]
          },
          "execution_count": 33,
          "metadata": {},
          "output_type": "execute_result"
        }
      ],
      "source": [
        "my_series[2]"
      ]
    },
    {
      "cell_type": "code",
      "execution_count": null,
      "metadata": {
        "id": "wpxeIdVb0DPA",
        "outputId": "1762ac7f-b245-49a1-8714-275d1245fdfa"
      },
      "outputs": [
        {
          "data": {
            "text/plain": [
              "a      1\n",
              "b      2\n",
              "g      3\n",
              "c      8\n",
              "x     10\n",
              "lk    12\n",
              "dtype: int64"
            ]
          },
          "execution_count": 34,
          "metadata": {},
          "output_type": "execute_result"
        }
      ],
      "source": [
        "my_series2 = pd.Series({\"a\": 1, \"b\": 2, \"g\": 3, \"c\": 8, \"x\": 10, \"lk\": 12})\n",
        "my_series2"
      ]
    },
    {
      "cell_type": "code",
      "execution_count": null,
      "metadata": {
        "id": "a3mvoJaS0DPA",
        "outputId": "5b46a60a-533b-4c0b-81e6-868fef52f839"
      },
      "outputs": [
        {
          "data": {
            "text/plain": [
              "1"
            ]
          },
          "execution_count": 35,
          "metadata": {},
          "output_type": "execute_result"
        }
      ],
      "source": [
        "my_series2[\"a\"]"
      ]
    },
    {
      "cell_type": "code",
      "execution_count": null,
      "metadata": {
        "id": "LNpK-yJ-0DPA",
        "outputId": "d2001ae3-a6c7-425b-c8b3-1aa9214e88f7"
      },
      "outputs": [
        {
          "data": {
            "text/plain": [
              "1"
            ]
          },
          "execution_count": 36,
          "metadata": {},
          "output_type": "execute_result"
        }
      ],
      "source": [
        "my_series2[0]"
      ]
    },
    {
      "cell_type": "code",
      "execution_count": null,
      "metadata": {
        "id": "zIsryQsATP0O"
      },
      "outputs": [],
      "source": [
        "myser = pd.Series({0:4, 5:5, 9:6, 2:1, 17:2, 1:4})"
      ]
    },
    {
      "cell_type": "code",
      "execution_count": null,
      "metadata": {
        "id": "ON5srqYBTXNW",
        "outputId": "e166817a-f779-4a36-9bed-7deccaf11a78"
      },
      "outputs": [
        {
          "data": {
            "text/plain": [
              "0     4\n",
              "5     5\n",
              "9     6\n",
              "2     1\n",
              "17    2\n",
              "1     4\n",
              "dtype: int64"
            ]
          },
          "execution_count": 38,
          "metadata": {},
          "output_type": "execute_result"
        }
      ],
      "source": [
        "myser"
      ]
    },
    {
      "cell_type": "code",
      "execution_count": null,
      "metadata": {
        "id": "ktVJpTjnTY2_",
        "outputId": "86c8a2fe-cc63-417c-e5cd-94fed9bc5706"
      },
      "outputs": [
        {
          "data": {
            "text/plain": [
              "4"
            ]
          },
          "execution_count": 39,
          "metadata": {},
          "output_type": "execute_result"
        }
      ],
      "source": [
        "myser[0]"
      ]
    },
    {
      "cell_type": "code",
      "execution_count": null,
      "metadata": {
        "id": "lYHRY3JhTckQ",
        "outputId": "e0a90a90-b1f8-42a3-979c-0c19322f1614"
      },
      "outputs": [
        {
          "data": {
            "text/plain": [
              "(4, 1)"
            ]
          },
          "execution_count": 40,
          "metadata": {},
          "output_type": "execute_result"
        }
      ],
      "source": [
        "myser[1], myser[2]"
      ]
    },
    {
      "cell_type": "code",
      "execution_count": null,
      "metadata": {
        "id": "7jh99CZpThUa",
        "outputId": "2d44be0e-3b7f-4f7c-a6b8-c627c9a98ef3"
      },
      "outputs": [
        {
          "ename": "KeyError",
          "evalue": "3",
          "output_type": "error",
          "traceback": [
            "\u001b[1;31m---------------------------------------------------------------------------\u001b[0m",
            "\u001b[1;31mKeyError\u001b[0m                                  Traceback (most recent call last)",
            "\u001b[1;32m~\\Anaconda3\\lib\\site-packages\\pandas\\core\\indexes\\base.py\u001b[0m in \u001b[0;36mget_loc\u001b[1;34m(self, key, method, tolerance)\u001b[0m\n\u001b[0;32m   2897\u001b[0m             \u001b[1;32mtry\u001b[0m\u001b[1;33m:\u001b[0m\u001b[1;33m\u001b[0m\u001b[1;33m\u001b[0m\u001b[0m\n\u001b[1;32m-> 2898\u001b[1;33m                 \u001b[1;32mreturn\u001b[0m \u001b[0mself\u001b[0m\u001b[1;33m.\u001b[0m\u001b[0m_engine\u001b[0m\u001b[1;33m.\u001b[0m\u001b[0mget_loc\u001b[0m\u001b[1;33m(\u001b[0m\u001b[0mcasted_key\u001b[0m\u001b[1;33m)\u001b[0m\u001b[1;33m\u001b[0m\u001b[1;33m\u001b[0m\u001b[0m\n\u001b[0m\u001b[0;32m   2899\u001b[0m             \u001b[1;32mexcept\u001b[0m \u001b[0mKeyError\u001b[0m \u001b[1;32mas\u001b[0m \u001b[0merr\u001b[0m\u001b[1;33m:\u001b[0m\u001b[1;33m\u001b[0m\u001b[1;33m\u001b[0m\u001b[0m\n",
            "\u001b[1;32mpandas\\_libs\\index.pyx\u001b[0m in \u001b[0;36mpandas._libs.index.IndexEngine.get_loc\u001b[1;34m()\u001b[0m\n",
            "\u001b[1;32mpandas\\_libs\\index.pyx\u001b[0m in \u001b[0;36mpandas._libs.index.IndexEngine.get_loc\u001b[1;34m()\u001b[0m\n",
            "\u001b[1;32mpandas\\_libs\\hashtable_class_helper.pxi\u001b[0m in \u001b[0;36mpandas._libs.hashtable.Int64HashTable.get_item\u001b[1;34m()\u001b[0m\n",
            "\u001b[1;32mpandas\\_libs\\hashtable_class_helper.pxi\u001b[0m in \u001b[0;36mpandas._libs.hashtable.Int64HashTable.get_item\u001b[1;34m()\u001b[0m\n",
            "\u001b[1;31mKeyError\u001b[0m: 3",
            "\nThe above exception was the direct cause of the following exception:\n",
            "\u001b[1;31mKeyError\u001b[0m                                  Traceback (most recent call last)",
            "\u001b[1;32m<ipython-input-41-e64ec1f6b383>\u001b[0m in \u001b[0;36m<module>\u001b[1;34m\u001b[0m\n\u001b[1;32m----> 1\u001b[1;33m \u001b[0mmyser\u001b[0m\u001b[1;33m[\u001b[0m\u001b[1;36m3\u001b[0m\u001b[1;33m]\u001b[0m\u001b[1;33m\u001b[0m\u001b[1;33m\u001b[0m\u001b[0m\n\u001b[0m",
            "\u001b[1;32m~\\Anaconda3\\lib\\site-packages\\pandas\\core\\series.py\u001b[0m in \u001b[0;36m__getitem__\u001b[1;34m(self, key)\u001b[0m\n\u001b[0;32m    880\u001b[0m \u001b[1;33m\u001b[0m\u001b[0m\n\u001b[0;32m    881\u001b[0m         \u001b[1;32melif\u001b[0m \u001b[0mkey_is_scalar\u001b[0m\u001b[1;33m:\u001b[0m\u001b[1;33m\u001b[0m\u001b[1;33m\u001b[0m\u001b[0m\n\u001b[1;32m--> 882\u001b[1;33m             \u001b[1;32mreturn\u001b[0m \u001b[0mself\u001b[0m\u001b[1;33m.\u001b[0m\u001b[0m_get_value\u001b[0m\u001b[1;33m(\u001b[0m\u001b[0mkey\u001b[0m\u001b[1;33m)\u001b[0m\u001b[1;33m\u001b[0m\u001b[1;33m\u001b[0m\u001b[0m\n\u001b[0m\u001b[0;32m    883\u001b[0m \u001b[1;33m\u001b[0m\u001b[0m\n\u001b[0;32m    884\u001b[0m         \u001b[1;32mif\u001b[0m \u001b[0mis_hashable\u001b[0m\u001b[1;33m(\u001b[0m\u001b[0mkey\u001b[0m\u001b[1;33m)\u001b[0m\u001b[1;33m:\u001b[0m\u001b[1;33m\u001b[0m\u001b[1;33m\u001b[0m\u001b[0m\n",
            "\u001b[1;32m~\\Anaconda3\\lib\\site-packages\\pandas\\core\\series.py\u001b[0m in \u001b[0;36m_get_value\u001b[1;34m(self, label, takeable)\u001b[0m\n\u001b[0;32m    988\u001b[0m \u001b[1;33m\u001b[0m\u001b[0m\n\u001b[0;32m    989\u001b[0m         \u001b[1;31m# Similar to Index.get_value, but we do not fall back to positional\u001b[0m\u001b[1;33m\u001b[0m\u001b[1;33m\u001b[0m\u001b[1;33m\u001b[0m\u001b[0m\n\u001b[1;32m--> 990\u001b[1;33m         \u001b[0mloc\u001b[0m \u001b[1;33m=\u001b[0m \u001b[0mself\u001b[0m\u001b[1;33m.\u001b[0m\u001b[0mindex\u001b[0m\u001b[1;33m.\u001b[0m\u001b[0mget_loc\u001b[0m\u001b[1;33m(\u001b[0m\u001b[0mlabel\u001b[0m\u001b[1;33m)\u001b[0m\u001b[1;33m\u001b[0m\u001b[1;33m\u001b[0m\u001b[0m\n\u001b[0m\u001b[0;32m    991\u001b[0m         \u001b[1;32mreturn\u001b[0m \u001b[0mself\u001b[0m\u001b[1;33m.\u001b[0m\u001b[0mindex\u001b[0m\u001b[1;33m.\u001b[0m\u001b[0m_get_values_for_loc\u001b[0m\u001b[1;33m(\u001b[0m\u001b[0mself\u001b[0m\u001b[1;33m,\u001b[0m \u001b[0mloc\u001b[0m\u001b[1;33m,\u001b[0m \u001b[0mlabel\u001b[0m\u001b[1;33m)\u001b[0m\u001b[1;33m\u001b[0m\u001b[1;33m\u001b[0m\u001b[0m\n\u001b[0;32m    992\u001b[0m \u001b[1;33m\u001b[0m\u001b[0m\n",
            "\u001b[1;32m~\\Anaconda3\\lib\\site-packages\\pandas\\core\\indexes\\base.py\u001b[0m in \u001b[0;36mget_loc\u001b[1;34m(self, key, method, tolerance)\u001b[0m\n\u001b[0;32m   2898\u001b[0m                 \u001b[1;32mreturn\u001b[0m \u001b[0mself\u001b[0m\u001b[1;33m.\u001b[0m\u001b[0m_engine\u001b[0m\u001b[1;33m.\u001b[0m\u001b[0mget_loc\u001b[0m\u001b[1;33m(\u001b[0m\u001b[0mcasted_key\u001b[0m\u001b[1;33m)\u001b[0m\u001b[1;33m\u001b[0m\u001b[1;33m\u001b[0m\u001b[0m\n\u001b[0;32m   2899\u001b[0m             \u001b[1;32mexcept\u001b[0m \u001b[0mKeyError\u001b[0m \u001b[1;32mas\u001b[0m \u001b[0merr\u001b[0m\u001b[1;33m:\u001b[0m\u001b[1;33m\u001b[0m\u001b[1;33m\u001b[0m\u001b[0m\n\u001b[1;32m-> 2900\u001b[1;33m                 \u001b[1;32mraise\u001b[0m \u001b[0mKeyError\u001b[0m\u001b[1;33m(\u001b[0m\u001b[0mkey\u001b[0m\u001b[1;33m)\u001b[0m \u001b[1;32mfrom\u001b[0m \u001b[0merr\u001b[0m\u001b[1;33m\u001b[0m\u001b[1;33m\u001b[0m\u001b[0m\n\u001b[0m\u001b[0;32m   2901\u001b[0m \u001b[1;33m\u001b[0m\u001b[0m\n\u001b[0;32m   2902\u001b[0m         \u001b[1;32mif\u001b[0m \u001b[0mtolerance\u001b[0m \u001b[1;32mis\u001b[0m \u001b[1;32mnot\u001b[0m \u001b[1;32mNone\u001b[0m\u001b[1;33m:\u001b[0m\u001b[1;33m\u001b[0m\u001b[1;33m\u001b[0m\u001b[0m\n",
            "\u001b[1;31mKeyError\u001b[0m: 3"
          ]
        }
      ],
      "source": [
        "myser[3]"
      ]
    },
    {
      "cell_type": "code",
      "execution_count": null,
      "metadata": {
        "id": "xJVZbq4l0DPA"
      },
      "outputs": [],
      "source": [
        "my_series1 = pd.Series([4, 5, 6, 1, 2, 4])  # len = 6\n",
        "my_series2 = pd.Series([100, 12, 22, 46, 13])  # len = 5"
      ]
    },
    {
      "cell_type": "code",
      "execution_count": null,
      "metadata": {
        "id": "Xd4dxSk-TLA-",
        "outputId": "9d23dd83-bf8e-4d23-d862-dff34fa0b5ce"
      },
      "outputs": [
        {
          "data": {
            "text/plain": [
              "(6, 5)"
            ]
          },
          "execution_count": 43,
          "metadata": {},
          "output_type": "execute_result"
        }
      ],
      "source": [
        "len(my_series1), len(my_series2)"
      ]
    },
    {
      "cell_type": "code",
      "execution_count": null,
      "metadata": {
        "id": "aDWjIbHH0DPB",
        "outputId": "0d202ddb-26a0-4264-aaec-7c4c82d0efa5"
      },
      "outputs": [
        {
          "data": {
            "text/plain": [
              "0    104.0\n",
              "1     17.0\n",
              "2     28.0\n",
              "3     47.0\n",
              "4     15.0\n",
              "5      NaN\n",
              "dtype: float64"
            ]
          },
          "execution_count": 44,
          "metadata": {},
          "output_type": "execute_result"
        }
      ],
      "source": [
        "my_sum = my_series1 + my_series2\n",
        "my_sum"
      ]
    },
    {
      "cell_type": "markdown",
      "metadata": {
        "id": "xWk4xaOo0DPB"
      },
      "source": [
        "`NaN` - способ отметки пропущенных данных"
      ]
    },
    {
      "cell_type": "code",
      "execution_count": null,
      "metadata": {
        "id": "hihSYJSV0DPB",
        "outputId": "42c50f42-2bb1-42e9-bbb4-cdac8903c6c9"
      },
      "outputs": [
        {
          "data": {
            "text/plain": [
              "0     2.0\n",
              "1     5.0\n",
              "2     NaN\n",
              "3    10.0\n",
              "4    12.0\n",
              "dtype: float64"
            ]
          },
          "execution_count": 45,
          "metadata": {},
          "output_type": "execute_result"
        }
      ],
      "source": [
        "my_series3 = pd.Series([2, 5, np.nan, 10, 12])\n",
        "my_series3"
      ]
    },
    {
      "cell_type": "markdown",
      "metadata": {
        "id": "7bEBEc_N0DPB"
      },
      "source": [
        "#### Операции с колонками в Pandas"
      ]
    },
    {
      "cell_type": "markdown",
      "metadata": {
        "id": "IRz5PaPO0DPB"
      },
      "source": [
        "Для `pd.Series` можно производить разные агрегирующие операции. Сделаем это для какой-нибудь из колонок в датасете:"
      ]
    },
    {
      "cell_type": "code",
      "execution_count": null,
      "metadata": {
        "id": "d8HFk9Ni0DPB",
        "outputId": "40cb714c-2810-46f1-b138-ea5a4204f5d1",
        "colab": {
          "base_uri": "https://localhost:8080/"
        }
      },
      "outputs": [
        {
          "output_type": "execute_result",
          "data": {
            "text/plain": [
              "54.366336633663366"
            ]
          },
          "metadata": {},
          "execution_count": 50
        }
      ],
      "source": [
        "age = heart_uci[\"Age\"]\n",
        "age.mean()"
      ]
    },
    {
      "cell_type": "code",
      "execution_count": null,
      "metadata": {
        "id": "3qA5qir50DPB",
        "outputId": "e5afd19c-7981-41db-8ae4-198c6a40e80e"
      },
      "outputs": [
        {
          "data": {
            "text/plain": [
              "55.0"
            ]
          },
          "execution_count": 47,
          "metadata": {},
          "output_type": "execute_result"
        }
      ],
      "source": [
        "age.median()"
      ]
    },
    {
      "cell_type": "code",
      "execution_count": null,
      "metadata": {
        "id": "M1dnajZJ0DPC",
        "outputId": "323e518a-24ce-40dc-c900-01a15267934d"
      },
      "outputs": [
        {
          "data": {
            "text/plain": [
              "(29, 77)"
            ]
          },
          "execution_count": 48,
          "metadata": {},
          "output_type": "execute_result"
        }
      ],
      "source": [
        "age.min(), age.max()"
      ]
    },
    {
      "cell_type": "code",
      "execution_count": null,
      "metadata": {
        "id": "bCiUjADlUgZb",
        "outputId": "81cd9ad7-99fa-452d-e521-b409f60c9b6c",
        "colab": {
          "base_uri": "https://localhost:8080/"
        }
      },
      "outputs": [
        {
          "output_type": "execute_result",
          "data": {
            "text/plain": [
              "9.067101638577872"
            ]
          },
          "metadata": {},
          "execution_count": 54
        }
      ],
      "source": [
        "np.std(age.values)"
      ]
    },
    {
      "cell_type": "code",
      "execution_count": null,
      "metadata": {
        "id": "VFfWFs4V0DPC",
        "outputId": "2b509df1-1708-4fd6-e3c7-0c761a7ba792",
        "colab": {
          "base_uri": "https://localhost:8080/"
        }
      },
      "outputs": [
        {
          "output_type": "execute_result",
          "data": {
            "text/plain": [
              "9.082100989837857"
            ]
          },
          "metadata": {},
          "execution_count": 56
        }
      ],
      "source": [
        "age.std()"
      ]
    },
    {
      "cell_type": "markdown",
      "metadata": {
        "id": "xXU8QVoT0DPC"
      },
      "source": [
        "Можно сразу посчитать несколько статистик с помощью метода `.describe`."
      ]
    },
    {
      "cell_type": "code",
      "execution_count": null,
      "metadata": {
        "id": "wkOcd3pn0DPC",
        "outputId": "a0c74b02-9620-486a-ead8-40ba1fe9081d"
      },
      "outputs": [
        {
          "data": {
            "text/plain": [
              "count    303.000000\n",
              "mean      54.366337\n",
              "std        9.082101\n",
              "min       29.000000\n",
              "25%       47.500000\n",
              "50%       55.000000\n",
              "75%       61.000000\n",
              "max       77.000000\n",
              "Name: Age, dtype: float64"
            ]
          },
          "execution_count": 51,
          "metadata": {},
          "output_type": "execute_result"
        }
      ],
      "source": [
        "age.describe()"
      ]
    },
    {
      "cell_type": "markdown",
      "metadata": {
        "id": "QYuKQFDF0DPC"
      },
      "source": [
        "Посчитать частоты каждого элемента можно с помощью метода `.value_counts`"
      ]
    },
    {
      "cell_type": "code",
      "execution_count": null,
      "metadata": {
        "id": "XySx14GD0DPC",
        "outputId": "e1bd98a5-7991-4eb6-d365-fdc25a4df6e5"
      },
      "outputs": [
        {
          "data": {
            "text/plain": [
              "0      non-anginal pain\n",
              "1       atypical angina\n",
              "2        typical angina\n",
              "3        typical angina\n",
              "4          asymptomatic\n",
              "             ...       \n",
              "298        asymptomatic\n",
              "299    non-anginal pain\n",
              "300        asymptomatic\n",
              "301        asymptomatic\n",
              "302      typical angina\n",
              "Name: Chest_pain_type, Length: 303, dtype: object"
            ]
          },
          "execution_count": 52,
          "metadata": {},
          "output_type": "execute_result"
        }
      ],
      "source": [
        "pain = heart_uci[\"Chest_pain_type\"]\n",
        "pain"
      ]
    },
    {
      "cell_type": "code",
      "execution_count": null,
      "metadata": {
        "id": "nRSIUWt-0DPC",
        "outputId": "113750a2-9d49-4db5-90d3-8cdde62a190f"
      },
      "outputs": [
        {
          "data": {
            "text/plain": [
              "asymptomatic        143\n",
              "atypical angina      87\n",
              "typical angina       50\n",
              "non-anginal pain     23\n",
              "Name: Chest_pain_type, dtype: int64"
            ]
          },
          "execution_count": 53,
          "metadata": {},
          "output_type": "execute_result"
        }
      ],
      "source": [
        "pain.value_counts()"
      ]
    },
    {
      "cell_type": "markdown",
      "metadata": {
        "id": "Rn2Un_Qi0DPD"
      },
      "source": [
        "Pandas умеет **быстро строить графики для `Series`** с числовыми данными:"
      ]
    },
    {
      "cell_type": "code",
      "execution_count": null,
      "metadata": {
        "id": "fWybkjPy0DPD",
        "outputId": "b4c294ce-abeb-4fa0-eb6e-4d31728d2edc",
        "colab": {
          "base_uri": "https://localhost:8080/",
          "height": 283
        }
      },
      "outputs": [
        {
          "output_type": "execute_result",
          "data": {
            "text/plain": [
              "<matplotlib.axes._subplots.AxesSubplot at 0x7fac1816ca10>"
            ]
          },
          "metadata": {},
          "execution_count": 49
        },
        {
          "output_type": "display_data",
          "data": {
            "text/plain": [
              "<Figure size 432x288 with 1 Axes>"
            ],
            "image/png": "[encoded data removed]"
          },
          "metadata": {}
        }
      ],
      "source": [
        "age.plot.hist()"
      ]
    },
    {
      "cell_type": "code",
      "execution_count": null,
      "metadata": {
        "id": "n9ugzROf0DPD",
        "outputId": "51f1a69e-7618-4fca-fc29-7fc257c40684"
      },
      "outputs": [
        {
          "data": {
            "text/plain": [
              "<AxesSubplot:>"
            ]
          },
          "execution_count": 55,
          "metadata": {},
          "output_type": "execute_result"
        },
        {
          "data": {
            "image/png": "[encoded data removed]",
            "text/plain": [
              "<Figure size 432x288 with 1 Axes>"
            ]
          },
          "metadata": {
            "needs_background": "light"
          },
          "output_type": "display_data"
        }
      ],
      "source": [
        "pain.value_counts().plot.barh()"
      ]
    },
    {
      "cell_type": "code",
      "execution_count": null,
      "metadata": {
        "id": "lvAx9dUTVR5C",
        "outputId": "149cca11-5d62-4d64-f82c-e1c3f56a4ab6"
      },
      "outputs": [
        {
          "data": {
            "text/plain": [
              "<AxesSubplot:>"
            ]
          },
          "execution_count": 56,
          "metadata": {},
          "output_type": "execute_result"
        },
        {
          "data": {
            "image/png": "[encoded data removed]",
            "text/plain": [
              "<Figure size 432x288 with 1 Axes>"
            ]
          },
          "metadata": {
            "needs_background": "light"
          },
          "output_type": "display_data"
        }
      ],
      "source": [
        "pain.value_counts().plot.bar()"
      ]
    },
    {
      "cell_type": "markdown",
      "metadata": {
        "id": "lB0xnc9A0DPD"
      },
      "source": [
        "#### Создание новых колонок в `pd.DataFrame`"
      ]
    },
    {
      "cell_type": "markdown",
      "metadata": {
        "id": "kY0Rvwo00DPD"
      },
      "source": [
        "Допустим, нам нужно посчитать отношение давления в крови к уровню холестерина."
      ]
    },
    {
      "cell_type": "code",
      "execution_count": null,
      "metadata": {
        "id": "g8Drd5M10DPD"
      },
      "outputs": [],
      "source": [
        "pres = heart_uci[\"Resting_blood_pressure\"]\n",
        "chol = heart_uci[\"Serum_cholesterol\"]\n",
        "rel = pres / chol\n",
        "heart_uci[\"Pressure_to_cholesterol\"] = rel"
      ]
    },
    {
      "cell_type": "code",
      "execution_count": null,
      "metadata": {
        "colab": {
          "base_uri": "https://localhost:8080/",
          "height": 278
        },
        "id": "NnxHdJ0xnKOC",
        "outputId": "59e4eb70-205a-4e62-f67f-612325ab3664"
      },
      "outputs": [
        {
          "data": {
            "text/html": [
              "<div>\n",
              "<style scoped>\n",
              "    .dataframe tbody tr th:only-of-type {\n",
              "        vertical-align: middle;\n",
              "    }\n",
              "\n",
              "    .dataframe tbody tr th {\n",
              "        vertical-align: top;\n",
              "    }\n",
              "\n",
              "    .dataframe thead th {\n",
              "        text-align: right;\n",
              "    }\n",
              "</style>\n",
              "<table border=\"1\" class=\"dataframe\">\n",
              "  <thead>\n",
              "    <tr style=\"text-align: right;\">\n",
              "      <th></th>\n",
              "      <th>Age</th>\n",
              "      <th>Sex</th>\n",
              "      <th>Chest_pain_type</th>\n",
              "      <th>Resting_blood_pressure</th>\n",
              "      <th>Serum_cholesterol</th>\n",
              "      <th>Fasting_blood_sugar</th>\n",
              "      <th>Rest_ECG</th>\n",
              "      <th>Max_heart_rate</th>\n",
              "      <th>Exercise_angina</th>\n",
              "      <th>Exercise_ST_depression</th>\n",
              "      <th>ST_peak_slope</th>\n",
              "      <th>Vessels_colored</th>\n",
              "      <th>Heart_disease</th>\n",
              "      <th>Pressure_to_cholesterol</th>\n",
              "    </tr>\n",
              "  </thead>\n",
              "  <tbody>\n",
              "    <tr>\n",
              "      <th>0</th>\n",
              "      <td>63</td>\n",
              "      <td>male</td>\n",
              "      <td>non-anginal pain</td>\n",
              "      <td>145</td>\n",
              "      <td>233</td>\n",
              "      <td>&gt; 120 mg/dl</td>\n",
              "      <td>normal</td>\n",
              "      <td>150</td>\n",
              "      <td>no angina</td>\n",
              "      <td>2.3</td>\n",
              "      <td>upsloping</td>\n",
              "      <td>0</td>\n",
              "      <td>diseased</td>\n",
              "      <td>0.622</td>\n",
              "    </tr>\n",
              "    <tr>\n",
              "      <th>1</th>\n",
              "      <td>37</td>\n",
              "      <td>male</td>\n",
              "      <td>atypical angina</td>\n",
              "      <td>130</td>\n",
              "      <td>250</td>\n",
              "      <td>&lt; 120 mg/dl</td>\n",
              "      <td>ST-T wave abnormality</td>\n",
              "      <td>187</td>\n",
              "      <td>no angina</td>\n",
              "      <td>3.5</td>\n",
              "      <td>upsloping</td>\n",
              "      <td>0</td>\n",
              "      <td>diseased</td>\n",
              "      <td>0.520</td>\n",
              "    </tr>\n",
              "    <tr>\n",
              "      <th>2</th>\n",
              "      <td>41</td>\n",
              "      <td>female</td>\n",
              "      <td>typical angina</td>\n",
              "      <td>130</td>\n",
              "      <td>204</td>\n",
              "      <td>&lt; 120 mg/dl</td>\n",
              "      <td>normal</td>\n",
              "      <td>172</td>\n",
              "      <td>no angina</td>\n",
              "      <td>1.4</td>\n",
              "      <td>downsloping</td>\n",
              "      <td>0</td>\n",
              "      <td>diseased</td>\n",
              "      <td>0.637</td>\n",
              "    </tr>\n",
              "    <tr>\n",
              "      <th>3</th>\n",
              "      <td>56</td>\n",
              "      <td>male</td>\n",
              "      <td>typical angina</td>\n",
              "      <td>120</td>\n",
              "      <td>236</td>\n",
              "      <td>&lt; 120 mg/dl</td>\n",
              "      <td>ST-T wave abnormality</td>\n",
              "      <td>178</td>\n",
              "      <td>no angina</td>\n",
              "      <td>0.8</td>\n",
              "      <td>downsloping</td>\n",
              "      <td>0</td>\n",
              "      <td>diseased</td>\n",
              "      <td>0.508</td>\n",
              "    </tr>\n",
              "    <tr>\n",
              "      <th>4</th>\n",
              "      <td>57</td>\n",
              "      <td>female</td>\n",
              "      <td>asymptomatic</td>\n",
              "      <td>120</td>\n",
              "      <td>354</td>\n",
              "      <td>&lt; 120 mg/dl</td>\n",
              "      <td>ST-T wave abnormality</td>\n",
              "      <td>163</td>\n",
              "      <td>angina</td>\n",
              "      <td>0.6</td>\n",
              "      <td>downsloping</td>\n",
              "      <td>0</td>\n",
              "      <td>diseased</td>\n",
              "      <td>0.339</td>\n",
              "    </tr>\n",
              "  </tbody>\n",
              "</table>\n",
              "</div>"
            ],
            "text/plain": [
              "   Age     Sex   Chest_pain_type  Resting_blood_pressure  Serum_cholesterol  \\\n",
              "0   63    male  non-anginal pain                     145                233   \n",
              "1   37    male   atypical angina                     130                250   \n",
              "2   41  female    typical angina                     130                204   \n",
              "3   56    male    typical angina                     120                236   \n",
              "4   57  female      asymptomatic                     120                354   \n",
              "\n",
              "  Fasting_blood_sugar               Rest_ECG  Max_heart_rate Exercise_angina  \\\n",
              "0         > 120 mg/dl                 normal             150       no angina   \n",
              "1         < 120 mg/dl  ST-T wave abnormality             187       no angina   \n",
              "2         < 120 mg/dl                 normal             172       no angina   \n",
              "3         < 120 mg/dl  ST-T wave abnormality             178       no angina   \n",
              "4         < 120 mg/dl  ST-T wave abnormality             163          angina   \n",
              "\n",
              "   Exercise_ST_depression ST_peak_slope  Vessels_colored Heart_disease  \\\n",
              "0                     2.3     upsloping                0      diseased   \n",
              "1                     3.5     upsloping                0      diseased   \n",
              "2                     1.4   downsloping                0      diseased   \n",
              "3                     0.8   downsloping                0      diseased   \n",
              "4                     0.6   downsloping                0      diseased   \n",
              "\n",
              "   Pressure_to_cholesterol  \n",
              "0                    0.622  \n",
              "1                    0.520  \n",
              "2                    0.637  \n",
              "3                    0.508  \n",
              "4                    0.339  "
            ]
          },
          "execution_count": 58,
          "metadata": {},
          "output_type": "execute_result"
        }
      ],
      "source": [
        "heart_uci[\"Pressure_to_cholesterol\"] = np.round(rel, 3)\n",
        "heart_uci.head()"
      ]
    },
    {
      "cell_type": "code",
      "execution_count": null,
      "metadata": {
        "id": "X5ElfPi70DPE"
      },
      "outputs": [],
      "source": [
        "heart_uci[\"Pressure_to_cholesterol\"] = np.round(heart_uci[\"Resting_blood_pressure\"] / heart_uci[\"Serum_cholesterol\"], 4)\n"
      ]
    },
    {
      "cell_type": "code",
      "execution_count": null,
      "metadata": {
        "colab": {
          "base_uri": "https://localhost:8080/",
          "height": 193
        },
        "id": "WTwXjfvV0DPE",
        "outputId": "72f38e9f-4ed3-4285-8999-f9daa899af70"
      },
      "outputs": [
        {
          "output_type": "execute_result",
          "data": {
            "text/plain": [
              "   Age   Sex   Chest_pain_type  Resting_blood_pressure  Serum_cholesterol  \\\n",
              "0   63  male  non-anginal pain                     145                233   \n",
              "1   37  male   atypical angina                     130                250   \n",
              "\n",
              "  Fasting_blood_sugar               Rest_ECG  Max_heart_rate Exercise_angina  \\\n",
              "0         > 120 mg/dl                 normal             150       no angina   \n",
              "1         < 120 mg/dl  ST-T wave abnormality             187       no angina   \n",
              "\n",
              "   Exercise_ST_depression ST_peak_slope  Vessels_colored Heart_disease  \n",
              "0                     2.3     upsloping                0      diseased  \n",
              "1                     3.5     upsloping                0      diseased  "
            ],
            "text/html": [
              "\n",
              "  <div id=\"df-9f0e22fd-a793-465b-9678-35a440863f0d\">\n",
              "    <div class=\"colab-df-container\">\n",
              "      <div>\n",
              "<style scoped>\n",
              "    .dataframe tbody tr th:only-of-type {\n",
              "        vertical-align: middle;\n",
              "    }\n",
              "\n",
              "    .dataframe tbody tr th {\n",
              "        vertical-align: top;\n",
              "    }\n",
              "\n",
              "    .dataframe thead th {\n",
              "        text-align: right;\n",
              "    }\n",
              "</style>\n",
              "<table border=\"1\" class=\"dataframe\">\n",
              "  <thead>\n",
              "    <tr style=\"text-align: right;\">\n",
              "      <th></th>\n",
              "      <th>Age</th>\n",
              "      <th>Sex</th>\n",
              "      <th>Chest_pain_type</th>\n",
              "      <th>Resting_blood_pressure</th>\n",
              "      <th>Serum_cholesterol</th>\n",
              "      <th>Fasting_blood_sugar</th>\n",
              "      <th>Rest_ECG</th>\n",
              "      <th>Max_heart_rate</th>\n",
              "      <th>Exercise_angina</th>\n",
              "      <th>Exercise_ST_depression</th>\n",
              "      <th>ST_peak_slope</th>\n",
              "      <th>Vessels_colored</th>\n",
              "      <th>Heart_disease</th>\n",
              "    </tr>\n",
              "  </thead>\n",
              "  <tbody>\n",
              "    <tr>\n",
              "      <th>0</th>\n",
              "      <td>63</td>\n",
              "      <td>male</td>\n",
              "      <td>non-anginal pain</td>\n",
              "      <td>145</td>\n",
              "      <td>233</td>\n",
              "      <td>&gt; 120 mg/dl</td>\n",
              "      <td>normal</td>\n",
              "      <td>150</td>\n",
              "      <td>no angina</td>\n",
              "      <td>2.3</td>\n",
              "      <td>upsloping</td>\n",
              "      <td>0</td>\n",
              "      <td>diseased</td>\n",
              "    </tr>\n",
              "    <tr>\n",
              "      <th>1</th>\n",
              "      <td>37</td>\n",
              "      <td>male</td>\n",
              "      <td>atypical angina</td>\n",
              "      <td>130</td>\n",
              "      <td>250</td>\n",
              "      <td>&lt; 120 mg/dl</td>\n",
              "      <td>ST-T wave abnormality</td>\n",
              "      <td>187</td>\n",
              "      <td>no angina</td>\n",
              "      <td>3.5</td>\n",
              "      <td>upsloping</td>\n",
              "      <td>0</td>\n",
              "      <td>diseased</td>\n",
              "    </tr>\n",
              "  </tbody>\n",
              "</table>\n",
              "</div>\n",
              "      <button class=\"colab-df-convert\" onclick=\"convertToInteractive('df-9f0e22fd-a793-465b-9678-35a440863f0d')\"\n",
              "              title=\"Convert this dataframe to an interactive table.\"\n",
              "              style=\"display:none;\">\n",
              "        \n",
              "  <svg xmlns=\"http://www.w3.org/2000/svg\" height=\"24px\"viewBox=\"0 0 24 24\"\n",
              "       width=\"24px\">\n",
              "    <path d=\"M0 0h24v24H0V0z\" fill=\"none\"/>\n",
              "    <path d=\"M18.56 5.44l.94 2.06.94-2.06 2.06-.94-2.06-.94-.94-2.06-.94 2.06-2.06.94zm-11 1L8.5 8.5l.94-2.06 2.06-.94-2.06-.94L8.5 2.5l-.94 2.06-2.06.94zm10 10l.94 2.06.94-2.06 2.06-.94-2.06-.94-.94-2.06-.94 2.06-2.06.94z\"/><path d=\"M17.41 7.96l-1.37-1.37c-.4-.4-.92-.59-1.43-.59-.52 0-1.04.2-1.43.59L10.3 9.45l-7.72 7.72c-.78.78-.78 2.05 0 2.83L4 21.41c.39.39.9.59 1.41.59.51 0 1.02-.2 1.41-.59l7.78-7.78 2.81-2.81c.8-.78.8-2.07 0-2.86zM5.41 20L4 18.59l7.72-7.72 1.47 1.35L5.41 20z\"/>\n",
              "  </svg>\n",
              "      </button>\n",
              "      \n",
              "  <style>\n",
              "    .colab-df-container {\n",
              "      display:flex;\n",
              "      flex-wrap:wrap;\n",
              "      gap: 12px;\n",
              "    }\n",
              "\n",
              "    .colab-df-convert {\n",
              "      background-color: #E8F0FE;\n",
              "      border: none;\n",
              "      border-radius: 50%;\n",
              "      cursor: pointer;\n",
              "      display: none;\n",
              "      fill: #1967D2;\n",
              "      height: 32px;\n",
              "      padding: 0 0 0 0;\n",
              "      width: 32px;\n",
              "    }\n",
              "\n",
              "    .colab-df-convert:hover {\n",
              "      background-color: #E2EBFA;\n",
              "      box-shadow: 0px 1px 2px rgba(60, 64, 67, 0.3), 0px 1px 3px 1px rgba(60, 64, 67, 0.15);\n",
              "      fill: #174EA6;\n",
              "    }\n",
              "\n",
              "    [theme=dark] .colab-df-convert {\n",
              "      background-color: #3B4455;\n",
              "      fill: #D2E3FC;\n",
              "    }\n",
              "\n",
              "    [theme=dark] .colab-df-convert:hover {\n",
              "      background-color: #434B5C;\n",
              "      box-shadow: 0px 1px 3px 1px rgba(0, 0, 0, 0.15);\n",
              "      filter: drop-shadow(0px 1px 2px rgba(0, 0, 0, 0.3));\n",
              "      fill: #FFFFFF;\n",
              "    }\n",
              "  </style>\n",
              "\n",
              "      <script>\n",
              "        const buttonEl =\n",
              "          document.querySelector('#df-9f0e22fd-a793-465b-9678-35a440863f0d button.colab-df-convert');\n",
              "        buttonEl.style.display =\n",
              "          google.colab.kernel.accessAllowed ? 'block' : 'none';\n",
              "\n",
              "        async function convertToInteractive(key) {\n",
              "          const element = document.querySelector('#df-9f0e22fd-a793-465b-9678-35a440863f0d');\n",
              "          const dataTable =\n",
              "            await google.colab.kernel.invokeFunction('convertToInteractive',\n",
              "                                                     [key], {});\n",
              "          if (!dataTable) return;\n",
              "\n",
              "          const docLinkHtml = 'Like what you see? Visit the ' +\n",
              "            '<a target=\"_blank\" href=https://colab.research.google.com/notebooks/data_table.ipynb>data table notebook</a>'\n",
              "            + ' to learn more about interactive tables.';\n",
              "          element.innerHTML = '';\n",
              "          dataTable['output_type'] = 'display_data';\n",
              "          await google.colab.output.renderOutput(dataTable, element);\n",
              "          const docLink = document.createElement('div');\n",
              "          docLink.innerHTML = docLinkHtml;\n",
              "          element.appendChild(docLink);\n",
              "        }\n",
              "      </script>\n",
              "    </div>\n",
              "  </div>\n",
              "  "
            ]
          },
          "metadata": {},
          "execution_count": 50
        }
      ],
      "source": [
        "heart_uci.head(2)"
      ]
    },
    {
      "cell_type": "code",
      "execution_count": null,
      "metadata": {
        "colab": {
          "base_uri": "https://localhost:8080/",
          "height": 278
        },
        "id": "Jr8bEK1V0DPE",
        "outputId": "a21fe9f5-fbbe-4cd7-f197-b63a0d279d41"
      },
      "outputs": [
        {
          "data": {
            "text/html": [
              "<div>\n",
              "<style scoped>\n",
              "    .dataframe tbody tr th:only-of-type {\n",
              "        vertical-align: middle;\n",
              "    }\n",
              "\n",
              "    .dataframe tbody tr th {\n",
              "        vertical-align: top;\n",
              "    }\n",
              "\n",
              "    .dataframe thead th {\n",
              "        text-align: right;\n",
              "    }\n",
              "</style>\n",
              "<table border=\"1\" class=\"dataframe\">\n",
              "  <thead>\n",
              "    <tr style=\"text-align: right;\">\n",
              "      <th></th>\n",
              "      <th>Age</th>\n",
              "      <th>Sex</th>\n",
              "      <th>Chest_pain_type</th>\n",
              "      <th>Resting_blood_pressure</th>\n",
              "      <th>Serum_cholesterol</th>\n",
              "      <th>Fasting_blood_sugar</th>\n",
              "      <th>Rest_ECG</th>\n",
              "      <th>Max_heart_rate</th>\n",
              "      <th>Exercise_angina</th>\n",
              "      <th>Exercise_ST_depression</th>\n",
              "      <th>ST_peak_slope</th>\n",
              "      <th>Vessels_colored</th>\n",
              "      <th>Heart_disease</th>\n",
              "    </tr>\n",
              "  </thead>\n",
              "  <tbody>\n",
              "    <tr>\n",
              "      <th>0</th>\n",
              "      <td>63</td>\n",
              "      <td>male</td>\n",
              "      <td>non-anginal pain</td>\n",
              "      <td>145</td>\n",
              "      <td>233</td>\n",
              "      <td>&gt; 120 mg/dl</td>\n",
              "      <td>normal</td>\n",
              "      <td>150</td>\n",
              "      <td>no angina</td>\n",
              "      <td>2.3</td>\n",
              "      <td>upsloping</td>\n",
              "      <td>0</td>\n",
              "      <td>diseased</td>\n",
              "    </tr>\n",
              "    <tr>\n",
              "      <th>1</th>\n",
              "      <td>37</td>\n",
              "      <td>male</td>\n",
              "      <td>atypical angina</td>\n",
              "      <td>130</td>\n",
              "      <td>250</td>\n",
              "      <td>&lt; 120 mg/dl</td>\n",
              "      <td>ST-T wave abnormality</td>\n",
              "      <td>187</td>\n",
              "      <td>no angina</td>\n",
              "      <td>3.5</td>\n",
              "      <td>upsloping</td>\n",
              "      <td>0</td>\n",
              "      <td>diseased</td>\n",
              "    </tr>\n",
              "    <tr>\n",
              "      <th>2</th>\n",
              "      <td>41</td>\n",
              "      <td>female</td>\n",
              "      <td>typical angina</td>\n",
              "      <td>130</td>\n",
              "      <td>204</td>\n",
              "      <td>&lt; 120 mg/dl</td>\n",
              "      <td>normal</td>\n",
              "      <td>172</td>\n",
              "      <td>no angina</td>\n",
              "      <td>1.4</td>\n",
              "      <td>downsloping</td>\n",
              "      <td>0</td>\n",
              "      <td>diseased</td>\n",
              "    </tr>\n",
              "    <tr>\n",
              "      <th>3</th>\n",
              "      <td>56</td>\n",
              "      <td>male</td>\n",
              "      <td>typical angina</td>\n",
              "      <td>120</td>\n",
              "      <td>236</td>\n",
              "      <td>&lt; 120 mg/dl</td>\n",
              "      <td>ST-T wave abnormality</td>\n",
              "      <td>178</td>\n",
              "      <td>no angina</td>\n",
              "      <td>0.8</td>\n",
              "      <td>downsloping</td>\n",
              "      <td>0</td>\n",
              "      <td>diseased</td>\n",
              "    </tr>\n",
              "    <tr>\n",
              "      <th>4</th>\n",
              "      <td>57</td>\n",
              "      <td>female</td>\n",
              "      <td>asymptomatic</td>\n",
              "      <td>120</td>\n",
              "      <td>354</td>\n",
              "      <td>&lt; 120 mg/dl</td>\n",
              "      <td>ST-T wave abnormality</td>\n",
              "      <td>163</td>\n",
              "      <td>angina</td>\n",
              "      <td>0.6</td>\n",
              "      <td>downsloping</td>\n",
              "      <td>0</td>\n",
              "      <td>diseased</td>\n",
              "    </tr>\n",
              "  </tbody>\n",
              "</table>\n",
              "</div>"
            ],
            "text/plain": [
              "   Age     Sex   Chest_pain_type  Resting_blood_pressure  Serum_cholesterol  \\\n",
              "0   63    male  non-anginal pain                     145                233   \n",
              "1   37    male   atypical angina                     130                250   \n",
              "2   41  female    typical angina                     130                204   \n",
              "3   56    male    typical angina                     120                236   \n",
              "4   57  female      asymptomatic                     120                354   \n",
              "\n",
              "  Fasting_blood_sugar               Rest_ECG  Max_heart_rate Exercise_angina  \\\n",
              "0         > 120 mg/dl                 normal             150       no angina   \n",
              "1         < 120 mg/dl  ST-T wave abnormality             187       no angina   \n",
              "2         < 120 mg/dl                 normal             172       no angina   \n",
              "3         < 120 mg/dl  ST-T wave abnormality             178       no angina   \n",
              "4         < 120 mg/dl  ST-T wave abnormality             163          angina   \n",
              "\n",
              "   Exercise_ST_depression ST_peak_slope  Vessels_colored Heart_disease  \n",
              "0                     2.3     upsloping                0      diseased  \n",
              "1                     3.5     upsloping                0      diseased  \n",
              "2                     1.4   downsloping                0      diseased  \n",
              "3                     0.8   downsloping                0      diseased  \n",
              "4                     0.6   downsloping                0      diseased  "
            ]
          },
          "execution_count": 61,
          "metadata": {},
          "output_type": "execute_result"
        }
      ],
      "source": [
        "del heart_uci[\"Pressure_to_cholesterol\"]\n",
        "heart_uci.head()"
      ]
    },
    {
      "cell_type": "markdown",
      "metadata": {
        "id": "36HyJer_0DPE"
      },
      "source": [
        "Точно таким же способом можно **применять целые формулы к нескольким колонкам** и записывать их в таблицу."
      ]
    },
    {
      "cell_type": "markdown",
      "metadata": {
        "id": "UBY769j70DPE"
      },
      "source": [
        "Иногда колонки нужно, например, стандартизовать:"
      ]
    },
    {
      "cell_type": "code",
      "execution_count": null,
      "metadata": {
        "colab": {
          "base_uri": "https://localhost:8080/"
        },
        "id": "CcDuzUP50DPE",
        "outputId": "ed3b5dcf-33e9-449a-9f88-15a901a15292"
      },
      "outputs": [
        {
          "data": {
            "text/plain": [
              "0      0.015417\n",
              "1      1.630774\n",
              "2      0.975900\n",
              "3      1.237849\n",
              "4      0.582975\n",
              "         ...   \n",
              "298   -1.163356\n",
              "299   -0.770432\n",
              "300   -0.377507\n",
              "301   -1.512623\n",
              "302    1.063216\n",
              "Name: Max_heart_rate, Length: 303, dtype: float64"
            ]
          },
          "execution_count": 62,
          "metadata": {},
          "output_type": "execute_result"
        }
      ],
      "source": [
        "heart_rate = heart_uci[\"Max_heart_rate\"]\n",
        "std_heart_rate = (heart_rate - heart_rate.mean()) / heart_rate.std()\n",
        "std_heart_rate"
      ]
    },
    {
      "cell_type": "code",
      "execution_count": null,
      "metadata": {
        "colab": {
          "base_uri": "https://localhost:8080/"
        },
        "id": "-KVtUmmJoS2L",
        "outputId": "893463c8-23e3-4ff9-e255-029bf9e89556"
      },
      "outputs": [
        {
          "data": {
            "text/plain": [
              "-5.466840768121232e-16"
            ]
          },
          "execution_count": 63,
          "metadata": {},
          "output_type": "execute_result"
        }
      ],
      "source": [
        "std_heart_rate.mean()"
      ]
    },
    {
      "cell_type": "code",
      "execution_count": null,
      "metadata": {
        "colab": {
          "base_uri": "https://localhost:8080/"
        },
        "id": "GiUV-NEuoWO6",
        "outputId": "4ac7d2ef-4797-46ab-8992-616210e8484a"
      },
      "outputs": [
        {
          "data": {
            "text/plain": [
              "1.0000000000000002"
            ]
          },
          "execution_count": 64,
          "metadata": {},
          "output_type": "execute_result"
        }
      ],
      "source": [
        "std_heart_rate.std()"
      ]
    },
    {
      "cell_type": "code",
      "execution_count": null,
      "metadata": {
        "colab": {
          "base_uri": "https://localhost:8080/",
          "height": 284
        },
        "id": "V3r4VTSo0DPE",
        "outputId": "59db9f7d-0f0e-4485-8c3f-15e2adf3f07b"
      },
      "outputs": [
        {
          "data": {
            "text/plain": [
              "<AxesSubplot:ylabel='Frequency'>"
            ]
          },
          "execution_count": 65,
          "metadata": {},
          "output_type": "execute_result"
        },
        {
          "data": {
            "image/png": "[encoded data removed]",
            "text/plain": [
              "<Figure size 432x288 with 1 Axes>"
            ]
          },
          "metadata": {
            "needs_background": "light"
          },
          "output_type": "display_data"
        }
      ],
      "source": [
        "heart_rate.plot.hist()"
      ]
    },
    {
      "cell_type": "code",
      "execution_count": null,
      "metadata": {
        "colab": {
          "base_uri": "https://localhost:8080/",
          "height": 284
        },
        "id": "dCeL3cgR0DPF",
        "outputId": "69b0408c-eff2-4a2a-e0f0-07abbf752db2"
      },
      "outputs": [
        {
          "data": {
            "text/plain": [
              "<AxesSubplot:ylabel='Frequency'>"
            ]
          },
          "execution_count": 66,
          "metadata": {},
          "output_type": "execute_result"
        },
        {
          "data": {
            "image/png": "[encoded data removed]",
            "text/plain": [
              "<Figure size 432x288 with 1 Axes>"
            ]
          },
          "metadata": {
            "needs_background": "light"
          },
          "output_type": "display_data"
        }
      ],
      "source": [
        "std_heart_rate.plot.hist()"
      ]
    },
    {
      "cell_type": "markdown",
      "metadata": {
        "id": "hpI6OE5T0DPF"
      },
      "source": [
        "### Фильтрация данных"
      ]
    },
    {
      "cell_type": "markdown",
      "metadata": {
        "id": "UWdnlzSX0DPF"
      },
      "source": [
        "**Любую колонку можно векторно сравнить**, например, с числом:"
      ]
    },
    {
      "cell_type": "code",
      "execution_count": null,
      "metadata": {
        "id": "r5oH8aNX0DPF",
        "outputId": "5f82c3cd-a082-4176-d236-4be21d409176"
      },
      "outputs": [
        {
          "data": {
            "text/plain": [
              "0       True\n",
              "1      False\n",
              "2      False\n",
              "3       True\n",
              "4       True\n",
              "       ...  \n",
              "298     True\n",
              "299    False\n",
              "300     True\n",
              "301     True\n",
              "302     True\n",
              "Name: Age, Length: 303, dtype: bool"
            ]
          },
          "execution_count": 67,
          "metadata": {},
          "output_type": "execute_result"
        }
      ],
      "source": [
        "heart_uci[\"Age\"] > 50"
      ]
    },
    {
      "cell_type": "markdown",
      "metadata": {
        "id": "58AUcdBj0DPF"
      },
      "source": [
        "...или строкой:"
      ]
    },
    {
      "cell_type": "code",
      "execution_count": null,
      "metadata": {
        "colab": {
          "base_uri": "https://localhost:8080/"
        },
        "id": "xkSRogkw0DPG",
        "outputId": "83233074-545c-4864-a375-dc1385ed2163"
      },
      "outputs": [
        {
          "data": {
            "text/plain": [
              "0      False\n",
              "1       True\n",
              "2      False\n",
              "3      False\n",
              "4      False\n",
              "       ...  \n",
              "298    False\n",
              "299    False\n",
              "300    False\n",
              "301    False\n",
              "302    False\n",
              "Name: Chest_pain_type, Length: 303, dtype: bool"
            ]
          },
          "execution_count": 68,
          "metadata": {},
          "output_type": "execute_result"
        }
      ],
      "source": [
        "heart_uci[\"Chest_pain_type\"] == \"atypical angina\""
      ]
    },
    {
      "cell_type": "markdown",
      "metadata": {
        "id": "1E2aWelg0DPH"
      },
      "source": [
        "Pandas поддерживает использование такой колонки **в качестве фильтра**. Такой фильтр нужно поместить вместо индекса:"
      ]
    },
    {
      "cell_type": "code",
      "execution_count": null,
      "metadata": {
        "colab": {
          "base_uri": "https://localhost:8080/",
          "height": 1000
        },
        "id": "R4usfdI50DPH",
        "outputId": "d2364806-8836-4c0b-905e-4a2adfa3e360"
      },
      "outputs": [
        {
          "output_type": "execute_result",
          "data": {
            "text/plain": [
              "     Age     Sex   Chest_pain_type  Resting_blood_pressure  Serum_cholesterol  \\\n",
              "0     63    male  non-anginal pain                     145                233   \n",
              "13    64    male  non-anginal pain                     110                211   \n",
              "17    66  female  non-anginal pain                     150                226   \n",
              "19    69  female  non-anginal pain                     140                239   \n",
              "23    61    male   atypical angina                     150                243   \n",
              "25    71  female    typical angina                     160                302   \n",
              "28    65  female   atypical angina                     140                417   \n",
              "31    65    male      asymptomatic                     120                177   \n",
              "38    65  female   atypical angina                     155                269   \n",
              "39    65  female   atypical angina                     160                360   \n",
              "51    66    male      asymptomatic                     120                302   \n",
              "52    62    male   atypical angina                     130                231   \n",
              "54    63  female   atypical angina                     135                252   \n",
              "60    71  female   atypical angina                     110                265   \n",
              "69    62  female      asymptomatic                     124                209   \n",
              "85    67  female   atypical angina                     115                564   \n",
              "86    68    male   atypical angina                     118                277   \n",
              "96    62  female      asymptomatic                     140                394   \n",
              "102   63  female    typical angina                     140                195   \n",
              "105   68  female   atypical angina                     120                211   \n",
              "106   69    male  non-anginal pain                     160                234   \n",
              "110   64  female      asymptomatic                     180                325   \n",
              "112   64  female   atypical angina                     140                313   \n",
              "120   64  female      asymptomatic                     130                303   \n",
              "127   67  female   atypical angina                     152                277   \n",
              "129   74  female    typical angina                     120                269   \n",
              "137   62    male    typical angina                     128                208   \n",
              "139   64    male      asymptomatic                     128                263   \n",
              "143   67  female      asymptomatic                     106                223   \n",
              "144   76  female   atypical angina                     140                197   \n",
              "145   70    male    typical angina                     156                245   \n",
              "150   66    male      asymptomatic                     160                228   \n",
              "151   71  female      asymptomatic                     112                149   \n",
              "152   64    male  non-anginal pain                     170                227   \n",
              "153   66  female   atypical angina                     146                278   \n",
              "165   67    male      asymptomatic                     160                286   \n",
              "166   67    male      asymptomatic                     120                229   \n",
              "167   62  female      asymptomatic                     140                268   \n",
              "168   63    male      asymptomatic                     130                254   \n",
              "177   64    male   atypical angina                     140                335   \n",
              "\n",
              "    Fasting_blood_sugar                      Rest_ECG  Max_heart_rate  \\\n",
              "0           > 120 mg/dl                        normal             150   \n",
              "13          < 120 mg/dl                        normal             144   \n",
              "17          < 120 mg/dl         ST-T wave abnormality             114   \n",
              "19          < 120 mg/dl         ST-T wave abnormality             151   \n",
              "23          > 120 mg/dl         ST-T wave abnormality             137   \n",
              "25          < 120 mg/dl         ST-T wave abnormality             162   \n",
              "28          > 120 mg/dl                        normal             157   \n",
              "31          < 120 mg/dl         ST-T wave abnormality             140   \n",
              "38          < 120 mg/dl         ST-T wave abnormality             148   \n",
              "39          < 120 mg/dl                        normal             151   \n",
              "51          < 120 mg/dl                        normal             151   \n",
              "52          < 120 mg/dl         ST-T wave abnormality             146   \n",
              "54          < 120 mg/dl                        normal             172   \n",
              "60          > 120 mg/dl                        normal             130   \n",
              "69          < 120 mg/dl         ST-T wave abnormality             163   \n",
              "85          < 120 mg/dl                        normal             160   \n",
              "86          < 120 mg/dl         ST-T wave abnormality             151   \n",
              "96          < 120 mg/dl                        normal             157   \n",
              "102         < 120 mg/dl         ST-T wave abnormality             179   \n",
              "105         < 120 mg/dl                        normal             115   \n",
              "106         > 120 mg/dl                        normal             131   \n",
              "110         < 120 mg/dl         ST-T wave abnormality             154   \n",
              "112         < 120 mg/dl         ST-T wave abnormality             133   \n",
              "120         < 120 mg/dl         ST-T wave abnormality             122   \n",
              "127         < 120 mg/dl         ST-T wave abnormality             172   \n",
              "129         < 120 mg/dl                        normal             121   \n",
              "137         > 120 mg/dl                        normal             140   \n",
              "139         < 120 mg/dl         ST-T wave abnormality             105   \n",
              "143         < 120 mg/dl         ST-T wave abnormality             142   \n",
              "144         < 120 mg/dl  left ventricular hypertrophy             116   \n",
              "145         < 120 mg/dl                        normal             143   \n",
              "150         < 120 mg/dl                        normal             138   \n",
              "151         < 120 mg/dl         ST-T wave abnormality             125   \n",
              "152         < 120 mg/dl                        normal             155   \n",
              "153         < 120 mg/dl                        normal             152   \n",
              "165         < 120 mg/dl                        normal             108   \n",
              "166         < 120 mg/dl                        normal             129   \n",
              "167         < 120 mg/dl                        normal             160   \n",
              "168         < 120 mg/dl                        normal             147   \n",
              "177         < 120 mg/dl         ST-T wave abnormality             158   \n",
              "\n",
              "    Exercise_angina  Exercise_ST_depression ST_peak_slope  Vessels_colored  \\\n",
              "0         no angina                     2.3     upsloping                0   \n",
              "13           angina                     1.8          flat                0   \n",
              "17        no angina                     2.6     upsloping                0   \n",
              "19        no angina                     1.8   downsloping                2   \n",
              "23           angina                     1.0          flat                0   \n",
              "25        no angina                     0.4   downsloping                2   \n",
              "28        no angina                     0.8   downsloping                1   \n",
              "31        no angina                     0.4   downsloping                0   \n",
              "38        no angina                     0.8   downsloping                0   \n",
              "39        no angina                     0.8   downsloping                0   \n",
              "51        no angina                     0.4          flat                0   \n",
              "52        no angina                     1.8          flat                3   \n",
              "54        no angina                     0.0   downsloping                0   \n",
              "60        no angina                     0.0   downsloping                1   \n",
              "69        no angina                     0.0   downsloping                0   \n",
              "85        no angina                     1.6          flat                0   \n",
              "86        no angina                     1.0   downsloping                1   \n",
              "96        no angina                     1.2          flat                0   \n",
              "102       no angina                     0.0   downsloping                2   \n",
              "105       no angina                     1.5          flat                0   \n",
              "106       no angina                     0.1          flat                1   \n",
              "110          angina                     0.0   downsloping                0   \n",
              "112       no angina                     0.2   downsloping                0   \n",
              "120       no angina                     2.0          flat                2   \n",
              "127       no angina                     0.0   downsloping                1   \n",
              "129          angina                     0.2   downsloping                1   \n",
              "137       no angina                     0.0   downsloping                0   \n",
              "139          angina                     0.2          flat                1   \n",
              "143       no angina                     0.3   downsloping                2   \n",
              "144       no angina                     1.1          flat                0   \n",
              "145       no angina                     0.0   downsloping                0   \n",
              "150       no angina                     2.3   downsloping                0   \n",
              "151       no angina                     1.6          flat                0   \n",
              "152       no angina                     0.6          flat                0   \n",
              "153       no angina                     0.0          flat                1   \n",
              "165          angina                     1.5          flat                3   \n",
              "166          angina                     2.6          flat                2   \n",
              "167       no angina                     3.6     upsloping                2   \n",
              "168       no angina                     1.4          flat                1   \n",
              "177       no angina                     0.0   downsloping                0   \n",
              "\n",
              "    Heart_disease  \n",
              "0        diseased  \n",
              "13       diseased  \n",
              "17       diseased  \n",
              "19       diseased  \n",
              "23       diseased  \n",
              "25       diseased  \n",
              "28       diseased  \n",
              "31       diseased  \n",
              "38       diseased  \n",
              "39       diseased  \n",
              "51       diseased  \n",
              "52       diseased  \n",
              "54       diseased  \n",
              "60       diseased  \n",
              "69       diseased  \n",
              "85       diseased  \n",
              "86       diseased  \n",
              "96       diseased  \n",
              "102      diseased  \n",
              "105      diseased  \n",
              "106      diseased  \n",
              "110      diseased  \n",
              "112      diseased  \n",
              "120      diseased  \n",
              "127      diseased  \n",
              "129      diseased  \n",
              "137      diseased  \n",
              "139      diseased  \n",
              "143      diseased  \n",
              "144      diseased  \n",
              "145      diseased  \n",
              "150      diseased  \n",
              "151      diseased  \n",
              "152      diseased  \n",
              "153      diseased  \n",
              "165       healthy  \n",
              "166       healthy  \n",
              "167       healthy  \n",
              "168       healthy  \n",
              "177       healthy  "
            ],
            "text/html": [
              "\n",
              "  <div id=\"df-89f81044-735b-442c-a318-a57b38d9f1b8\">\n",
              "    <div class=\"colab-df-container\">\n",
              "      <div>\n",
              "<style scoped>\n",
              "    .dataframe tbody tr th:only-of-type {\n",
              "        vertical-align: middle;\n",
              "    }\n",
              "\n",
              "    .dataframe tbody tr th {\n",
              "        vertical-align: top;\n",
              "    }\n",
              "\n",
              "    .dataframe thead th {\n",
              "        text-align: right;\n",
              "    }\n",
              "</style>\n",
              "<table border=\"1\" class=\"dataframe\">\n",
              "  <thead>\n",
              "    <tr style=\"text-align: right;\">\n",
              "      <th></th>\n",
              "      <th>Age</th>\n",
              "      <th>Sex</th>\n",
              "      <th>Chest_pain_type</th>\n",
              "      <th>Resting_blood_pressure</th>\n",
              "      <th>Serum_cholesterol</th>\n",
              "      <th>Fasting_blood_sugar</th>\n",
              "      <th>Rest_ECG</th>\n",
              "      <th>Max_heart_rate</th>\n",
              "      <th>Exercise_angina</th>\n",
              "      <th>Exercise_ST_depression</th>\n",
              "      <th>ST_peak_slope</th>\n",
              "      <th>Vessels_colored</th>\n",
              "      <th>Heart_disease</th>\n",
              "    </tr>\n",
              "  </thead>\n",
              "  <tbody>\n",
              "    <tr>\n",
              "      <th>0</th>\n",
              "      <td>63</td>\n",
              "      <td>male</td>\n",
              "      <td>non-anginal pain</td>\n",
              "      <td>145</td>\n",
              "      <td>233</td>\n",
              "      <td>&gt; 120 mg/dl</td>\n",
              "      <td>normal</td>\n",
              "      <td>150</td>\n",
              "      <td>no angina</td>\n",
              "      <td>2.3</td>\n",
              "      <td>upsloping</td>\n",
              "      <td>0</td>\n",
              "      <td>diseased</td>\n",
              "    </tr>\n",
              "    <tr>\n",
              "      <th>13</th>\n",
              "      <td>64</td>\n",
              "      <td>male</td>\n",
              "      <td>non-anginal pain</td>\n",
              "      <td>110</td>\n",
              "      <td>211</td>\n",
              "      <td>&lt; 120 mg/dl</td>\n",
              "      <td>normal</td>\n",
              "      <td>144</td>\n",
              "      <td>angina</td>\n",
              "      <td>1.8</td>\n",
              "      <td>flat</td>\n",
              "      <td>0</td>\n",
              "      <td>diseased</td>\n",
              "    </tr>\n",
              "    <tr>\n",
              "      <th>17</th>\n",
              "      <td>66</td>\n",
              "      <td>female</td>\n",
              "      <td>non-anginal pain</td>\n",
              "      <td>150</td>\n",
              "      <td>226</td>\n",
              "      <td>&lt; 120 mg/dl</td>\n",
              "      <td>ST-T wave abnormality</td>\n",
              "      <td>114</td>\n",
              "      <td>no angina</td>\n",
              "      <td>2.6</td>\n",
              "      <td>upsloping</td>\n",
              "      <td>0</td>\n",
              "      <td>diseased</td>\n",
              "    </tr>\n",
              "    <tr>\n",
              "      <th>19</th>\n",
              "      <td>69</td>\n",
              "      <td>female</td>\n",
              "      <td>non-anginal pain</td>\n",
              "      <td>140</td>\n",
              "      <td>239</td>\n",
              "      <td>&lt; 120 mg/dl</td>\n",
              "      <td>ST-T wave abnormality</td>\n",
              "      <td>151</td>\n",
              "      <td>no angina</td>\n",
              "      <td>1.8</td>\n",
              "      <td>downsloping</td>\n",
              "      <td>2</td>\n",
              "      <td>diseased</td>\n",
              "    </tr>\n",
              "    <tr>\n",
              "      <th>23</th>\n",
              "      <td>61</td>\n",
              "      <td>male</td>\n",
              "      <td>atypical angina</td>\n",
              "      <td>150</td>\n",
              "      <td>243</td>\n",
              "      <td>&gt; 120 mg/dl</td>\n",
              "      <td>ST-T wave abnormality</td>\n",
              "      <td>137</td>\n",
              "      <td>angina</td>\n",
              "      <td>1.0</td>\n",
              "      <td>flat</td>\n",
              "      <td>0</td>\n",
              "      <td>diseased</td>\n",
              "    </tr>\n",
              "    <tr>\n",
              "      <th>25</th>\n",
              "      <td>71</td>\n",
              "      <td>female</td>\n",
              "      <td>typical angina</td>\n",
              "      <td>160</td>\n",
              "      <td>302</td>\n",
              "      <td>&lt; 120 mg/dl</td>\n",
              "      <td>ST-T wave abnormality</td>\n",
              "      <td>162</td>\n",
              "      <td>no angina</td>\n",
              "      <td>0.4</td>\n",
              "      <td>downsloping</td>\n",
              "      <td>2</td>\n",
              "      <td>diseased</td>\n",
              "    </tr>\n",
              "    <tr>\n",
              "      <th>28</th>\n",
              "      <td>65</td>\n",
              "      <td>female</td>\n",
              "      <td>atypical angina</td>\n",
              "      <td>140</td>\n",
              "      <td>417</td>\n",
              "      <td>&gt; 120 mg/dl</td>\n",
              "      <td>normal</td>\n",
              "      <td>157</td>\n",
              "      <td>no angina</td>\n",
              "      <td>0.8</td>\n",
              "      <td>downsloping</td>\n",
              "      <td>1</td>\n",
              "      <td>diseased</td>\n",
              "    </tr>\n",
              "    <tr>\n",
              "      <th>31</th>\n",
              "      <td>65</td>\n",
              "      <td>male</td>\n",
              "      <td>asymptomatic</td>\n",
              "      <td>120</td>\n",
              "      <td>177</td>\n",
              "      <td>&lt; 120 mg/dl</td>\n",
              "      <td>ST-T wave abnormality</td>\n",
              "      <td>140</td>\n",
              "      <td>no angina</td>\n",
              "      <td>0.4</td>\n",
              "      <td>downsloping</td>\n",
              "      <td>0</td>\n",
              "      <td>diseased</td>\n",
              "    </tr>\n",
              "    <tr>\n",
              "      <th>38</th>\n",
              "      <td>65</td>\n",
              "      <td>female</td>\n",
              "      <td>atypical angina</td>\n",
              "      <td>155</td>\n",
              "      <td>269</td>\n",
              "      <td>&lt; 120 mg/dl</td>\n",
              "      <td>ST-T wave abnormality</td>\n",
              "      <td>148</td>\n",
              "      <td>no angina</td>\n",
              "      <td>0.8</td>\n",
              "      <td>downsloping</td>\n",
              "      <td>0</td>\n",
              "      <td>diseased</td>\n",
              "    </tr>\n",
              "    <tr>\n",
              "      <th>39</th>\n",
              "      <td>65</td>\n",
              "      <td>female</td>\n",
              "      <td>atypical angina</td>\n",
              "      <td>160</td>\n",
              "      <td>360</td>\n",
              "      <td>&lt; 120 mg/dl</td>\n",
              "      <td>normal</td>\n",
              "      <td>151</td>\n",
              "      <td>no angina</td>\n",
              "      <td>0.8</td>\n",
              "      <td>downsloping</td>\n",
              "      <td>0</td>\n",
              "      <td>diseased</td>\n",
              "    </tr>\n",
              "    <tr>\n",
              "      <th>51</th>\n",
              "      <td>66</td>\n",
              "      <td>male</td>\n",
              "      <td>asymptomatic</td>\n",
              "      <td>120</td>\n",
              "      <td>302</td>\n",
              "      <td>&lt; 120 mg/dl</td>\n",
              "      <td>normal</td>\n",
              "      <td>151</td>\n",
              "      <td>no angina</td>\n",
              "      <td>0.4</td>\n",
              "      <td>flat</td>\n",
              "      <td>0</td>\n",
              "      <td>diseased</td>\n",
              "    </tr>\n",
              "    <tr>\n",
              "      <th>52</th>\n",
              "      <td>62</td>\n",
              "      <td>male</td>\n",
              "      <td>atypical angina</td>\n",
              "      <td>130</td>\n",
              "      <td>231</td>\n",
              "      <td>&lt; 120 mg/dl</td>\n",
              "      <td>ST-T wave abnormality</td>\n",
              "      <td>146</td>\n",
              "      <td>no angina</td>\n",
              "      <td>1.8</td>\n",
              "      <td>flat</td>\n",
              "      <td>3</td>\n",
              "      <td>diseased</td>\n",
              "    </tr>\n",
              "    <tr>\n",
              "      <th>54</th>\n",
              "      <td>63</td>\n",
              "      <td>female</td>\n",
              "      <td>atypical angina</td>\n",
              "      <td>135</td>\n",
              "      <td>252</td>\n",
              "      <td>&lt; 120 mg/dl</td>\n",
              "      <td>normal</td>\n",
              "      <td>172</td>\n",
              "      <td>no angina</td>\n",
              "      <td>0.0</td>\n",
              "      <td>downsloping</td>\n",
              "      <td>0</td>\n",
              "      <td>diseased</td>\n",
              "    </tr>\n",
              "    <tr>\n",
              "      <th>60</th>\n",
              "      <td>71</td>\n",
              "      <td>female</td>\n",
              "      <td>atypical angina</td>\n",
              "      <td>110</td>\n",
              "      <td>265</td>\n",
              "      <td>&gt; 120 mg/dl</td>\n",
              "      <td>normal</td>\n",
              "      <td>130</td>\n",
              "      <td>no angina</td>\n",
              "      <td>0.0</td>\n",
              "      <td>downsloping</td>\n",
              "      <td>1</td>\n",
              "      <td>diseased</td>\n",
              "    </tr>\n",
              "    <tr>\n",
              "      <th>69</th>\n",
              "      <td>62</td>\n",
              "      <td>female</td>\n",
              "      <td>asymptomatic</td>\n",
              "      <td>124</td>\n",
              "      <td>209</td>\n",
              "      <td>&lt; 120 mg/dl</td>\n",
              "      <td>ST-T wave abnormality</td>\n",
              "      <td>163</td>\n",
              "      <td>no angina</td>\n",
              "      <td>0.0</td>\n",
              "      <td>downsloping</td>\n",
              "      <td>0</td>\n",
              "      <td>diseased</td>\n",
              "    </tr>\n",
              "    <tr>\n",
              "      <th>85</th>\n",
              "      <td>67</td>\n",
              "      <td>female</td>\n",
              "      <td>atypical angina</td>\n",
              "      <td>115</td>\n",
              "      <td>564</td>\n",
              "      <td>&lt; 120 mg/dl</td>\n",
              "      <td>normal</td>\n",
              "      <td>160</td>\n",
              "      <td>no angina</td>\n",
              "      <td>1.6</td>\n",
              "      <td>flat</td>\n",
              "      <td>0</td>\n",
              "      <td>diseased</td>\n",
              "    </tr>\n",
              "    <tr>\n",
              "      <th>86</th>\n",
              "      <td>68</td>\n",
              "      <td>male</td>\n",
              "      <td>atypical angina</td>\n",
              "      <td>118</td>\n",
              "      <td>277</td>\n",
              "      <td>&lt; 120 mg/dl</td>\n",
              "      <td>ST-T wave abnormality</td>\n",
              "      <td>151</td>\n",
              "      <td>no angina</td>\n",
              "      <td>1.0</td>\n",
              "      <td>downsloping</td>\n",
              "      <td>1</td>\n",
              "      <td>diseased</td>\n",
              "    </tr>\n",
              "    <tr>\n",
              "      <th>96</th>\n",
              "      <td>62</td>\n",
              "      <td>female</td>\n",
              "      <td>asymptomatic</td>\n",
              "      <td>140</td>\n",
              "      <td>394</td>\n",
              "      <td>&lt; 120 mg/dl</td>\n",
              "      <td>normal</td>\n",
              "      <td>157</td>\n",
              "      <td>no angina</td>\n",
              "      <td>1.2</td>\n",
              "      <td>flat</td>\n",
              "      <td>0</td>\n",
              "      <td>diseased</td>\n",
              "    </tr>\n",
              "    <tr>\n",
              "      <th>102</th>\n",
              "      <td>63</td>\n",
              "      <td>female</td>\n",
              "      <td>typical angina</td>\n",
              "      <td>140</td>\n",
              "      <td>195</td>\n",
              "      <td>&lt; 120 mg/dl</td>\n",
              "      <td>ST-T wave abnormality</td>\n",
              "      <td>179</td>\n",
              "      <td>no angina</td>\n",
              "      <td>0.0</td>\n",
              "      <td>downsloping</td>\n",
              "      <td>2</td>\n",
              "      <td>diseased</td>\n",
              "    </tr>\n",
              "    <tr>\n",
              "      <th>105</th>\n",
              "      <td>68</td>\n",
              "      <td>female</td>\n",
              "      <td>atypical angina</td>\n",
              "      <td>120</td>\n",
              "      <td>211</td>\n",
              "      <td>&lt; 120 mg/dl</td>\n",
              "      <td>normal</td>\n",
              "      <td>115</td>\n",
              "      <td>no angina</td>\n",
              "      <td>1.5</td>\n",
              "      <td>flat</td>\n",
              "      <td>0</td>\n",
              "      <td>diseased</td>\n",
              "    </tr>\n",
              "    <tr>\n",
              "      <th>106</th>\n",
              "      <td>69</td>\n",
              "      <td>male</td>\n",
              "      <td>non-anginal pain</td>\n",
              "      <td>160</td>\n",
              "      <td>234</td>\n",
              "      <td>&gt; 120 mg/dl</td>\n",
              "      <td>normal</td>\n",
              "      <td>131</td>\n",
              "      <td>no angina</td>\n",
              "      <td>0.1</td>\n",
              "      <td>flat</td>\n",
              "      <td>1</td>\n",
              "      <td>diseased</td>\n",
              "    </tr>\n",
              "    <tr>\n",
              "      <th>110</th>\n",
              "      <td>64</td>\n",
              "      <td>female</td>\n",
              "      <td>asymptomatic</td>\n",
              "      <td>180</td>\n",
              "      <td>325</td>\n",
              "      <td>&lt; 120 mg/dl</td>\n",
              "      <td>ST-T wave abnormality</td>\n",
              "      <td>154</td>\n",
              "      <td>angina</td>\n",
              "      <td>0.0</td>\n",
              "      <td>downsloping</td>\n",
              "      <td>0</td>\n",
              "      <td>diseased</td>\n",
              "    </tr>\n",
              "    <tr>\n",
              "      <th>112</th>\n",
              "      <td>64</td>\n",
              "      <td>female</td>\n",
              "      <td>atypical angina</td>\n",
              "      <td>140</td>\n",
              "      <td>313</td>\n",
              "      <td>&lt; 120 mg/dl</td>\n",
              "      <td>ST-T wave abnormality</td>\n",
              "      <td>133</td>\n",
              "      <td>no angina</td>\n",
              "      <td>0.2</td>\n",
              "      <td>downsloping</td>\n",
              "      <td>0</td>\n",
              "      <td>diseased</td>\n",
              "    </tr>\n",
              "    <tr>\n",
              "      <th>120</th>\n",
              "      <td>64</td>\n",
              "      <td>female</td>\n",
              "      <td>asymptomatic</td>\n",
              "      <td>130</td>\n",
              "      <td>303</td>\n",
              "      <td>&lt; 120 mg/dl</td>\n",
              "      <td>ST-T wave abnormality</td>\n",
              "      <td>122</td>\n",
              "      <td>no angina</td>\n",
              "      <td>2.0</td>\n",
              "      <td>flat</td>\n",
              "      <td>2</td>\n",
              "      <td>diseased</td>\n",
              "    </tr>\n",
              "    <tr>\n",
              "      <th>127</th>\n",
              "      <td>67</td>\n",
              "      <td>female</td>\n",
              "      <td>atypical angina</td>\n",
              "      <td>152</td>\n",
              "      <td>277</td>\n",
              "      <td>&lt; 120 mg/dl</td>\n",
              "      <td>ST-T wave abnormality</td>\n",
              "      <td>172</td>\n",
              "      <td>no angina</td>\n",
              "      <td>0.0</td>\n",
              "      <td>downsloping</td>\n",
              "      <td>1</td>\n",
              "      <td>diseased</td>\n",
              "    </tr>\n",
              "    <tr>\n",
              "      <th>129</th>\n",
              "      <td>74</td>\n",
              "      <td>female</td>\n",
              "      <td>typical angina</td>\n",
              "      <td>120</td>\n",
              "      <td>269</td>\n",
              "      <td>&lt; 120 mg/dl</td>\n",
              "      <td>normal</td>\n",
              "      <td>121</td>\n",
              "      <td>angina</td>\n",
              "      <td>0.2</td>\n",
              "      <td>downsloping</td>\n",
              "      <td>1</td>\n",
              "      <td>diseased</td>\n",
              "    </tr>\n",
              "    <tr>\n",
              "      <th>137</th>\n",
              "      <td>62</td>\n",
              "      <td>male</td>\n",
              "      <td>typical angina</td>\n",
              "      <td>128</td>\n",
              "      <td>208</td>\n",
              "      <td>&gt; 120 mg/dl</td>\n",
              "      <td>normal</td>\n",
              "      <td>140</td>\n",
              "      <td>no angina</td>\n",
              "      <td>0.0</td>\n",
              "      <td>downsloping</td>\n",
              "      <td>0</td>\n",
              "      <td>diseased</td>\n",
              "    </tr>\n",
              "    <tr>\n",
              "      <th>139</th>\n",
              "      <td>64</td>\n",
              "      <td>male</td>\n",
              "      <td>asymptomatic</td>\n",
              "      <td>128</td>\n",
              "      <td>263</td>\n",
              "      <td>&lt; 120 mg/dl</td>\n",
              "      <td>ST-T wave abnormality</td>\n",
              "      <td>105</td>\n",
              "      <td>angina</td>\n",
              "      <td>0.2</td>\n",
              "      <td>flat</td>\n",
              "      <td>1</td>\n",
              "      <td>diseased</td>\n",
              "    </tr>\n",
              "    <tr>\n",
              "      <th>143</th>\n",
              "      <td>67</td>\n",
              "      <td>female</td>\n",
              "      <td>asymptomatic</td>\n",
              "      <td>106</td>\n",
              "      <td>223</td>\n",
              "      <td>&lt; 120 mg/dl</td>\n",
              "      <td>ST-T wave abnormality</td>\n",
              "      <td>142</td>\n",
              "      <td>no angina</td>\n",
              "      <td>0.3</td>\n",
              "      <td>downsloping</td>\n",
              "      <td>2</td>\n",
              "      <td>diseased</td>\n",
              "    </tr>\n",
              "    <tr>\n",
              "      <th>144</th>\n",
              "      <td>76</td>\n",
              "      <td>female</td>\n",
              "      <td>atypical angina</td>\n",
              "      <td>140</td>\n",
              "      <td>197</td>\n",
              "      <td>&lt; 120 mg/dl</td>\n",
              "      <td>left ventricular hypertrophy</td>\n",
              "      <td>116</td>\n",
              "      <td>no angina</td>\n",
              "      <td>1.1</td>\n",
              "      <td>flat</td>\n",
              "      <td>0</td>\n",
              "      <td>diseased</td>\n",
              "    </tr>\n",
              "    <tr>\n",
              "      <th>145</th>\n",
              "      <td>70</td>\n",
              "      <td>male</td>\n",
              "      <td>typical angina</td>\n",
              "      <td>156</td>\n",
              "      <td>245</td>\n",
              "      <td>&lt; 120 mg/dl</td>\n",
              "      <td>normal</td>\n",
              "      <td>143</td>\n",
              "      <td>no angina</td>\n",
              "      <td>0.0</td>\n",
              "      <td>downsloping</td>\n",
              "      <td>0</td>\n",
              "      <td>diseased</td>\n",
              "    </tr>\n",
              "    <tr>\n",
              "      <th>150</th>\n",
              "      <td>66</td>\n",
              "      <td>male</td>\n",
              "      <td>asymptomatic</td>\n",
              "      <td>160</td>\n",
              "      <td>228</td>\n",
              "      <td>&lt; 120 mg/dl</td>\n",
              "      <td>normal</td>\n",
              "      <td>138</td>\n",
              "      <td>no angina</td>\n",
              "      <td>2.3</td>\n",
              "      <td>downsloping</td>\n",
              "      <td>0</td>\n",
              "      <td>diseased</td>\n",
              "    </tr>\n",
              "    <tr>\n",
              "      <th>151</th>\n",
              "      <td>71</td>\n",
              "      <td>female</td>\n",
              "      <td>asymptomatic</td>\n",
              "      <td>112</td>\n",
              "      <td>149</td>\n",
              "      <td>&lt; 120 mg/dl</td>\n",
              "      <td>ST-T wave abnormality</td>\n",
              "      <td>125</td>\n",
              "      <td>no angina</td>\n",
              "      <td>1.6</td>\n",
              "      <td>flat</td>\n",
              "      <td>0</td>\n",
              "      <td>diseased</td>\n",
              "    </tr>\n",
              "    <tr>\n",
              "      <th>152</th>\n",
              "      <td>64</td>\n",
              "      <td>male</td>\n",
              "      <td>non-anginal pain</td>\n",
              "      <td>170</td>\n",
              "      <td>227</td>\n",
              "      <td>&lt; 120 mg/dl</td>\n",
              "      <td>normal</td>\n",
              "      <td>155</td>\n",
              "      <td>no angina</td>\n",
              "      <td>0.6</td>\n",
              "      <td>flat</td>\n",
              "      <td>0</td>\n",
              "      <td>diseased</td>\n",
              "    </tr>\n",
              "    <tr>\n",
              "      <th>153</th>\n",
              "      <td>66</td>\n",
              "      <td>female</td>\n",
              "      <td>atypical angina</td>\n",
              "      <td>146</td>\n",
              "      <td>278</td>\n",
              "      <td>&lt; 120 mg/dl</td>\n",
              "      <td>normal</td>\n",
              "      <td>152</td>\n",
              "      <td>no angina</td>\n",
              "      <td>0.0</td>\n",
              "      <td>flat</td>\n",
              "      <td>1</td>\n",
              "      <td>diseased</td>\n",
              "    </tr>\n",
              "    <tr>\n",
              "      <th>165</th>\n",
              "      <td>67</td>\n",
              "      <td>male</td>\n",
              "      <td>asymptomatic</td>\n",
              "      <td>160</td>\n",
              "      <td>286</td>\n",
              "      <td>&lt; 120 mg/dl</td>\n",
              "      <td>normal</td>\n",
              "      <td>108</td>\n",
              "      <td>angina</td>\n",
              "      <td>1.5</td>\n",
              "      <td>flat</td>\n",
              "      <td>3</td>\n",
              "      <td>healthy</td>\n",
              "    </tr>\n",
              "    <tr>\n",
              "      <th>166</th>\n",
              "      <td>67</td>\n",
              "      <td>male</td>\n",
              "      <td>asymptomatic</td>\n",
              "      <td>120</td>\n",
              "      <td>229</td>\n",
              "      <td>&lt; 120 mg/dl</td>\n",
              "      <td>normal</td>\n",
              "      <td>129</td>\n",
              "      <td>angina</td>\n",
              "      <td>2.6</td>\n",
              "      <td>flat</td>\n",
              "      <td>2</td>\n",
              "      <td>healthy</td>\n",
              "    </tr>\n",
              "    <tr>\n",
              "      <th>167</th>\n",
              "      <td>62</td>\n",
              "      <td>female</td>\n",
              "      <td>asymptomatic</td>\n",
              "      <td>140</td>\n",
              "      <td>268</td>\n",
              "      <td>&lt; 120 mg/dl</td>\n",
              "      <td>normal</td>\n",
              "      <td>160</td>\n",
              "      <td>no angina</td>\n",
              "      <td>3.6</td>\n",
              "      <td>upsloping</td>\n",
              "      <td>2</td>\n",
              "      <td>healthy</td>\n",
              "    </tr>\n",
              "    <tr>\n",
              "      <th>168</th>\n",
              "      <td>63</td>\n",
              "      <td>male</td>\n",
              "      <td>asymptomatic</td>\n",
              "      <td>130</td>\n",
              "      <td>254</td>\n",
              "      <td>&lt; 120 mg/dl</td>\n",
              "      <td>normal</td>\n",
              "      <td>147</td>\n",
              "      <td>no angina</td>\n",
              "      <td>1.4</td>\n",
              "      <td>flat</td>\n",
              "      <td>1</td>\n",
              "      <td>healthy</td>\n",
              "    </tr>\n",
              "    <tr>\n",
              "      <th>177</th>\n",
              "      <td>64</td>\n",
              "      <td>male</td>\n",
              "      <td>atypical angina</td>\n",
              "      <td>140</td>\n",
              "      <td>335</td>\n",
              "      <td>&lt; 120 mg/dl</td>\n",
              "      <td>ST-T wave abnormality</td>\n",
              "      <td>158</td>\n",
              "      <td>no angina</td>\n",
              "      <td>0.0</td>\n",
              "      <td>downsloping</td>\n",
              "      <td>0</td>\n",
              "      <td>healthy</td>\n",
              "    </tr>\n",
              "  </tbody>\n",
              "</table>\n",
              "</div>\n",
              "      <button class=\"colab-df-convert\" onclick=\"convertToInteractive('df-89f81044-735b-442c-a318-a57b38d9f1b8')\"\n",
              "              title=\"Convert this dataframe to an interactive table.\"\n",
              "              style=\"display:none;\">\n",
              "        \n",
              "  <svg xmlns=\"http://www.w3.org/2000/svg\" height=\"24px\"viewBox=\"0 0 24 24\"\n",
              "       width=\"24px\">\n",
              "    <path d=\"M0 0h24v24H0V0z\" fill=\"none\"/>\n",
              "    <path d=\"M18.56 5.44l.94 2.06.94-2.06 2.06-.94-2.06-.94-.94-2.06-.94 2.06-2.06.94zm-11 1L8.5 8.5l.94-2.06 2.06-.94-2.06-.94L8.5 2.5l-.94 2.06-2.06.94zm10 10l.94 2.06.94-2.06 2.06-.94-2.06-.94-.94-2.06-.94 2.06-2.06.94z\"/><path d=\"M17.41 7.96l-1.37-1.37c-.4-.4-.92-.59-1.43-.59-.52 0-1.04.2-1.43.59L10.3 9.45l-7.72 7.72c-.78.78-.78 2.05 0 2.83L4 21.41c.39.39.9.59 1.41.59.51 0 1.02-.2 1.41-.59l7.78-7.78 2.81-2.81c.8-.78.8-2.07 0-2.86zM5.41 20L4 18.59l7.72-7.72 1.47 1.35L5.41 20z\"/>\n",
              "  </svg>\n",
              "      </button>\n",
              "      \n",
              "  <style>\n",
              "    .colab-df-container {\n",
              "      display:flex;\n",
              "      flex-wrap:wrap;\n",
              "      gap: 12px;\n",
              "    }\n",
              "\n",
              "    .colab-df-convert {\n",
              "      background-color: #E8F0FE;\n",
              "      border: none;\n",
              "      border-radius: 50%;\n",
              "      cursor: pointer;\n",
              "      display: none;\n",
              "      fill: #1967D2;\n",
              "      height: 32px;\n",
              "      padding: 0 0 0 0;\n",
              "      width: 32px;\n",
              "    }\n",
              "\n",
              "    .colab-df-convert:hover {\n",
              "      background-color: #E2EBFA;\n",
              "      box-shadow: 0px 1px 2px rgba(60, 64, 67, 0.3), 0px 1px 3px 1px rgba(60, 64, 67, 0.15);\n",
              "      fill: #174EA6;\n",
              "    }\n",
              "\n",
              "    [theme=dark] .colab-df-convert {\n",
              "      background-color: #3B4455;\n",
              "      fill: #D2E3FC;\n",
              "    }\n",
              "\n",
              "    [theme=dark] .colab-df-convert:hover {\n",
              "      background-color: #434B5C;\n",
              "      box-shadow: 0px 1px 3px 1px rgba(0, 0, 0, 0.15);\n",
              "      filter: drop-shadow(0px 1px 2px rgba(0, 0, 0, 0.3));\n",
              "      fill: #FFFFFF;\n",
              "    }\n",
              "  </style>\n",
              "\n",
              "      <script>\n",
              "        const buttonEl =\n",
              "          document.querySelector('#df-89f81044-735b-442c-a318-a57b38d9f1b8 button.colab-df-convert');\n",
              "        buttonEl.style.display =\n",
              "          google.colab.kernel.accessAllowed ? 'block' : 'none';\n",
              "\n",
              "        async function convertToInteractive(key) {\n",
              "          const element = document.querySelector('#df-89f81044-735b-442c-a318-a57b38d9f1b8');\n",
              "          const dataTable =\n",
              "            await google.colab.kernel.invokeFunction('convertToInteractive',\n",
              "                                                     [key], {});\n",
              "          if (!dataTable) return;\n",
              "\n",
              "          const docLinkHtml = 'Like what you see? Visit the ' +\n",
              "            '<a target=\"_blank\" href=https://colab.research.google.com/notebooks/data_table.ipynb>data table notebook</a>'\n",
              "            + ' to learn more about interactive tables.';\n",
              "          element.innerHTML = '';\n",
              "          dataTable['output_type'] = 'display_data';\n",
              "          await google.colab.output.renderOutput(dataTable, element);\n",
              "          const docLink = document.createElement('div');\n",
              "          docLink.innerHTML = docLinkHtml;\n",
              "          element.appendChild(docLink);\n",
              "        }\n",
              "      </script>\n",
              "    </div>\n",
              "  </div>\n",
              "  "
            ]
          },
          "metadata": {},
          "execution_count": 58
        }
      ],
      "source": [
        "older_60 = heart_uci[\"Age\"] > 60\n",
        "heart_uci_old = heart_uci[older_60]\n",
        "heart_uci_old.head(40)"
      ]
    },
    {
      "cell_type": "markdown",
      "metadata": {
        "id": "556euCEM0DPH"
      },
      "source": [
        "#### Задача\n",
        "\n",
        "Посчитайте среднее давление в покое для пациентов возрастом 50+ лет и меньше 50. Отличаются ли они?"
      ]
    },
    {
      "cell_type": "code",
      "source": [
        "heart_uci.columns"
      ],
      "metadata": {
        "colab": {
          "base_uri": "https://localhost:8080/"
        },
        "id": "FbiCMgxx6C93",
        "outputId": "373b357a-51ee-4663-81ee-58e4a450d1b9"
      },
      "execution_count": null,
      "outputs": [
        {
          "output_type": "execute_result",
          "data": {
            "text/plain": [
              "Index(['Age', 'Sex', 'Chest_pain_type', 'Resting_blood_pressure',\n",
              "       'Serum_cholesterol', 'Fasting_blood_sugar', 'Rest_ECG',\n",
              "       'Max_heart_rate', 'Exercise_angina', 'Exercise_ST_depression',\n",
              "       'ST_peak_slope', 'Vessels_colored', 'Heart_disease'],\n",
              "      dtype='object')"
            ]
          },
          "metadata": {},
          "execution_count": 59
        }
      ]
    },
    {
      "cell_type": "code",
      "source": [
        "# your code here"
      ],
      "metadata": {
        "id": "re2RqAuqAcwR"
      },
      "execution_count": null,
      "outputs": []
    },
    {
      "cell_type": "code",
      "source": [
        "import scipy.stats as sci\n",
        "sci.ttest_ind(rg50, rl50, equal_var=False)"
      ],
      "metadata": {
        "colab": {
          "base_uri": "https://localhost:8080/"
        },
        "id": "E3rCKv3T7W26",
        "outputId": "26f6d6e2-4368-4a8f-f783-bffec4d17d52"
      },
      "execution_count": null,
      "outputs": [
        {
          "output_type": "execute_result",
          "data": {
            "text/plain": [
              "Ttest_indResult(statistic=5.722844885779983, pvalue=3.165770156234924e-08)"
            ]
          },
          "metadata": {},
          "execution_count": 73
        }
      ]
    },
    {
      "cell_type": "markdown",
      "metadata": {
        "id": "DDLUsNai0DPH"
      },
      "source": [
        "### Графики"
      ]
    },
    {
      "cell_type": "markdown",
      "metadata": {
        "id": "VjcgoTJ00DPH"
      },
      "source": [
        "Для числовых переменных можно строить **диаграммы рассеяния** (scatter plots)."
      ]
    },
    {
      "cell_type": "code",
      "execution_count": null,
      "metadata": {
        "colab": {
          "base_uri": "https://localhost:8080/",
          "height": 296
        },
        "id": "MWtvca8Z0DPH",
        "outputId": "6c7734a6-6202-4b2c-8374-fb6a535a1dea"
      },
      "outputs": [
        {
          "data": {
            "text/plain": [
              "<AxesSubplot:xlabel='Age', ylabel='Max_heart_rate'>"
            ]
          },
          "execution_count": 75,
          "metadata": {},
          "output_type": "execute_result"
        },
        {
          "data": {
            "image/png": "[encoded data removed]",
            "text/plain": [
              "<Figure size 432x288 with 1 Axes>"
            ]
          },
          "metadata": {
            "needs_background": "light"
          },
          "output_type": "display_data"
        }
      ],
      "source": [
        "heart_uci.plot.scatter(x=\"Age\", y=\"Max_heart_rate\")"
      ]
    },
    {
      "cell_type": "markdown",
      "metadata": {
        "id": "Nz5gib4H0DPI"
      },
      "source": [
        "Можно пометить третью числовую переменную цветом:"
      ]
    },
    {
      "cell_type": "code",
      "execution_count": null,
      "metadata": {
        "colab": {
          "base_uri": "https://localhost:8080/",
          "height": 273
        },
        "id": "YyL3jI_o0DPI",
        "outputId": "3f683c86-b692-49d4-8afd-8dcfdd214db1"
      },
      "outputs": [
        {
          "data": {
            "text/plain": [
              "<AxesSubplot:xlabel='Age', ylabel='Max_heart_rate'>"
            ]
          },
          "execution_count": 76,
          "metadata": {},
          "output_type": "execute_result"
        },
        {
          "data": {
            "image/png": "[encoded data removed]",
            "text/plain": [
              "<Figure size 432x288 with 2 Axes>"
            ]
          },
          "metadata": {
            "needs_background": "light"
          },
          "output_type": "display_data"
        }
      ],
      "source": [
        "heart_uci.plot.scatter(x=\"Age\", y=\"Max_heart_rate\", c=\"Resting_blood_pressure\")"
      ]
    },
    {
      "cell_type": "code",
      "execution_count": null,
      "metadata": {
        "colab": {
          "base_uri": "https://localhost:8080/",
          "height": 274
        },
        "id": "yYuKjFUQ0DPI",
        "outputId": "cd606ac9-4cd6-4881-8f9e-6c4cbe80427b"
      },
      "outputs": [
        {
          "output_type": "execute_result",
          "data": {
            "text/plain": [
              "<matplotlib.axes._subplots.AxesSubplot at 0x7fac17f3b750>"
            ]
          },
          "metadata": {},
          "execution_count": 55
        },
        {
          "output_type": "display_data",
          "data": {
            "text/plain": [
              "<Figure size 432x288 with 2 Axes>"
            ],
            "image/png": "[encoded data removed]"
          },
          "metadata": {}
        }
      ],
      "source": [
        "heart_uci.plot.scatter(x=\"Age\", y=\"Max_heart_rate\", c=\"Resting_blood_pressure\", cmap=\"viridis\")"
      ]
    },
    {
      "cell_type": "markdown",
      "metadata": {
        "id": "TKeeI3fj0DPI"
      },
      "source": [
        "Или сделать забавную гексагональную гистограмму:"
      ]
    },
    {
      "cell_type": "code",
      "execution_count": null,
      "metadata": {
        "colab": {
          "base_uri": "https://localhost:8080/",
          "height": 472
        },
        "id": "OmmvSz6b0DPI",
        "outputId": "ff375169-ef89-4595-c223-2cb2f1680b7f"
      },
      "outputs": [
        {
          "output_type": "execute_result",
          "data": {
            "text/plain": [
              "<Axes: xlabel='Age', ylabel='Max_heart_rate'>"
            ]
          },
          "metadata": {},
          "execution_count": 23
        },
        {
          "output_type": "display_data",
          "data": {
            "text/plain": [
              "<Figure size 640x480 with 2 Axes>"
            ],
            "image/png": "[encoded data removed]"
          },
          "metadata": {}
        }
      ],
      "source": [
        "heart_uci.plot.hexbin(x=\"Age\", y=\"Max_heart_rate\", gridsize=12)"
      ]
    },
    {
      "cell_type": "markdown",
      "metadata": {
        "id": "XtWzJmxy0DPI"
      },
      "source": [
        "#### Задача\n",
        "\n",
        "Постройте **диаграмму рассеяния** для зависимости кровяного давления от возраста. Для тех же данных постройте **гексагональную гистограмму**.\n",
        "\n",
        "Какой из графиков лучше иллюстрирует данные?"
      ]
    },
    {
      "cell_type": "code",
      "source": [
        "heart_uci.columns"
      ],
      "metadata": {
        "colab": {
          "base_uri": "https://localhost:8080/"
        },
        "id": "tZ_ii1Be9Kwv",
        "outputId": "e465c467-874d-4f40-fa65-2566a00b0ec1"
      },
      "execution_count": null,
      "outputs": [
        {
          "output_type": "execute_result",
          "data": {
            "text/plain": [
              "Index(['Age', 'Sex', 'Chest_pain_type', 'Resting_blood_pressure',\n",
              "       'Serum_cholesterol', 'Fasting_blood_sugar', 'Rest_ECG',\n",
              "       'Max_heart_rate', 'Exercise_angina', 'Exercise_ST_depression',\n",
              "       'ST_peak_slope', 'Vessels_colored', 'Heart_disease'],\n",
              "      dtype='object')"
            ]
          },
          "metadata": {},
          "execution_count": 74
        }
      ]
    },
    {
      "cell_type": "code",
      "source": [
        "# your code here"
      ],
      "metadata": {
        "id": "0C7UxUn_AVU5"
      },
      "execution_count": null,
      "outputs": []
    },
    {
      "cell_type": "markdown",
      "metadata": {
        "id": "HICU_-WS0DPJ"
      },
      "source": [
        "### Группировка данных"
      ]
    },
    {
      "cell_type": "markdown",
      "metadata": {
        "id": "ZcuF_ujx0DPJ"
      },
      "source": [
        "Зачастую вам нужно посмотреть на ваши данные не просто в целом, а с разделением по группам."
      ]
    },
    {
      "cell_type": "markdown",
      "metadata": {
        "id": "ZXz4bLE00DPJ"
      },
      "source": [
        "На помощь нам приходит метод `pd.DataFrame.groupby`."
      ]
    },
    {
      "cell_type": "code",
      "execution_count": null,
      "metadata": {
        "colab": {
          "base_uri": "https://localhost:8080/"
        },
        "id": "5yLceL6y0DPJ",
        "outputId": "8f73b1ca-15d9-4dca-b7a4-54a679dfd4b8"
      },
      "outputs": [
        {
          "data": {
            "text/plain": [
              "<pandas.core.groupby.generic.DataFrameGroupBy object at 0x00000243B420DD48>"
            ]
          },
          "execution_count": 81,
          "metadata": {},
          "output_type": "execute_result"
        }
      ],
      "source": [
        "heart_uci.groupby(\"Heart_disease\")"
      ]
    },
    {
      "cell_type": "markdown",
      "metadata": {
        "id": "xog22q4r0DPJ"
      },
      "source": [
        "В результате мы получаем непонятного типа объект. Что с ним делать дальше?"
      ]
    },
    {
      "cell_type": "markdown",
      "metadata": {
        "id": "P9X1PEZu0DPK"
      },
      "source": [
        "На самом деле, это **объект-указатель группировки**. У него, например, можно запрашивать **подсчет отдельных статистик**."
      ]
    },
    {
      "cell_type": "code",
      "execution_count": null,
      "metadata": {
        "colab": {
          "base_uri": "https://localhost:8080/",
          "height": 163
        },
        "id": "DgpjRaiu0DPK",
        "outputId": "f22c59e8-80e1-40f2-cfaf-9f702b8da087"
      },
      "outputs": [
        {
          "data": {
            "text/html": [
              "<div>\n",
              "<style scoped>\n",
              "    .dataframe tbody tr th:only-of-type {\n",
              "        vertical-align: middle;\n",
              "    }\n",
              "\n",
              "    .dataframe tbody tr th {\n",
              "        vertical-align: top;\n",
              "    }\n",
              "\n",
              "    .dataframe thead th {\n",
              "        text-align: right;\n",
              "    }\n",
              "</style>\n",
              "<table border=\"1\" class=\"dataframe\">\n",
              "  <thead>\n",
              "    <tr style=\"text-align: right;\">\n",
              "      <th></th>\n",
              "      <th>Age</th>\n",
              "      <th>Resting_blood_pressure</th>\n",
              "      <th>Serum_cholesterol</th>\n",
              "      <th>Max_heart_rate</th>\n",
              "      <th>Exercise_ST_depression</th>\n",
              "      <th>Vessels_colored</th>\n",
              "    </tr>\n",
              "    <tr>\n",
              "      <th>Heart_disease</th>\n",
              "      <th></th>\n",
              "      <th></th>\n",
              "      <th></th>\n",
              "      <th></th>\n",
              "      <th></th>\n",
              "      <th></th>\n",
              "    </tr>\n",
              "  </thead>\n",
              "  <tbody>\n",
              "    <tr>\n",
              "      <th>diseased</th>\n",
              "      <td>52.496970</td>\n",
              "      <td>129.303030</td>\n",
              "      <td>242.230303</td>\n",
              "      <td>158.466667</td>\n",
              "      <td>0.583030</td>\n",
              "      <td>0.363636</td>\n",
              "    </tr>\n",
              "    <tr>\n",
              "      <th>healthy</th>\n",
              "      <td>56.601449</td>\n",
              "      <td>134.398551</td>\n",
              "      <td>251.086957</td>\n",
              "      <td>139.101449</td>\n",
              "      <td>1.585507</td>\n",
              "      <td>1.166667</td>\n",
              "    </tr>\n",
              "  </tbody>\n",
              "</table>\n",
              "</div>"
            ],
            "text/plain": [
              "                     Age  Resting_blood_pressure  Serum_cholesterol  \\\n",
              "Heart_disease                                                         \n",
              "diseased       52.496970              129.303030         242.230303   \n",
              "healthy        56.601449              134.398551         251.086957   \n",
              "\n",
              "               Max_heart_rate  Exercise_ST_depression  Vessels_colored  \n",
              "Heart_disease                                                           \n",
              "diseased           158.466667                0.583030         0.363636  \n",
              "healthy            139.101449                1.585507         1.166667  "
            ]
          },
          "execution_count": 82,
          "metadata": {},
          "output_type": "execute_result"
        }
      ],
      "source": [
        "heart_uci.groupby(\"Heart_disease\").mean()"
      ]
    },
    {
      "cell_type": "markdown",
      "metadata": {
        "id": "ys6vvsUe0DPK"
      },
      "source": [
        "Обычно это делают для отдельных колонок."
      ]
    },
    {
      "cell_type": "code",
      "execution_count": null,
      "metadata": {
        "colab": {
          "base_uri": "https://localhost:8080/",
          "height": 143
        },
        "id": "aJu-JG2_0DPK",
        "outputId": "8b5118f8-ce4f-4a46-db61-b9e089eeb8c0"
      },
      "outputs": [
        {
          "data": {
            "text/html": [
              "<div>\n",
              "<style scoped>\n",
              "    .dataframe tbody tr th:only-of-type {\n",
              "        vertical-align: middle;\n",
              "    }\n",
              "\n",
              "    .dataframe tbody tr th {\n",
              "        vertical-align: top;\n",
              "    }\n",
              "\n",
              "    .dataframe thead th {\n",
              "        text-align: right;\n",
              "    }\n",
              "</style>\n",
              "<table border=\"1\" class=\"dataframe\">\n",
              "  <thead>\n",
              "    <tr style=\"text-align: right;\">\n",
              "      <th></th>\n",
              "      <th>count</th>\n",
              "      <th>mean</th>\n",
              "      <th>std</th>\n",
              "      <th>min</th>\n",
              "      <th>25%</th>\n",
              "      <th>50%</th>\n",
              "      <th>75%</th>\n",
              "      <th>max</th>\n",
              "    </tr>\n",
              "    <tr>\n",
              "      <th>Heart_disease</th>\n",
              "      <th></th>\n",
              "      <th></th>\n",
              "      <th></th>\n",
              "      <th></th>\n",
              "      <th></th>\n",
              "      <th></th>\n",
              "      <th></th>\n",
              "      <th></th>\n",
              "    </tr>\n",
              "  </thead>\n",
              "  <tbody>\n",
              "    <tr>\n",
              "      <th>diseased</th>\n",
              "      <td>165.0</td>\n",
              "      <td>52.496970</td>\n",
              "      <td>9.550651</td>\n",
              "      <td>29.0</td>\n",
              "      <td>44.0</td>\n",
              "      <td>52.0</td>\n",
              "      <td>59.0</td>\n",
              "      <td>76.0</td>\n",
              "    </tr>\n",
              "    <tr>\n",
              "      <th>healthy</th>\n",
              "      <td>138.0</td>\n",
              "      <td>56.601449</td>\n",
              "      <td>7.962082</td>\n",
              "      <td>35.0</td>\n",
              "      <td>52.0</td>\n",
              "      <td>58.0</td>\n",
              "      <td>62.0</td>\n",
              "      <td>77.0</td>\n",
              "    </tr>\n",
              "  </tbody>\n",
              "</table>\n",
              "</div>"
            ],
            "text/plain": [
              "               count       mean       std   min   25%   50%   75%   max\n",
              "Heart_disease                                                          \n",
              "diseased       165.0  52.496970  9.550651  29.0  44.0  52.0  59.0  76.0\n",
              "healthy        138.0  56.601449  7.962082  35.0  52.0  58.0  62.0  77.0"
            ]
          },
          "execution_count": 83,
          "metadata": {},
          "output_type": "execute_result"
        }
      ],
      "source": [
        "heart_uci.groupby(\"Heart_disease\")[\"Age\"].describe()"
      ]
    },
    {
      "cell_type": "code",
      "execution_count": null,
      "metadata": {
        "id": "8UkJnhDs0DPK",
        "outputId": "4d6319d2-abe3-4556-a91f-a3312eec5e3a",
        "colab": {
          "base_uri": "https://localhost:8080/",
          "height": 499
        }
      },
      "outputs": [
        {
          "output_type": "execute_result",
          "data": {
            "text/plain": [
              "Heart_disease\n",
              "diseased    Axes(0.125,0.11;0.775x0.77)\n",
              "healthy     Axes(0.125,0.11;0.775x0.77)\n",
              "Name: Age, dtype: object"
            ]
          },
          "metadata": {},
          "execution_count": 25
        },
        {
          "output_type": "display_data",
          "data": {
            "text/plain": [
              "<Figure size 640x480 with 1 Axes>"
            ],
            "image/png": "[encoded data removed]"
          },
          "metadata": {}
        }
      ],
      "source": [
        "heart_uci.groupby(\"Heart_disease\")[\"Age\"].plot.hist(alpha=0.5)"
      ]
    },
    {
      "cell_type": "markdown",
      "metadata": {
        "id": "9JUJg2Sf0DPK"
      },
      "source": [
        "К несчастью, *не отображается легенда*. Воспользуемся небольшим количеством *черной магии*: т.к. графики pandas отрисовываются с помощью **библиотеки MatPlotLib**, то можно запросить у него команду вывода легенды для последнего графика. Это работает:"
      ]
    },
    {
      "cell_type": "code",
      "execution_count": null,
      "metadata": {
        "id": "9wCuVcpR0DPK"
      },
      "outputs": [],
      "source": [
        "import matplotlib.pyplot as plt"
      ]
    },
    {
      "cell_type": "code",
      "execution_count": null,
      "metadata": {
        "colab": {
          "base_uri": "https://localhost:8080/",
          "height": 447
        },
        "id": "-7UTcwqC0DPL",
        "outputId": "bcc3cd0a-8739-4599-f23f-d6e6751efef6"
      },
      "outputs": [
        {
          "output_type": "execute_result",
          "data": {
            "text/plain": [
              "<matplotlib.legend.Legend at 0x7fdd6fe4c640>"
            ]
          },
          "metadata": {},
          "execution_count": 27
        },
        {
          "output_type": "display_data",
          "data": {
            "text/plain": [
              "<Figure size 640x480 with 1 Axes>"
            ],
            "image/png": "[encoded data removed]"
          },
          "metadata": {}
        }
      ],
      "source": [
        "grouped = heart_uci.groupby(\"Heart_disease\")\n",
        "grouped[\"Age\"].plot.hist(alpha=0.5)\n",
        "plt.legend()"
      ]
    },
    {
      "cell_type": "markdown",
      "metadata": {
        "id": "73uLsudk0DPL"
      },
      "source": [
        "Когда распределений много, гистограммы начинают выглядеть некрасиво..."
      ]
    },
    {
      "cell_type": "code",
      "execution_count": null,
      "metadata": {
        "id": "-wbFRQTk0DPM",
        "outputId": "1a4218da-86ec-4623-ddf6-bf6863be2cd2",
        "colab": {
          "base_uri": "https://localhost:8080/",
          "height": 447
        }
      },
      "outputs": [
        {
          "output_type": "execute_result",
          "data": {
            "text/plain": [
              "<matplotlib.legend.Legend at 0x7fdd6fc4aa00>"
            ]
          },
          "metadata": {},
          "execution_count": 28
        },
        {
          "output_type": "display_data",
          "data": {
            "text/plain": [
              "<Figure size 640x480 with 1 Axes>"
            ],
            "image/png": "[encoded data removed]"
          },
          "metadata": {}
        }
      ],
      "source": [
        "grouped = heart_uci.groupby(\"Chest_pain_type\")\n",
        "grouped[\"Age\"].plot.hist(alpha=0.5)  # not density\n",
        "plt.legend()"
      ]
    },
    {
      "cell_type": "markdown",
      "metadata": {
        "id": "oLfvuqTN0DPM"
      },
      "source": [
        "В таком случае можно вместо гистограмм **построить \"ящик с усами\"** - box plot:"
      ]
    },
    {
      "cell_type": "code",
      "execution_count": null,
      "metadata": {
        "id": "lw3xR9j-0DPM",
        "outputId": "b44827dc-3df8-42ad-8ea9-7597ebc2e598",
        "colab": {
          "base_uri": "https://localhost:8080/",
          "height": 495
        }
      },
      "outputs": [
        {
          "output_type": "execute_result",
          "data": {
            "text/plain": [
              "<Axes: title={'center': 'Age'}, xlabel='Chest_pain_type'>"
            ]
          },
          "metadata": {},
          "execution_count": 29
        },
        {
          "output_type": "display_data",
          "data": {
            "text/plain": [
              "<Figure size 640x480 with 1 Axes>"
            ],
            "image/png": "[encoded data removed]"
          },
          "metadata": {}
        }
      ],
      "source": [
        "heart_uci.boxplot(column=\"Age\", by=\"Chest_pain_type\", grid=False)"
      ]
    },
    {
      "cell_type": "markdown",
      "metadata": {
        "id": "0_UoVdwg0DPM"
      },
      "source": [
        "Еще немного магии..."
      ]
    },
    {
      "cell_type": "code",
      "execution_count": null,
      "metadata": {
        "colab": {
          "base_uri": "https://localhost:8080/",
          "height": 492
        },
        "id": "EPzlcJVZ0DPM",
        "outputId": "52fb3944-365d-4cad-8b76-fce98d1aca7b"
      },
      "outputs": [
        {
          "output_type": "display_data",
          "data": {
            "text/plain": [
              "<Figure size 640x480 with 1 Axes>"
            ],
            "image/png": "[encoded data removed]"
          },
          "metadata": {}
        }
      ],
      "source": [
        "heart_uci.boxplot(column=\"Age\", by=\"Chest_pain_type\", grid=False)\n",
        "plt.tight_layout()"
      ]
    },
    {
      "cell_type": "markdown",
      "metadata": {
        "id": "T9IaxC0A0DPN"
      },
      "source": [
        "### Сводные таблицы"
      ]
    },
    {
      "cell_type": "markdown",
      "metadata": {
        "id": "0BIzn5EB0DPN"
      },
      "source": [
        "Помимо прочего, Pandas умеет строить сводные таблицы!"
      ]
    },
    {
      "cell_type": "code",
      "execution_count": null,
      "metadata": {
        "colab": {
          "base_uri": "https://localhost:8080/",
          "height": 206
        },
        "id": "MWoRTCvp0DPN",
        "outputId": "920567b4-7d2a-4c92-ca20-a845cebb2c94"
      },
      "outputs": [
        {
          "output_type": "execute_result",
          "data": {
            "text/plain": [
              "Sex               female  male\n",
              "Chest_pain_type               \n",
              "asymptomatic          39   104\n",
              "atypical angina       35    52\n",
              "non-anginal pain       4    19\n",
              "typical angina        18    32"
            ],
            "text/html": [
              "\n",
              "  <div id=\"df-bf4e115b-ac86-4fdc-96c9-99be2a94dc67\">\n",
              "    <div class=\"colab-df-container\">\n",
              "      <div>\n",
              "<style scoped>\n",
              "    .dataframe tbody tr th:only-of-type {\n",
              "        vertical-align: middle;\n",
              "    }\n",
              "\n",
              "    .dataframe tbody tr th {\n",
              "        vertical-align: top;\n",
              "    }\n",
              "\n",
              "    .dataframe thead th {\n",
              "        text-align: right;\n",
              "    }\n",
              "</style>\n",
              "<table border=\"1\" class=\"dataframe\">\n",
              "  <thead>\n",
              "    <tr style=\"text-align: right;\">\n",
              "      <th>Sex</th>\n",
              "      <th>female</th>\n",
              "      <th>male</th>\n",
              "    </tr>\n",
              "    <tr>\n",
              "      <th>Chest_pain_type</th>\n",
              "      <th></th>\n",
              "      <th></th>\n",
              "    </tr>\n",
              "  </thead>\n",
              "  <tbody>\n",
              "    <tr>\n",
              "      <th>asymptomatic</th>\n",
              "      <td>39</td>\n",
              "      <td>104</td>\n",
              "    </tr>\n",
              "    <tr>\n",
              "      <th>atypical angina</th>\n",
              "      <td>35</td>\n",
              "      <td>52</td>\n",
              "    </tr>\n",
              "    <tr>\n",
              "      <th>non-anginal pain</th>\n",
              "      <td>4</td>\n",
              "      <td>19</td>\n",
              "    </tr>\n",
              "    <tr>\n",
              "      <th>typical angina</th>\n",
              "      <td>18</td>\n",
              "      <td>32</td>\n",
              "    </tr>\n",
              "  </tbody>\n",
              "</table>\n",
              "</div>\n",
              "      <button class=\"colab-df-convert\" onclick=\"convertToInteractive('df-bf4e115b-ac86-4fdc-96c9-99be2a94dc67')\"\n",
              "              title=\"Convert this dataframe to an interactive table.\"\n",
              "              style=\"display:none;\">\n",
              "        \n",
              "  <svg xmlns=\"http://www.w3.org/2000/svg\" height=\"24px\"viewBox=\"0 0 24 24\"\n",
              "       width=\"24px\">\n",
              "    <path d=\"M0 0h24v24H0V0z\" fill=\"none\"/>\n",
              "    <path d=\"M18.56 5.44l.94 2.06.94-2.06 2.06-.94-2.06-.94-.94-2.06-.94 2.06-2.06.94zm-11 1L8.5 8.5l.94-2.06 2.06-.94-2.06-.94L8.5 2.5l-.94 2.06-2.06.94zm10 10l.94 2.06.94-2.06 2.06-.94-2.06-.94-.94-2.06-.94 2.06-2.06.94z\"/><path d=\"M17.41 7.96l-1.37-1.37c-.4-.4-.92-.59-1.43-.59-.52 0-1.04.2-1.43.59L10.3 9.45l-7.72 7.72c-.78.78-.78 2.05 0 2.83L4 21.41c.39.39.9.59 1.41.59.51 0 1.02-.2 1.41-.59l7.78-7.78 2.81-2.81c.8-.78.8-2.07 0-2.86zM5.41 20L4 18.59l7.72-7.72 1.47 1.35L5.41 20z\"/>\n",
              "  </svg>\n",
              "      </button>\n",
              "      \n",
              "  <style>\n",
              "    .colab-df-container {\n",
              "      display:flex;\n",
              "      flex-wrap:wrap;\n",
              "      gap: 12px;\n",
              "    }\n",
              "\n",
              "    .colab-df-convert {\n",
              "      background-color: #E8F0FE;\n",
              "      border: none;\n",
              "      border-radius: 50%;\n",
              "      cursor: pointer;\n",
              "      display: none;\n",
              "      fill: #1967D2;\n",
              "      height: 32px;\n",
              "      padding: 0 0 0 0;\n",
              "      width: 32px;\n",
              "    }\n",
              "\n",
              "    .colab-df-convert:hover {\n",
              "      background-color: #E2EBFA;\n",
              "      box-shadow: 0px 1px 2px rgba(60, 64, 67, 0.3), 0px 1px 3px 1px rgba(60, 64, 67, 0.15);\n",
              "      fill: #174EA6;\n",
              "    }\n",
              "\n",
              "    [theme=dark] .colab-df-convert {\n",
              "      background-color: #3B4455;\n",
              "      fill: #D2E3FC;\n",
              "    }\n",
              "\n",
              "    [theme=dark] .colab-df-convert:hover {\n",
              "      background-color: #434B5C;\n",
              "      box-shadow: 0px 1px 3px 1px rgba(0, 0, 0, 0.15);\n",
              "      filter: drop-shadow(0px 1px 2px rgba(0, 0, 0, 0.3));\n",
              "      fill: #FFFFFF;\n",
              "    }\n",
              "  </style>\n",
              "\n",
              "      <script>\n",
              "        const buttonEl =\n",
              "          document.querySelector('#df-bf4e115b-ac86-4fdc-96c9-99be2a94dc67 button.colab-df-convert');\n",
              "        buttonEl.style.display =\n",
              "          google.colab.kernel.accessAllowed ? 'block' : 'none';\n",
              "\n",
              "        async function convertToInteractive(key) {\n",
              "          const element = document.querySelector('#df-bf4e115b-ac86-4fdc-96c9-99be2a94dc67');\n",
              "          const dataTable =\n",
              "            await google.colab.kernel.invokeFunction('convertToInteractive',\n",
              "                                                     [key], {});\n",
              "          if (!dataTable) return;\n",
              "\n",
              "          const docLinkHtml = 'Like what you see? Visit the ' +\n",
              "            '<a target=\"_blank\" href=https://colab.research.google.com/notebooks/data_table.ipynb>data table notebook</a>'\n",
              "            + ' to learn more about interactive tables.';\n",
              "          element.innerHTML = '';\n",
              "          dataTable['output_type'] = 'display_data';\n",
              "          await google.colab.output.renderOutput(dataTable, element);\n",
              "          const docLink = document.createElement('div');\n",
              "          docLink.innerHTML = docLinkHtml;\n",
              "          element.appendChild(docLink);\n",
              "        }\n",
              "      </script>\n",
              "    </div>\n",
              "  </div>\n",
              "  "
            ]
          },
          "metadata": {},
          "execution_count": 31
        }
      ],
      "source": [
        "pain_vs_sex = pd.crosstab(heart_uci[\"Chest_pain_type\"], heart_uci[\"Sex\"])\n",
        "pain_vs_sex"
      ]
    },
    {
      "cell_type": "markdown",
      "metadata": {
        "id": "IUhXAyJ2A8tw"
      },
      "source": [
        "#### Задача\n",
        "\n",
        "Статистически оцените, зависит ли тип боли в груди от пола пациентов? Какой тест вы примените? Найдите его в документации SciPy и примените к этим данным."
      ]
    },
    {
      "cell_type": "code",
      "execution_count": null,
      "metadata": {
        "id": "5vY8cDuO3ON5"
      },
      "outputs": [],
      "source": [
        "# rpy2"
      ]
    },
    {
      "cell_type": "markdown",
      "metadata": {
        "id": "pb4HVLIv0DPO"
      },
      "source": [
        "> Pandas не поддерживает глубоко детализованную визуализацию. Для нее можно использовать модули `matplotlib` и `seaborn`, которые мы разберем через занятие."
      ]
    },
    {
      "cell_type": "markdown",
      "metadata": {
        "id": "d093c34e-60d9-4e7e-b0d6-a48a14677114"
      },
      "source": [
        "#### Задача*\n",
        "\n",
        "На [датасете Heart UCI](https://data.bioml.ru/htdocs/courses/edunet-intensive/day6/Heart_UCI_modified.csv) выполните следующие задания:\n",
        "1. Посчитайте количество пациентов каждого пола (можно сделать в одну строчку!).\n",
        "2. Вычислите средний уровень холестерола в крови всех пациентов.\n",
        "3. Сделайте фильтрацию уровня холестерола по полу пациента (создайте два `Series` с холестеролом мужчин и женщин).\n",
        "4. Посчитайте средние уровни холестерола для каждого пола. Сделайте выводы.\n",
        "5. Проведите статистический тест для оценки значимости различия средних значений.\n",
        "6. *Визуализируйте распределения параметра в зависимости от категории."
      ]
    },
    {
      "cell_type": "code",
      "source": [],
      "metadata": {
        "id": "XZMGWYuJK0n8"
      },
      "execution_count": null,
      "outputs": []
    },
    {
      "cell_type": "markdown",
      "metadata": {
        "id": "CnzEB6VBueq7"
      },
      "source": [
        "## MPL (matplotlib)\n",
        "\n",
        "Matplotlib -- одна из самых популярных библиотек для визуализации данных в Python."
      ]
    },
    {
      "cell_type": "code",
      "execution_count": null,
      "metadata": {
        "id": "cvpOJ0hxueq7"
      },
      "outputs": [],
      "source": [
        "import matplotlib.pyplot as plt"
      ]
    },
    {
      "cell_type": "markdown",
      "metadata": {
        "id": "CSte9UYjueq7"
      },
      "source": [
        "![matplotlib.png](https://data.bioml.ru/htdocs/courses/python/datasci/matplotlib/img/matplotlib.png)"
      ]
    },
    {
      "cell_type": "markdown",
      "metadata": {
        "id": "ntm59JDHueq7"
      },
      "source": [
        "### Разберем, как делать самую базовую визуализацию данных"
      ]
    },
    {
      "cell_type": "code",
      "source": [
        "np.random.seed(42)"
      ],
      "metadata": {
        "id": "GJfaqVz30ngF"
      },
      "execution_count": null,
      "outputs": []
    },
    {
      "cell_type": "code",
      "source": [
        "x = np.linspace(0, 1, 101)\n",
        "y = np.cumsum(np.random.normal(loc=0.1, size=101))"
      ],
      "metadata": {
        "id": "BGrFbLY2zspm"
      },
      "execution_count": null,
      "outputs": []
    },
    {
      "cell_type": "code",
      "source": [
        "plt.plot(x, y)  # stonks"
      ],
      "metadata": {
        "colab": {
          "base_uri": "https://localhost:8080/",
          "height": 282
        },
        "id": "DzQLwLnKz5y9",
        "outputId": "da6cf454-c510-47f2-fb09-2379afa90357"
      },
      "execution_count": null,
      "outputs": [
        {
          "output_type": "execute_result",
          "data": {
            "text/plain": [
              "[<matplotlib.lines.Line2D at 0x7f1fe4e2feb0>]"
            ]
          },
          "metadata": {},
          "execution_count": 57
        },
        {
          "output_type": "display_data",
          "data": {
            "text/plain": [
              "<Figure size 432x288 with 1 Axes>"
            ],
            "image/png": "[encoded data removed]"
          },
          "metadata": {
            "needs_background": "light"
          }
        }
      ]
    },
    {
      "cell_type": "markdown",
      "source": [
        "Цвет графика можно менять"
      ],
      "metadata": {
        "id": "zsYjnr4T0Lgi"
      }
    },
    {
      "cell_type": "code",
      "source": [
        "plt.plot(x, y, color=\"orange\")"
      ],
      "metadata": {
        "colab": {
          "base_uri": "https://localhost:8080/",
          "height": 282
        },
        "id": "xuACr50v0Krs",
        "outputId": "6ac8f824-e95d-4ba8-cbc7-f9d8d65f5a28"
      },
      "execution_count": null,
      "outputs": [
        {
          "output_type": "execute_result",
          "data": {
            "text/plain": [
              "[<matplotlib.lines.Line2D at 0x7f1fe509c5e0>]"
            ]
          },
          "metadata": {},
          "execution_count": 58
        },
        {
          "output_type": "display_data",
          "data": {
            "text/plain": [
              "<Figure size 432x288 with 1 Axes>"
            ],
            "image/png": "[encoded data removed]"
          },
          "metadata": {
            "needs_background": "light"
          }
        }
      ]
    },
    {
      "cell_type": "markdown",
      "source": [
        "Можно рисовать несколько линий на одном графике"
      ],
      "metadata": {
        "id": "C02LgVaa0Udt"
      }
    },
    {
      "cell_type": "code",
      "source": [
        "x = np.linspace(0, 1, 101)\n",
        "y1 = np.cumsum(np.random.normal(loc=0.1, size=101))\n",
        "y2 = np.cumsum(np.random.normal(loc=-0.1, size=101))\n",
        "plt.plot(x, y1)\n",
        "plt.plot(x, y2)"
      ],
      "metadata": {
        "colab": {
          "base_uri": "https://localhost:8080/",
          "height": 282
        },
        "id": "5WyBIJ5g0UA_",
        "outputId": "dc52ea5d-fa98-4d9d-e809-f9393cf394f5"
      },
      "execution_count": null,
      "outputs": [
        {
          "output_type": "execute_result",
          "data": {
            "text/plain": [
              "[<matplotlib.lines.Line2D at 0x7f1fef97f070>]"
            ]
          },
          "metadata": {},
          "execution_count": 14
        },
        {
          "output_type": "display_data",
          "data": {
            "text/plain": [
              "<Figure size 432x288 with 1 Axes>"
            ],
            "image/png": "[encoded data removed]"
          },
          "metadata": {
            "needs_background": "light"
          }
        }
      ]
    },
    {
      "cell_type": "markdown",
      "source": [
        "Также в Matplotlib есть другие виды графиков - мы их разберем подробнее на следующих занятиях."
      ],
      "metadata": {
        "id": "xz6HkEot03B7"
      }
    },
    {
      "cell_type": "markdown",
      "source": [
        "**Диаграмма рассеяния** (scatter plot)"
      ],
      "metadata": {
        "id": "mdOLKWrx1UbF"
      }
    },
    {
      "cell_type": "code",
      "source": [
        "plt.scatter(y1, y2)"
      ],
      "metadata": {
        "colab": {
          "base_uri": "https://localhost:8080/",
          "height": 282
        },
        "id": "ntKP94od1Bmt",
        "outputId": "e2f2f69a-60c8-4041-a239-4ecaec33c1f1"
      },
      "execution_count": null,
      "outputs": [
        {
          "output_type": "execute_result",
          "data": {
            "text/plain": [
              "<matplotlib.collections.PathCollection at 0x7f3488d4b580>"
            ]
          },
          "metadata": {},
          "execution_count": 115
        },
        {
          "output_type": "display_data",
          "data": {
            "text/plain": [
              "<Figure size 432x288 with 1 Axes>"
            ],
            "image/png": "[encoded data removed]"
          },
          "metadata": {
            "needs_background": "light"
          }
        }
      ]
    },
    {
      "cell_type": "markdown",
      "source": [
        "**Гистограмма** (histogram)"
      ],
      "metadata": {
        "id": "BSmOLoLZ1Zl9"
      }
    },
    {
      "cell_type": "code",
      "source": [
        "rvs = np.random.normal(size=1000)\n",
        "plt.hist(rvs)\n",
        "plt.show()"
      ],
      "metadata": {
        "colab": {
          "base_uri": "https://localhost:8080/",
          "height": 265
        },
        "id": "2PYatLRA1dhl",
        "outputId": "d1fbcd1a-d758-4b62-d5ce-4845c70d2535"
      },
      "execution_count": null,
      "outputs": [
        {
          "output_type": "display_data",
          "data": {
            "text/plain": [
              "<Figure size 432x288 with 1 Axes>"
            ],
            "image/png": "[encoded data removed]"
          },
          "metadata": {
            "needs_background": "light"
          }
        }
      ]
    },
    {
      "cell_type": "code",
      "source": [
        "plt.hist(rvs, bins=40)\n",
        "plt.show()"
      ],
      "metadata": {
        "colab": {
          "base_uri": "https://localhost:8080/",
          "height": 265
        },
        "id": "0fg6aZRa1iyY",
        "outputId": "5a97bd29-8ef2-4016-dc0d-8303c53a39c5"
      },
      "execution_count": null,
      "outputs": [
        {
          "output_type": "display_data",
          "data": {
            "text/plain": [
              "<Figure size 432x288 with 1 Axes>"
            ],
            "image/png": "[encoded data removed]"
          },
          "metadata": {
            "needs_background": "light"
          }
        }
      ]
    },
    {
      "cell_type": "markdown",
      "metadata": {
        "id": "BjClFa6fuerV"
      },
      "source": [
        "# На этом всё!"
      ]
    },
    {
      "cell_type": "markdown",
      "metadata": {
        "id": "njMilds7uerV"
      },
      "source": [
        "Полную документацию NumPy смотрите на сайте: https://numpy.org/doc/\n",
        "\n",
        "Полная документация MPL: https://matplotlib.org/stable/contents.html\n",
        "\n",
        "Полная документация SciPy: https://docs.scipy.org/doc/scipy/index.html"
      ]
    }
  ],
  "metadata": {
    "celltoolbar": "Slideshow",
    "kernelspec": {
      "display_name": "Python 3",
      "language": "python",
      "name": "python3"
    },
    "language_info": {
      "codemirror_mode": {
        "name": "ipython",
        "version": 3
      },
      "file_extension": ".py",
      "mimetype": "text/x-python",
      "name": "python",
      "nbconvert_exporter": "python",
      "pygments_lexer": "ipython3",
      "version": "3.7.10"
    },
    "colab": {
      "provenance": [],
      "toc_visible": true,
      "include_colab_link": true
    }
  },
  "nbformat": 4,
  "nbformat_minor": 0
}