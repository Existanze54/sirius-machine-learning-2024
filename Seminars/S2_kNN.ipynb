{
  "nbformat": 4,
  "nbformat_minor": 5,
  "metadata": {
    "kernelspec": {
      "display_name": "Python 3",
      "language": "python",
      "name": "python3"
    },
    "language_info": {
      "codemirror_mode": {
        "name": "ipython",
        "version": 3
      },
      "file_extension": ".py",
      "mimetype": "text/x-python",
      "name": "python",
      "nbconvert_exporter": "python",
      "pygments_lexer": "ipython3",
      "version": "3.7.10"
    },
    "colab": {
      "provenance": [],
      "include_colab_link": true
    }
  },
  "cells": [
    {
      "cell_type": "markdown",
      "metadata": {
        "id": "view-in-github",
        "colab_type": "text"
      },
      "source": [
        "<a href=\"https://colab.research.google.com/github/Existanze54/sirius-machine-learning-2024/blob/main/Seminars/S2_kNN.ipynb\" target=\"_parent\"><img src=\"https://colab.research.google.com/assets/colab-badge.svg\" alt=\"Open In Colab\"/></a>"
      ]
    },
    {
      "cell_type": "markdown",
      "metadata": {
        "id": "bb9cd518-2ed8-495f-bea5-6c1c701708c6"
      },
      "source": [
        "# Оновные алгоритмы ML\n",
        "\n",
        "### Семинар 2: Метод kNN. Разбиение данных. Метрики качества.\n",
        "#### Учимся на геномных эмбеддингах. Работа с веществами в Python. Классификация веществ и проблемы разбиения их на обучение и тест."
      ],
      "id": "bb9cd518-2ed8-495f-bea5-6c1c701708c6"
    },
    {
      "cell_type": "code",
      "metadata": {
        "id": "654ff1e0-8eac-452c-a57e-66501bb1a884"
      },
      "source": [
        "import numpy as np\n",
        "import pandas as pd\n",
        "\n",
        "import matplotlib.pyplot as plt\n",
        "import seaborn as sns\n",
        "\n",
        "sns.set()\n",
        "sns.set_style(\"whitegrid\")"
      ],
      "id": "654ff1e0-8eac-452c-a57e-66501bb1a884",
      "execution_count": null,
      "outputs": []
    },
    {
      "cell_type": "markdown",
      "metadata": {
        "id": "52rEgXCz_YXo"
      },
      "source": [
        "### Задача 1: Предсказание рака молочной железы"
      ],
      "id": "52rEgXCz_YXo"
    },
    {
      "cell_type": "markdown",
      "metadata": {
        "id": "_DNBTbVC_YXp"
      },
      "source": [
        "В этой задаче предлагается произвести предсказание рака молочной железы на известном <a href=\"https://archive.ics.uci.edu/ml/datasets/Breast+Cancer+Wisconsin+(Diagnostic)\">датасете</a> UCI ML Breast Cancer Wisconsin (Diagnostic) dataset."
      ],
      "id": "_DNBTbVC_YXp"
    },
    {
      "cell_type": "code",
      "metadata": {
        "id": "unHtz8tw_YXp"
      },
      "source": [
        "from sklearn.datasets import load_breast_cancer\n",
        "data = load_breast_cancer(as_frame=True)"
      ],
      "execution_count": null,
      "outputs": [],
      "id": "unHtz8tw_YXp"
    },
    {
      "cell_type": "code",
      "source": [
        "print(data.DESCR)"
      ],
      "metadata": {
        "id": "S2tmzCyJYhys"
      },
      "execution_count": null,
      "outputs": [],
      "id": "S2tmzCyJYhys"
    },
    {
      "cell_type": "markdown",
      "metadata": {
        "id": "REePt06v_YXq"
      },
      "source": [
        "Датасет загружен за вас, определены `X` и `y`."
      ],
      "id": "REePt06v_YXq"
    },
    {
      "cell_type": "code",
      "metadata": {
        "colab": {
          "base_uri": "https://localhost:8080/",
          "height": 272
        },
        "outputId": "3a646f08-ff6d-414f-a8fb-29c067944202",
        "id": "TWpkugD0_YXq"
      },
      "source": [
        "data['data'].head(3)"
      ],
      "execution_count": null,
      "outputs": [
        {
          "output_type": "execute_result",
          "data": {
            "text/plain": [
              "   mean radius  mean texture  mean perimeter  mean area  mean smoothness  \\\n",
              "0        17.99         10.38           122.8     1001.0          0.11840   \n",
              "1        20.57         17.77           132.9     1326.0          0.08474   \n",
              "2        19.69         21.25           130.0     1203.0          0.10960   \n",
              "\n",
              "   mean compactness  mean concavity  mean concave points  mean symmetry  \\\n",
              "0           0.27760          0.3001              0.14710         0.2419   \n",
              "1           0.07864          0.0869              0.07017         0.1812   \n",
              "2           0.15990          0.1974              0.12790         0.2069   \n",
              "\n",
              "   mean fractal dimension  ...  worst radius  worst texture  worst perimeter  \\\n",
              "0                 0.07871  ...         25.38          17.33            184.6   \n",
              "1                 0.05667  ...         24.99          23.41            158.8   \n",
              "2                 0.05999  ...         23.57          25.53            152.5   \n",
              "\n",
              "   worst area  worst smoothness  worst compactness  worst concavity  \\\n",
              "0      2019.0            0.1622             0.6656           0.7119   \n",
              "1      1956.0            0.1238             0.1866           0.2416   \n",
              "2      1709.0            0.1444             0.4245           0.4504   \n",
              "\n",
              "   worst concave points  worst symmetry  worst fractal dimension  \n",
              "0                0.2654          0.4601                  0.11890  \n",
              "1                0.1860          0.2750                  0.08902  \n",
              "2                0.2430          0.3613                  0.08758  \n",
              "\n",
              "[3 rows x 30 columns]"
            ],
            "text/html": [
              "\n",
              "  <div id=\"df-32f211e2-339a-4394-8e4f-541749f4c07a\">\n",
              "    <div class=\"colab-df-container\">\n",
              "      <div>\n",
              "<style scoped>\n",
              "    .dataframe tbody tr th:only-of-type {\n",
              "        vertical-align: middle;\n",
              "    }\n",
              "\n",
              "    .dataframe tbody tr th {\n",
              "        vertical-align: top;\n",
              "    }\n",
              "\n",
              "    .dataframe thead th {\n",
              "        text-align: right;\n",
              "    }\n",
              "</style>\n",
              "<table border=\"1\" class=\"dataframe\">\n",
              "  <thead>\n",
              "    <tr style=\"text-align: right;\">\n",
              "      <th></th>\n",
              "      <th>mean radius</th>\n",
              "      <th>mean texture</th>\n",
              "      <th>mean perimeter</th>\n",
              "      <th>mean area</th>\n",
              "      <th>mean smoothness</th>\n",
              "      <th>mean compactness</th>\n",
              "      <th>mean concavity</th>\n",
              "      <th>mean concave points</th>\n",
              "      <th>mean symmetry</th>\n",
              "      <th>mean fractal dimension</th>\n",
              "      <th>...</th>\n",
              "      <th>worst radius</th>\n",
              "      <th>worst texture</th>\n",
              "      <th>worst perimeter</th>\n",
              "      <th>worst area</th>\n",
              "      <th>worst smoothness</th>\n",
              "      <th>worst compactness</th>\n",
              "      <th>worst concavity</th>\n",
              "      <th>worst concave points</th>\n",
              "      <th>worst symmetry</th>\n",
              "      <th>worst fractal dimension</th>\n",
              "    </tr>\n",
              "  </thead>\n",
              "  <tbody>\n",
              "    <tr>\n",
              "      <th>0</th>\n",
              "      <td>17.99</td>\n",
              "      <td>10.38</td>\n",
              "      <td>122.8</td>\n",
              "      <td>1001.0</td>\n",
              "      <td>0.11840</td>\n",
              "      <td>0.27760</td>\n",
              "      <td>0.3001</td>\n",
              "      <td>0.14710</td>\n",
              "      <td>0.2419</td>\n",
              "      <td>0.07871</td>\n",
              "      <td>...</td>\n",
              "      <td>25.38</td>\n",
              "      <td>17.33</td>\n",
              "      <td>184.6</td>\n",
              "      <td>2019.0</td>\n",
              "      <td>0.1622</td>\n",
              "      <td>0.6656</td>\n",
              "      <td>0.7119</td>\n",
              "      <td>0.2654</td>\n",
              "      <td>0.4601</td>\n",
              "      <td>0.11890</td>\n",
              "    </tr>\n",
              "    <tr>\n",
              "      <th>1</th>\n",
              "      <td>20.57</td>\n",
              "      <td>17.77</td>\n",
              "      <td>132.9</td>\n",
              "      <td>1326.0</td>\n",
              "      <td>0.08474</td>\n",
              "      <td>0.07864</td>\n",
              "      <td>0.0869</td>\n",
              "      <td>0.07017</td>\n",
              "      <td>0.1812</td>\n",
              "      <td>0.05667</td>\n",
              "      <td>...</td>\n",
              "      <td>24.99</td>\n",
              "      <td>23.41</td>\n",
              "      <td>158.8</td>\n",
              "      <td>1956.0</td>\n",
              "      <td>0.1238</td>\n",
              "      <td>0.1866</td>\n",
              "      <td>0.2416</td>\n",
              "      <td>0.1860</td>\n",
              "      <td>0.2750</td>\n",
              "      <td>0.08902</td>\n",
              "    </tr>\n",
              "    <tr>\n",
              "      <th>2</th>\n",
              "      <td>19.69</td>\n",
              "      <td>21.25</td>\n",
              "      <td>130.0</td>\n",
              "      <td>1203.0</td>\n",
              "      <td>0.10960</td>\n",
              "      <td>0.15990</td>\n",
              "      <td>0.1974</td>\n",
              "      <td>0.12790</td>\n",
              "      <td>0.2069</td>\n",
              "      <td>0.05999</td>\n",
              "      <td>...</td>\n",
              "      <td>23.57</td>\n",
              "      <td>25.53</td>\n",
              "      <td>152.5</td>\n",
              "      <td>1709.0</td>\n",
              "      <td>0.1444</td>\n",
              "      <td>0.4245</td>\n",
              "      <td>0.4504</td>\n",
              "      <td>0.2430</td>\n",
              "      <td>0.3613</td>\n",
              "      <td>0.08758</td>\n",
              "    </tr>\n",
              "  </tbody>\n",
              "</table>\n",
              "<p>3 rows × 30 columns</p>\n",
              "</div>\n",
              "      <button class=\"colab-df-convert\" onclick=\"convertToInteractive('df-32f211e2-339a-4394-8e4f-541749f4c07a')\"\n",
              "              title=\"Convert this dataframe to an interactive table.\"\n",
              "              style=\"display:none;\">\n",
              "        \n",
              "  <svg xmlns=\"http://www.w3.org/2000/svg\" height=\"24px\"viewBox=\"0 0 24 24\"\n",
              "       width=\"24px\">\n",
              "    <path d=\"M0 0h24v24H0V0z\" fill=\"none\"/>\n",
              "    <path d=\"M18.56 5.44l.94 2.06.94-2.06 2.06-.94-2.06-.94-.94-2.06-.94 2.06-2.06.94zm-11 1L8.5 8.5l.94-2.06 2.06-.94-2.06-.94L8.5 2.5l-.94 2.06-2.06.94zm10 10l.94 2.06.94-2.06 2.06-.94-2.06-.94-.94-2.06-.94 2.06-2.06.94z\"/><path d=\"M17.41 7.96l-1.37-1.37c-.4-.4-.92-.59-1.43-.59-.52 0-1.04.2-1.43.59L10.3 9.45l-7.72 7.72c-.78.78-.78 2.05 0 2.83L4 21.41c.39.39.9.59 1.41.59.51 0 1.02-.2 1.41-.59l7.78-7.78 2.81-2.81c.8-.78.8-2.07 0-2.86zM5.41 20L4 18.59l7.72-7.72 1.47 1.35L5.41 20z\"/>\n",
              "  </svg>\n",
              "      </button>\n",
              "      \n",
              "  <style>\n",
              "    .colab-df-container {\n",
              "      display:flex;\n",
              "      flex-wrap:wrap;\n",
              "      gap: 12px;\n",
              "    }\n",
              "\n",
              "    .colab-df-convert {\n",
              "      background-color: #E8F0FE;\n",
              "      border: none;\n",
              "      border-radius: 50%;\n",
              "      cursor: pointer;\n",
              "      display: none;\n",
              "      fill: #1967D2;\n",
              "      height: 32px;\n",
              "      padding: 0 0 0 0;\n",
              "      width: 32px;\n",
              "    }\n",
              "\n",
              "    .colab-df-convert:hover {\n",
              "      background-color: #E2EBFA;\n",
              "      box-shadow: 0px 1px 2px rgba(60, 64, 67, 0.3), 0px 1px 3px 1px rgba(60, 64, 67, 0.15);\n",
              "      fill: #174EA6;\n",
              "    }\n",
              "\n",
              "    [theme=dark] .colab-df-convert {\n",
              "      background-color: #3B4455;\n",
              "      fill: #D2E3FC;\n",
              "    }\n",
              "\n",
              "    [theme=dark] .colab-df-convert:hover {\n",
              "      background-color: #434B5C;\n",
              "      box-shadow: 0px 1px 3px 1px rgba(0, 0, 0, 0.15);\n",
              "      filter: drop-shadow(0px 1px 2px rgba(0, 0, 0, 0.3));\n",
              "      fill: #FFFFFF;\n",
              "    }\n",
              "  </style>\n",
              "\n",
              "      <script>\n",
              "        const buttonEl =\n",
              "          document.querySelector('#df-32f211e2-339a-4394-8e4f-541749f4c07a button.colab-df-convert');\n",
              "        buttonEl.style.display =\n",
              "          google.colab.kernel.accessAllowed ? 'block' : 'none';\n",
              "\n",
              "        async function convertToInteractive(key) {\n",
              "          const element = document.querySelector('#df-32f211e2-339a-4394-8e4f-541749f4c07a');\n",
              "          const dataTable =\n",
              "            await google.colab.kernel.invokeFunction('convertToInteractive',\n",
              "                                                     [key], {});\n",
              "          if (!dataTable) return;\n",
              "\n",
              "          const docLinkHtml = 'Like what you see? Visit the ' +\n",
              "            '<a target=\"_blank\" href=https://colab.research.google.com/notebooks/data_table.ipynb>data table notebook</a>'\n",
              "            + ' to learn more about interactive tables.';\n",
              "          element.innerHTML = '';\n",
              "          dataTable['output_type'] = 'display_data';\n",
              "          await google.colab.output.renderOutput(dataTable, element);\n",
              "          const docLink = document.createElement('div');\n",
              "          docLink.innerHTML = docLinkHtml;\n",
              "          element.appendChild(docLink);\n",
              "        }\n",
              "      </script>\n",
              "    </div>\n",
              "  </div>\n",
              "  "
            ]
          },
          "metadata": {},
          "execution_count": 13
        }
      ],
      "id": "TWpkugD0_YXq"
    },
    {
      "cell_type": "code",
      "metadata": {
        "id": "d2OS8-8k_YXq"
      },
      "source": [
        "X = data['data']\n",
        "y = data['target']"
      ],
      "execution_count": null,
      "outputs": [],
      "id": "d2OS8-8k_YXq"
    },
    {
      "cell_type": "markdown",
      "metadata": {
        "id": "weP4l7Qn_YXr"
      },
      "source": [
        "**Разбейте X и y на тренировочную и тестовую выборки**, как в лекции. Соотношение train/test поставьте равным 4:1.\\\n",
        "*Подсказка*: воспользуйтесь функцией `train_test_split`."
      ],
      "id": "weP4l7Qn_YXr"
    },
    {
      "cell_type": "code",
      "metadata": {
        "id": "FOCGMCZE_YXr"
      },
      "source": [
        "from sklearn.model_selection import train_test_split\n",
        "\n",
        "# your code here"
      ],
      "execution_count": null,
      "outputs": [],
      "id": "FOCGMCZE_YXr"
    },
    {
      "cell_type": "markdown",
      "metadata": {
        "id": "33dmyx-Q_YXr"
      },
      "source": [
        "**Осуществите стандартизацию признаков в выборке**."
      ],
      "id": "33dmyx-Q_YXr"
    },
    {
      "cell_type": "code",
      "metadata": {
        "id": "el3uzMob_YXr"
      },
      "source": [
        "from sklearn.preprocessing import StandardScaler\n",
        "\n",
        "# your code here"
      ],
      "execution_count": null,
      "outputs": [],
      "id": "el3uzMob_YXr"
    },
    {
      "cell_type": "markdown",
      "metadata": {
        "id": "617cPhQH_YXr"
      },
      "source": [
        "**Импортируйте модель классификации k-NN и обучите ее (`model.fit`)**.\\\n",
        "*Вопрос*: на какой части выборки происходит обучение: тренировочной или тестовой?"
      ],
      "id": "617cPhQH_YXr"
    },
    {
      "cell_type": "code",
      "metadata": {
        "id": "2UHXb9aW_YXr"
      },
      "source": [
        "# your code here"
      ],
      "execution_count": null,
      "outputs": [],
      "id": "2UHXb9aW_YXr"
    },
    {
      "cell_type": "markdown",
      "metadata": {
        "id": "fFqtL6JM_YXs"
      },
      "source": [
        "**Получите предсказание на оставшейся выборке**. Оцените его качество метриками бинарной классификации: precision, recall, F1-score."
      ],
      "id": "fFqtL6JM_YXs"
    },
    {
      "cell_type": "code",
      "metadata": {
        "id": "_CeT2jsk_YXt"
      },
      "source": [
        "# your code here"
      ],
      "execution_count": null,
      "outputs": [],
      "id": "_CeT2jsk_YXt"
    },
    {
      "cell_type": "markdown",
      "metadata": {
        "id": "1JOg8lTQ_YXt"
      },
      "source": [
        "Следующая функция строит график зависимости качества на тестовой и тренировочной выборках от параметра модели.\\\n",
        "Измените помеченную строку в функции так, чтобы ее можно было использовать **для построения графика зависимости качества от количества соседей для модели k-NN**."
      ],
      "id": "1JOg8lTQ_YXt"
    },
    {
      "cell_type": "code",
      "metadata": {
        "id": "3flxEHJn_YXt"
      },
      "source": [
        "from sklearn.metrics import f1_score\n",
        "\n",
        "def make_qual_chart(X_train, X_test, y_train, y_test, metric=f1_score, limit=50):\n",
        "    train_quals = np.zeros(limit)\n",
        "    test_quals = np.zeros(limit)\n",
        "    param_range = np.arange(1, limit  + 1)\n",
        "\n",
        "    for ind, value in enumerate(param_range):\n",
        "        ### CHANGE THE NEXT LINE!\n",
        "        model = # your code here\n",
        "        # FIT\n",
        "        model.fit(X_train, y_train)\n",
        "        # PREDICT\n",
        "        y_train_pred = model.predict(X_train)\n",
        "        y_test_pred = model.predict(X_test)\n",
        "        # EVALUATE QUALITY\n",
        "        train_quals[ind] = metric(y_true=y_train, y_pred=y_train_pred)\n",
        "        test_quals[ind] = metric(y_true=y_test, y_pred=y_test_pred)\n",
        "\n",
        "\n",
        "\n",
        "    # TRACING CHART\n",
        "    plt.figure(figsize=(10, 7))\n",
        "    plt.plot(param_range, train_quals, label=\"Train\")\n",
        "    plt.plot(param_range, test_quals, label=\"Test\")\n",
        "\n",
        "    plt.legend()\n",
        "    plt.show()\n",
        "    return param_range, train_quals, test_quals"
      ],
      "execution_count": null,
      "outputs": [],
      "id": "3flxEHJn_YXt"
    },
    {
      "cell_type": "code",
      "metadata": {
        "id": "EiDnyCxI_YXu"
      },
      "source": [
        "make_qual_chart(X_train, X_test, y_train, y_test)"
      ],
      "execution_count": null,
      "outputs": [],
      "id": "EiDnyCxI_YXu"
    },
    {
      "cell_type": "markdown",
      "metadata": {
        "id": "Q7RJZabI_YXu"
      },
      "source": [
        "Сделайте вывод о том, **какое число соседей является оптимальным для данной задачи**."
      ],
      "id": "Q7RJZabI_YXu"
    },
    {
      "cell_type": "code",
      "metadata": {
        "id": "752fd9b2-4a62-4bcf-a36b-96c0da837055"
      },
      "source": [
        "# your code here"
      ],
      "execution_count": null,
      "outputs": [],
      "id": "752fd9b2-4a62-4bcf-a36b-96c0da837055"
    },
    {
      "cell_type": "markdown",
      "metadata": {
        "id": "a87d79ba-c9b2-4fcd-bb61-e3a3561b7309"
      },
      "source": [
        "### Задача 2: Обучение на геномных эмбеддингах"
      ],
      "id": "a87d79ba-c9b2-4fcd-bb61-e3a3561b7309"
    },
    {
      "cell_type": "code",
      "source": [
        "# сделать трехклассовую классификацию с помощью kNN различных однонуклеотидных замен в ДНК на нейросетевых эмбеддингах.\n",
        "# был набор замен в ДНК, для них нейросеть выдала какие-то чиселки (много). Это не суть важно. Просто есть числа, содержащие информацию о замене."
      ],
      "metadata": {
        "id": "PzATEW84i9do"
      },
      "id": "PzATEW84i9do",
      "execution_count": null,
      "outputs": []
    },
    {
      "cell_type": "markdown",
      "metadata": {
        "id": "018a8ba8-9f12-4aab-9b98-560553982e3b"
      },
      "source": [
        "В этой задаче предлагается произвести трехклассовую классификацию разных однонуклеотидных замен в ДНК, основываясь на их нейросетевых геномных эмбеддингах."
      ],
      "id": "018a8ba8-9f12-4aab-9b98-560553982e3b"
    },
    {
      "cell_type": "code",
      "metadata": {
        "id": "DRbz9nBPPHo3",
        "colab": {
          "base_uri": "https://localhost:8080/"
        },
        "outputId": "35215b45-87cc-4c18-d946-b49255dd6883"
      },
      "source": [
        "!wget --no-check-certificate 'https://docs.google.com/uc?export=download&id=1RDTcTnhOcMX4DnJbzdPalWENNFtXi2r8' -O tfs_deepsea.csv"
      ],
      "id": "DRbz9nBPPHo3",
      "execution_count": null,
      "outputs": [
        {
          "output_type": "stream",
          "name": "stdout",
          "text": [
            "--2024-11-06 13:09:27--  https://docs.google.com/uc?export=download&id=1RDTcTnhOcMX4DnJbzdPalWENNFtXi2r8\n",
            "Resolving docs.google.com (docs.google.com)... 74.125.134.113, 74.125.134.139, 74.125.134.102, ...\n",
            "Connecting to docs.google.com (docs.google.com)|74.125.134.113|:443... connected.\n",
            "HTTP request sent, awaiting response... 303 See Other\n",
            "Location: https://drive.usercontent.google.com/download?id=1RDTcTnhOcMX4DnJbzdPalWENNFtXi2r8&export=download [following]\n",
            "--2024-11-06 13:09:27--  https://drive.usercontent.google.com/download?id=1RDTcTnhOcMX4DnJbzdPalWENNFtXi2r8&export=download\n",
            "Resolving drive.usercontent.google.com (drive.usercontent.google.com)... 142.250.98.132, 2607:f8b0:400c:c1a::84\n",
            "Connecting to drive.usercontent.google.com (drive.usercontent.google.com)|142.250.98.132|:443... connected.\n",
            "HTTP request sent, awaiting response... 200 OK\n",
            "Length: 1098058 (1.0M) [application/octet-stream]\n",
            "Saving to: ‘tfs_deepsea.csv’\n",
            "\n",
            "tfs_deepsea.csv     100%[===================>]   1.05M  --.-KB/s    in 0.03s   \n",
            "\n",
            "2024-11-06 13:09:30 (31.4 MB/s) - ‘tfs_deepsea.csv’ saved [1098058/1098058]\n",
            "\n"
          ]
        }
      ]
    },
    {
      "cell_type": "markdown",
      "metadata": {
        "id": "a9c427c4-a23b-4452-92b4-26ed2624ab5f"
      },
      "source": [
        "Загрузите датасет `tfs_deepsea.csv`, в качестве `y` используйте колонку `Direction`, в качестве `X` - все колонки, начиная с девятой."
      ],
      "id": "a9c427c4-a23b-4452-92b4-26ed2624ab5f"
    },
    {
      "cell_type": "code",
      "metadata": {
        "id": "10bdbee0-9e71-4ad7-8e20-3ba96a47e0c4",
        "colab": {
          "base_uri": "https://localhost:8080/",
          "height": 210
        },
        "outputId": "60ffcd49-0b91-4477-c98b-137d6823be37"
      },
      "source": [
        "tfs = pd.read_csv(\"tfs_deepsea.csv\", header=0)\n",
        "tfs.head(3)"
      ],
      "id": "10bdbee0-9e71-4ad7-8e20-3ba96a47e0c4",
      "execution_count": null,
      "outputs": [
        {
          "output_type": "execute_result",
          "data": {
            "text/plain": [
              "   Chrom        Pos Ref Alt     Value  Confidence  Direction construction  \\\n",
              "0      9  104195582   G   C -0.009418    0.001075          0        ALDOB   \n",
              "1      9  104195582   G   T -0.212088    0.034187          0        ALDOB   \n",
              "2      9  104195700   T   A  0.709840    0.364072          1        ALDOB   \n",
              "\n",
              "   alt@BRCA1@ds_HepG2_normal  alt@CTCF@ds_HCM_normal  ...  \\\n",
              "0                   0.000056                0.000949  ...   \n",
              "1                   0.000051                0.000857  ...   \n",
              "2                   0.000089                0.001784  ...   \n",
              "\n",
              "   ref@GATA3@ds_MCF-7_normal  ref@JunD@ds_H1-hESC_None.1  \\\n",
              "0                    0.00934                    0.000637   \n",
              "1                    0.00934                    0.000637   \n",
              "2                    0.00292                    0.001019   \n",
              "\n",
              "   ref@MafK@ds_K562_normal  ref@NRSF@ds_A549_EtOH_0.02pct  \\\n",
              "0                 0.082889                       0.007880   \n",
              "1                 0.082889                       0.007880   \n",
              "2                 0.100890                       0.004289   \n",
              "\n",
              "   ref@Pol2-4H8@ds_GM12891_normal  ref@Pol2@ds_GM12878_None.2  \\\n",
              "0                        0.000568                    0.000095   \n",
              "1                        0.000568                    0.000095   \n",
              "2                        0.000554                    0.000142   \n",
              "\n",
              "   ref@Pol2@ds_GM12878_None.3  ref@Pol2@ds_GM12878_normal  \\\n",
              "0                    0.000287                    0.000147   \n",
              "1                    0.000287                    0.000147   \n",
              "2                    0.000209                    0.000282   \n",
              "\n",
              "   ref@c-Fos@ds_K562_normal  ref@c-Myc@ds_K562_normal  \n",
              "0                  0.000588                  0.001214  \n",
              "1                  0.000588                  0.001214  \n",
              "2                  0.001091                  0.000891  \n",
              "\n",
              "[3 rows x 108 columns]"
            ],
            "text/html": [
              "\n",
              "  <div id=\"df-c3db2fef-e33e-43ef-8007-63009074c5d9\" class=\"colab-df-container\">\n",
              "    <div>\n",
              "<style scoped>\n",
              "    .dataframe tbody tr th:only-of-type {\n",
              "        vertical-align: middle;\n",
              "    }\n",
              "\n",
              "    .dataframe tbody tr th {\n",
              "        vertical-align: top;\n",
              "    }\n",
              "\n",
              "    .dataframe thead th {\n",
              "        text-align: right;\n",
              "    }\n",
              "</style>\n",
              "<table border=\"1\" class=\"dataframe\">\n",
              "  <thead>\n",
              "    <tr style=\"text-align: right;\">\n",
              "      <th></th>\n",
              "      <th>Chrom</th>\n",
              "      <th>Pos</th>\n",
              "      <th>Ref</th>\n",
              "      <th>Alt</th>\n",
              "      <th>Value</th>\n",
              "      <th>Confidence</th>\n",
              "      <th>Direction</th>\n",
              "      <th>construction</th>\n",
              "      <th>alt@BRCA1@ds_HepG2_normal</th>\n",
              "      <th>alt@CTCF@ds_HCM_normal</th>\n",
              "      <th>...</th>\n",
              "      <th>ref@GATA3@ds_MCF-7_normal</th>\n",
              "      <th>ref@JunD@ds_H1-hESC_None.1</th>\n",
              "      <th>ref@MafK@ds_K562_normal</th>\n",
              "      <th>ref@NRSF@ds_A549_EtOH_0.02pct</th>\n",
              "      <th>ref@Pol2-4H8@ds_GM12891_normal</th>\n",
              "      <th>ref@Pol2@ds_GM12878_None.2</th>\n",
              "      <th>ref@Pol2@ds_GM12878_None.3</th>\n",
              "      <th>ref@Pol2@ds_GM12878_normal</th>\n",
              "      <th>ref@c-Fos@ds_K562_normal</th>\n",
              "      <th>ref@c-Myc@ds_K562_normal</th>\n",
              "    </tr>\n",
              "  </thead>\n",
              "  <tbody>\n",
              "    <tr>\n",
              "      <th>0</th>\n",
              "      <td>9</td>\n",
              "      <td>104195582</td>\n",
              "      <td>G</td>\n",
              "      <td>C</td>\n",
              "      <td>-0.009418</td>\n",
              "      <td>0.001075</td>\n",
              "      <td>0</td>\n",
              "      <td>ALDOB</td>\n",
              "      <td>0.000056</td>\n",
              "      <td>0.000949</td>\n",
              "      <td>...</td>\n",
              "      <td>0.00934</td>\n",
              "      <td>0.000637</td>\n",
              "      <td>0.082889</td>\n",
              "      <td>0.007880</td>\n",
              "      <td>0.000568</td>\n",
              "      <td>0.000095</td>\n",
              "      <td>0.000287</td>\n",
              "      <td>0.000147</td>\n",
              "      <td>0.000588</td>\n",
              "      <td>0.001214</td>\n",
              "    </tr>\n",
              "    <tr>\n",
              "      <th>1</th>\n",
              "      <td>9</td>\n",
              "      <td>104195582</td>\n",
              "      <td>G</td>\n",
              "      <td>T</td>\n",
              "      <td>-0.212088</td>\n",
              "      <td>0.034187</td>\n",
              "      <td>0</td>\n",
              "      <td>ALDOB</td>\n",
              "      <td>0.000051</td>\n",
              "      <td>0.000857</td>\n",
              "      <td>...</td>\n",
              "      <td>0.00934</td>\n",
              "      <td>0.000637</td>\n",
              "      <td>0.082889</td>\n",
              "      <td>0.007880</td>\n",
              "      <td>0.000568</td>\n",
              "      <td>0.000095</td>\n",
              "      <td>0.000287</td>\n",
              "      <td>0.000147</td>\n",
              "      <td>0.000588</td>\n",
              "      <td>0.001214</td>\n",
              "    </tr>\n",
              "    <tr>\n",
              "      <th>2</th>\n",
              "      <td>9</td>\n",
              "      <td>104195700</td>\n",
              "      <td>T</td>\n",
              "      <td>A</td>\n",
              "      <td>0.709840</td>\n",
              "      <td>0.364072</td>\n",
              "      <td>1</td>\n",
              "      <td>ALDOB</td>\n",
              "      <td>0.000089</td>\n",
              "      <td>0.001784</td>\n",
              "      <td>...</td>\n",
              "      <td>0.00292</td>\n",
              "      <td>0.001019</td>\n",
              "      <td>0.100890</td>\n",
              "      <td>0.004289</td>\n",
              "      <td>0.000554</td>\n",
              "      <td>0.000142</td>\n",
              "      <td>0.000209</td>\n",
              "      <td>0.000282</td>\n",
              "      <td>0.001091</td>\n",
              "      <td>0.000891</td>\n",
              "    </tr>\n",
              "  </tbody>\n",
              "</table>\n",
              "<p>3 rows × 108 columns</p>\n",
              "</div>\n",
              "    <div class=\"colab-df-buttons\">\n",
              "\n",
              "  <div class=\"colab-df-container\">\n",
              "    <button class=\"colab-df-convert\" onclick=\"convertToInteractive('df-c3db2fef-e33e-43ef-8007-63009074c5d9')\"\n",
              "            title=\"Convert this dataframe to an interactive table.\"\n",
              "            style=\"display:none;\">\n",
              "\n",
              "  <svg xmlns=\"http://www.w3.org/2000/svg\" height=\"24px\" viewBox=\"0 -960 960 960\">\n",
              "    <path d=\"M120-120v-720h720v720H120Zm60-500h600v-160H180v160Zm220 220h160v-160H400v160Zm0 220h160v-160H400v160ZM180-400h160v-160H180v160Zm440 0h160v-160H620v160ZM180-180h160v-160H180v160Zm440 0h160v-160H620v160Z\"/>\n",
              "  </svg>\n",
              "    </button>\n",
              "\n",
              "  <style>\n",
              "    .colab-df-container {\n",
              "      display:flex;\n",
              "      gap: 12px;\n",
              "    }\n",
              "\n",
              "    .colab-df-convert {\n",
              "      background-color: #E8F0FE;\n",
              "      border: none;\n",
              "      border-radius: 50%;\n",
              "      cursor: pointer;\n",
              "      display: none;\n",
              "      fill: #1967D2;\n",
              "      height: 32px;\n",
              "      padding: 0 0 0 0;\n",
              "      width: 32px;\n",
              "    }\n",
              "\n",
              "    .colab-df-convert:hover {\n",
              "      background-color: #E2EBFA;\n",
              "      box-shadow: 0px 1px 2px rgba(60, 64, 67, 0.3), 0px 1px 3px 1px rgba(60, 64, 67, 0.15);\n",
              "      fill: #174EA6;\n",
              "    }\n",
              "\n",
              "    .colab-df-buttons div {\n",
              "      margin-bottom: 4px;\n",
              "    }\n",
              "\n",
              "    [theme=dark] .colab-df-convert {\n",
              "      background-color: #3B4455;\n",
              "      fill: #D2E3FC;\n",
              "    }\n",
              "\n",
              "    [theme=dark] .colab-df-convert:hover {\n",
              "      background-color: #434B5C;\n",
              "      box-shadow: 0px 1px 3px 1px rgba(0, 0, 0, 0.15);\n",
              "      filter: drop-shadow(0px 1px 2px rgba(0, 0, 0, 0.3));\n",
              "      fill: #FFFFFF;\n",
              "    }\n",
              "  </style>\n",
              "\n",
              "    <script>\n",
              "      const buttonEl =\n",
              "        document.querySelector('#df-c3db2fef-e33e-43ef-8007-63009074c5d9 button.colab-df-convert');\n",
              "      buttonEl.style.display =\n",
              "        google.colab.kernel.accessAllowed ? 'block' : 'none';\n",
              "\n",
              "      async function convertToInteractive(key) {\n",
              "        const element = document.querySelector('#df-c3db2fef-e33e-43ef-8007-63009074c5d9');\n",
              "        const dataTable =\n",
              "          await google.colab.kernel.invokeFunction('convertToInteractive',\n",
              "                                                    [key], {});\n",
              "        if (!dataTable) return;\n",
              "\n",
              "        const docLinkHtml = 'Like what you see? Visit the ' +\n",
              "          '<a target=\"_blank\" href=https://colab.research.google.com/notebooks/data_table.ipynb>data table notebook</a>'\n",
              "          + ' to learn more about interactive tables.';\n",
              "        element.innerHTML = '';\n",
              "        dataTable['output_type'] = 'display_data';\n",
              "        await google.colab.output.renderOutput(dataTable, element);\n",
              "        const docLink = document.createElement('div');\n",
              "        docLink.innerHTML = docLinkHtml;\n",
              "        element.appendChild(docLink);\n",
              "      }\n",
              "    </script>\n",
              "  </div>\n",
              "\n",
              "\n",
              "<div id=\"df-63ae45bd-6642-4a91-a7a0-d4d45c72286b\">\n",
              "  <button class=\"colab-df-quickchart\" onclick=\"quickchart('df-63ae45bd-6642-4a91-a7a0-d4d45c72286b')\"\n",
              "            title=\"Suggest charts\"\n",
              "            style=\"display:none;\">\n",
              "\n",
              "<svg xmlns=\"http://www.w3.org/2000/svg\" height=\"24px\"viewBox=\"0 0 24 24\"\n",
              "     width=\"24px\">\n",
              "    <g>\n",
              "        <path d=\"M19 3H5c-1.1 0-2 .9-2 2v14c0 1.1.9 2 2 2h14c1.1 0 2-.9 2-2V5c0-1.1-.9-2-2-2zM9 17H7v-7h2v7zm4 0h-2V7h2v10zm4 0h-2v-4h2v4z\"/>\n",
              "    </g>\n",
              "</svg>\n",
              "  </button>\n",
              "\n",
              "<style>\n",
              "  .colab-df-quickchart {\n",
              "      --bg-color: #E8F0FE;\n",
              "      --fill-color: #1967D2;\n",
              "      --hover-bg-color: #E2EBFA;\n",
              "      --hover-fill-color: #174EA6;\n",
              "      --disabled-fill-color: #AAA;\n",
              "      --disabled-bg-color: #DDD;\n",
              "  }\n",
              "\n",
              "  [theme=dark] .colab-df-quickchart {\n",
              "      --bg-color: #3B4455;\n",
              "      --fill-color: #D2E3FC;\n",
              "      --hover-bg-color: #434B5C;\n",
              "      --hover-fill-color: #FFFFFF;\n",
              "      --disabled-bg-color: #3B4455;\n",
              "      --disabled-fill-color: #666;\n",
              "  }\n",
              "\n",
              "  .colab-df-quickchart {\n",
              "    background-color: var(--bg-color);\n",
              "    border: none;\n",
              "    border-radius: 50%;\n",
              "    cursor: pointer;\n",
              "    display: none;\n",
              "    fill: var(--fill-color);\n",
              "    height: 32px;\n",
              "    padding: 0;\n",
              "    width: 32px;\n",
              "  }\n",
              "\n",
              "  .colab-df-quickchart:hover {\n",
              "    background-color: var(--hover-bg-color);\n",
              "    box-shadow: 0 1px 2px rgba(60, 64, 67, 0.3), 0 1px 3px 1px rgba(60, 64, 67, 0.15);\n",
              "    fill: var(--button-hover-fill-color);\n",
              "  }\n",
              "\n",
              "  .colab-df-quickchart-complete:disabled,\n",
              "  .colab-df-quickchart-complete:disabled:hover {\n",
              "    background-color: var(--disabled-bg-color);\n",
              "    fill: var(--disabled-fill-color);\n",
              "    box-shadow: none;\n",
              "  }\n",
              "\n",
              "  .colab-df-spinner {\n",
              "    border: 2px solid var(--fill-color);\n",
              "    border-color: transparent;\n",
              "    border-bottom-color: var(--fill-color);\n",
              "    animation:\n",
              "      spin 1s steps(1) infinite;\n",
              "  }\n",
              "\n",
              "  @keyframes spin {\n",
              "    0% {\n",
              "      border-color: transparent;\n",
              "      border-bottom-color: var(--fill-color);\n",
              "      border-left-color: var(--fill-color);\n",
              "    }\n",
              "    20% {\n",
              "      border-color: transparent;\n",
              "      border-left-color: var(--fill-color);\n",
              "      border-top-color: var(--fill-color);\n",
              "    }\n",
              "    30% {\n",
              "      border-color: transparent;\n",
              "      border-left-color: var(--fill-color);\n",
              "      border-top-color: var(--fill-color);\n",
              "      border-right-color: var(--fill-color);\n",
              "    }\n",
              "    40% {\n",
              "      border-color: transparent;\n",
              "      border-right-color: var(--fill-color);\n",
              "      border-top-color: var(--fill-color);\n",
              "    }\n",
              "    60% {\n",
              "      border-color: transparent;\n",
              "      border-right-color: var(--fill-color);\n",
              "    }\n",
              "    80% {\n",
              "      border-color: transparent;\n",
              "      border-right-color: var(--fill-color);\n",
              "      border-bottom-color: var(--fill-color);\n",
              "    }\n",
              "    90% {\n",
              "      border-color: transparent;\n",
              "      border-bottom-color: var(--fill-color);\n",
              "    }\n",
              "  }\n",
              "</style>\n",
              "\n",
              "  <script>\n",
              "    async function quickchart(key) {\n",
              "      const quickchartButtonEl =\n",
              "        document.querySelector('#' + key + ' button');\n",
              "      quickchartButtonEl.disabled = true;  // To prevent multiple clicks.\n",
              "      quickchartButtonEl.classList.add('colab-df-spinner');\n",
              "      try {\n",
              "        const charts = await google.colab.kernel.invokeFunction(\n",
              "            'suggestCharts', [key], {});\n",
              "      } catch (error) {\n",
              "        console.error('Error during call to suggestCharts:', error);\n",
              "      }\n",
              "      quickchartButtonEl.classList.remove('colab-df-spinner');\n",
              "      quickchartButtonEl.classList.add('colab-df-quickchart-complete');\n",
              "    }\n",
              "    (() => {\n",
              "      let quickchartButtonEl =\n",
              "        document.querySelector('#df-63ae45bd-6642-4a91-a7a0-d4d45c72286b button');\n",
              "      quickchartButtonEl.style.display =\n",
              "        google.colab.kernel.accessAllowed ? 'block' : 'none';\n",
              "    })();\n",
              "  </script>\n",
              "</div>\n",
              "\n",
              "    </div>\n",
              "  </div>\n"
            ],
            "application/vnd.google.colaboratory.intrinsic+json": {
              "type": "dataframe",
              "variable_name": "tfs"
            }
          },
          "metadata": {},
          "execution_count": 4
        }
      ]
    },
    {
      "cell_type": "code",
      "source": [
        "# Колонка Direction - предсказываемые классы (0, 1, -1)."
      ],
      "metadata": {
        "id": "CV9eatU4mIzX"
      },
      "id": "CV9eatU4mIzX",
      "execution_count": null,
      "outputs": []
    },
    {
      "cell_type": "code",
      "metadata": {
        "id": "7e5fba7c-2ca3-44eb-9604-68d8cecd8c99"
      },
      "source": [
        "X = # your code here\n",
        "y = # your code here"
      ],
      "id": "7e5fba7c-2ca3-44eb-9604-68d8cecd8c99",
      "execution_count": null,
      "outputs": []
    },
    {
      "cell_type": "markdown",
      "metadata": {
        "id": "de761526-7be2-4f21-b92d-1df55ec1e59e"
      },
      "source": [
        "**Разбейте X и y на тренировочную и тестовую выборки**, как в лекции. Соотношение train/test поставьте равным 4:1.\\\n",
        "*Подсказка*: воспользуйтесь функцией `train_test_split`."
      ],
      "id": "de761526-7be2-4f21-b92d-1df55ec1e59e"
    },
    {
      "cell_type": "code",
      "metadata": {
        "id": "2685d7e6-1f7a-4c22-9e7d-c4312c39bb53"
      },
      "source": [
        "# your code here"
      ],
      "id": "2685d7e6-1f7a-4c22-9e7d-c4312c39bb53",
      "execution_count": null,
      "outputs": []
    },
    {
      "cell_type": "markdown",
      "metadata": {
        "id": "ec0a711a-5755-4bba-9bed-0a4718d1248d"
      },
      "source": [
        "**Осуществите стандартизацию признаков в выборке**."
      ],
      "id": "ec0a711a-5755-4bba-9bed-0a4718d1248d"
    },
    {
      "cell_type": "code",
      "metadata": {
        "id": "4ebe265e-aa17-47a7-9faa-727eb06ec19a"
      },
      "source": [
        "# your code here"
      ],
      "id": "4ebe265e-aa17-47a7-9faa-727eb06ec19a",
      "execution_count": null,
      "outputs": []
    },
    {
      "cell_type": "markdown",
      "metadata": {
        "id": "74eb7e2b-4dc8-4d36-83ab-9ef5cf252886"
      },
      "source": [
        "**Импортируйте модель классификации k-NN и обучите ее (`model.fit`)**."
      ],
      "id": "74eb7e2b-4dc8-4d36-83ab-9ef5cf252886"
    },
    {
      "cell_type": "code",
      "metadata": {
        "id": "4a24c5cf-6993-4c8a-8f87-6c061a9bfafa"
      },
      "source": [
        "# your code here"
      ],
      "id": "4a24c5cf-6993-4c8a-8f87-6c061a9bfafa",
      "execution_count": null,
      "outputs": []
    },
    {
      "cell_type": "markdown",
      "metadata": {
        "id": "04d4e9d0-8122-46e1-9341-e5000f3ee715"
      },
      "source": [
        "**Получите предсказание на оставшейся выборке**. Оцените его качество метриками из отчета о классификации (`classification_report`)."
      ],
      "id": "04d4e9d0-8122-46e1-9341-e5000f3ee715"
    },
    {
      "cell_type": "code",
      "source": [
        "# перед обучением не забудьте также стандартизовать значения тест"
      ],
      "metadata": {
        "id": "XZ1B7OMcyGwk"
      },
      "id": "XZ1B7OMcyGwk",
      "execution_count": null,
      "outputs": []
    },
    {
      "cell_type": "code",
      "source": [
        "y_test_pred = # your code here"
      ],
      "metadata": {
        "id": "wks5sfkExvkJ"
      },
      "id": "wks5sfkExvkJ",
      "execution_count": null,
      "outputs": []
    },
    {
      "cell_type": "code",
      "metadata": {
        "id": "c7062e89-3cff-4167-96ee-7b1b3df74f8e"
      },
      "source": [
        "from sklearn.metrics import classification_report\n",
        "\n",
        "print(classification_report(y_test, y_test_pred))"
      ],
      "id": "c7062e89-3cff-4167-96ee-7b1b3df74f8e",
      "execution_count": null,
      "outputs": []
    },
    {
      "cell_type": "markdown",
      "metadata": {
        "id": "cd886df0-66f0-4e46-8754-ba221400048e"
      },
      "source": [
        "Разбейте X и y на тренировочную и тестовую выборки, **так, как указано в ячейке ниже**. Повторите все шаги, чтобы определить качество классификации."
      ],
      "id": "cd886df0-66f0-4e46-8754-ba221400048e"
    },
    {
      "cell_type": "code",
      "metadata": {
        "id": "64ed362f-42ad-4fa8-b833-80745c8c962e"
      },
      "source": [
        "X_train = X[tfs[\"construction\"] == \"ECR11\"].values\n",
        "X_test = X[tfs[\"construction\"] == \"ALDOB\"].values\n",
        "y_train = y[tfs[\"construction\"] == \"ECR11\"].values\n",
        "y_test = y[tfs[\"construction\"] == \"ALDOB\"].values"
      ],
      "id": "64ed362f-42ad-4fa8-b833-80745c8c962e",
      "execution_count": null,
      "outputs": []
    },
    {
      "cell_type": "code",
      "metadata": {
        "id": "e42a113c-3483-4887-b526-cdde56fba6f9"
      },
      "source": [
        "# your code here"
      ],
      "id": "e42a113c-3483-4887-b526-cdde56fba6f9",
      "execution_count": null,
      "outputs": []
    },
    {
      "cell_type": "markdown",
      "metadata": {
        "id": "16bcf556-47ef-460c-aaaf-97442ca77692"
      },
      "source": [
        "**Сделайте выводы об изменении качества**."
      ],
      "id": "16bcf556-47ef-460c-aaaf-97442ca77692"
    },
    {
      "cell_type": "code",
      "metadata": {
        "id": "0795fe2e-eef2-4c35-9777-a7220f4c83fe"
      },
      "source": [
        "# your answer here"
      ],
      "id": "0795fe2e-eef2-4c35-9777-a7220f4c83fe",
      "execution_count": null,
      "outputs": []
    },
    {
      "cell_type": "markdown",
      "metadata": {
        "id": "e8482c12-6d88-4916-a847-6b5353fe55c1"
      },
      "source": [
        "### Задача 3: Классификация химических веществ"
      ],
      "id": "e8482c12-6d88-4916-a847-6b5353fe55c1"
    },
    {
      "cell_type": "code",
      "metadata": {
        "id": "-r3XZfzYPOBO",
        "outputId": "8556f76a-6459-4ea5-fb2b-32ecca80cdce",
        "colab": {
          "base_uri": "https://localhost:8080/"
        }
      },
      "source": [
        "!wget --no-check-certificate 'https://docs.google.com/uc?export=download&id=1SYdyTbPD01GYcdz7hkyWZGoA5RV44fg7' -O bace.csv"
      ],
      "id": "-r3XZfzYPOBO",
      "execution_count": null,
      "outputs": [
        {
          "output_type": "stream",
          "name": "stdout",
          "text": [
            "--2021-09-29 21:27:25--  https://docs.google.com/uc?export=download&id=1SYdyTbPD01GYcdz7hkyWZGoA5RV44fg7\n",
            "Resolving docs.google.com (docs.google.com)... 108.177.13.100, 108.177.13.113, 108.177.13.139, ...\n",
            "Connecting to docs.google.com (docs.google.com)|108.177.13.100|:443... connected.\n",
            "HTTP request sent, awaiting response... 302 Moved Temporarily\n",
            "Location: https://doc-0c-50-docs.googleusercontent.com/docs/securesc/ha0ro937gcuc7l7deffksulhg5h7mbp1/uiqd2ruq60rohrbolgubauq25irqtb6p/1632950775000/10688067377005935076/*/1SYdyTbPD01GYcdz7hkyWZGoA5RV44fg7?e=download [following]\n",
            "Warning: wildcards not supported in HTTP.\n",
            "--2021-09-29 21:27:26--  https://doc-0c-50-docs.googleusercontent.com/docs/securesc/ha0ro937gcuc7l7deffksulhg5h7mbp1/uiqd2ruq60rohrbolgubauq25irqtb6p/1632950775000/10688067377005935076/*/1SYdyTbPD01GYcdz7hkyWZGoA5RV44fg7?e=download\n",
            "Resolving doc-0c-50-docs.googleusercontent.com (doc-0c-50-docs.googleusercontent.com)... 74.125.141.132, 2607:f8b0:400c:c06::84\n",
            "Connecting to doc-0c-50-docs.googleusercontent.com (doc-0c-50-docs.googleusercontent.com)|74.125.141.132|:443... connected.\n",
            "HTTP request sent, awaiting response... 200 OK\n",
            "Length: unspecified [text/csv]\n",
            "Saving to: ‘bace.csv’\n",
            "\n",
            "bace.csv                [ <=>                ]   3.72M  --.-KB/s    in 0.04s   \n",
            "\n",
            "2021-09-29 21:27:27 (96.6 MB/s) - ‘bace.csv’ saved [3897767]\n",
            "\n"
          ]
        }
      ]
    },
    {
      "cell_type": "markdown",
      "metadata": {
        "id": "c6e33fae-8f5c-4207-abe5-b27cf4d47436"
      },
      "source": [
        "Датасет [BACE](http://moleculenet.ai/datasets-1) загружен за вас, определены `X`, `y` и `smiles`."
      ],
      "id": "c6e33fae-8f5c-4207-abe5-b27cf4d47436"
    },
    {
      "cell_type": "code",
      "metadata": {
        "id": "26b131ae-2a07-48f3-a24f-d406471a99b1"
      },
      "source": [
        "bace = pd.read_csv(\"./bace.csv\", header=0)\n",
        "bace.head(3)"
      ],
      "id": "26b131ae-2a07-48f3-a24f-d406471a99b1",
      "execution_count": null,
      "outputs": []
    },
    {
      "cell_type": "code",
      "metadata": {
        "id": "4d7630b3-92e2-4d1f-b305-30e211de181e"
      },
      "source": [
        "X = bace.iloc[:,4:].values\n",
        "y = bace[\"Class\"].values\n",
        "smiles = bace[\"mol\"].values"
      ],
      "id": "4d7630b3-92e2-4d1f-b305-30e211de181e",
      "execution_count": null,
      "outputs": []
    },
    {
      "cell_type": "markdown",
      "metadata": {
        "id": "b82862fa-1ac5-4418-ba1f-8db8173ebd8b"
      },
      "source": [
        "**Разбейте X и y на тренировочную и тестовую выборки**, как в лекции. Соотношение train/test поставьте равным 3:1.\\\n",
        "*Подсказка*: воспользуйтесь функцией `train_test_split`."
      ],
      "id": "b82862fa-1ac5-4418-ba1f-8db8173ebd8b"
    },
    {
      "cell_type": "code",
      "metadata": {
        "id": "3be4f823-3b68-4988-a597-bae25c8ddd73"
      },
      "source": [
        "# your code here"
      ],
      "id": "3be4f823-3b68-4988-a597-bae25c8ddd73",
      "execution_count": null,
      "outputs": []
    },
    {
      "cell_type": "markdown",
      "metadata": {
        "id": "e8413973-d3b5-49f4-8234-c115fd15ad23"
      },
      "source": [
        "**Осуществите стандартизацию признаков в выборке**."
      ],
      "id": "e8413973-d3b5-49f4-8234-c115fd15ad23"
    },
    {
      "cell_type": "code",
      "metadata": {
        "id": "7d2574c1-bc21-4dc6-b983-1303269b3bed"
      },
      "source": [
        "# your code here"
      ],
      "id": "7d2574c1-bc21-4dc6-b983-1303269b3bed",
      "execution_count": null,
      "outputs": []
    },
    {
      "cell_type": "markdown",
      "metadata": {
        "id": "6c71dc81-9935-4493-b1a2-56fb5be672d0"
      },
      "source": [
        "**Импортируйте модель классификации k-NN и обучите ее (`model.fit`)**."
      ],
      "id": "6c71dc81-9935-4493-b1a2-56fb5be672d0"
    },
    {
      "cell_type": "code",
      "metadata": {
        "id": "f674454a-45e0-4427-960a-94c82e78d7d1"
      },
      "source": [
        "# your code here"
      ],
      "id": "f674454a-45e0-4427-960a-94c82e78d7d1",
      "execution_count": null,
      "outputs": []
    },
    {
      "cell_type": "markdown",
      "metadata": {
        "id": "b12d7f89-ee99-47aa-b0ff-52e312a0938f"
      },
      "source": [
        "**Получите предсказание на оставшейся выборке**. Оцените его качество метриками из отчета о классификации (`classification_report`)."
      ],
      "id": "b12d7f89-ee99-47aa-b0ff-52e312a0938f"
    },
    {
      "cell_type": "code",
      "metadata": {
        "id": "a4561cf9-15ca-4d45-903f-14b478ac8448"
      },
      "source": [
        "# your code here"
      ],
      "id": "a4561cf9-15ca-4d45-903f-14b478ac8448",
      "execution_count": null,
      "outputs": []
    },
    {
      "cell_type": "markdown",
      "metadata": {
        "id": "258f3c59-f419-4394-aa87-fa5c58a8c2d1"
      },
      "source": [
        "Функция `fingerprint_train_test_split`, приведенная ниже, осуществляет **разбиение train/test на основании молекулярных \"отпечатков\" (molecular fingerprints)**. Воспользуйтесь ей, чтобы получить **неслучайное разбиение на train/test** и повторите предыдущие шаги, чтобы оценить качество модели на таком случае."
      ],
      "id": "258f3c59-f419-4394-aa87-fa5c58a8c2d1"
    },
    {
      "cell_type": "code",
      "metadata": {
        "colab": {
          "base_uri": "https://localhost:8080/"
        },
        "id": "w03_Vi4MQLX_",
        "outputId": "3b9fcdcc-39d4-4644-ca4b-ced65eaf03e4"
      },
      "source": [
        "!pip install rdkit-pypi"
      ],
      "id": "w03_Vi4MQLX_",
      "execution_count": null,
      "outputs": [
        {
          "output_type": "stream",
          "name": "stdout",
          "text": [
            "Collecting rdkit-pypi\n",
            "  Downloading rdkit_pypi-2021.3.5.1-cp37-cp37m-manylinux_2_17_x86_64.manylinux2014_x86_64.whl (19.7 MB)\n",
            "\u001b[K     |████████████████████████████████| 19.7 MB 4.9 MB/s \n",
            "\u001b[?25hRequirement already satisfied: numpy>=1.19 in /usr/local/lib/python3.7/dist-packages (from rdkit-pypi) (1.19.5)\n",
            "Installing collected packages: rdkit-pypi\n",
            "Successfully installed rdkit-pypi-2021.3.5.1\n"
          ]
        }
      ]
    },
    {
      "cell_type": "code",
      "metadata": {
        "id": "9a29ae65-3c94-4bf3-8a17-204607b8dc57"
      },
      "source": [
        "from rdkit import Chem\n",
        "from rdkit.Chem import AllChem\n",
        "from rdkit import DataStructs"
      ],
      "id": "9a29ae65-3c94-4bf3-8a17-204607b8dc57",
      "execution_count": null,
      "outputs": []
    },
    {
      "cell_type": "code",
      "metadata": {
        "id": "7b6cb627-57fc-4bcb-971c-40a30e850f75"
      },
      "source": [
        "def _split_fingerprints(fps, size1, size2):\n",
        "    \"\"\"This is called by fingerprint_train_test_split to divide a list of fingerprints into\n",
        "    two groups.\n",
        "    \"\"\"\n",
        "    assert len(fps) == size1 + size2\n",
        "\n",
        "    # Begin by assigning the first molecule to the first group.\n",
        "\n",
        "    fp_in_group = [[fps[0]], []]\n",
        "    indices_in_group = ([0], [])\n",
        "    remaining_fp = fps[1:]\n",
        "    remaining_indices = list(range(1, len(fps)))\n",
        "    max_similarity_to_group = [\n",
        "        DataStructs.BulkTanimotoSimilarity(fps[0], remaining_fp),\n",
        "        [0] * len(remaining_fp)\n",
        "    ]\n",
        "    while len(remaining_fp) > 0:\n",
        "    # Decide which group to assign a molecule to.\n",
        "        group = 0 if len(fp_in_group[0]) / size1 <= len(\n",
        "            fp_in_group[1]) / size2 else 1\n",
        "\n",
        "        # Identify the unassigned molecule that is least similar to everything in\n",
        "        # the other group.\n",
        "\n",
        "        i = np.argmin(max_similarity_to_group[1 - group])\n",
        "\n",
        "        # Add it to the group.\n",
        "\n",
        "        fp = remaining_fp[i]\n",
        "        fp_in_group[group].append(fp)\n",
        "        indices_in_group[group].append(remaining_indices[i])\n",
        "\n",
        "        # Update the data on unassigned molecules.\n",
        "\n",
        "        similarity = DataStructs.BulkTanimotoSimilarity(fp, remaining_fp)\n",
        "        max_similarity_to_group[group] = np.delete(\n",
        "            np.maximum(similarity, max_similarity_to_group[group]), i)\n",
        "        max_similarity_to_group[1 - group] = np.delete(\n",
        "            max_similarity_to_group[1 - group], i)\n",
        "        del remaining_fp[i]\n",
        "        del remaining_indices[i]\n",
        "    return indices_in_group"
      ],
      "id": "7b6cb627-57fc-4bcb-971c-40a30e850f75",
      "execution_count": null,
      "outputs": []
    },
    {
      "cell_type": "code",
      "metadata": {
        "id": "cfe6c073-0fc4-4f23-8fab-8744f725db28"
      },
      "source": [
        "def fingerprint_train_test_split(X, y, smiles, test_size=0.1):\n",
        "    assert X.shape[0] == y.shape[0] == smiles.shape[0]\n",
        "    mols = [Chem.MolFromSmiles(s) for s in smiles]\n",
        "    fps = [AllChem.GetMorganFingerprintAsBitVect(x, 2, 1024) for x in mols]\n",
        "\n",
        "    # Split into two groups: training set and everything else.\n",
        "\n",
        "    test_size = int(test_size * len(y))\n",
        "    train_size = len(y) - test_size\n",
        "    train_inds, test_inds = _split_fingerprints(fps, train_size, test_size)\n",
        "\n",
        "    X_train = X[train_inds,:]\n",
        "    X_test = X[test_inds,:]\n",
        "    y_train = y[train_inds]\n",
        "    y_test = y[test_inds]\n",
        "\n",
        "    return X_train, X_test, y_train, y_test"
      ],
      "id": "cfe6c073-0fc4-4f23-8fab-8744f725db28",
      "execution_count": null,
      "outputs": []
    },
    {
      "cell_type": "code",
      "metadata": {
        "id": "bac99465-3e69-4eb6-a05e-2abfffe97fe1"
      },
      "source": [
        "# your code here"
      ],
      "id": "bac99465-3e69-4eb6-a05e-2abfffe97fe1",
      "execution_count": null,
      "outputs": []
    },
    {
      "cell_type": "markdown",
      "metadata": {
        "id": "d1051f3a-d90a-4cfb-887c-97aad6b31158"
      },
      "source": [
        "**Сделайте выводы**."
      ],
      "id": "d1051f3a-d90a-4cfb-887c-97aad6b31158"
    },
    {
      "cell_type": "code",
      "metadata": {
        "id": "e26b8e9c-1824-406c-a423-d006bfdbc9e8"
      },
      "source": [
        "# your answer here"
      ],
      "id": "e26b8e9c-1824-406c-a423-d006bfdbc9e8",
      "execution_count": null,
      "outputs": []
    },
    {
      "cell_type": "markdown",
      "metadata": {
        "id": "8e230a47-c382-40eb-8512-57353a4a8df0"
      },
      "source": [
        "---"
      ],
      "id": "8e230a47-c382-40eb-8512-57353a4a8df0"
    }
  ]
}